{
 "cells": [
  {
   "cell_type": "markdown",
   "metadata": {
    "id": "AHusAl_CMEUc",
    "tags": []
   },
   "source": [
    "# 1. Introduction to CUDA Programming Model and Toolkit\n",
    "\n"
   ]
  },
  {
   "cell_type": "markdown",
   "metadata": {
    "id": "TqwQqWVROtTg"
   },
   "source": [
    "Welcome to the GPU short course exercises!\n",
    "\n",
    "During this course we will introduce you to the syntax of CUDA programming in Python using the **CuPy** package. You will learn how to:\n",
    "- implement and run a custom GPU CUDA C kernel,\n",
    "- transfer data to and from GPU,\n",
    "- how to verify correctness and performance of your implementation.\n",
    "\n",
    "We will introduce you also to the CUDA Development Kit, in particular, you will learn how to use:\n",
    "- CUDA debugger and profiler,\n",
    "- GPU diagnostic tools."
   ]
  },
  {
   "cell_type": "markdown",
   "metadata": {
    "id": "030Rnpz7MtAR"
   },
   "source": [
    "In the first exercise, we will focus on optimizing a function that adds two vectors together.\n",
    "\n",
    "\n"
   ]
  },
  {
   "cell_type": "markdown",
   "metadata": {
    "id": "cVCBiop93R3Z"
   },
   "source": [
    "**Input**:  \n",
    "\n",
    "$a$, $b$: vectors of length $n$\n",
    "\n",
    "**Output**: \n",
    "\n",
    "$c$: a vector of length $n$, $c_i = a_i + b_i$"
   ]
  },
  {
   "cell_type": "markdown",
   "metadata": {
    "id": "QgUxpzESyKdD"
   },
   "source": [
    "![IUS Short-Course - lecture_1_vector_addition_example.png](data:image/png;base64,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)"
   ]
  },
  {
   "cell_type": "markdown",
   "metadata": {
    "id": "xcRl-j2Hrdr_"
   },
   "source": [
    "As part of the warm-up, let's implement the function that adds two vectors in Python:"
   ]
  },
  {
   "cell_type": "code",
   "execution_count": 1,
   "metadata": {
    "id": "9LiMovMbSiEl"
   },
   "outputs": [
    {
     "name": "stdout",
     "output_type": "stream",
     "text": [
      "[5, 7, 9, 11]\n"
     ]
    }
   ],
   "source": [
    "import numpy as np\n",
    "\n",
    "def add_vectors(a, b):\n",
    "    # Make sure both vectors are the same length.\n",
    "    assert len(a) == len(b)\n",
    "    # Create the result array.\n",
    "    n = len(a)\n",
    "    c = [None]*n\n",
    "    # Sum.\n",
    "    for i in range(n):\n",
    "        c[i] = a[i] + b[i]\n",
    "    return c\n",
    "\n",
    "\n",
    "# Let's now test it.\n",
    "c = add_vectors([1, 2, 3, 4], \n",
    "                [4, 5, 6, 7])\n",
    "# Verify the result.\n",
    "np.testing.assert_equal(\n",
    "    c,\n",
    "    [5, 7, 9, 11]\n",
    ")\n",
    "print(c)"
   ]
  },
  {
   "cell_type": "markdown",
   "metadata": {
    "id": "bhXfCAcFcpPj"
   },
   "source": [
    "Now, let's measure the time needed to sum two big-scale arrays:"
   ]
  },
  {
   "cell_type": "code",
   "execution_count": 2,
   "metadata": {
    "id": "RBoQTLIyifdn"
   },
   "outputs": [],
   "source": [
    "a = np.random.rand(2**24).astype(np.float32) # ~ 1e7 elements\n",
    "b = np.random.rand(2**24).astype(np.float32)"
   ]
  },
  {
   "cell_type": "markdown",
   "metadata": {
    "id": "1xLwNqAHuKKt"
   },
   "source": [
    "Using `add_vectors` function:"
   ]
  },
  {
   "cell_type": "code",
   "execution_count": 3,
   "metadata": {
    "colab": {
     "base_uri": "https://localhost:8080/"
    },
    "executionInfo": {
     "elapsed": 79176,
     "status": "ok",
     "timestamp": 1627981932478,
     "user": {
      "displayName": "Piotr Jarosik",
      "photoUrl": "",
      "userId": "07939774369485222074"
     },
     "user_tz": -120
    },
    "id": "QEHEXs9ZbD03",
    "outputId": "dc811b1d-65b4-4566-c3a5-96a7b11e1aef"
   },
   "outputs": [
    {
     "name": "stdout",
     "output_type": "stream",
     "text": [
      "6.47 s ± 131 ms per loop (mean ± std. dev. of 7 runs, 1 loop each)\n"
     ]
    }
   ],
   "source": [
    "%%timeit -n 1\n",
    "add_vectors(a, b)"
   ]
  },
  {
   "cell_type": "markdown",
   "metadata": {
    "id": "TH-FtKsyuNOb"
   },
   "source": [
    "Using NumPy:"
   ]
  },
  {
   "cell_type": "code",
   "execution_count": 4,
   "metadata": {
    "colab": {
     "base_uri": "https://localhost:8080/"
    },
    "executionInfo": {
     "elapsed": 11,
     "status": "ok",
     "timestamp": 1627981932480,
     "user": {
      "displayName": "Piotr Jarosik",
      "photoUrl": "",
      "userId": "07939774369485222074"
     },
     "user_tz": -120
    },
    "id": "LvlGbo4YpB8R",
    "outputId": "b97548ca-d478-4aa1-b8d1-31455c4c7466"
   },
   "outputs": [
    {
     "name": "stdout",
     "output_type": "stream",
     "text": [
      "16.8 ms ± 166 µs per loop (mean ± std. dev. of 7 runs, 1 loop each)\n"
     ]
    }
   ],
   "source": [
    "%%timeit -n 1\n",
    "c = a + b"
   ]
  },
  {
   "cell_type": "markdown",
   "metadata": {
    "id": "nvkGuz_U0WSt"
   },
   "source": [
    "Side note: `%%timeit` is an IPython's (which is used by Jupyter) built-in command that allows to time the execution of a Python command. A complete documentation for the command can be found [here](https://ipython.readthedocs.io/en/stable/interactive/magics.html#magic-timeit)."
   ]
  },
  {
   "cell_type": "markdown",
   "metadata": {
    "id": "eMgX5tf5u3iS"
   },
   "source": [
    "As you can see above, NumPy seems to be faster than the equivalent function implemented in Python, as the NumPy is optimized to perform operations on large arrays. Still, NumPy uses the CPU only to perform all computations. \n",
    "\n",
    "Will using the GPU in this case reduce the time it takes to add two vectors? Let's find out."
   ]
  },
  {
   "cell_type": "markdown",
   "metadata": {
    "id": "imPeh7vdMr8P",
    "tags": []
   },
   "source": [
    "## 1.1. Heterogeneous programming with CUDA\n",
    "\n"
   ]
  },
  {
   "cell_type": "markdown",
   "metadata": {
    "id": "uBRkGnMjwGe8"
   },
   "source": [
    "Before we start implementing the CUDA kernel, let's discuss first how GPU and your computer (your GPU's **host**) can communicate.\n",
    "\n",
    "Both the host computer and NVIDIA GPU are *separate* processing devices: each has its own **processing unit** and the **memory**. The GPU cores operate on data located in the GPU memory, and CPU cores operate on data located in the host's memory. Therefore, if one wants to perform calculations using the GPU, the input data must first be transferred from the host memory to the GPU memory, and the result data has to be transferred back to the host memory from the GPU.  \n",
    "\n",
    "All the computations are done by some portion of GPU code called **GPU kernel**.  \n",
    "\n",
    "The typical communication process between GPU and host is as follows:\n",
    "\n",
    "1. Allocate a portion of the GPU memory.\n",
    "2. Transfer data from the Host memory to the GPU Device memory (abbreviated as `HtoD` transfer).\n",
    "3. Perform calculations on the data using the GPU kernel.\n",
    "4. Transfer results from the GPU Device memory to the Host memory (abbreviated as `DtoH` transfer).\n",
    "5. Release the allocated GPU memory.\n",
    "\n",
    "\n"
   ]
  },
  {
   "cell_type": "markdown",
   "metadata": {
    "id": "yPq2pkRWPFB5"
   },
   "source": [
    "![IUS Short-Course - lecture_1_heterogeneous_computing_2.png](data:image/png;base64,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)"
   ]
  },
  {
   "cell_type": "markdown",
   "metadata": {
    "id": "YGGNkqaFLnRX"
   },
   "source": [
    "Data transfers and GPU kernels can be invoked by **host**, i.e. it is the host that initiates the transfer from / to the GPU device memory and the GPU calculations. Data transfers can be inititated using e.g. CUDA Application Programming Interface (API) or selected high-level libraries, like `numba` or `cupy` (which base on CUDA API).\n",
    "\n",
    "We can distingush between two types of CUDA API calls:\n",
    "\n",
    "- **synchronous** - the host waits for the GPU to finish the invoked operation,\n",
    "- **asynchronous** - the host only invokes the GPU operation, it does not wait for its completion (returns immediately).\n",
    "\n",
    "Data transfers in CUDA can be performed synchronously or asynchronously -- both sets of operations are available. \n",
    "\n",
    "CUDA kernel invocations are asynochronous: when we invoke a GPU kernel, the only job the CPU does is to enqueue the kernel to be executed on GPU, then the called function returns immediately.\n",
    "\n",
    "The advantage of heterogenous programming with CUDA is that computing performed on the GPU can be done in parallel with the operations performed by CPU -- both CPU and GPU are separate processing devices that can work simultaneously thanks to the asynchronous functions available in CUDA. This allows us to e.g. delagate computationaly heavy tasks to the GPU, and perform all other work on Host at the same time."
   ]
  },
  {
   "cell_type": "markdown",
   "metadata": {
    "id": "CM3vNpDhSaOG"
   },
   "source": [
    "![IUS Short-Course - lecture_1_heterogeneous_computing_1 (1).png](data:image/png;base64,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)"
   ]
  },
  {
   "cell_type": "markdown",
   "metadata": {
    "id": "mXF4wN2eWOBc"
   },
   "source": [
    "### 1.1.1 Data transfers in CuPy\n",
    "\n"
   ]
  },
  {
   "cell_type": "markdown",
   "metadata": {
    "id": "Sno-NxH3VXk5"
   },
   "source": [
    "The following functions for data transfers are available in CuPy:\n",
    "\n",
    "- to allocate GPU memory, use: \n",
    "  - one of the [array creation routines](https://docs.cupy.dev/en/v9.3.0/reference/creation.html), e.g. [`cupy.empty`](https://docs.cupy.dev/en/v9.3.0/reference/generated/cupy.empty.html), [`cupy.empty_like`](https://docs.cupy.dev/en/v9.3.0/reference/generated/cupy.empty_like.html), [`cupy.array`](https://docs.cupy.dev/en/v9.3.0/reference/generated/cupy.array.html), \n",
    "- to transfer data from Host to GPU you can use e.g. [`cupy.ndarray.set`](https://docs.cupy.dev/en/v9.3.0/reference/generated/cupy.ndarray.html#cupy.ndarray.set),\n",
    "- to transfer data from GPU to Host use [`cupy.ndarray.get`](https://docs.cupy.dev/en/v9.3.0/reference/generated/cupy.ndarray.html#cupy.ndarray.get). \n",
    "\n",
    "Also, the large number of functions documented [here](https://docs.cupy.dev/en/v9.3.0/reference/manipulation.html) allow for simultaneous memory allocation and data transfer, based on the provided `numpy.ndarray`. In later parts of this short-course, we will often use the [`cp.asarray`](https://docs.cupy.dev/en/v9.3.0/reference/generated/cupy.asarray.html) function, which is responsible for acquiring the appropriate amount of GPU memory and transferring HtoD.\n",
    "\n",
    "Now, let's try implementing the communication process described in 1.1."
   ]
  },
  {
   "cell_type": "markdown",
   "metadata": {
    "id": "fOy8zZoNZKj6"
   },
   "source": [
    "First, let's do all the necessary imports."
   ]
  },
  {
   "cell_type": "code",
   "execution_count": 5,
   "metadata": {
    "id": "gbHNelr7KUGD"
   },
   "outputs": [],
   "source": [
    "import cupy as cp\n",
    "import numpy as np\n",
    "import math"
   ]
  },
  {
   "cell_type": "markdown",
   "metadata": {
    "id": "qw--6F8BZO7u"
   },
   "source": [
    "We will use `numpy` to manipulate Host memory, and `cupy` to manipulate GPU Device memory. "
   ]
  },
  {
   "cell_type": "markdown",
   "metadata": {
    "id": "WDT1-OezZePs"
   },
   "source": [
    "Let's allocate some portion of data in the CPU and GPU memory."
   ]
  },
  {
   "cell_type": "code",
   "execution_count": 6,
   "metadata": {
    "colab": {
     "base_uri": "https://localhost:8080/"
    },
    "executionInfo": {
     "elapsed": 6,
     "status": "ok",
     "timestamp": 1627981932885,
     "user": {
      "displayName": "Piotr Jarosik",
      "photoUrl": "",
      "userId": "07939774369485222074"
     },
     "user_tz": -120
    },
    "id": "IBco-QtAa-3r",
    "outputId": "ab4ee8d8-d134-47ad-c730-4efc1d736a49"
   },
   "outputs": [
    {
     "data": {
      "text/plain": [
       "array([ 0.,  1.,  2.,  3.,  4.,  5.,  6.,  7.,  8.,  9., 10., 11., 12.,\n",
       "       13., 14., 15., 16., 17., 18., 19., 20., 21., 22., 23., 24., 25.,\n",
       "       26., 27., 28., 29., 30., 31., 32., 33., 34., 35., 36., 37., 38.,\n",
       "       39., 40., 41., 42., 43., 44., 45., 46., 47., 48., 49., 50., 51.,\n",
       "       52., 53., 54., 55., 56., 57., 58., 59., 60., 61., 62., 63.],\n",
       "      dtype=float32)"
      ]
     },
     "execution_count": 6,
     "metadata": {},
     "output_type": "execute_result"
    }
   ],
   "source": [
    "array_host = np.arange(64, dtype=cp.float32)\n",
    "array_host"
   ]
  },
  {
   "cell_type": "code",
   "execution_count": 7,
   "metadata": {
    "id": "54ld_Sj4ZmFk"
   },
   "outputs": [],
   "source": [
    "array_gpu = cp.empty(shape=array_host.shape, dtype=array_host.dtype)"
   ]
  },
  {
   "cell_type": "markdown",
   "metadata": {
    "id": "P5cI7auEZjov"
   },
   "source": [
    "Now, let's transfer the `array` from Host to GPU memory."
   ]
  },
  {
   "cell_type": "code",
   "execution_count": 8,
   "metadata": {
    "id": "8yz7YmRcaNdu"
   },
   "outputs": [],
   "source": [
    "array_gpu.set(array_host)\n",
    "# Or do GPU memory allocation and data transfer in a single line:\n",
    "# array_gpu = cp.asarray(array_host)"
   ]
  },
  {
   "cell_type": "markdown",
   "metadata": {
    "id": "u_rRaK1_aeTM"
   },
   "source": [
    "And move the GPU array back to Host memory."
   ]
  },
  {
   "cell_type": "code",
   "execution_count": 9,
   "metadata": {
    "colab": {
     "base_uri": "https://localhost:8080/"
    },
    "executionInfo": {
     "elapsed": 36,
     "status": "ok",
     "timestamp": 1627981934070,
     "user": {
      "displayName": "Piotr Jarosik",
      "photoUrl": "",
      "userId": "07939774369485222074"
     },
     "user_tz": -120
    },
    "id": "R750SSE_ajTI",
    "outputId": "27987a58-bc83-4348-ea9c-4edb87ea8223"
   },
   "outputs": [
    {
     "data": {
      "text/plain": [
       "array([ 0.,  1.,  2.,  3.,  4.,  5.,  6.,  7.,  8.,  9., 10., 11., 12.,\n",
       "       13., 14., 15., 16., 17., 18., 19., 20., 21., 22., 23., 24., 25.,\n",
       "       26., 27., 28., 29., 30., 31., 32., 33., 34., 35., 36., 37., 38.,\n",
       "       39., 40., 41., 42., 43., 44., 45., 46., 47., 48., 49., 50., 51.,\n",
       "       52., 53., 54., 55., 56., 57., 58., 59., 60., 61., 62., 63.],\n",
       "      dtype=float32)"
      ]
     },
     "execution_count": 9,
     "metadata": {},
     "output_type": "execute_result"
    }
   ],
   "source": [
    "result_array = array_gpu.get()\n",
    "result_array"
   ]
  },
  {
   "cell_type": "markdown",
   "metadata": {
    "id": "N2idwUsjbTAQ"
   },
   "source": [
    "### 1.1.2 CUDA kernels"
   ]
  },
  {
   "cell_type": "markdown",
   "metadata": {
    "id": "tKyHmJ3gUe2B"
   },
   "source": [
    "The CuPy package provides the possibility to write CUDA kernels directly in **CUDA C/C++**. If you are not familiar with C/C++, consider doing the Numba exercises first. Numba package allows to write GPU code using Python syntax directly.\n",
    "\n",
    "\n",
    "For now, it will be enough to understand that:\n",
    "- the code executed by each GPU core separately is called a *GPU kernel*,\n",
    "- in CuPy, you can compile and run GPU kernel using using [`cupy.RawKernel`](https://docs.cupy.dev/en/v9.3.0/user_guide/kernel.html#raw-kernels) class.\n",
    "\n",
    "The `RawKernel` class is not the only option to create a custom GPU kernel, the package also provides other, slightly simpler methods for creating user-defined GPU kernels (still, using a syntax similar to CUDA C/C++), which are described [here](https://docs.cupy.dev/en/v9.3.0/user_guide/kernel.html#). However, for this tutorial we will use `RawKernel` only, which gives the possibility to write GPU kernels using the standard CUDA syntax.\n",
    " \n",
    "\n",
    "Let's create and run our first GPU kernel. We'll start with something very simple, i.e. create a CUDA kernel which simply does nothing (*NOP*). Open `1_1_first_kernel.cc` file and put the below code there:"
   ]
  },
  {
   "cell_type": "markdown",
   "metadata": {},
   "source": [
    "```c\n",
    " extern \"C\"\n",
    "__global__ void my_kernel() {\n",
    "    // You can use C/C++ comments in the GPU source code.\n",
    "}   \n",
    "```\n"
   ]
  },
  {
   "cell_type": "markdown",
   "metadata": {},
   "source": [
    "Now, now let's read the file in Python to string variable and compile it using the `cupy.RawKernel` class:"
   ]
  },
  {
   "cell_type": "code",
   "execution_count": 10,
   "metadata": {
    "id": "s0L5l8-vXNzf"
   },
   "outputs": [],
   "source": [
    "my_first_gpu_kernel_src = open(\"1_1_first_kernel.cc\").read()\n",
    "my_first_gpu_kernel = cp.RawKernel(code=my_first_gpu_kernel_src, name=\"my_kernel\")\n",
    "my_first_gpu_kernel.compile()"
   ]
  },
  {
   "cell_type": "markdown",
   "metadata": {
    "id": "C7medk36EDVy"
   },
   "source": [
    "A few words of comment:\n",
    "- GPU kernel, as we can see above, is written as a **C++ function**,\n",
    "  - we used `__global__` keyword to indicate, that a given C++ function should be treated as a GPU kernel code than can be invoked by host,\n",
    "  - you can use standard C/C++ syntax in the kernel's source code,\n",
    "- *(CuPy specific)* in the example above, we used a Python string literal to store the kernel source, which is then passed to `RawKernel`'s constructor,\n",
    "- *(CuPy specific)* the C++ function's name and `RawKernel`'s argument `name` should be the same. \n",
    "- *(CuPy specific)* it is recommended to declare CUDA kernels within `extern \"C\"` block - to make sure the C linkage is used and the kernel names are not mangled.\n"
   ]
  },
  {
   "cell_type": "markdown",
   "metadata": {
    "id": "65uMvDEJX6Li"
   },
   "source": [
    "The following line launches the code to be executed by a single thread, in a single block, no input arguments."
   ]
  },
  {
   "cell_type": "code",
   "execution_count": 11,
   "metadata": {
    "id": "If78M5UJZLnW"
   },
   "outputs": [],
   "source": [
    "my_first_gpu_kernel(grid=(1, ), block=(1, ), args=())"
   ]
  },
  {
   "cell_type": "markdown",
   "metadata": {
    "id": "NhfrDA8Ohxdy"
   },
   "source": [
    "We will describe the CUDA kernel invocation parameters in more detail a bit later."
   ]
  },
  {
   "cell_type": "markdown",
   "metadata": {
    "id": "TCpcXxMpcH3A"
   },
   "source": [
    "Combining it all together:"
   ]
  },
  {
   "cell_type": "code",
   "execution_count": 12,
   "metadata": {
    "colab": {
     "base_uri": "https://localhost:8080/"
    },
    "executionInfo": {
     "elapsed": 31,
     "status": "ok",
     "timestamp": 1627981934072,
     "user": {
      "displayName": "Piotr Jarosik",
      "photoUrl": "",
      "userId": "07939774369485222074"
     },
     "user_tz": -120
    },
    "id": "Kvq-YJ7Rmato",
    "outputId": "e7865f4e-4f08-4d0a-ad9e-514d5202e0ad"
   },
   "outputs": [
    {
     "data": {
      "text/plain": [
       "array([ 0.,  1.,  2.,  3.,  4.,  5.,  6.,  7.,  8.,  9., 10., 11., 12.,\n",
       "       13., 14., 15., 16., 17., 18., 19., 20., 21., 22., 23., 24., 25.,\n",
       "       26., 27., 28., 29., 30., 31., 32., 33., 34., 35., 36., 37., 38.,\n",
       "       39., 40., 41., 42., 43., 44., 45., 46., 47., 48., 49., 50., 51.,\n",
       "       52., 53., 54., 55., 56., 57., 58., 59., 60., 61., 62., 63.],\n",
       "      dtype=float32)"
      ]
     },
     "execution_count": 12,
     "metadata": {},
     "output_type": "execute_result"
    }
   ],
   "source": [
    "# Allocate Host memory.\n",
    "array_host = np.arange(64, dtype=cp.float32)\n",
    "# Allocate GPU memory.\n",
    "array_gpu = cp.empty(shape=array_host.shape, dtype=array_host.dtype)\n",
    "# Transfer from Host to GPU.\n",
    "array_gpu.set(array_host)\n",
    "# Run kernel\n",
    "my_first_gpu_kernel(grid=(1, ), block=(1, ), args=())\n",
    "# Move the array back to the Host.\n",
    "result_array = array_gpu.get()\n",
    "result_array"
   ]
  },
  {
   "cell_type": "markdown",
   "metadata": {
    "id": "DQFNtcTSMTCO",
    "tags": []
   },
   "source": [
    "## 1.2. CUDA kernels and CUDA threads\n",
    "\n"
   ]
  },
  {
   "cell_type": "markdown",
   "metadata": {
    "id": "uKyug84weA2M"
   },
   "source": [
    "Now that we know the syntax for writing and lanuching CUDA kernel code, we can proceed with implementing the `add_vectors` function for the GPU device. \n",
    "\n",
    "In this section:\n",
    "- we will introduce a syntax for writing the CUDA GPU kernel,\n",
    "- we will implement the `add_vectors` for function for NVIDIA GPU,\n",
    "- we will analyze the time needed to perform the calculations on GPU."
   ]
  },
  {
   "cell_type": "markdown",
   "metadata": {
    "id": "vQQ94mXkjB_R"
   },
   "source": [
    "The **GPU kernel** is a *device function* that is intended to be executed by a certain number of **CUDA threads**.\n",
    "\n",
    "As mentioned before, CUDA kernel is a C++ function, represented by `cupy.RawKernel` object:\n",
    "\n"
   ]
  },
  {
   "cell_type": "code",
   "execution_count": 13,
   "metadata": {
    "id": "SLCax3KEiLjr"
   },
   "outputs": [
    {
     "data": {
      "text/plain": [
       "<cupy._core.raw.RawKernel at 0x7f40da2699c0>"
      ]
     },
     "execution_count": 13,
     "metadata": {},
     "output_type": "execute_result"
    }
   ],
   "source": [
    "my_first_gpu_kernel"
   ]
  },
  {
   "cell_type": "markdown",
   "metadata": {
    "id": "6YsEjKRBiOUX"
   },
   "source": [
    "We can invoke a given kernel using the following syntax:\n",
    "```\n",
    "kernel_object(grid, block, arguments)\n",
    "```\n",
    "where:\n",
    "- `grid` - dimensions of the grid of CUDA blocks,\n",
    "- `block` - dimensions of the block of CUDA threads,\n",
    "- `arguments` - CUDA kernel arguments.\n"
   ]
  },
  {
   "cell_type": "markdown",
   "metadata": {
    "id": "MakLmzaDjk6G"
   },
   "source": [
    "So, to run kernel on a single thread, in a single block, for the `array_gpu` parameter:"
   ]
  },
  {
   "cell_type": "code",
   "execution_count": 14,
   "metadata": {
    "id": "37Gs8eJBjkFU"
   },
   "outputs": [],
   "source": [
    "my_first_gpu_kernel(grid=(1, ), block=(1, ), args=array_gpu)"
   ]
  },
  {
   "cell_type": "markdown",
   "metadata": {
    "id": "FdmLNNGbkAaL"
   },
   "source": [
    "If we want the kernel to be executed by two threads in a single block:"
   ]
  },
  {
   "cell_type": "code",
   "execution_count": 15,
   "metadata": {
    "id": "PeaRb8KLkcut"
   },
   "outputs": [],
   "source": [
    "my_first_gpu_kernel(grid=(1, ), block=(2, ), args=array_gpu)"
   ]
  },
  {
   "cell_type": "markdown",
   "metadata": {
    "id": "qUbSlfz_keVR"
   },
   "source": [
    "Both CUDA threads **will perform exactly the same function**, for the same `array_gpu`.\n",
    "\n",
    "The use of GPU makes sense when the algorithm we implement decomposes well into many smaller subtasks - in this situation each task can be performed by a separate CUDA thread. Still, we need some way to assign each subtask to a separate CUDA thread.\n",
    "\n",
    "In CUDA, each thread is assigned an identifier unique within a block, which can be also used as an identifier for the subtask for which it is responsible. To access the identifier, use `threadIdx.x` keyword. \n",
    "\n",
    "Let's take as an example the assignment `array_gpu = array_gpu + 1`, i.e. we want to add `1` to each element of the input `array_gpu`. \n",
    "We can split the task into `n` smaller subtasks: `array_gpu[i] = array_gpu[i] + 1`, `n` is the number of elements in the array. Now, we can use `threadIdx.x` to determine which elements the current thread should modify.\n",
    "\n",
    "```cpp\n",
    "extern \"C\"\n",
    "__global__ void increment(float* data) {\n",
    "    int i = threadIdx.x;\n",
    "    data[i] = data[i] + 1;\n",
    "}\n",
    "```"
   ]
  },
  {
   "cell_type": "markdown",
   "metadata": {},
   "source": [
    "Let's move the above code to the CUDA source file and run it (note: CUDA kernel will be compiled on the first run, usually we don't have to compile it manually):"
   ]
  },
  {
   "cell_type": "code",
   "execution_count": 16,
   "metadata": {
    "colab": {
     "base_uri": "https://localhost:8080/"
    },
    "executionInfo": {
     "elapsed": 22,
     "status": "ok",
     "timestamp": 1627981934074,
     "user": {
      "displayName": "Piotr Jarosik",
      "photoUrl": "",
      "userId": "07939774369485222074"
     },
     "user_tz": -120
    },
    "id": "x1nf_07clxA8",
    "outputId": "a73f7062-cd8c-4b7e-b234-51c27283fb44"
   },
   "outputs": [
    {
     "name": "stdout",
     "output_type": "stream",
     "text": [
      "Before: [ 0.  1.  2.  3.  4.  5.  6.  7.  8.  9. 10. 11. 12. 13. 14. 15. 16. 17.\n",
      " 18. 19. 20. 21. 22. 23. 24. 25. 26. 27. 28. 29. 30. 31. 32. 33. 34. 35.\n",
      " 36. 37. 38. 39. 40. 41. 42. 43. 44. 45. 46. 47. 48. 49. 50. 51. 52. 53.\n",
      " 54. 55. 56. 57. 58. 59. 60. 61. 62. 63.]\n",
      "After: [ 1.  2.  3.  4.  5.  6.  7.  8.  9. 10. 11. 12. 13. 14. 15. 16. 17. 18.\n",
      " 19. 20. 21. 22. 23. 24. 25. 26. 27. 28. 29. 30. 31. 32. 33. 34. 35. 36.\n",
      " 37. 38. 39. 40. 41. 42. 43. 44. 45. 46. 47. 48. 49. 50. 51. 52. 53. 54.\n",
      " 55. 56. 57. 58. 59. 60. 61. 62. 63. 64.]\n"
     ]
    }
   ],
   "source": [
    "increment_src = open(\"1_2_increment.cc\").read()\n",
    "increment = cp.RawKernel(code=increment_src, name=\"increment\")\n",
    "\n",
    "print(f\"Before: {array_gpu}\")\n",
    "\n",
    "increment((1, ), (len(array_gpu), ), array_gpu)\n",
    "result = array_gpu.get()\n",
    "\n",
    "print(f\"After: {result}\")"
   ]
  },
  {
   "cell_type": "markdown",
   "metadata": {
    "id": "DcGg5jXLO6Wi"
   },
   "source": [
    "#### 1.2.1. One-dimensional grid of CUDA threads"
   ]
  },
  {
   "cell_type": "markdown",
   "metadata": {
    "id": "SG4-lgzYlarq"
   },
   "source": [
    "Now, let's extend the previous, basic example to the vector addition task.\n",
    "\n",
    "Please note that the input vectors `a` and `b` are much larger than the `array_gpu`, so we cannot use a single block of threads with size ~ $10^7$. Blocks of this size are not supported by any of the NVIDIA GPUs (the actual limit on the block size is NVIDIA GPU-dependent, currently it should be around 1024). \n",
    "\n",
    "We have to split our task into multiple blocks of threads, that is to create a *grid* of blocks. \n",
    "\n",
    "How can we uniquely identify each CUDA thread in the *grid of blocks of threads*? Recall that the `threadIdx.x` is **a unique ID of a CUDA thread within a single block**. Each block also has **a unique ID within the entire grid**: `blockIdx.x`. Thus the pair:\n",
    "```\n",
    "(cuda.blockIdx.x, cuda.threadIdx.x) \n",
    "```\n",
    "uniquely identifies every CUDA thread.\n",
    "\n"
   ]
  },
  {
   "cell_type": "markdown",
   "metadata": {
    "id": "ryfpSTgIVxpz"
   },
   "source": [
    "Let's decompose the vector element additions to *independent subtasks* in a similiar way as we did it in the `add_one` kernel. \n",
    "\n",
    "That is, each CUDA thread is responsible for computing a single element of the output array `c`:\n",
    "```\n",
    "c[i] = a[i] + b[i]\n",
    "```\n",
    "\n",
    "One more thing is necessary to obtain a unique position of the thread in the whole grid of threads: the size of a single block. \n",
    "\n",
    "For convenience CUDA provides the constant `blockDim.x`, which is equal to the number of threads in single block.\n",
    "\n",
    "Now the unique position of the thread in the grid can be computed as:\n",
    "```\n",
    "blockIdx.x*blockDim.x + threadIdx.x\n",
    "```"
   ]
  },
  {
   "cell_type": "markdown",
   "metadata": {},
   "source": [
    "**Exercise**\n",
    "\n",
    "1. Open `1_2_add_vectors.cc` file.\n",
    "2. Fill in the missing lines of code, marked with the `// TODO: implement` comment."
   ]
  },
  {
   "cell_type": "code",
   "execution_count": 17,
   "metadata": {
    "id": "_5Z7hTizfVNc"
   },
   "outputs": [],
   "source": [
    "add_vectors_src = open(\"1_2_add_vectors.cc\").read()\n",
    "add_vectors_gpu = cp.RawKernel(code=add_vectors_src, name=\"add_vectors\")"
   ]
  },
  {
   "cell_type": "markdown",
   "metadata": {
    "id": "KDfXKu3YkTyv"
   },
   "source": [
    "Now, let's run the above kernel. Let's assume for a moment that we want the above CUDA kernel to be executed by 256 threads in parallel - i.e. one block will consists of 256 threads. To cover the entire input array, the kernel has to be executed by \n",
    "\n",
    "$\\left\\lceil \\frac{n}{256} \\right\\rceil$ \n",
    "\n",
    "blocks of threads, where $n$ is the number of elements in input vectors.  "
   ]
  },
  {
   "cell_type": "markdown",
   "metadata": {
    "id": "aCqADEhD12cd"
   },
   "source": [
    "![IUS Short-Course - lecture_1_vector_addition_example2.png](data:image/png;base64,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)"
   ]
  },
  {
   "cell_type": "code",
   "execution_count": 18,
   "metadata": {
    "id": "4I3XsQB-PeUf"
   },
   "outputs": [],
   "source": [
    "assert len(a) == len(b)\n",
    "# Create output array in the GPU memory.\n",
    "c_gpu = cp.empty(shape=a.shape, dtype=a.dtype)\n",
    "\n",
    "# Transfer a and b to GPU.\n",
    "a_gpu = cp.asarray(a)\n",
    "b_gpu = cp.asarray(b)\n",
    "\n",
    "# Determine grid and block sizes.\n",
    "block_size = 256\n",
    "grid_size = math.ceil(len(a)/block_size)\n",
    "\n",
    "# Invoke the kernel.\n",
    "add_vectors_gpu((grid_size, ), (block_size, ), (c_gpu, a_gpu, b_gpu, len(a_gpu)))\n",
    "# Get the result.\n",
    "c = c_gpu.get()\n",
    "\n",
    "# Make sure we get the correct results (i.e. consistent with the results from NumPy).\n",
    "np.testing.assert_equal(c, a+b)"
   ]
  },
  {
   "cell_type": "markdown",
   "metadata": {
    "id": "r0GNEsTjgnOd"
   },
   "source": [
    "Congratulations! You have solved your first GPU task, i.e. implementing the  `add_vectors` for NVIDIA GPU.\n",
    "\n",
    "Now, let's measure the time needed to execute the `add_vectors_gpu` kernel."
   ]
  },
  {
   "cell_type": "code",
   "execution_count": 19,
   "metadata": {
    "colab": {
     "base_uri": "https://localhost:8080/"
    },
    "executionInfo": {
     "elapsed": 7740,
     "status": "ok",
     "timestamp": 1627982021277,
     "user": {
      "displayName": "Piotr Jarosik",
      "photoUrl": "",
      "userId": "07939774369485222074"
     },
     "user_tz": -120
    },
    "id": "hmK49PxpuanP",
    "outputId": "978b87eb-0f03-4a41-a46b-dde539623742"
   },
   "outputs": [
    {
     "name": "stdout",
     "output_type": "stream",
     "text": [
      "13.1 ms ± 30.5 µs per loop (mean ± std. dev. of 7 runs, 100 loops each)\n"
     ]
    }
   ],
   "source": [
    "%%timeit -n 100\n",
    "add_vectors_gpu((grid_size, ), (block_size, ), (c_gpu, a_gpu, b_gpu, len(a_gpu)))\n",
    "c = c_gpu.get()"
   ]
  },
  {
   "cell_type": "markdown",
   "metadata": {
    "id": "G9S8qubl6fTY"
   },
   "source": [
    "As we can see, the execution time might be slightly shorter compared to its CPU counterpart (it will depend on the computer you use), but the difference is probably not significant. \n",
    "\n",
    "The above cell contains a data transfer from GPU to host.  The data transfer is a synchronous operation, i.e. it waits for all queued operations to be performed on GPU (including the kernel invocation), then performs the transfer. Thanks to that we are sure that the resulting array contains the complete calculation results.\n",
    "\n",
    "However, transferring a large amount of data between GPU and Host can be time-consuming. To wait for the kernels to execute explicitly, without transferring the result data to host PC, run `cp.cuda.Stream.null.synchronize()`."
   ]
  },
  {
   "cell_type": "code",
   "execution_count": 20,
   "metadata": {
    "colab": {
     "base_uri": "https://localhost:8080/"
    },
    "executionInfo": {
     "elapsed": 962,
     "status": "ok",
     "timestamp": 1627982080258,
     "user": {
      "displayName": "Piotr Jarosik",
      "photoUrl": "",
      "userId": "07939774369485222074"
     },
     "user_tz": -120
    },
    "id": "VllDLIwb7P7N",
    "outputId": "19728cef-7f93-42e2-d4a2-61df027bf826"
   },
   "outputs": [
    {
     "name": "stdout",
     "output_type": "stream",
     "text": [
      "800 µs ± 564 ns per loop (mean ± std. dev. of 7 runs, 100 loops each)\n"
     ]
    }
   ],
   "source": [
    "%%timeit -n 100\n",
    "add_vectors_gpu((grid_size, ), (block_size, ), (c_gpu, a_gpu, b_gpu, len(a_gpu)))\n",
    "cp.cuda.Stream.null.synchronize()"
   ]
  },
  {
   "cell_type": "markdown",
   "metadata": {
    "id": "cAMlA76P8Oix"
   },
   "source": [
    "CUDA streams will be covered in more detail later."
   ]
  },
  {
   "cell_type": "markdown",
   "metadata": {
    "id": "Owp0mjaTPb-6"
   },
   "source": [
    "#### 1.2.2. Two-dimensional grid of CUDA threads"
   ]
  },
  {
   "cell_type": "markdown",
   "metadata": {
    "id": "0XP3oOhzP7Z8"
   },
   "source": [
    "In the previous example, the grid of threads was defined in a single dimension, i.e. the variables `grid_size` and `block_size` were a single scalar value.\n",
    "\n",
    "As mentioned previously, fields `blockIdx`, `blockDim` and `threadIdx` allow to determine the position of the current thread in the whole grid of threads executed by the CUDA device:\n",
    "- `blockIdx` is the identifier of the currently executed block of threads in the grid,\n",
    "- `blockDim` is the size of a single block of threads,\n",
    "- `threadIdx` is the identifier of the currenty executed thread within a single block.\n",
    "\n",
    "\n",
    "A grid of threads **can have one, two or three dimensions**, described by `(cuda.blockIdx.z, cuda.blockDim.y, cuda.blockDim.x)` tuple. \n",
    "\n",
    "Each thread in a block has the coordinates `(cuda.threadIdx.z, cuda.threadIdx.y, cuda.threadIdx.x)`. \n",
    "\n",
    "Each block in a grid has the coordinates `(cuda.blockIdx.z, cuda.blockIdx.y, cuda.blockIdx.x)`. \n",
    "\n",
    "The `x` coordinate changes the fastest: two adjacent threads in the same block differ in the value of the `x` coordinate by 1.\n",
    "\n",
    "Grid and thread dimensions can be specified via the `grid_size` and `thread_size` parameters: a single scalar value means that a 1-D grid will be used, a pair of values imposes a 2-D grid, three values sets 3-D grid. "
   ]
  },
  {
   "cell_type": "markdown",
   "metadata": {
    "id": "n0Uq5O4SYqb8"
   },
   "source": [
    "\n",
    "\n",
    "\n",
    "This time, we will implement a function which adds two **matrices** and we will use a 2-D grid of threads for this purpose.\n",
    "\n",
    "Let's use a 2D grid and block thread organization to implement a kernel that adds two matrices. We will start first with a baseline function for CPU."
   ]
  },
  {
   "cell_type": "code",
   "execution_count": 21,
   "metadata": {
    "id": "l06qYVO2PfDq"
   },
   "outputs": [],
   "source": [
    "import itertools\n",
    "import numpy as np \n",
    "\n",
    "\n",
    "def add_matrices(a, b):\n",
    "    a = np.array(a)\n",
    "    b = np.array(b)\n",
    "    assert a.shape == b.shape\n",
    "    \n",
    "    height, width = a.shape\n",
    "    result = np.zeros(a.shape, dtype=a.dtype)\n",
    "    \n",
    "    for i, j in itertools.product(range(height), range(width)):\n",
    "        result[i, j] = a[i, j] + b[i, j]\n",
    "    return result\n",
    "\n",
    "c = add_matrices(\n",
    "    # a = \n",
    "    [[ 1,  2,  3,  4], \n",
    "     [ 4,  5,  6,  7]],\n",
    "    # b =  \n",
    "    [[-1, -2, -3, -4],\n",
    "     [ 1,  1,  1,  1]])\n",
    "\n",
    "np.testing.assert_equal(\n",
    "    c, np.array([[0, 0, 0, 0],\n",
    "                 [5, 6, 7, 8]]))"
   ]
  },
  {
   "cell_type": "code",
   "execution_count": 22,
   "metadata": {
    "id": "P5oaPCtNdmhV"
   },
   "outputs": [],
   "source": [
    "a = np.random.rand(2**12, 2**12).astype(np.float32) # ~ 1e7 elements\n",
    "b = np.random.rand(2**12, 2**12).astype(np.float32)\n",
    "\n",
    "c = add_matrices(a, b)\n",
    "np.testing.assert_equal(c, a + b)"
   ]
  },
  {
   "cell_type": "code",
   "execution_count": 23,
   "metadata": {
    "colab": {
     "base_uri": "https://localhost:8080/"
    },
    "executionInfo": {
     "elapsed": 111130,
     "status": "ok",
     "timestamp": 1627983198342,
     "user": {
      "displayName": "Piotr Jarosik",
      "photoUrl": "",
      "userId": "07939774369485222074"
     },
     "user_tz": -120
    },
    "id": "qxIdGLsAhWEs",
    "outputId": "b3df1485-5a97-435c-a32e-0637b4c3a22e"
   },
   "outputs": [
    {
     "name": "stdout",
     "output_type": "stream",
     "text": [
      "8.59 s ± 51.5 ms per loop (mean ± std. dev. of 7 runs, 2 loops each)\n"
     ]
    }
   ],
   "source": [
    "%%timeit -n 2\n",
    "add_matrices(a, b)"
   ]
  },
  {
   "cell_type": "markdown",
   "metadata": {
    "id": "lqjdk2pBciEh"
   },
   "source": [
    "Similarly to the `add_vectors_gpu` implementation,  the `add_matrices_gpu` kernel will compute a single matrix element. This time, we will use the `y` coordinate to address matrix elements in the second dimension.\n",
    "\n",
    "**Exercise**\n",
    "\n",
    "1. Open `1_2_add_matrices.cc` file.\n",
    "2. Fill in the missing lines of code, marked with the `// TODO` comment."
   ]
  },
  {
   "cell_type": "code",
   "execution_count": 24,
   "metadata": {
    "id": "jcxfg9z4cg4L"
   },
   "outputs": [],
   "source": [
    "add_matrices_src = open(\"1_2_add_matrices.cc\").read()\n",
    "add_matrices_gpu_kernel = cp.RawKernel(code=add_matrices_src, name=\"add_matrices\")"
   ]
  },
  {
   "cell_type": "markdown",
   "metadata": {
    "id": "0ZlrmALYk5e1"
   },
   "source": [
    "Now, we must also pass the second dimension of the grid to the GPU kernel invocation parameters, as the implementation of the kernel assumes a 2-D grid layout. The parameters `grid_size` and `block_size` should be now pairs of integer values.\n",
    "\n",
    "Let's wrap GPU kernel invocation code into a `add_matrices_gpu` Python function:"
   ]
  },
  {
   "cell_type": "code",
   "execution_count": 25,
   "metadata": {
    "id": "GzrHnniRi_w-"
   },
   "outputs": [],
   "source": [
    "def add_matrices_gpu(a, b):\n",
    "    assert a.shape == b.shape\n",
    "    # Move a and b to GPU.\n",
    "    a_gpu = cp.asarray(a)\n",
    "    b_gpu = cp.asarray(b)\n",
    "\n",
    "    # Create output array in the GPU memory.\n",
    "    c_gpu = cp.empty(shape=a.shape, dtype=a.dtype)\n",
    "\n",
    "    # Determine CUDA kernel grid dimensions.\n",
    "    height, width = a.shape\n",
    "    block_size = (16, 16)\n",
    "    grid_size = (math.ceil(width/block_size[0]), math.ceil(height/block_size[1]))\n",
    "    \n",
    "    # Invoke the kernel.\n",
    "    add_matrices_gpu_kernel(grid_size, block_size, (c_gpu, a_gpu, b_gpu, height, width))\n",
    "    # Wait until all computation is done and transfer result data from GPU to host.\n",
    "    c = c_gpu.get()\n",
    "    return c"
   ]
  },
  {
   "cell_type": "markdown",
   "metadata": {
    "id": "6PyUgsfdlpr4"
   },
   "source": [
    "Let's test the implementation first:"
   ]
  },
  {
   "cell_type": "code",
   "execution_count": 26,
   "metadata": {
    "id": "0wQzRLWzjWWB"
   },
   "outputs": [],
   "source": [
    "# Small\n",
    "c = add_matrices_gpu(\n",
    "    a=np.array([[ 1,  2,  3,  4], \n",
    "                [ 4,  5,  6,  7]]).astype(np.float32),\n",
    "    b=np.array([[-1, -2, -3, -4],\n",
    "                [ 1,  1,  1,  1]]).astype(np.float32)\n",
    ")\n",
    "np.testing.assert_equal(\n",
    "    c, np.array([[0, 0, 0, 0],\n",
    "                 [5, 6, 7, 8]]))\n",
    "\n",
    "# Large\n",
    "c = add_matrices_gpu(a, b)\n",
    "np.testing.assert_equal(c, a+b)"
   ]
  },
  {
   "cell_type": "markdown",
   "metadata": {
    "id": "QDMoYAUglw9G"
   },
   "source": [
    "Compare CPU and GPU processing time:"
   ]
  },
  {
   "cell_type": "code",
   "execution_count": 27,
   "metadata": {
    "colab": {
     "base_uri": "https://localhost:8080/"
    },
    "executionInfo": {
     "elapsed": 2567,
     "status": "ok",
     "timestamp": 1627984300288,
     "user": {
      "displayName": "Piotr Jarosik",
      "photoUrl": "",
      "userId": "07939774369485222074"
     },
     "user_tz": -120
    },
    "id": "kDtbshwuj9UP",
    "outputId": "07c71efc-3933-4d47-d135-ccd4bf2ea124"
   },
   "outputs": [
    {
     "name": "stdout",
     "output_type": "stream",
     "text": [
      "29.8 ms ± 33.9 µs per loop (mean ± std. dev. of 7 runs, 10 loops each)\n"
     ]
    }
   ],
   "source": [
    "%%timeit\n",
    "add_matrices_gpu(a, b)"
   ]
  },
  {
   "cell_type": "markdown",
   "metadata": {
    "id": "9hmsOV1OmAHk"
   },
   "source": [
    "We'll leave the implementation of adding two 3D arrays for you to try as homework."
   ]
  },
  {
   "cell_type": "markdown",
   "metadata": {
    "id": "MJBQIkftQhjv",
    "tags": []
   },
   "source": [
    "## 1.3. CUDA Toolkit and CuPy package"
   ]
  },
  {
   "cell_type": "markdown",
   "metadata": {
    "id": "xdgdj8kkeQGn"
   },
   "source": [
    "NVIDIA provides several tools in its Toolkit that help in the implementation and testing of the GPU code. In this exercise we will show you how to:\n",
    "- check the parameters of your hardware, determine how to programatically check how many GPUs and how much memory are available, and so on,\n",
    "- debug and memcheck you Python CUDA kernels,\n",
    "- profile CUDA code execution time.\n",
    "\n",
    "We will also introduce you to more details of CuPy Python package, which we will be using during the entire course."
   ]
  },
  {
   "cell_type": "markdown",
   "metadata": {
    "id": "SSYvNaiHQnRf",
    "tags": []
   },
   "source": [
    "### 1.3.1. CUDA device diagnostics"
   ]
  },
  {
   "cell_type": "markdown",
   "metadata": {
    "id": "M_B4IkVIGMAb"
   },
   "source": [
    "The most basic diagnostic tool for GPU cards is `nvidia-smi`, which displays the current status of all GPU cards available.\n",
    "\n",
    "(NOTE: the `nvidia-smi` tool is not available for Nvidia Jetson processors. For SoC chips, please use built-in `tegrastats` or install [`jtop`](https://pypi.org/project/jetson-stats/))."
   ]
  },
  {
   "cell_type": "code",
   "execution_count": 28,
   "metadata": {
    "colab": {
     "base_uri": "https://localhost:8080/"
    },
    "executionInfo": {
     "elapsed": 323,
     "status": "ok",
     "timestamp": 1627984338804,
     "user": {
      "displayName": "Piotr Jarosik",
      "photoUrl": "",
      "userId": "07939774369485222074"
     },
     "user_tz": -120
    },
    "id": "8-ikEvLHZsgb",
    "outputId": "df66bc0a-f787-4e12-b286-13d9e5c0ca9d"
   },
   "outputs": [
    {
     "name": "stdout",
     "output_type": "stream",
     "text": [
      "Mon Aug 23 01:59:40 2021       \n",
      "+-----------------------------------------------------------------------------+\n",
      "| NVIDIA-SMI 450.51.05    Driver Version: 450.51.05    CUDA Version: 11.0     |\n",
      "|-------------------------------+----------------------+----------------------+\n",
      "| GPU  Name        Persistence-M| Bus-Id        Disp.A | Volatile Uncorr. ECC |\n",
      "| Fan  Temp  Perf  Pwr:Usage/Cap|         Memory-Usage | GPU-Util  Compute M. |\n",
      "|                               |                      |               MIG M. |\n",
      "|===============================+======================+======================|\n",
      "|   0  GeForce GTX TIT...  Off  | 00000000:05:00.0 Off |                  N/A |\n",
      "| 25%   65C    P2    82W / 250W |    501MiB / 12211MiB |      0%      Default |\n",
      "|                               |                      |                  N/A |\n",
      "+-------------------------------+----------------------+----------------------+\n",
      "|   1  GeForce GTX TIT...  Off  | 00000000:06:00.0 Off |                  N/A |\n",
      "| 25%   62C    P0    75W / 250W |      0MiB / 12212MiB |      0%      Default |\n",
      "|                               |                      |                  N/A |\n",
      "+-------------------------------+----------------------+----------------------+\n",
      "|   2  GeForce GTX TIT...  Off  | 00000000:09:00.0 Off |                  N/A |\n",
      "| 24%   62C    P0    76W / 250W |      0MiB / 12212MiB |      0%      Default |\n",
      "|                               |                      |                  N/A |\n",
      "+-------------------------------+----------------------+----------------------+\n",
      "|   3  GeForce GTX TIT...  Off  | 00000000:0A:00.0 Off |                  N/A |\n",
      "| 19%   58C    P0    65W / 250W |      0MiB / 12212MiB |      2%      Default |\n",
      "|                               |                      |                  N/A |\n",
      "+-------------------------------+----------------------+----------------------+\n",
      "                                                                               \n",
      "+-----------------------------------------------------------------------------+\n",
      "| Processes:                                                                  |\n",
      "|  GPU   GI   CI        PID   Type   Process name                  GPU Memory |\n",
      "|        ID   ID                                                   Usage      |\n",
      "|=============================================================================|\n",
      "|    0   N/A  N/A     24925      C   ...conda3/envs/sc/bin/python      498MiB |\n",
      "+-----------------------------------------------------------------------------+\n"
     ]
    }
   ],
   "source": [
    "! nvidia-smi"
   ]
  },
  {
   "cell_type": "markdown",
   "metadata": {
    "id": "ZQ7hEzv7HFq0"
   },
   "source": [
    "`nvidia-smi` outputs information about:\n",
    "- the installed NVIDIA driver and CUDA Toolkit,\n",
    "- for each available GPU:\n",
    "  - temperature, memory usage and GPU utilization,\n",
    "  - processes that are currently running on that GPU.\n",
    "\n",
    " "
   ]
  },
  {
   "cell_type": "markdown",
   "metadata": {
    "id": "RvW9KwFIIPFW"
   },
   "source": [
    "`nvidia-smi` is a command line tool, so use it in your shell to quickly check the state of your GPU. \n",
    "\n",
    "CUDA SDK also provides a programatic way to access the device description in your application run-time, e.g. to check if we are not exceeding available GPU global memory.\n",
    "\n",
    "The CUDA device description is called in SDK *device properties*. \n",
    "\n",
    "To get the device properties, we will use `cupy` package, which exposes CUDA SDK interface in Python in a convenient way.\n",
    "\n",
    "Let's check first how many GPU cards do we have:\n",
    "\n"
   ]
  },
  {
   "cell_type": "code",
   "execution_count": 29,
   "metadata": {
    "colab": {
     "base_uri": "https://localhost:8080/"
    },
    "executionInfo": {
     "elapsed": 679,
     "status": "ok",
     "timestamp": 1627984452359,
     "user": {
      "displayName": "Piotr Jarosik",
      "photoUrl": "",
      "userId": "07939774369485222074"
     },
     "user_tz": -120
    },
    "id": "BQSWPL7YJ3gk",
    "outputId": "2c9e58af-e7c4-42bb-ed25-640ebd235a00"
   },
   "outputs": [
    {
     "data": {
      "text/plain": [
       "1"
      ]
     },
     "execution_count": 29,
     "metadata": {},
     "output_type": "execute_result"
    }
   ],
   "source": [
    "import cupy as cp\n",
    "cp.cuda.runtime.getDeviceCount()"
   ]
  },
  {
   "cell_type": "markdown",
   "metadata": {
    "id": "SZUX_McRKWVi"
   },
   "source": [
    "Now, let's check:\n",
    "\n",
    "- the device name and its compute capability,\n",
    "- the GPU clock frequency,\n",
    "- how much global, shared and constant memory our GPU card has."
   ]
  },
  {
   "cell_type": "code",
   "execution_count": 30,
   "metadata": {
    "colab": {
     "base_uri": "https://localhost:8080/"
    },
    "executionInfo": {
     "elapsed": 718,
     "status": "ok",
     "timestamp": 1627984456004,
     "user": {
      "displayName": "Piotr Jarosik",
      "photoUrl": "",
      "userId": "07939774369485222074"
     },
     "user_tz": -120
    },
    "id": "gz-nE3plKVgL",
    "outputId": "d6cff15f-8eb6-4fcb-b2df-57a0a82416bd"
   },
   "outputs": [
    {
     "name": "stdout",
     "output_type": "stream",
     "text": [
      "Device: b'GeForce GTX TITAN X' (cc 5.2)\n",
      "GPU clock frequency: 1076.0 MHz\n",
      "Available memory: \n",
      "- global memory: 12211.5 MiB\n",
      "- shared memory per thread block: 49152 B\n",
      "- constant memory: 65536 B\n"
     ]
    }
   ],
   "source": [
    "device_props = cp.cuda.runtime.getDeviceProperties(0)\n",
    "\n",
    "print(f\"Device: {device_props['name']} (cc {device_props['major']}.{device_props['minor']})\")\n",
    "print(f\"GPU clock frequency: {device_props['clockRate']/1e3} MHz\")\n",
    "print(\"Available memory: \")\n",
    "print(f\"- global memory: {device_props['totalGlobalMem']/2**20} MiB\")\n",
    "print(f\"- shared memory per thread block: {device_props['sharedMemPerBlock']} B\")\n",
    "print(f\"- constant memory: {device_props['totalConstMem']} B\")"
   ]
  },
  {
   "cell_type": "markdown",
   "metadata": {
    "id": "8nSPilG9MX0l"
   },
   "source": [
    "The complete list of device properties is available [here](https://docs.nvidia.com/cuda/cuda-runtime-api/group__CUDART__DEVICE.html#group__CUDART__DEVICE_1g1bf9d625a931d657e08db2b4391170f0).\n"
   ]
  },
  {
   "cell_type": "markdown",
   "metadata": {
    "id": "zF_vi8n6WlhS",
    "tags": []
   },
   "source": [
    "### 1.3.2. CuPy"
   ]
  },
  {
   "cell_type": "markdown",
   "metadata": {
    "id": "FgQQmzbdW7WO"
   },
   "source": [
    "- CuPy is an open-source GPU-accelerated library for scientific computing.\n",
    "- The library is NumPy-compatible: it implements most of the features available in NumPy and SciPy packages, making it easy to implement portable code between CPU and GPU.\n",
    "- In addition to high-level array operations:\n",
    "  - allows you to run your own kernel implemented in CUDA C / C ++, \n",
    "  - provides Python with most of the functions available in the NVIDIA CUDA API for C/C++ (e.g. to access device properties).\n",
    "\n",
    "CuPy documentation is available here: https://docs.cupy.dev/en/v9.3.0/index.html"
   ]
  },
  {
   "cell_type": "markdown",
   "metadata": {
    "id": "EyJ0ynNJjAxl"
   },
   "source": [
    "#### 1.3.2.1. Mixing custom CUDA kernels with array operations"
   ]
  },
  {
   "cell_type": "markdown",
   "metadata": {
    "id": "yANXglkHj-r_"
   },
   "source": [
    "It is possible to mix RawKernel invocation with high-level array operations available in CuPy, i.e. arguments and results of the GPU kernels can be passed to/from the CuPy functions. \n",
    "\n",
    "For example, let's compute $2(x^2 + y^2)$, where $x$ and $y$ are vectors:"
   ]
  },
  {
   "cell_type": "code",
   "execution_count": 31,
   "metadata": {
    "colab": {
     "base_uri": "https://localhost:8080/"
    },
    "executionInfo": {
     "elapsed": 723,
     "status": "ok",
     "timestamp": 1627987797690,
     "user": {
      "displayName": "Piotr Jarosik",
      "photoUrl": "",
      "userId": "07939774369485222074"
     },
     "user_tz": -120
    },
    "id": "GLzJsb6blpBi",
    "outputId": "7c63387c-2d10-41a2-e400-7783dc1341ec"
   },
   "outputs": [
    {
     "name": "stdout",
     "output_type": "stream",
     "text": [
      "[10. 26. 50. 82.]\n"
     ]
    }
   ],
   "source": [
    "x = cp.array([1, 2, 3, 4], dtype=cp.float32)\n",
    "y = cp.array([2, 3, 4, 5], dtype=cp.float32)\n",
    "\n",
    "x_gpu = cp.asarray(x)\n",
    "y_gpu = cp.asarray(y)\n",
    "result = cp.empty_like(x)\n",
    "\n",
    "# Raise to power using CuPy high-level functions.\n",
    "x_gpu = x_gpu**2\n",
    "y_gpu = y_gpu**2\n",
    "\n",
    "add_vectors_gpu(grid=(1,), block=(len(x),), args=(result, x_gpu, y_gpu, len(x_gpu)))\n",
    "\n",
    "result = 2*result\n",
    "\n",
    "print(result)"
   ]
  },
  {
   "cell_type": "markdown",
   "metadata": {
    "id": "Utr1swTejGMH"
   },
   "source": [
    "#### 1.3.2.2. RawKernel lazy compilation"
   ]
  },
  {
   "cell_type": "markdown",
   "metadata": {
    "id": "7bH-89GIYLfb"
   },
   "source": [
    "It's important to stress here that CuPy compiles CUDA kernel *lazily*, which means it compiles a given function to machine code **on the first function call**. Compilation is performed only once - the first time a given function is run. After that, a cached version of machine code is used.\n",
    "\n",
    "Let's see how long it will take to execute the brand new kernel the first time:"
   ]
  },
  {
   "cell_type": "code",
   "execution_count": 32,
   "metadata": {
    "id": "8XwstfJGY33G"
   },
   "outputs": [],
   "source": [
    "decrement_src = open(\"1_3_decrement.cc\").read()\n",
    "decrement = cp.RawKernel(code=decrement_src, name=\"decrement\")"
   ]
  },
  {
   "cell_type": "code",
   "execution_count": 33,
   "metadata": {
    "colab": {
     "base_uri": "https://localhost:8080/"
    },
    "executionInfo": {
     "elapsed": 1593,
     "status": "ok",
     "timestamp": 1627988033184,
     "user": {
      "displayName": "Piotr Jarosik",
      "photoUrl": "",
      "userId": "07939774369485222074"
     },
     "user_tz": -120
    },
    "id": "gZZEB9eeY2z1",
    "outputId": "995a4726-6d45-4493-f919-5a63fcfe5434"
   },
   "outputs": [
    {
     "name": "stdout",
     "output_type": "stream",
     "text": [
      "CPU times: user 474 ms, sys: 95 µs, total: 474 ms\n",
      "Wall time: 474 ms\n"
     ]
    }
   ],
   "source": [
    "%time decrement(grid=(1,), block=(5,), args=(cp.arange(5).astype(cp.float32), ))"
   ]
  },
  {
   "cell_type": "markdown",
   "metadata": {
    "id": "XBWlU2jpnaBf"
   },
   "source": [
    "The second kernel execution takes:"
   ]
  },
  {
   "cell_type": "code",
   "execution_count": 34,
   "metadata": {
    "colab": {
     "base_uri": "https://localhost:8080/"
    },
    "executionInfo": {
     "elapsed": 295,
     "status": "ok",
     "timestamp": 1627988042757,
     "user": {
      "displayName": "Piotr Jarosik",
      "photoUrl": "",
      "userId": "07939774369485222074"
     },
     "user_tz": -120
    },
    "id": "n6apB1UBaArb",
    "outputId": "bf7f4000-486b-4b0d-8c54-36754c62ad96"
   },
   "outputs": [
    {
     "name": "stdout",
     "output_type": "stream",
     "text": [
      "CPU times: user 910 µs, sys: 0 ns, total: 910 µs\n",
      "Wall time: 729 µs\n"
     ]
    }
   ],
   "source": [
    "%time decrement(grid=(1,), block=(5,), args=(cp.arange(5).astype(cp.float32), ))"
   ]
  },
  {
   "cell_type": "markdown",
   "metadata": {
    "id": "sCE_c_qqPjLn",
    "tags": []
   },
   "source": [
    "### 1.3.3 Memcheck and debugger"
   ]
  },
  {
   "cell_type": "markdown",
   "metadata": {},
   "source": [
    "#### 1.3.3.1 Memcheck"
   ]
  },
  {
   "cell_type": "markdown",
   "metadata": {
    "id": "dU_7ZDYFpRFM"
   },
   "source": [
    "CUDA-MEMCHECK is a tool available in CUDA SDK, which gives the possibility to check if the CUDA application makes any of the following errors:\n",
    "- misaligned and out-of-bounds memory access errors,\n",
    "- shared memory data races,\n",
    "- unintialized accesses to global memory. "
   ]
  },
  {
   "cell_type": "markdown",
   "metadata": {
    "id": "c13V3WSdrV3L"
   },
   "source": [
    "Let's debug the below Python script in order to detect any memory issues it may cause. We will save the below Jupyter Cell to Python script, and run `CUDA-MEMCHECK` for the Python interpreter which executes that script."
   ]
  },
  {
   "cell_type": "code",
   "execution_count": 35,
   "metadata": {
    "colab": {
     "base_uri": "https://localhost:8080/"
    },
    "executionInfo": {
     "elapsed": 508,
     "status": "ok",
     "timestamp": 1627989549847,
     "user": {
      "displayName": "Piotr Jarosik",
      "photoUrl": "",
      "userId": "07939774369485222074"
     },
     "user_tz": -120
    },
    "id": "yVAxN_Rqpbxl",
    "outputId": "7713b2f3-70ea-4593-c530-47727a67565f"
   },
   "outputs": [
    {
     "name": "stdout",
     "output_type": "stream",
     "text": [
      "Writing 1_3_memcheck.py\n"
     ]
    }
   ],
   "source": [
    "%%writefile 1_3_memcheck.py\n",
    "\n",
    "import numpy as np\n",
    "import cupy as cp\n",
    "import math\n",
    "import time\n",
    "\n",
    "# CUDA kernel\n",
    "add_vectors_invalid_src = open(\"1_3_add_vectors_invalid.cc\").read()\n",
    "\n",
    "add_vectors_invalid = cp.RawKernel(\n",
    "    code=add_vectors_invalid_src, \n",
    "    name=\"add_vectors_invalid\",\n",
    "    options=(\"-G\", ) # Compile with debug information.\n",
    ")\n",
    "\n",
    "# GPU memory allocation and initialization.\n",
    "a = cp.arange(255, dtype=cp.float32)\n",
    "b = cp.arange(255, dtype=cp.float32)\n",
    "c = cp.empty(shape=a.shape, dtype=a.dtype)\n",
    "\n",
    "# Invoke kernel.\n",
    "add_vectors_invalid(grid=(1,), block=(1,), args=(c, a, b))\n",
    "cp.cuda.Stream.null.synchronize()"
   ]
  },
  {
   "cell_type": "markdown",
   "metadata": {
    "id": "nJUB8sIdTRA9"
   },
   "source": [
    "The only thing the above cell does is save the Python code to the `1_3_3_memcheck.py` script in the current directory (you can check it using `! pwd` command). Now, we can run `cuda-memcheck` along with the Python interpreter in order to see if there any issues with the script."
   ]
  },
  {
   "cell_type": "code",
   "execution_count": 36,
   "metadata": {
    "colab": {
     "base_uri": "https://localhost:8080/"
    },
    "executionInfo": {
     "elapsed": 1397,
     "status": "ok",
     "timestamp": 1627989553061,
     "user": {
      "displayName": "Piotr Jarosik",
      "photoUrl": "",
      "userId": "07939774369485222074"
     },
     "user_tz": -120
    },
    "id": "9e94Ou3uMezz",
    "outputId": "0b936ee6-680a-4c36-83e6-4e9cae09f9f6"
   },
   "outputs": [
    {
     "name": "stdout",
     "output_type": "stream",
     "text": [
      "========= CUDA-MEMCHECK\n",
      "========= Invalid __global__ write of size 4\n",
      "=========     at 0x00000370 in /tmp/tmpuvvyzquo/31641231bc164e30e7777d95d71776d9_2.cubin.cu:6:add_vectors_invalid\n",
      "=========     by thread (0,0,0) in block (0,0,0)\n",
      "=========     Address 0x00000000 is out of bounds\n",
      "=========\n",
      "========= Program hit cudaErrorLaunchFailure (error 719) due to \"unspecified launch failure\" on CUDA API call to cudaStreamSynchronize.\n",
      "=========\n",
      "========= Program hit cudaErrorLaunchFailure (error 719) due to \"unspecified launch failure\" on CUDA API call to cudaGetLastError.\n",
      "=========\n",
      "Traceback (most recent call last):\n",
      "  File \"1_3_memcheck.py\", line 23, in <module>\n",
      "    cp.cuda.Stream.null.synchronize()\n",
      "  File \"cupy/cuda/stream.pyx\", line 221, in cupy.cuda.stream.BaseStream.synchronize\n",
      "  File \"cupy_backends/cuda/api/runtime.pyx\", line 894, in cupy_backends.cuda.api.runtime.streamSynchronize\n",
      "  File \"cupy_backends/cuda/api/runtime.pyx\", line 273, in cupy_backends.cuda.api.runtime.check_status\n",
      "cupy_backends.cuda.api.runtime.CUDARuntimeError: cudaErrorLaunchFailure: unspecified launch failure\n",
      "========= Program hit CUDA_ERROR_LAUNCH_FAILED (error 719) due to \"unspecified launch failure\" on CUDA API call to cuModuleUnload.\n",
      "=========\n",
      "Traceback (most recent call last):\n",
      "  File \"cupy_backends/cuda/api/driver.pyx\", line 260, in cupy_backends.cuda.api.driver.moduleUnload\n",
      "  File \"cupy_backends/cuda/api/driver.pyx\", line 125, in cupy_backends.cuda.api.driver.check_status\n",
      "cupy_backends.cuda.api.driver.CUDADriverError: CUDA_ERROR_LAUNCH_FAILED: unspecified launch failure\n",
      "Exception ignored in: 'cupy.cuda.function.Module.__dealloc__'\n",
      "Traceback (most recent call last):\n",
      "  File \"cupy_backends/cuda/api/driver.pyx\", line 260, in cupy_backends.cuda.api.driver.moduleUnload\n",
      "  File \"cupy_backends/cuda/api/driver.pyx\", line 125, in cupy_backends.cuda.api.driver.check_status\n",
      "cupy_backends.cuda.api.driver.CUDADriverError: CUDA_ERROR_LAUNCH_FAILED: unspecified launch failure\n",
      "========= Program hit CUDA_ERROR_LAUNCH_FAILED (error 719) due to \"unspecified launch failure\" on CUDA API call to cuModuleUnload.\n",
      "Error in sys.excepthook:\n",
      "=========\n",
      "\n",
      "Original exception was:\n",
      "========= ERROR SUMMARY: 5 errors\n"
     ]
    }
   ],
   "source": [
    "! cuda-memcheck --show-backtrace no python 1_3_memcheck.py"
   ]
  },
  {
   "cell_type": "markdown",
   "metadata": {
    "id": "KpqwHUm4T0ar"
   },
   "source": [
    "As we can see, CUDA-MEMCHECK detected that the `add_vectors_invalid` kernel was not properly executed because it tried to access memory at address `0x00000000`."
   ]
  },
  {
   "cell_type": "markdown",
   "metadata": {},
   "source": [
    "#### 1.3.3.2 CUDA Debugger"
   ]
  },
  {
   "cell_type": "markdown",
   "metadata": {},
   "source": [
    "CUDA SDK toolkit includes debuggers that can be run on GPU kernel code in case it's necessary to trace the cause of an issue. A list of CUDA debuggers that can be run on C++ CUDA kernel code is available here: [Linux](https://docs.nvidia.com/cuda/cuda-gdb/index.html), [Windows](https://docs.nvidia.com/nsight-visual-studio-edition/cuda-debugger/)."
   ]
  },
  {
   "cell_type": "markdown",
   "metadata": {},
   "source": [
    "In this notebook we will introduce you with the basics of using `cuda-gdb` debugger, available for Linux & Mac OS. \n",
    "\n",
    "Before starting CUDA C debugger, we will set the following environment variables first:\n",
    "- `export CUPY_CACHE_SAVE_CUDA_SOURCE=1`\n",
    "- `export CUPY_CUDA_COMPILE_WITH_DEBUG=1`\n",
    "\n",
    "Setting `CUPY_CACHE_SAVE_CUDA_SOURCE` to `1` instructs CuPy to save CUDA C source file along with the compiled binary in the cache directory (usually `${HOME}/.cupy/kernel_cache` directory).\n",
    "\n",
    "Setting `CUPY_CUDA_COMPILE_WITH_DEBUG` to `1` instructs CuPy to compile CUDA code with debug information.\n",
    "\n"
   ]
  },
  {
   "cell_type": "markdown",
   "metadata": {},
   "source": [
    "The cell below saves the complete Python script, including the `add_vectors` GPU kernel, to the file `1_3_add_vectors.py`:"
   ]
  },
  {
   "cell_type": "code",
   "execution_count": 37,
   "metadata": {},
   "outputs": [
    {
     "name": "stdout",
     "output_type": "stream",
     "text": [
      "Writing 1_3_add_vectors.py\n"
     ]
    }
   ],
   "source": [
    "%%writefile 1_3_add_vectors.py\n",
    "\n",
    "import math\n",
    "import numpy as np\n",
    "import cupy as cp\n",
    "\n",
    "add_vectors_src = open(\"1_2_add_vectors.cc\").read()\n",
    "add_vectors_gpu = cp.RawKernel(code=add_vectors_src, name=\"add_vectors\")\n",
    "\n",
    "n = 4\n",
    "\n",
    "a = np.arange(n).astype(np.float32)+1\n",
    "b = np.arange(n).astype(np.float32)+4\n",
    "y = cp.empty(shape=(n, ), dtype=cp.float32)\n",
    "\n",
    "add_vectors_gpu(grid=(1, ), block=(n, ), \n",
    "                   args=(y, cp.asarray(a), cp.asarray(b), n))\n",
    "result = y.get()\n",
    "np.testing.assert_equal(result, [5, 7, 9, 11])"
   ]
  },
  {
   "cell_type": "markdown",
   "metadata": {},
   "source": [
    "Now, let's open terminal and run the following command:\n",
    "\n",
    "```\n",
    "cuda-gdb --args python 1_3_add_vectors.py\n",
    "```\n",
    "\n",
    "You should see an output similiar to the following:\n",
    "\n",
    "```\n",
    "NVIDIA (R) CUDA Debugger\n",
    "11.0 release\n",
    "Portions Copyright (C) 2007-2020 NVIDIA Corporation\n",
    "GNU gdb (GDB) 8.3.1\n",
    "Copyright (C) 2019 Free Software Foundation, Inc.\n",
    "License GPLv3+: GNU GPL version 3 or later <http://gnu.org/licenses/gpl.html>\n",
    "This is free software: you are free to change and redistribute it.\n",
    "There is NO WARRANTY, to the extent permitted by law.\n",
    "Type \"show copying\" and \"show warranty\" for details.\n",
    "This GDB was configured as \"x86_64-linux-gnu\".\n",
    "Type \"show configuration\" for configuration details.\n",
    "For bug reporting instructions, please see:\n",
    "<http://www.gnu.org/software/gdb/bugs/>.\n",
    "Find the GDB manual and other documentation resources online at:\n",
    "    <http://www.gnu.org/software/gdb/documentation/>.\n",
    "\n",
    "For help, type \"help\".\n",
    "Type \"apropos word\" to search for commands related to \"word\"...\n",
    "Reading symbols from python...\n",
    "(cuda-gdb)\n",
    "```\n",
    "\n",
    "Let's set the breakpoint (the line of code where the debugger should stop kernel execution) to the beginning of the `add_vectors` function, thread with idx = 3. Run in a `(cuda-gdb)` prompt the following command:\n",
    "```\n",
    "(cuda-gdb) break add_vectors if threadIdx.x == 3\n",
    "```\n",
    "\n",
    "Press `y` if you see the following question:\n",
    "```\n",
    "Function \"add_vectors\" not defined.\n",
    "Make breakpoint pending on future shared library load? (y or [n])\n",
    "```\n",
    "\n",
    "Press `y`\n",
    "\n",
    "Now let's run our Python script. Run the following command:\n",
    "```\n",
    "(cuda-gdb) run\n",
    "```\n",
    "\n",
    "You should see text on the screen ending with something similar to the text below:\n",
    "\n",
    "```\n",
    "[Switching focus to CUDA kernel 0, grid 1, block (0,0,0), thread (3,0,0), device 0, sm 0, warp 0, lane 3]\n",
    "\n",
    "Thread 1 \"python\" hit Breakpoint 1, add_vectors<<<(1,1,1),(4,1,1)>>> (c=0x7fff40800000, a=0x7fff40800200, b=0x7fff40800400, n=4) at /tmp/tmpgnunez8r/1d312fd8bf600b37efca2d31212f0d9d_2.cubin.cu:5\n",
    "5\t/tmp/tmpgnunez8r/1d312fd8bf600b37efca2d31212f0d9d_2.cubin.cu: No such file or directory.\n",
    "```\n",
    "\n",
    "CuPy had created a temporary file in the tmp folder during compilation, then moved this file to the directory with cached kernels (`${HOME}/.cupy/kernel_cache`), and now we are getting an information the the source file located in the `/tmp` directory is missing. Let's instruct `cuda-gdb` to use the source files located in the `kernel_cache` directory:\n",
    "```\n",
    "set substitute-path /tmp/tmpgnunez8r/1d312fd8bf600b37efca2d31212f0d9d_2.cubin.cu /home/pjarosik/.cupy/kernel_cache/1d312fd8bf600b37efca2d31212f0d9d_2.cubin.cu` \n",
    "```\n",
    "\n",
    "**NOTE**: remember to update the path to the kernel cache (`/home/pjarosik/.../`) and to the `cubin.cu` file name (just use the file name indicated in the above error message).\n",
    "\n",
    "Now, when you run command `step`, you should see the next line being executed by `cuda-gdb`:\n",
    "```\n",
    "(cuda-gdb) step\n",
    "8\t        if(i >= n) {\n",
    "```\n",
    "You can print a value of a variable you are interested in:\n",
    "```\n",
    "(cuda-gdb) print i\n",
    "$1 = 3\n",
    "```\n",
    "To resume program execution, run:\n",
    "```\n",
    "(cuda-gdb) continue\n",
    "```\n",
    "\n",
    "To exit `cuda-gdb`:\n",
    "\n",
    "```\n",
    "(cuda-gdb) quit\n",
    "```\n"
   ]
  },
  {
   "cell_type": "markdown",
   "metadata": {
    "id": "rD7XDUdBQDMQ",
    "tags": []
   },
   "source": [
    "### 1.3.4. Profiling GPU code\n"
   ]
  },
  {
   "cell_type": "markdown",
   "metadata": {
    "id": "XiZAM_CcZinN"
   },
   "source": [
    "Sometimes, to better understand and optimize performance of a GPU appplication it is necessary to perform a dynamic program analysis and to mesaure specific metrics, for example the execution time and memory requirements of a particular CUDA kernel. The utility that performs such analysis is usually called a *code profiler*.\n",
    "\n",
    "NVIDIA provides a number of tools that enable code profiling. Some of them allow you to perform inspections from the command line, while others provide a graphical user interface that clearly presents various code metrics. In this excersie we will introduce the tools available in the CUDA ecosystem.\n",
    "\n",
    "**NOTE**: NVIDIA is currently migrating to a new profiling toolkit called *NVIDIA Nsight Systems* and NVIDIA Nsight Compute system. We will extend this exercise with examples of their use in the future."
   ]
  },
  {
   "cell_type": "markdown",
   "metadata": {
    "id": "7SkosXBIlnvu",
    "tags": []
   },
   "source": [
    "#### 1.3.4.1. NVPROF"
   ]
  },
  {
   "cell_type": "markdown",
   "metadata": {
    "id": "UdJZmKnbZEeM"
   },
   "source": [
    "`nvprof` is a CUDA SDK tool that allows to acquire profiling data directly from the command line. Documentation for the tool is available [here](https://docs.nvidia.com/cuda/profiler-users-guide/index.html#nvprof-overview). \n",
    "\n",
    "We will use `nvprof` for the rest of this course."
   ]
  },
  {
   "cell_type": "markdown",
   "metadata": {
    "id": "eqFSN6I4jCHk"
   },
   "source": [
    "Let's try profiling our `add_vectors_gpu` code first."
   ]
  },
  {
   "cell_type": "code",
   "execution_count": 38,
   "metadata": {
    "colab": {
     "base_uri": "https://localhost:8080/"
    },
    "executionInfo": {
     "elapsed": 290,
     "status": "ok",
     "timestamp": 1628068005295,
     "user": {
      "displayName": "Piotr Jarosik",
      "photoUrl": "",
      "userId": "07939774369485222074"
     },
     "user_tz": -120
    },
    "id": "FCYQn7TtjHli",
    "outputId": "9fd72a7f-9aa6-44ea-fe2e-1f67a8645477"
   },
   "outputs": [
    {
     "name": "stdout",
     "output_type": "stream",
     "text": [
      "Writing 1_3_nvprof_add_vectors.py\n"
     ]
    }
   ],
   "source": [
    "%%writefile 1_3_nvprof_add_vectors.py\n",
    "\n",
    "import math\n",
    "import numpy as np\n",
    "import cupy as cp\n",
    "\n",
    "add_vectors_src = open(\"1_2_add_vectors.cc\").read()\n",
    "add_vectors_gpu = cp.RawKernel(code=add_vectors_src, name=\"add_vectors\")\n",
    "\n",
    "n = 4\n",
    "\n",
    "a = np.arange(n).astype(np.float32)+1\n",
    "b = np.arange(n).astype(np.float32)+4\n",
    "y = cp.empty(shape=(n, ), dtype=cp.float32)\n",
    "\n",
    "add_vectors_gpu(grid=(1, ), block=(n, ), \n",
    "                   args=(y, cp.asarray(a), cp.asarray(b), n))\n",
    "result = y.get()\n",
    "np.testing.assert_equal(result, [5, 7, 9, 11])"
   ]
  },
  {
   "cell_type": "markdown",
   "metadata": {
    "id": "TlBKEwX8jhLV"
   },
   "source": [
    "The usage is the following:\n",
    "```\n",
    "nvprof [options] [application] [application-arguments]\n",
    "```"
   ]
  },
  {
   "cell_type": "markdown",
   "metadata": {
    "id": "e8z4gyNOlDP3"
   },
   "source": [
    "For example, to run the above Python script:"
   ]
  },
  {
   "cell_type": "code",
   "execution_count": 39,
   "metadata": {
    "colab": {
     "base_uri": "https://localhost:8080/"
    },
    "executionInfo": {
     "elapsed": 1735,
     "status": "ok",
     "timestamp": 1628068009980,
     "user": {
      "displayName": "Piotr Jarosik",
      "photoUrl": "",
      "userId": "07939774369485222074"
     },
     "user_tz": -120
    },
    "id": "BNqTKbrUjeaO",
    "outputId": "a0f2e675-162f-402f-c51f-df2cba77a9f2"
   },
   "outputs": [
    {
     "name": "stdout",
     "output_type": "stream",
     "text": [
      "==25071== NVPROF is profiling process 25071, command: python 1_3_nvprof_add_vectors.py\n",
      "==25071== Profiling application: python 1_3_nvprof_add_vectors.py\n",
      "==25071== Profiling result:\n",
      "            Type  Time(%)      Time     Calls       Avg       Min       Max  Name\n",
      " GPU activities:   38.99%  2.7200us         2  1.3600us  1.0240us  1.6960us  [CUDA memcpy HtoD]\n",
      "                   37.61%  2.6240us         1  2.6240us  2.6240us  2.6240us  add_vectors\n",
      "                   23.39%  1.6320us         1  1.6320us  1.6320us  1.6320us  [CUDA memcpy DtoH]\n",
      "      API calls:   99.38%  361.12ms         3  120.37ms  8.0300us  361.10ms  cudaMalloc\n",
      "                    0.23%  843.33us         1  843.33us  843.33us  843.33us  cuDeviceTotalMem\n",
      "                    0.13%  469.64us       101  4.6490us     220ns  205.16us  cuDeviceGetAttribute\n",
      "                    0.11%  382.95us         1  382.95us  382.95us  382.95us  cudaHostAlloc\n",
      "                    0.05%  178.28us         1  178.28us  178.28us  178.28us  cuDeviceGetName\n",
      "                    0.04%  160.23us         1  160.23us  160.23us  160.23us  cuModuleLoadData\n",
      "                    0.01%  51.100us         1  51.100us  51.100us  51.100us  cuModuleUnload\n",
      "                    0.01%  48.255us         1  48.255us  48.255us  48.255us  cudaMemGetInfo\n",
      "                    0.01%  28.578us         2  14.289us  9.0130us  19.565us  cudaMemcpyAsync\n",
      "                    0.01%  25.155us         1  25.155us  25.155us  25.155us  cudaMemcpy\n",
      "                    0.01%  21.771us         1  21.771us  21.771us  21.771us  cuLaunchKernel\n",
      "                    0.01%  18.717us        15  1.2470us     334ns  3.6670us  cudaGetDevice\n",
      "                    0.00%  6.4940us         3  2.1640us  1.6160us  2.4500us  cudaEventQuery\n",
      "                    0.00%  6.1750us         2  3.0870us  2.3940us  3.7810us  cudaEventRecord\n",
      "                    0.00%  4.4440us         2  2.2220us  1.4780us  2.9660us  cudaEventCreateWithFlags\n",
      "                    0.00%  4.3340us         1  4.3340us  4.3340us  4.3340us  cuDeviceGetPCIBusId\n",
      "                    0.00%  2.9140us         2  1.4570us  1.4380us  1.4760us  cudaSetDevice\n",
      "                    0.00%  2.1150us         3     705ns     319ns  1.3110us  cuDeviceGetCount\n",
      "                    0.00%  1.7090us         1  1.7090us  1.7090us  1.7090us  cudaEventDestroy\n",
      "                    0.00%  1.5850us         2     792ns     237ns  1.3480us  cudaGetDeviceCount\n",
      "                    0.00%  1.4650us         2     732ns     318ns  1.1470us  cudaDeviceGetAttribute\n",
      "                    0.00%  1.2190us         2     609ns     399ns     820ns  cuDeviceGet\n",
      "                    0.00%  1.1310us         1  1.1310us  1.1310us  1.1310us  cuModuleGetFunction\n",
      "                    0.00%     567ns         1     567ns     567ns     567ns  cudaRuntimeGetVersion\n",
      "                    0.00%     420ns         1     420ns     420ns     420ns  cuDeviceGetUuid\n"
     ]
    }
   ],
   "source": [
    "! nvprof python 1_3_nvprof_add_vectors.py"
   ]
  },
  {
   "cell_type": "markdown",
   "metadata": {
    "id": "csLEJItzlKdH"
   },
   "source": [
    "By default, `nvprof` outputs all GPU and API calls activity. We are primarily interested in CUDA GPU tracing -- we can turn off API calls by using `--trace gpu` option."
   ]
  },
  {
   "cell_type": "code",
   "execution_count": 40,
   "metadata": {
    "colab": {
     "base_uri": "https://localhost:8080/"
    },
    "executionInfo": {
     "elapsed": 1670,
     "status": "ok",
     "timestamp": 1628068023028,
     "user": {
      "displayName": "Piotr Jarosik",
      "photoUrl": "",
      "userId": "07939774369485222074"
     },
     "user_tz": -120
    },
    "id": "JHLtUF9dl6L5",
    "outputId": "ff798967-44ab-4486-8afd-19bdac983cf3"
   },
   "outputs": [
    {
     "name": "stdout",
     "output_type": "stream",
     "text": [
      "==25125== NVPROF is profiling process 25125, command: python 1_3_nvprof_add_vectors.py\n",
      "==25125== Profiling application: python 1_3_nvprof_add_vectors.py\n",
      "==25125== Profiling result:\n",
      "            Type  Time(%)      Time     Calls       Avg       Min       Max  Name\n",
      " GPU activities:   39.53%  2.7200us         2  1.3600us  1.0240us  1.6960us  [CUDA memcpy HtoD]\n",
      "                   37.21%  2.5600us         1  2.5600us  2.5600us  2.5600us  add_vectors\n",
      "                   23.26%  1.6000us         1  1.6000us  1.6000us  1.6000us  [CUDA memcpy DtoH]\n",
      "No API activities were profiled.\n"
     ]
    }
   ],
   "source": [
    "! nvprof --trace gpu python 1_3_nvprof_add_vectors.py"
   ]
  },
  {
   "cell_type": "markdown",
   "metadata": {
    "id": "I7gdA7dnl76w"
   },
   "source": [
    "CUDA GPU activities include:\n",
    "- CUDA kernels activities,\n",
    "- GPU to Host memory transfers (`DtoH`), host to GPU memory transfers (`HtoD`)."
   ]
  },
  {
   "cell_type": "markdown",
   "metadata": {
    "id": "A_gQHCBAqVT7"
   },
   "source": [
    "Let's add one more kernel to the above code:"
   ]
  },
  {
   "cell_type": "code",
   "execution_count": 41,
   "metadata": {
    "colab": {
     "base_uri": "https://localhost:8080/"
    },
    "executionInfo": {
     "elapsed": 28,
     "status": "ok",
     "timestamp": 1624789946214,
     "user": {
      "displayName": "Piotr Jarosik",
      "photoUrl": "",
      "userId": "07939774369485222074"
     },
     "user_tz": -120
    },
    "id": "nVtCfhVgtD1Y",
    "outputId": "55a521f8-c225-4f7f-a47a-a28f5e5ec683"
   },
   "outputs": [
    {
     "name": "stdout",
     "output_type": "stream",
     "text": [
      "Overwriting 1_3_nvprof_increment_add_vectors.py\n"
     ]
    }
   ],
   "source": [
    "%%writefile 1_3_nvprof_increment_add_vectors.py\n",
    "\n",
    "import math\n",
    "import numpy as np\n",
    "import cupy as cp\n",
    "\n",
    "increment_src = open(\"1_2_increment.cc\").read()\n",
    "increment_gpu = cp.RawKernel(code=increment_src, name=\"increment\")\n",
    "\n",
    "add_vectors_src = open(\"1_2_add_vectors.cc\").read()\n",
    "add_vectors_gpu = cp.RawKernel(code=add_vectors_src, name=\"add_vectors\")\n",
    "\n",
    "n = 2**24\n",
    "block = 256\n",
    "grid = math.ceil(n/block)\n",
    "block = (block, )\n",
    "grid =  (grid, )\n",
    "\n",
    "a = np.random.rand(n).astype(np.float32)\n",
    "a = cp.asarray(a)\n",
    "b = np.random.rand(n).astype(np.float32)\n",
    "b = cp.asarray(b)\n",
    "y = cp.empty(shape=n, dtype=cp.float32)\n",
    "\n",
    "increment_gpu(grid, block, args=(a, n))\n",
    "add_vectors_gpu(grid, block, args=(y, a, b, n))\n",
    "result = y.get()"
   ]
  },
  {
   "cell_type": "code",
   "execution_count": 42,
   "metadata": {
    "colab": {
     "base_uri": "https://localhost:8080/"
    },
    "executionInfo": {
     "elapsed": 2207,
     "status": "ok",
     "timestamp": 1624789948408,
     "user": {
      "displayName": "Piotr Jarosik",
      "photoUrl": "",
      "userId": "07939774369485222074"
     },
     "user_tz": -120
    },
    "id": "QVkzTW4ZwFYm",
    "outputId": "d0717a87-67bd-4b07-c17d-74a31faf249b"
   },
   "outputs": [
    {
     "name": "stdout",
     "output_type": "stream",
     "text": [
      "==25179== NVPROF is profiling process 25179, command: python 1_3_nvprof_increment_add_vectors.py\n",
      "==25179== Profiling application: python 1_3_nvprof_increment_add_vectors.py\n",
      "==25179== Profiling result:\n",
      "            Type  Time(%)      Time     Calls       Avg       Min       Max  Name\n",
      " GPU activities:   44.78%  12.176ms         1  12.176ms  12.176ms  12.176ms  [CUDA memcpy DtoH]\n",
      "                   39.71%  10.797ms         2  5.3984ms  5.3901ms  5.4066ms  [CUDA memcpy HtoD]\n",
      "                   12.61%  3.4290ms         1  3.4290ms  3.4290ms  3.4290ms  increment\n",
      "                    2.89%  786.33us         1  786.33us  786.33us  786.33us  add_vectors\n",
      "No API activities were profiled.\n"
     ]
    }
   ],
   "source": [
    "! nvprof --trace gpu python 1_3_nvprof_increment_add_vectors.py"
   ]
  },
  {
   "cell_type": "markdown",
   "metadata": {
    "id": "vR0697Ywx9K5"
   },
   "source": [
    "In the above case, `nvprof` should display the execution times for both kernels."
   ]
  },
  {
   "cell_type": "markdown",
   "metadata": {
    "id": "LCF8oUJdXq1g",
    "tags": []
   },
   "source": [
    "#### 1.3.4.2. NVIDIA Visual Profiler"
   ]
  },
  {
   "cell_type": "markdown",
   "metadata": {
    "id": "W9p0QrpYxkz4"
   },
   "source": [
    "NVIDIA Visual Profiler (NVVP) allows to visualize profiling results in a transparent manner. In addition to presenting kernel execution time, NVVP also allows to analyze the moments where each particular kernel starts and ends."
   ]
  },
  {
   "cell_type": "markdown",
   "metadata": {
    "id": "E4b05A0h0ytP"
   },
   "source": [
    "Let's export the profiling results to a file that can be loaded by NVVP. We can `nvprof` for this purpose, just use `--export-profile` parameter."
   ]
  },
  {
   "cell_type": "code",
   "execution_count": 43,
   "metadata": {
    "colab": {
     "base_uri": "https://localhost:8080/"
    },
    "executionInfo": {
     "elapsed": 1870,
     "status": "ok",
     "timestamp": 1624789950264,
     "user": {
      "displayName": "Piotr Jarosik",
      "photoUrl": "",
      "userId": "07939774369485222074"
     },
     "user_tz": -120
    },
    "id": "MqSmtHbnyr-T",
    "outputId": "9bdac42e-88bd-4e23-bbcf-a81eebfeabf5"
   },
   "outputs": [
    {
     "name": "stdout",
     "output_type": "stream",
     "text": [
      "==25233== NVPROF is profiling process 25233, command: python 1_3_nvprof_increment_add_vectors.py\n",
      "==25233== Generated result file: /home/pjarosik/src/us4useu/ius-2021-gpu-short-course/exercises/cupy/1_CUDA_programming_model/solutions/nvvp_example.nvvp\n"
     ]
    }
   ],
   "source": [
    "! nvprof --trace gpu --export-profile nvvp_example.nvvp -f python 1_3_nvprof_increment_add_vectors.py"
   ]
  },
  {
   "cell_type": "markdown",
   "metadata": {
    "id": "PHqnQ1ih06ss"
   },
   "source": [
    "Next, let's load the profiling results into NVVP:\n",
    "1. Open NVVP.\n",
    "2. Press: File -> Open and choose the exported file.\n",
    "\n",
    "You should now see an image similar to the one below. The graph presents the moments of execution for each individual GPU activity over time. CUDA kernel launches are placed on the `Compute` lane (in the order in which they are executed: `increment` first, then `add_vectors`) CUDA memory transfers are on the `MemCpy` lanes (variable `a`, then variable `b`, both `HtoD`, then `result`, `DtoH`). "
   ]
  },
  {
   "cell_type": "markdown",
   "metadata": {
    "id": "Eg3WxL4v3SiU"
   },
   "source": [
    "![nvvp_example.png](data:image/png;base64,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)"
   ]
  },
  {
   "cell_type": "markdown",
   "metadata": {
    "id": "Ge3XwDIWXuGg",
    "tags": []
   },
   "source": [
    "#### 1.3.4.3. Nsight Compute and Systems"
   ]
  },
  {
   "cell_type": "markdown",
   "metadata": {},
   "source": [
    "NVIDIA is currently migrating to a new profiling toolkit called NVIDIA [Nsight Systems](https://docs.nvidia.com/nsight-systems/UserGuide/index.html) and [Nsight Compute](https://docs.nvidia.com/nsight-compute/index.html). \n",
    "\n",
    "As we have mentioned previously, in the current version of the GPU short-course notebooks we rather prefer using the old tools `nvprof` and NVVP instead of Nsight Systems and Nsight Compute. In future we will probably suplement notebooks with examples how to use the new tools."
   ]
  },
  {
   "cell_type": "markdown",
   "metadata": {},
   "source": [
    "If your GPU card no longer supports `nvprof` functionality, you can use a similar command line profiling tool `nsys` (part of Nsight Systems) in the following way: "
   ]
  },
  {
   "cell_type": "code",
   "execution_count": 44,
   "metadata": {},
   "outputs": [
    {
     "name": "stdout",
     "output_type": "stream",
     "text": [
      "Warning: LBR backtrace method is not supported on this platform. DWARF backtrace method will be used.\n",
      "Collecting data...\n",
      "Processing events...\n",
      "Saving temporary \"/tmp/nsys-report-ab39-67e7-23fc-9ad6.qdstrm\" file to disk...\n",
      "Creating final output files...\n",
      "\n",
      "Processing [==============================================================100%]\n",
      "Saved report file to \"/tmp/nsys-report-ab39-67e7-23fc-9ad6.qdrep\"\n",
      "Exporting 451 events: [===================================================100%]\n",
      "\n",
      "Exported successfully to\n",
      "/tmp/nsys-report-ab39-67e7-23fc-9ad6.sqlite\n",
      "\n",
      "Generating CUDA API Statistics...\n",
      "CUDA API Statistics (nanoseconds)\n",
      "\n",
      "Time(%)      Total Time       Calls         Average         Minimum         Maximum  Name                                                                            \n",
      "-------  --------------  ----------  --------------  --------------  --------------  --------------------------------------------------------------------------------\n",
      "   91.3       331858512           3     110619504.0          285459       327591542  cudaMalloc                                                                      \n",
      "    4.3        15595158           1      15595158.0        15595158        15595158  cudaHostAlloc                                                                   \n",
      "    3.5        12700048           1      12700048.0        12700048        12700048  cudaMemcpy                                                                      \n",
      "    0.9         3182349           2       1591174.5          160056         3022293  cuModuleLoadData                                                                \n",
      "    0.0           83363           2         41681.5           29647           53716  cuModuleUnload                                                                  \n",
      "    0.0           76425           2         38212.5           30581           45844  cudaMemcpyAsync                                                                 \n",
      "    0.0           44698           1         44698.0           44698           44698  cudaMemGetInfo                                                                  \n",
      "    0.0           35982           2         17991.0           13757           22225  cuLaunchKernel                                                                  \n",
      "    0.0           22273           3          7424.3            5883           10410  cudaEventQuery                                                                  \n",
      "    0.0           11590           2          5795.0            4304            7286  cudaEventCreateWithFlags                                                        \n",
      "    0.0            9049           2          4524.5            4438            4611  cudaEventRecord                                                                 \n",
      "    0.0            2843           1          2843.0            2843            2843  cudaEventDestroy                                                                \n",
      "\n",
      "\n",
      "\n",
      "\n",
      "Generating CUDA Kernel Statistics...\n",
      "CUDA Kernel Statistics (nanoseconds)\n",
      "\n",
      "Time(%)      Total Time   Instances         Average         Minimum         Maximum  Name                                                                                                                                                                                                                                                                                                                                         \n",
      "-------  --------------  ----------  --------------  --------------  --------------  --------------------------------------------------------------------------------------------------------------------                                                                                                                                                                                                                         \n",
      "   81.3         3429745           1       3429745.0         3429745         3429745  increment                                                                                                                                                                                                                                                                                                                                    \n",
      "   18.7          790266           1        790266.0          790266          790266  add_vectors                                                                                                                                                                                                                                                                                                                                  \n",
      "\n",
      "\n",
      "\n",
      "Generating CUDA Memory Operation Statistics...\n",
      "CUDA Memory Operation Statistics (nanoseconds)\n",
      "\n",
      "Time(%)      Total Time  Operations         Average         Minimum         Maximum  Name                                                                            \n",
      "-------  --------------  ----------  --------------  --------------  --------------  --------------------------------------------------------------------------------\n",
      "   52.0        11684450           1      11684450.0        11684450        11684450  [CUDA memcpy DtoH]                                                              \n",
      "   48.0        10793125           2       5396562.5         5388658         5404467  [CUDA memcpy HtoD]                                                              \n",
      "\n",
      "\n",
      "CUDA Memory Operation Statistics (KiB)\n",
      "\n",
      "              Total      Operations              Average            Minimum              Maximum  Name                                                                            \n",
      "-------------------  --------------  -------------------  -----------------  -------------------  --------------------------------------------------------------------------------\n",
      "          65536.000               1            65536.000          65536.000            65536.000  [CUDA memcpy DtoH]                                                              \n",
      "         131072.000               2            65536.000          65536.000            65536.000  [CUDA memcpy HtoD]                                                              \n",
      "\n",
      "\n",
      "\n",
      "Report file moved to \"/home/pjarosik/src/us4useu/ius-2021-gpu-short-course/exercises/cupy/1_CUDA_programming_model/solutions/report1.qdrep\"\n",
      "Report file moved to \"/home/pjarosik/src/us4useu/ius-2021-gpu-short-course/exercises/cupy/1_CUDA_programming_model/solutions/report1.sqlite\"\n"
     ]
    }
   ],
   "source": [
    "! nsys profile --stats=true --trace cuda python 1_3_nvprof_increment_add_vectors.py"
   ]
  },
  {
   "cell_type": "markdown",
   "metadata": {
    "id": "VcdM7GDy3R6V",
    "tags": []
   },
   "source": [
    "# References"
   ]
  },
  {
   "cell_type": "markdown",
   "metadata": {},
   "source": [
    "- Matrix multiplication example https://numba.readthedocs.io/en/0.52.0/cuda/examples.html#matrix-multiplication\n",
    "- CUDA Toolkit documentation: device memory management (CUDA C++): https://docs.nvidia.com/cuda/cuda-c-programming-guide/index.html#device-memory"
   ]
  }
 ],
 "metadata": {
  "accelerator": "GPU",
  "colab": {
   "collapsed_sections": [],
   "name": "1_CUDA_programming_model_cupy.ipynb",
   "provenance": [],
   "toc_visible": true
  },
  "kernelspec": {
   "display_name": "Python 3 (ipykernel)",
   "language": "python",
   "name": "python3"
  },
  "language_info": {
   "codemirror_mode": {
    "name": "ipython",
    "version": 3
   },
   "file_extension": ".py",
   "mimetype": "text/x-python",
   "name": "python",
   "nbconvert_exporter": "python",
   "pygments_lexer": "ipython3",
   "version": "3.8.11"
  }
 },
 "nbformat": 4,
 "nbformat_minor": 4
}
