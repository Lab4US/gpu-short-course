{
 "cells": [
  {
   "cell_type": "markdown",
   "id": "outer-promise",
   "metadata": {
    "id": "outer-promise"
   },
   "source": [
    "# 3. Performance guidelines."
   ]
  },
  {
   "cell_type": "markdown",
   "id": "J7GiIP54uVnu",
   "metadata": {
    "id": "J7GiIP54uVnu"
   },
   "source": [
    "In this notebook we will describe the most important guidelines when programming code for NVIDIA GPU cards.\n",
    "\n",
    "We will consider the following aspects of optimizing CUDA kernels:\n",
    "- memory access patterns: *memory coalescing* for the best throughput,\n",
    "- control flow: how code branching can affect the performance,\n",
    "- multiprocessor occupancy: experimenting with different block sizes.\n",
    "\n",
    "You will also learn how profiling metrics can tell us where the performance issues are.\n",
    "\n",
    "This notebooks will mostly base on content available in the [CUDA Best Practices Guide](https://docs.nvidia.com/cuda/cuda-c-best-practices-guide/index.html). "
   ]
  },
  {
   "cell_type": "markdown",
   "id": "K7TzNH4sUfFd",
   "metadata": {
    "id": "K7TzNH4sUfFd"
   },
   "source": [
    "## 3.1. Memory access patterns."
   ]
  },
  {
   "cell_type": "markdown",
   "id": "Q2u5NmF997ls",
   "metadata": {
    "id": "Q2u5NmF997ls"
   },
   "source": [
    "According to [CUDA Best Practices Guide](https://docs.nvidia.com/cuda/cuda-c-best-practices-guide/index.html):\n",
    "> For devices of compute capability 6.0 or higher, the requirements can be summarized quite easily: the concurrent accesses of the threads of a warp will coalesce into a number of transactions equal to the number of **32-byte transactions** necessary to service all of the threads of the warp.\n",
    "\n",
    "This means that the number of useful memory accesses done by a kernel, and thus its performance, largely depends on the memory access pattern it does.\n",
    "\n",
    "Our objective is to implement a GPU kernel that only loads **useful** data from global memory, that will then be used in the calculations. We can achieve this with **coalesced memory accesses**.\n",
    "\n",
    "To achive **coalesced memory accesses** in our kernel, we need to meet the following conditions:\n",
    "- the number of threads per block is a multiple of 32 threads,\n",
    "- sequential threads in a warp access memory that is sequential.\n",
    "\n",
    "\n",
    "For example, the `add_vectors_gpu` and `convolve_gpu` CUDA functions satisfy the above conditions:\n",
    "- the number of threads per block was equal 256,\n",
    "- adjacent threads were reading adjacent memory areas, e.g. thread `i` read the `a[i]` and `b[i]`, and thread `i+1` read `a[i+1]` and `b[i+1]`.  \n"
   ]
  },
  {
   "cell_type": "markdown",
   "id": "hVK75cukFY1P",
   "metadata": {
    "id": "hVK75cukFY1P"
   },
   "source": [
    "We will discuss below what are the reasons for both of the conditions."
   ]
  },
  {
   "cell_type": "markdown",
   "id": "pn3fT7ViAlSV",
   "metadata": {
    "id": "pn3fT7ViAlSV"
   },
   "source": [
    "### 3.1.1. Impact of misaligned accesses."
   ]
  },
  {
   "cell_type": "markdown",
   "id": "7g2ZEr-MERds",
   "metadata": {
    "id": "7g2ZEr-MERds"
   },
   "source": [
    "According to [CUDA Best Practices Guide](https://docs.nvidia.com/cuda/cuda-c-best-practices-guide/index.html):\n",
    "> The number of threads per block should be a multiple of 32 threads, because this provides optimal computing efficiency and facilitates coalescing."
   ]
  },
  {
   "cell_type": "markdown",
   "id": "qmYr7eNmEpn7",
   "metadata": {
    "id": "qmYr7eNmEpn7"
   },
   "source": [
    "Let's recall that CUDA warp reads global memory by using a sequence of **32-byte** segments transactions.\n"
   ]
  },
  {
   "cell_type": "markdown",
   "id": "V4a0Ktb9Cdcf",
   "metadata": {
    "id": "V4a0Ktb9Cdcf"
   },
   "source": [
    "**Example**\n",
    "\n",
    "As an example, we will consider here:\n",
    "- `add_vectors_gpu` function,\n",
    "- number of threads in block is equal 13 (each thread reads 4 byte from array `a`, so we read 13 x 4-byte = 52 bytes in a single block). \n",
    "\n",
    "Let's take a look what memory accesses will be performed by thread block 0, 1, etc."
   ]
  },
  {
   "cell_type": "markdown",
   "id": "D56M87CZCSbT",
   "metadata": {
    "id": "D56M87CZCSbT"
   },
   "source": [
    "_Block 0_\n",
    "\n",
    "- reads memory area [0, 52), size: 52 bytes (13 x 4-byte floats)"
   ]
  },
  {
   "cell_type": "markdown",
   "id": "91lEHksaCX5I",
   "metadata": {
    "id": "91lEHksaCX5I"
   },
   "source": [
    "![IUS Short-Course - lecture_3_segments.png](data:image/png;base64,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)"
   ]
  },
  {
   "cell_type": "markdown",
   "id": "GtvO-fn6C8im",
   "metadata": {
    "id": "GtvO-fn6C8im"
   },
   "source": [
    "- This requires the transfer of two segments, as the block data is located in the segment 0 and segment 1. Thus we are trasferring 2 x 32 bytes of data. \n",
    "- However only 52 bytes will be used (81%). \n"
   ]
  },
  {
   "cell_type": "markdown",
   "id": "QIXiUR26CXaJ",
   "metadata": {
    "id": "QIXiUR26CXaJ"
   },
   "source": [
    "**Block 1**\n",
    "\n",
    "- Reads memory area [52, 104), size: 52 bytes."
   ]
  },
  {
   "cell_type": "markdown",
   "id": "n2l1k26VEVET",
   "metadata": {
    "id": "n2l1k26VEVET"
   },
   "source": [
    "![IUS Short-Course - lecture_3_segments2.png](data:image/png;base64,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)"
   ]
  },
  {
   "cell_type": "markdown",
   "id": "2CgD_Nl-ONbm",
   "metadata": {
    "id": "2CgD_Nl-ONbm"
   },
   "source": [
    "- This requires the transfer of three segments, as the block data is located in the segments 1, 2 and 3. Thus we are trasferring 3 x 32 bytes of data. \n",
    "- However only 52 bytes will be used (54%). \n",
    "\n",
    "\n",
    "**And so on...**\n",
    "\n",
    "\n",
    "As we can see, we are transfer a large amount of (theoretically) useless data."
   ]
  },
  {
   "cell_type": "markdown",
   "id": "wap37YSaFQEp",
   "metadata": {
    "id": "wap37YSaFQEp"
   },
   "source": [
    "**Experiments**"
   ]
  },
  {
   "cell_type": "markdown",
   "id": "moOL-8cYJT12",
   "metadata": {
    "id": "moOL-8cYJT12"
   },
   "source": [
    "Let's see if there is any observable performance difference between scripts using 256 and 261 threads in a **block**:"
   ]
  },
  {
   "cell_type": "code",
   "execution_count": null,
   "id": "qrPeRyL4hIRu",
   "metadata": {
    "colab": {
     "base_uri": "https://localhost:8080/"
    },
    "executionInfo": {
     "elapsed": 206,
     "status": "ok",
     "timestamp": 1627475832127,
     "user": {
      "displayName": "Piotr Jarosik",
      "photoUrl": "",
      "userId": "07939774369485222074"
     },
     "user_tz": -120
    },
    "id": "qrPeRyL4hIRu",
    "outputId": "802f3c3e-d980-4523-bb6e-2a252b29c78d"
   },
   "outputs": [],
   "source": [
    "%%writefile 3_1_1_aligned.py\n",
    "import math\n",
    "import numpy as np\n",
    "import cupy as cp\n",
    "import gpu_short_course.tests\n",
    "\n",
    "block_size = 256\n",
    "\n",
    "add_vectors_src = open(\"3_add_vectors.cc\").read()\n",
    "add_vectors_gpu_kernel = cp.RawKernel(code=add_vectors_src, name=\"add_vectors\")\n",
    "\n",
    "\n",
    "def add_vectors_gpu(a, b):\n",
    "    assert len(a) == len(b)\n",
    "    c_gpu = cp.empty(shape=a.shape, dtype=a.dtype)\n",
    "    a_gpu = cp.asarray(a)\n",
    "    b_gpu = cp.asarray(b)\n",
    "    grid_size = math.ceil(len(a)/block_size)\n",
    "\n",
    "    # Invoke the kernel.\n",
    "    add_vectors_gpu_kernel(grid=(grid_size, ), block=(block_size, ), args=(c_gpu, a_gpu, b_gpu, len(a_gpu)))\n",
    "    # Get the result.\n",
    "    c = c_gpu.get()\n",
    "\n",
    "gpu_short_course.tests.benchmark_add_vectors(add_vectors_gpu)"
   ]
  },
  {
   "cell_type": "code",
   "execution_count": null,
   "id": "rkdpd78-iBQ6",
   "metadata": {
    "colab": {
     "base_uri": "https://localhost:8080/"
    },
    "executionInfo": {
     "elapsed": 7975,
     "status": "ok",
     "timestamp": 1627475843469,
     "user": {
      "displayName": "Piotr Jarosik",
      "photoUrl": "",
      "userId": "07939774369485222074"
     },
     "user_tz": -120
    },
    "id": "rkdpd78-iBQ6",
    "outputId": "14c2da0e-fc6d-4432-cc89-b32fc2bef308"
   },
   "outputs": [],
   "source": [
    "! nvprof --trace gpu python 3_1_1_aligned.py"
   ]
  },
  {
   "cell_type": "code",
   "execution_count": null,
   "id": "yZNAOdG8h-xB",
   "metadata": {
    "colab": {
     "base_uri": "https://localhost:8080/"
    },
    "executionInfo": {
     "elapsed": 14,
     "status": "ok",
     "timestamp": 1624793210895,
     "user": {
      "displayName": "Piotr Jarosik",
      "photoUrl": "",
      "userId": "07939774369485222074"
     },
     "user_tz": -120
    },
    "id": "yZNAOdG8h-xB",
    "outputId": "5f0980cd-902e-4d75-fecb-45f8af3e07d1"
   },
   "outputs": [],
   "source": [
    "%%writefile 3_1_1_misaligned.py\n",
    "import math\n",
    "import numpy as np\n",
    "import cupy as cp\n",
    "import gpu_short_course.tests\n",
    "\n",
    "block_size = 261\n",
    "\n",
    "add_vectors_src = open(\"3_add_vectors.cc\").read()\n",
    "add_vectors_gpu_kernel = cp.RawKernel(code=add_vectors_src, name=\"add_vectors\")\n",
    "\n",
    "\n",
    "def add_vectors_gpu(a, b):\n",
    "    assert len(a) == len(b)\n",
    "    c_gpu = cp.empty(shape=a.shape, dtype=a.dtype)\n",
    "    a_gpu = cp.asarray(a)\n",
    "    b_gpu = cp.asarray(b)\n",
    "    grid_size = math.ceil(len(a)/block_size)\n",
    "\n",
    "    # Invoke the kernel.\n",
    "    add_vectors_gpu_kernel(grid=(grid_size, ), block=(block_size, ), args=(c_gpu, a_gpu, b_gpu, len(a_gpu)))\n",
    "    # Get the result.\n",
    "    c = c_gpu.get()\n",
    "\n",
    "gpu_short_course.tests.benchmark_add_vectors(add_vectors_gpu)"
   ]
  },
  {
   "cell_type": "code",
   "execution_count": null,
   "id": "G5TINGpYldmo",
   "metadata": {
    "colab": {
     "base_uri": "https://localhost:8080/"
    },
    "executionInfo": {
     "elapsed": 4057,
     "status": "ok",
     "timestamp": 1624793214953,
     "user": {
      "displayName": "Piotr Jarosik",
      "photoUrl": "",
      "userId": "07939774369485222074"
     },
     "user_tz": -120
    },
    "id": "G5TINGpYldmo",
    "outputId": "7f5cb1d0-006d-44a5-a63d-78d75caab994"
   },
   "outputs": [],
   "source": [
    "! nvprof --trace gpu python 3_1_1_misaligned.py"
   ]
  },
  {
   "cell_type": "markdown",
   "id": "Kdy0Y21Tlvij",
   "metadata": {
    "id": "Kdy0Y21Tlvij"
   },
   "source": [
    "The difference in performance of the aligned and misaligned versions is rather minor (on some devices even negligible).\n",
    "\n",
    "Why? \n",
    "\n",
    "In this particular case, adjacent warps **reuse the cached data** their neighbors fetched. According to the [CUDA Best Practices Guide](https://docs.nvidia.com/cuda/cuda-c-best-practices-guide/index.html): \n",
    "\n",
    "> So while the impact is still evident it is not as large as we might have expected. It would have been more so if adjacent warps had not exhibited such a high degree of reuse of the over-fetched cache lines.\n",
    "\n",
    "Still, **setting a block size to a multiple of warp size** is a good rule of thumb: it facilitates coalescing, and (as we will discuss later), helps to avoid wasting multiprocessor computation time on under-populated warps."
   ]
  },
  {
   "cell_type": "markdown",
   "id": "WVH-4tO1ApIv",
   "metadata": {
    "id": "WVH-4tO1ApIv"
   },
   "source": [
    "### 3.1.2. Impact of strided accesses."
   ]
  },
  {
   "cell_type": "markdown",
   "id": "QAD5qaCi8yhV",
   "metadata": {
    "id": "QAD5qaCi8yhV"
   },
   "source": [
    "A non-unit-strided global memory accesses may impact effective memory bandwidth. \n",
    "\n",
    "We say that GPU kernel performs a unit-strided memory access, if threads with successive identifiers read the data from successive memory areas, in other words, the following access pattern is respected:\n",
    "\n",
    "```\n",
    "x = data[(some custom offset) + threadIdx.x]\n",
    "```\n",
    "\n",
    "\n",
    "The degradation in performance can be especially apparent when working with multidimensional arrays - the choice of the axis, along which choosing a specific operation is performed, can affect effective bandwidth."
   ]
  },
  {
   "cell_type": "markdown",
   "id": "urpbVefb9WPH",
   "metadata": {
    "id": "urpbVefb9WPH"
   },
   "source": [
    "**Example**"
   ]
  },
  {
   "cell_type": "markdown",
   "id": "479YUUaPHSpQ",
   "metadata": {
    "id": "479YUUaPHSpQ"
   },
   "source": [
    "Let's consider a 1D convolution along one of the axes of a 2D array.\n"
   ]
  },
  {
   "cell_type": "markdown",
   "id": "QrHy1JcjIxFr",
   "metadata": {
    "id": "QrHy1JcjIxFr"
   },
   "source": [
    "![IUS Short-Course - lecture_3_2d_array (2).png](data:image/png;base64,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)"
   ]
  },
  {
   "cell_type": "markdown",
   "id": "driving-activation",
   "metadata": {
    "id": "driving-activation"
   },
   "source": [
    "NumPy stores arrays in row-major order, so the above array is actually kept in computer's memory as a following 1D array:"
   ]
  },
  {
   "cell_type": "markdown",
   "id": "9yqnYWjzIUbL",
   "metadata": {
    "id": "9yqnYWjzIUbL"
   },
   "source": [
    "![IUS Short-Course - lecture_3_1d_array.png](data:image/png;base64,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)"
   ]
  },
  {
   "cell_type": "markdown",
   "id": "L_8GqPouJP0o",
   "metadata": {
    "id": "L_8GqPouJP0o"
   },
   "source": [
    "Let's consider doing convolution along axis 0 and 1.\n"
   ]
  },
  {
   "cell_type": "markdown",
   "id": "IYh9CCWCJTrf",
   "metadata": {
    "id": "IYh9CCWCJTrf"
   },
   "source": [
    "**Convolve along axis 1**:\n"
   ]
  },
  {
   "cell_type": "markdown",
   "id": "ORa61mqLWoht",
   "metadata": {
    "id": "ORa61mqLWoht"
   },
   "source": [
    "![IUS Short-Course - lecture_3_array_mul_ax1.png](data:image/png;base64,iVBORw0KGgoAAAANSUhEUgAAApgAAADXCAIAAAAxwrYOAAAABGdBTUEAALGPC/xhBQAAACBjSFJNAAB6JgAAgIQAAPoAAACA6AAAdTAAAOpgAAA6mAAAF3CculE8AAAABmJLR0QA/wD/AP+gvaeTAAAACXBIWXMAABibAAAYmwFJdYOUAAAAB3RJTUUH5QccDSoauGOypwAAXMNJREFUeNrt3XlgVOW9MP7nec7s+5ZlskwyWUgySSABshAQRRBlE6RSrC0ttlVrbW/vve391d/7u2/fe3t7672vvXa5Wq9YWisKKFoFBEQNe0ggCZAEsrBk3yeZyezLWZ7fHxNi2BSic84kPJ8/lCwz881zznm+5zwrxBgDgiAIgiCmJyR0AARBEARBTB1J5ARBEAQxjZFEThAEQRDTGEnkBEEQBDGNkUROEARBENMYSeQEQRAEMY2RRE4QBEEQ0xhJ5ARBEAQxjZFEThAEQRDTGEnkBEEQBDGNkUROEARBENMYSeQEQRAEMY2RRE4QBEEQ0xhJ5ARBEAQxjZFEThAEQRDTGEnkBEEQBDGNkUROEARBENMYSeQEQRAEMY2RRE4QBEEQ0xhJ5ARBEAQxjZFEThAEQRDTGEnkBEEQBDGNkUROEARBENMYSeQzEMZY6BAIgiAInoiEDoD4ynR2du7evTszM3PlypUQwtt5idfrtdvtSqUyLi7uNl9CEARBxBSSyGcOr9fb2toqk8lu54mcZdnz58//5S9/aWxsXLp06XPPPUdRlNB/AUEQBHHHSCKfBlwul8/nE4lEer1eLBbTNB0IBMRisVwuBwBMfJmVlfW///f/lslkCCEAAMMwbrc7HA5rNBqFQnHde9bX1//617/mOM7lcrndbtIaT9yOYDDIcZxcLiftNwQRO0gij2kY46qqqtdee21wcFAmk913332bN29mGOYPf/gDwzA//vGPTSbT1q1bm5qavvvd7yqVypdffnnOnDnf+973XC7XG2+8UVtbGwwGk5KSHn744SVLlkQSfATLst/4xjf0ev0vf/lLof9KYtr44IMP+vr6/v7v/5603xBE7CCD3WKaw+HYsWNHb2/vgw8+mJGRsX379mPHjhmNxoKCgsOHD7/55puffPLJW2+9pdVqc3NzXS5XfX39lStXAACVlZVvvfVWUVHRD3/4QwDAzp07BwcHJ79zSUnJxo0b9Xq90H8iMZ10d3e3tbWRx3GCiCnkiTymqVSqH/zgB0NDQ+np6UePHj106FBzc/PatWvXrFnT2tq6d+/eysrKtLS0p59+WqVSYYwRQgghjPHg4GAoFBoYGFCr1T/+8Y9lMpnJZJr8ziKRCADAcZzQfyIxnUAIEUJDQ0OXLl0SiUQFBQUajUbooIhYxzDM5cuXdTpdYmJi5DtdXV0cx6WlpU1uJiSmjCTymOZyufbs2XP69GmlUun1esHV1KtQKNauXXv06NHh4eHHHnssPT198qsghPfff39jY2NdXV1tba3JZHrooYe+8Y1vSCQSof8gYnpDCNnt9t///vcQwkuXLpWWlv7jP/5j5KaQID7H7t27w+Hwc889JxaLvV7vH/7wh7lz515XcRFTRu6GYtrx48fffffdlJSU559/ftWqVRMP0MFg8ODBg8FgUK/XHz58uKenZ/KrOI7Lzs7+t3/7t9///vff//73OY77y1/+cv78+RvfP3I7DCEkXZ7E7YAQ+v3+tWvX/vM///PmzZvr6uqGh4eFDoqIdSKRqKSkpKGhob+/HwDQ3t7e3d09d+5c0kfzVSGJPKZFBgkbjcahoaFz585RFGW3251OZ2Vl5Z49e1auXPmTn/ykvb1969atgUAAQogxxhizLPvee+/99re/hRAuXrw4IyMDQnhdK/rQ0FBdXV1LSwvDMCMjI6dOnWpvbydj14nPx3FcUlJScXGxUqnMzMykaXpoaEjooIhpoKioSKPR1NTUYIxramqysrIyMjKEDmrmIG1iMa2kpGT27NlVVVUXLlx44IEHEhMTT5069eKLL/b09Fit1k2bNiUmJjY2Nh47diwyCE6j0cjlcrFYbLVa//a3v/3iF7/AGIfD4dWrVxcXF09+51OnTm3ZsiUylaizs/OXv/zlvffe+7Of/Yw8mhOfA2MsFovFYjEAQCwWq9Vq0l9D3A69Xr9w4cKampp77723qalpxYoVUqlU6KBmDpLIY1pWVtYLL7zQ3t5uMpkyMjICgYDdbg+FQj6fz2g0WiwWCOEPf/jDFStW6PV6o9H4/PPPa7VaCGFJScnLL7/c3d09NjZmsVjMZnNk0vmEsrKypKQkAECkdYvjOIPBQAaeELcj0nIT+S9pHSVuR6R18MiRIwcOHKBpuqSkROiIZhSSyGMaQigxMXFiqKdarVar1df9jtFoNBqNkX9Pfuw2mUzXjVSfLCEhISEhQei/j5hmMMaT+2g4jiPdMcRtSktLy8zMfOONN77+9a8bDAahw5lRyBMYQRC3y2Kx5OTkRJ7C5XJ5Xl6eUqkUOihiepBIJAsWLJDJZBUVFaQL76sFyQ01QRC3afISrSzLBoNBmUxGKmXidtA0/fLLL3d2dv7617++cdFo4ssgTetETMAYt7e3syxrNptv7D4gYoRMJpv4N0VR5HGcuE01NTX79u1rb2//yU9+ct14HeLLI4mciAkQwsbGxo8++igpKclms9lsttTUVLVaTcZSEcQM4Pf7tVrts88+W1JSQi7qrxxpWgeBQMDn85FzS3AHDhw4cOBA5EAolcr4+Pi8vDybzWaxWNRqdWTKE0EQBHEdkshBTU3NgQMHyMwrwTkcDofDMbGsTWR0dGSHmBUrVlgsFqEDJAiCiEUkkZMn8lhBnsgJgiCmgPSRA7lcTgZfxAKlUqlSqUgfOUEQxB0hT+RETCCj1gmCIKaGJHKCIAiCmMbICC+CIAiCmMZIIicIgiCIaYwkcoIgCIKYxkgiJwiCIIhpjCRygiAIgpjGSCInCIIgiGmMJHKCIAiCmMZIIicIgiCIaYwkcoIgCIKYxkgiJwiCIIhpjCRygiAIgpjGZtTuZxhjlmWFWj0eQigSfVaeHMexLCtUUSCEKIqa+JJhGAEX1acoavJ27wIGc90xin2xU1YYY4ZhhCqHaXfgJgh76YlEoon9A4U9gtfVSCzLchwXC8UieDDXVY9T/IuEiv6rxXHclStX6mprXS4XBsJcNgih+PiEBQsW6PX6M2fOtLS0hIJBIMgmnBiIJZKMjIzS0lKapqurq3t6ejiWFSYYABUKRVFRkc1mGxgYqKmpcTgcGAtz2UCIjEZDWVl5ampqLG+QijHu7++vqamx20c4jhPgwGEAIdTrdaWlpampqS0tLefOnfP6fAIVB6BEVHJS0oIFC4xGozAx3Dm73V5dXT04MMgKd+mp1er58+dZrdbWltaGxgafkEdQlJqaumBBOcdx1dXVfX39LMMIVSxKpbK4uMhms3k8nurq6t6eXkawYIBSoZxTNCc/P//L3KrOhN3PMMZnz57d9sYbbn9Aa0pAiPry7zkFdDjkHh1OTU5KTU2tra1FUrlSaxAoj4OA1x1wO4uLivx+f9vFi0qdSaZQClIsHMd5HHYxAvPmzbt06dLwyKjWlEgJ9HTF0LR7dCjOaHjiiSdyc3MFieF2dHR0/Gnr1uGB3sR4pURCCXJryjDc4IhPpTYWFOTX19dj1h9vUiKB7n58gfDwSCAn1/a9733PZDIJEsMdGRwc3PqnrZfbL2lMColMLMARhIBjOdeITyFVZWdnt7a20jioMSqhIPkKgqAv7HUGszOzMcCX2y+rDTKpXCJIsWAOu0d9YiRdvvzBK1euNJ1vVBvkUoVwwTh8iBOvX79+6dKlkxst7uydZkAid7vdv/3tb0fcvkXrvmkwpwoVBubYnrYLNR++HfR7rYXzSh58RKYUbF9tOhxqOnbwQvVhihLNe2BtdnE5Eq5l0uMYqdn3Tt+lZo0pfuHDjyekZQKB8gHG3FDn5RMfvJWbZX3mmR/KZDKhyuRz0DT92muvXWiq+/bXZttmmYTKnRjgzh7XX99t6h/y5mQYvrW+IMEkzL0gAIBhuZN1ve8daFu56uFHHnkklltTAAAcx+3YsaPy8KcL1xRkFJgRhYAgWQJg55D32AeNg52jaXmJC9cUqPUKISIBAECWZlvruk8dbEEIlq+wZRenUiKhigW4Rn1Ve5qGu1yQAvMfyMmdn0qJKKGC8Tj8J/Y0hVzgpz/9aUpKytTeaCY0rTudTrvdnllyb1JWHhauqwNAmDF7fndrY3drQ+GiB/TxSRwnWB+5TKEqXPRAV3ODWm/MLb1HKlcIeMcmt1hzSxYNtLdZcmdb8uYIVJWMS7MV9V9p62w5Mzo6mpycLGAkt+Lz+Xp7+/JnxZUUmYXK4hEFuXFlRUm7P7m0dFF6hlUPWOEOHARLKtLqmwbOn7+wevVqiUQiYLF8oVAo1N3VHZ+qy5mXKhKoQSXCnGHMLExyDHpspWnxqTpOuCMIlZKceZa2M71iqSi3JE2mEAv4CJlo0ecvsA52nTHFa2ylaXKVRMBg5Km6woUZR3Y1dHR0TDmRz4RR6wxNQwjlKg0AQMgGBowRRakNJoQoqVwhVDfw1Vg4iVwhkkhkSpVIIhG23QVjLJUrxRKpXKWBUNBjBACEUJ+Y5PF4BOsv/CKRoTdatRRBCIQ8nwEAIN6koBBUCdLweG0wUgmlVIjDYZqmaUFD+WIsy7Isq1BLEYJClhsGAGOFRiaRimRKiaAVEsAcFkkouVIiV0ooERK2IRhjrItTicSUTCWNkWAwYB0Ox5TfZCYk8qvttDgyQkfoWGKm0W88khiJZ/wY4RgoIghjvkdpov4XsKwgAABABEHk0hIahDBmTubbIvwpFoOlBQW9s7kmEAhBLBykSDCRm66pBzMjEjlBEFESExUdAMI2thEzUAydTl8+FJLICYIgCGIaI4mcIAiCIKYxksgJgiAIYhojiZwgCIIgprGZMI+cIPhH07TT6ezr67Pb7R6PBwCg1WoNBkNKSopOp4vxic4EQcwkJJETxJ0JhULNzc01NTVtbW3BYBAhFBlQjRBiWVYmk2VlZVVUVNhstthcOY4giBmGJHKCuAMdHR379u1rbGxUqVSFhYXZ2dlms1mhUAAA/H5/f3//pUuXWltbGxoaCgoKVq1alZmZKfi8eYIgZjaSyInPgzEmeSiC47j6+vp33nnH7/cvXbp08eLF8fHx121ykJ2dvWjRouHh4ePHjx8/fvyPf/zjo48+WlZWNuW9EKYOT1oPBMfk2iDE54qtS4+cQrGNJPLxCwYhxHEYAIwQ4jhOqKto/HMhhABgjDHAwuxW9FmxUAAAlqERRUUWRBOkZCaOUWS/+Uhe5DOYyA57r7/+ularfeqppwoLC2+1hTBFUWazecOGDQUFBTt37ty2bRuEsLy8nNdCwxhACD5b4VXQavj6YIgvMH62UwgAwLEcRSGMMcYCHcbIh0Lh10OMFAtEEGPMsRyiEIQQcwLVSLc4FJGTnX93eyKPnAShgP/C6aqeK60swySlZxWW36PU6jHH8Xx+jJ+pEI4M9J059okh3jx38TKABLuf4Fi2+9L5lvqasdFhuVJVUHZPZkGxUFk84PM01RzvudzKMozWGFdYfk9SehZvwXR0dGzfvl2r1T799NNpaWlf+PsQQpvN9tRTT23ZsuXtt9/W6/X87ZqKMUCQptmq0+0NF/rWPlSYbjEJk0QjtRqFnE7fwcMtGOP1q4qkkru9zvl8kbMdc/hiQ9fFxi6v229M0BaWZSdaBNi8daJGcjm9dUcusAx338PzxUIcwUgkDMO2netsO9cZ8IWUallOsXXW7LTIjQ7f9RLG56ovXm7qnvgGh7FtbkZBaRb/hQPI9DMIIR0Of/zOX/e/9VrA5+U47sgHO3f/+WW/x81/xorkzgu1VW/99pcHd/65ua5KqFvgyN9+5tgnb7zwi8tNZ8QSaUdz43uvvtjfflGQYgn6fXv+8vLe1//oGXOwDFPz8d63Xvy3ga52foIJBoMffvhhMBh8/PHHbyeLT0hJSdm0aRMAYO/evX6/n7fyso96X/7zsef/++O/vnOqf9AlyL1gJBIO4wst/f/6m/0v/eXYgUPNNC3YfoDTxfild6J1+3/v7++yiyWiplOXt/12X1/HMP+PepGn8Pbm3jdf/HD3X45Uf9zA0IxQxcJx3PF9Z7a9+GHvlSFKhJrr2//6wp7GmosACrN9Q3PdlfpjLS6H1z3mc4/5PE5fKBAWpHAAeSKHEPVeaa0/cnD5xs0LHlwLEWqqPvbuKy9cOX92dsV9HMvyeYpACEcG+w6/vyOnqNQQb8YYC9ggGvB6TlfuN6dlbvzxcxq9cWSwb+uvfl576KOUzByeI4EI9bZfbD1z6r61j927diMlEjWcPLzz979uO3c6KT2ThwCampoaGxuXL19us9nu9LVZWVlLly7dvXv32bNnFy5cyEO0GOMP9jd09ow+uqpo645qYftZ3Z7g62/XJCXqNlhMDc29AkYybUDgHfMf3l2bkZey8YcPypTSod7R1371t1OVTUnfvZ/nowkhcDt9B985mWgxUSJqqG9UsFKBwO30nT50PqcofcMPHlBpFH2dw6/+8t2zJ1oLS7NEYr4TGUOzfm8wd671sR8+GNnLHANwq+42HtztT+QAgo6WJrFEkjdvAUIUwDh79lx9fOLlprOY47u5BmMsV6of/u6Plm34tlKjFXZZf5FEumrT04889fcagwkAoI9LNKdlisRi/iPBHBefbPnWP/6iYsU6sVRKiUQpGbPUemOk/z7aGIapqanR6XSLFy+ewoUKIayoqDAajTU1NeEwTzfsi8oyf/FPq2bbkgXfGEIsor7z9bK/f3pJUoKGdJHfDgihfcA50u8oWpgjV8kwhxNSjLnF6ZebeoL+EM/BYAzEUvFDjy1c+8QStV4p4OmEMZArpV97ctm6J5aodUqIYHySISHFiJAwe+JhjFmGU2nkcqVULBFJZBKJVBxp5BekfO72J3KOZT1OhzExWa5SR3YQF0ukCSlpHucoy4QpEa95C2Os1uk1egPHshgLOUAJYyyWSNJzCzAAmOMQQn6Pe8w+ZCupAADyfIeBMdbojVpjHMcw3jFHwOc7XbkfIZRhm8PDECqHw9HZ2ZmTkxMfHz+1dzAYDPn5+bW1tYODgxaLJdrFBSHMm5UIqMjgTUFhrFRICvKSAQTc9EzjfX19Y2NjycnJGo2Gt+ctt9MnU0qNCbrxkVwAJqXHtdS3B3whuUrG58WHMZYrpNbcZAgBFvR0whhLZZLs2RbMYb8nGPSHLjZ22fsdczcuFEtF/MdGhxmf2y9XSo/tOzPUM6rUyHOLrWmzzJHOCP6bwe76RM5xoaCfEokmih5CKBJLvK4xhmF4TuRXd8gVvs6biAQAgBAKBQNH97ytj0/IL1kYud0RIBgOu52j7/7Pf3W2NilUmlXf/kGSNQtzUQ9mcHDQ5XLZbLbPqcfD4TDLsnK5/Fbx5+bmHjp0yG6385DIAQAAx8YmjZFrStBb0i+po6PjrbfeMhgMeXl5NpvNarVqNJpoTyYMBcIQQkqEABhPCSKRiGW5UJDm+Sb6s3pA6IlwE5UAHWY+eruq7vAFluPuX1c6d1GuAAPX4XiZtJzpYGhWpZWfPdF68uOGtZvvm3tPniCdWXd7IocAQIjgtecpBhgiKNS8r1iBMYAQQjg2aj+4489jI8Prvv93CpWaE2gwPwBYKleULHkobZat53Jr1YH3VVpdRn5RtCcX+Hw+hmF0Ot3n/E5dXV13d/djjz12q1/QarUymczr9fJZbncJmqbdbneU3tzj8fj9fo/H09nZeeTIEZPJlJOTY7PZMjIytFqtWCyOxrkHbzI4EQMgzJCuGDGRqhGFbPMytAZVf6e9seaiRqcsXVrAd+c0BlKZ5MGvV1AiZM1Nlsolo0Out36/75N3a3KLrUq1/Mt/wp262xM5oiiFWjPQ1c7QtESmAACzLOtxOuRKteguXy4bQghhf+eVD994RSyRPfrMz4wJZv6zOBgfOstxHCdTKOcsuh9C6LQPbfmXnx7f+256bmG0r2GapiGEItHNr5Te3t6RkZGhoaGenp6WlhaMcV7eTW7JJRKJWCzmb+D63WRgYOCNN95g2aiMh/d4PBNTsILBYE9PT1dX16lTp3JyclasWJGTE5WBn0qNnKHZgC8EIMQcBwF0O32UiFKopMI31gkk0mTNcRghmFtkzZubEQ7SO/77wMF3TtrmZ2j0Kj6DwRiLJaLZC2ZFZrQDAOKT9LnF1sMfnHaNelQaBf+Nqnd9IkfImJBUW7l/bNSu0ukxxt4xx2B3R+nSlRQl4rkZeaLKiKwJAyKtBQItwwIh7L7UsuuV35gt1oef+JFab8AcBxECQgRz8Vxd06njSx75Rpw5FXOcQqWWK1WhYABzHIhyIheLxRhjhrn5rBuHw7Fjx47e3l6Xy9Xb27ts2bK8vLwbfy0cDtM0HVnJNbrGV1+JrOABQKR5G14d2MBzI/dEMAhACCEAaGJlmK+utdZsNj/zzDNR+gtOnz69c+fOyApRcrn8uifyKH2ozqBiWa6vYzgzPxUhxNJsR2uf3qSWKaRR+sRbuVojRe7qARi/vRegRoIQDPU6juypK1qYmzfXijlOIhOrdAo6zLAMx/O4HQih3xO4dL4nKc0Un2IEGLAs57S7MQaRZXz4d7cncg7jWXPmH9u76/iH7y7f+B2ERFUffcCxTN68BQDwvU5PZMJ0wOfFGIf8vnAw4LQPIkQp1BqJlO/tN8KhYOW720J+X/nyhxk6PDrYDwCgRCKlRsfzgqMQoVAwcOqTDwHG96x+VCpXtJ49NdDdvnDFI5RIHO0rWKlUikSisbGxm/60oKBg8+bNzz//vEQiWbdu3eLFi29au7lcrmAwqFJF/7kBQpblxlwBGmOH089h7BjzDw65JRTUaRWI59YUCIMh2uUOYAhdnmCIZgftboVPolZKlV9dThKLxUajMUp/gVqtVigUfPaRYw7HJxty5qSd/LjBkm02xGnaGjrbW/pWPr5IKhPz/KQHIQyHaJ8nACEMBsIswzrt7oAvJFdKeb+rgBDCplOXBrpHJBKRPl4z2D1y4fRls8Wk4HcAIAAAQhAMhg9sP6GP06z5zr1KtfxiY1dD9cX0nCStQSXIGKe7PZEDjA0J5lWbnj7w1pat//7/IkSFg4HlG59IsmZhzPE8xANC2HDyyOH3tyOEAj4v5rg//dv/Q4nEq7/zTG5xGb/NA9DrGhsd6g8GfO++8kLk1MQYGxOTNzzzM50pns+TFXNc7tyyZY9uqjvy0ZUL5wAG4VCgoOyehSvX83AnnpiYqNVqm5ubKyoqbtqMf+TIkfLy8sTExKqqqrKyshsfuzHGra2tarU6Li6Oh+JyuQP/8dLHnT0OhmGVCslrb1ZRO2oKcszP/d0DMim/swcRbGrpf/F/DnEY+wPhUIj5+a92Qwi+ub5k7UOzeY1kqqxW649+9CM+R61Hmm0f+said1/95I3f7JEppV5XoHhR7rzFNv4TBISwvbl3918OMwzr9wYZmt36Hx9gjJd9raxi+Rw+48EYxyXp1333/o/fObnttx9SIioYCMUnGVZvWixVSHhO5BgDvUnz4GMVB3eefO1X70mkYp8nkJ6TtHrTYp6nFUy42xN5pIHIVlJhTsvo77rCsaw5LdOYmBTZm5L/UV2z5swzxCeCSeNFIUKJqem8jxXHSrXmaz/4KR0OT57fJZHKFGoNz7ecGGOJVLZsw7fnLXlwzD7sGRs1xJvN6ZkSmZyHZXQNBkN6evrFixeHh4cTExOv+ymEcMWKFRqNRi6Xz5kz56bbkDscjgsXLqSnp9/48mhQKaWbN5b7A+FIcyjGAHNYrZaJRbxv3MLhLGvcT59ZOj5w8uqMjBSzju9Ipio5OTk5OZnPT4QQchxOTDF852dr+jvtboc3IdWYkGKUSMWC1EjJGfHrn1zGcXi8j4YDGOA4s57nu4rI3z5vcV5WQarT7naOuBVKWWpmolIrB19lR80dBFO8MNeam9xzZdDvCcaZ9UnpcXKlVKgl8e/2RD4x7c+YmGQ0JwNwdS8OgbYG0ceZDQlJ134XYMz3Ji4YY4lMbs0tvP76EKJwIseIEonizClxSakQRPpYOX4WwxeJROXl5Q0NDceOHXv00UeveyyDEKanp0f+nZl5k2XmMMYnT54cHR19+OGHJTwMn8RYIhHl5yZdX5Vg8NX2TN9mMHqtYn7xDYvacrxHMq1ACDEGKo0ipyj96tkuWI2k1io1c67vEuJ/xtdERa0zqfUmDYQAA4A5zH8Wvz6YOM2kYxT5Ma/BRNztiRxMnis56SZTkJke4w8tN1vcgP+RbjeWiYCFMzkefO03eVBYWDh79uyjR4/abLaCgoI7eu3ly5crKytzcnKKi4v5KSkAIvXKrX/Km8jH3XSxDpLFbwPmBDjbJ5uYvX2rH/EfDIjkbjz5+/wXzKRgYmDZD0CWaCWILySTyVavXi2TybZv397V1XX7L+zt7d22bRsAYM2aNXwMWScI4q5EEjlBfDGr1fr444+7XK5XX321oaGB+6IV5TDGzc3NW7ZssdvtGzdujNKEY4IgCEASOUHcDghhcXHx5s2baZresmXLrl27BgYGbroICcuyAwMDu3bteuWVV7xe76ZNm0pLS+/mNbkIgog20kdOELcFIVRSUmIymfbt21dZWXnq1Kn8/Pzs7Gyz2RxpNvf7/f39/ZcuXWptbXW5XAUFBatWrcrMzCRZnCCIqCKJnCDugNVqffLJJ5ubm2tqapqammprayMzFQEACCGWZWUyWVZWVkVFhc1mk8n4XsaHIIi7EEnkBHFnpFJpcXFxQUGB0+ns6+uz2+0ejwcAoNVqDQZDSkqKTqfjY6YZQRAEAIAkcoKYGrFYHB8fP+VNygmCIL4qZLAbQRAEQUxjJJETBEEQxDRGEjlBEARBTGMkkRMEQRDENEYSOUEQtxYzc+DJdHziKxVDp9OXD2VGJPKJTWcgEHwFe8EDmBxK5H9CxwEmhTG+l6XAoQixkdQdhnj12hawrDAAVzfMgDFQ6+HxHSKnDeFPsRgsLYxj4FSKBIIxiIWDFAkGwC93qzoTErlILMYYB7xuIOxtO4Qcy3ocIxzHhgJ+CIUsWwhROOBnwuGgz8uEw8LmLQhhKOCjw6GA1311Z2rBYIydg/1qtVqpVAoYxuegKAoh5PKEOGH3+oQAADA84mc57PWHBa5/IQiFWZ+flkjEYrFY0FC+GEVRFEX5PSGOEzRvQQAg9LuD4RAT9IUFrZAARJAJswFfOOALswwnbAKFEI7ZvQzNBr2hGAkGAspgMEz5TWbCPHK9Xh8XF9feWJeUMcuQmAKRMCcsy9C9F5v7r7Qy4XDTiU+lCqVcpREkaWGM6VCw6cSnPpcz4HW3nj6eVVQmEksEqVMwx3mcI211VRzH9bQ2dc9qiLdkIIoSIBQAOJYZ6rrS3lSfm2U1Go2CxPCFlEplSkryhab62oaBvCyjiEJCbGAJGBZ39rhONwxgDCqruszxqniTgkKQ7+c8CDAGYZqtru/r7PWsXHVf7CdyqVRqSbMcOnKxrb7Hmp9IiSlBMgXHYeewt72pPxyiW2q79QlqtU4OhTibMAYMzbTV97pGvBDB1tru7KJkSkwJkkE5DrtHfReqOxFEzmFvy+muWfNSRQIFgznsdvqbTrarlRqr1Trl94GCt3N+BWWBcX19/datW2mW0xjjJVI5/xkLYxz0etwOe5zJmJ6eXltbK1NqVHoDJRKg0mEZxu92esccBQUFPp+vo7NLrTcqNDokxC0OHQp6nKNsOFhSUtLa2ur2+rTGeIlcKcBlg0HQ73U77CqF/JlnnsnLy+O/NG5TR0fHSy+95BobTTApVUqJIFWMz08Pj/pEYmVR0Zza2lqxiIs3KKRSAe7AOA6PuUP2UV+6NfPZZ581mUwCFMcdGhwcfOmll3v7u7VGpVwlFeSGPhyk3Q4/wqJZs2a1tLRQEqAxKEUSAY4g5rDPHXQ7/JbUNABwT2+3xqBUqKWC3FXQIcbt8HNhvHLVqra2tta2Vo1RoVTLhAkmzHgcfjrIbdiwYfny5dRUn3BmwhP5ZyCECLEsI0TvEEQUNfkGAlIIAMAy/AcDAcAQXXNCIIrCHMdy7FTfc+rBRFzzNUVxwh2jWOjuvd1wIaAoxLIY815WEECE0OSyQhBCBBmGE+CwAUhR07UTECGEOcwJ8byEEILwsxaUyJXIMtyXetMpB3NtwxKiIMaYYwQoFogghHDyNUUhJFgw11aPUzYTErnH49m3b59Ioblv3eMGc6pQYWCO7bl4oebDdwaqq62F80seXCdTqoUKhg6Hmo59fL76MKKokgcfyS4uRyLBjrXHMXJq/67jx49rjfFLHvt+giVTqK5fjLmhzssnPtj+0UcfWa3W2NzUhKbpAwcOBP1j3/9GkS3bhIQqK4A7e1xvvHf+6NFjszIM33okP8Ek2KgChuVO1vW+d+DisWPHHnnkkRgfq8hxXGVl5cBQ7z1rZ2cUmBGFBLltBQA7h7zHP2isrz+TnpdYsTpfrVcINAQOsjTbWtdz+uMWiOCClfnZxSmUSKhiAa5RX9We83v37oUIlD+UlzM/lRJRQgXjcfhP7G365ONPCgsLU1JSpvZGMyGRO51Ou92eWXJvUlYe5oS53wQAAAgzCud3tzR2tzYULlqmj0/iBHgCHidTqAoXLetqPqfWG3NL75HKFQL2ocgt1pz5C/uvtKbmFlpy5wg7mjbNVtR/pa2z5czo6GhycrKAkdyKz+fr7e3Ln2UqmWMWKotHFOTGlc4x7/7k0tKFaRlWPWCFO3AQLKlIq28aOH/+wurVq2N8T5pQKNTd1R2XosuZlyqSUAKe7+YMY0Zh0uigJ6/EEp+q44Q7glApyZmX2namRywV5ZZYZAqxgJ26iRZ9/oL0wa4zpnhNXmmaXCURMBh5qq6wIuPIroaOjo4pJ/Lp2mA1GUPTEEK5SgOEndqEMaIotcGEECWVKzAW7pYCAIw5iVwhkkhkSpVIIhF2JATGWCpXiiVSuUoDhZ4iCCHUJyZ5PB6fzydgGJ+DZVmO47RqKYJQ8OlnkQFuKoVE4LlMGEgllFIhDodpmqYFDeWLsSzLsqxCLUX8jw2cDAOAsUIjk0hFMqVE0AoJYA6LJJRcKZErJZQICTs0C2Osi1OJxJRMJY2RYDBgHQ7HlN9kJiTyq+20GAg9tQnE1LIV45HESDzjxwjHQBFBGPNjPCfqf6Gnn0VGAPHfSX+TcCCMmZP5tgh/isVgaUFB72yuCQRCEAsHKRJM5KZr6sHMiEROEESUxERFB0AMrCNEzCwxdDp9+VBIIicIgiCIaYwkcoIgCIKYxkgiJwiCIIhpjCRygiAIgpjGeJ1H7vV629vb09LStFotxri7uzsUCmVmZk55XTqCEApN006ns6+vz263ezweAIBWqzUYDCkpKTqdLsYnOhMEMZPwmsg5jtu+fXtSUtKzzz47PDz8n//5n8uWLcvOzha6EAjiDoRCoebm5pqamra2tmAwiBCKDKhGCLEsK5PJsrKyKioqbDZbbK4cRxDEDMNrItdoNBs3bnzxxRerqqoaGhpUKtWyZcsEn1VMELevo6Nj3759jY2NKpWqsLAwOzvbbDYrFAoAgN/v7+/vv3TpUmtra0NDQ0FBwapVqzIzM8kZThBEVPG9RGtRUdGaNWt+97vfKZXK//W//pdGoxG6BG5BiK2gMcaxV+lj4deVEHZb7qs4jquvr3/nnXf8fv/SpUsXL14cHx9/Xa9Qdnb2okWLhoeHjx8/fvz48T/+8Y+PPvpoWVmZAJ1Hk49bDBxDYhoj589ktygNYWspvge7QQgzMzMdDodCoUhKShLs776ZyStOxNBiAVeDE+iDIYSQ4zgIYWSjd/7X5cCf9yOegsEYnz179vXXXxeLxU899dSGDRvMZvNN0zNFUWazecOGDc8884xKpdq2bdvp06f5LjSMAZy8KpzAS1ACIOgSddPW+GkjXMlFAoAIIAQxxgBeXemPx/N5PAZ4/Rl09fvw6pd8BQMnfyie+C9CECLIcRzGmP9S4vuJfGxsbOfOnUuXLu3v79+zZ883v/lNQTbJvhHGGCE00HXlzLFPc+eWZ+bP4T9jIUR1tDSeO3Fo4hzAmEtMtZYsXSnmffBUpHkg4PNeOH3iyoUGuVKVPXvurDkllEjEc8sBRKijufHcicqJKi3y4YlpGSX3r+TnYbejo2P79u1arfbpp59OS0v74pghtNlsTz311JYtW95++229Xp+bm8tTeWEMEKRptup0e8OFvrUPFaZbTMLcCEYeUijkdPoOHm7BGK9fVSSVzISNmngQyQc+d+DkwXMavarkvnzE+16ukct8qM9xrqrNMeySyMRZ+am2eZkiMcVPJRD5FAjhYM9I3ZELydb42QtyIncVCMFwiDl3sm24z1GxfI4+LrqNu5FzGSEUCoYbTl4c6htd8MBsY6JuYl3wgS57Q/XF0aExSkSlZiYULcxVqGS8VZW8XlQMw+zatcvn8z333HOtra0vvfRSbm7u/PnzBW9PjhS33+v5aPufz1UdUmn1WQVF/CdyiFBf+8WqA+/nFJdKZDKAAcacxmAS4CF4PIt73t/yu/6u9vSc/KHerrrDH6381lPlyx/m+XBBAOhwyDPmmEjkHMu0nKmxzV9Yev9KHgIIBoMffvhhMBh84oknbieLT0hJSdm0adPLL7+8d+9ei8US6UqPfnlB+6j3rXdrDxxuto94S4os6elxwmxcBiGHcUvLwGtvVtU19mRYjGuWF5JEfpsghJjD1R83fPDnw8WLcucttiHe+2cgBEO9jjf+a+/YqCdvrtXnYv72WuXYiOeelXMh4qMWgBCyDNt0+vInu6o72/oXrZxbWD4r0kw4OuT69G+n6o5cgADml2Qa4rVRrScjlZ59wHnw7ZONNRc5lrPNzTAl6jHAEML25t63/rAfYGzNSx7uc9QePt99aXD9k0slUjEPpQR4TuQDAwM9PT2bN282Go1lZWVtbW319fWzZ8+WSqV8hnG9qzdNpz79cKinU6XVQQiFaYvEHEPTxgTzI9//ic4UH9k/DUKEeO9hjWxQca7qcPellq//6LmM/Dl+j+vTXW+wLMuxDM/xYIyzCoszbLPHY0Ootb6mv/NKydIVkeaBaAfQ1NTU2Ni4fPlym812p6/NyspaunTp7t27z549u3DhQn6K64P9DZ09o4+uKtq6o1rYu2S3J/j62zVJiboNFlNDc6+AkUwvGGNEocuN3bWHL+jjNPxkzZuA8PSh8/Z+5+b/Z21ucTrGeM/rR47sqcufn2k063josYEQDvaMfvpuTUFplkhMgc82X8LH950ZG/Hcu3re6UPn+SkdhmYOvX864AsuXV92Yv/Zie9jjBtPXeJY7js/e9iSnRgKhN999ZOG6otL1pUkphr5eQrjNZEnJCT80z/9k0qlAgCIRKJvfetboVBILObpnuWWIIQQdraeP/3p/gUPPVxzcK9Q2zNgjBk6LFUo5UqVOHJzg8H4pua8D6UI+r21lQfS8wqzCooYhpEpVKu/80MIBOjsxBgjRCFEAQAghF732Il9f8spLs0pKuHhSDEMU1NTo9PpFi9ePIVuIAhhRUXFiRMnampqSkpK+Jlfvqgs82sPz710eUjwsR5iEfWdr5fNykrYvb/h3AWBg5kuIo3qHqfv43eqswpSPWN+lhVmC1KO5UYGnVqjKj3HDCGkKGSbn3nio3MdbX1xyQYu+lFhjNU6xdefWR6fYuxs658Y7YExKL4nz5SgbW/tO33oPF/lAUuW5CemGrsuDkweuIAxLltaMG9xXnJ6PEJIpVWY0+NaznYCDACA/IxQ4TWRSySSyRXZdV8KAmMMEfK6xj7a8ee0nPzZFUuqD+4RMJhgwA8BaK6rHui6gigqPadgVlGJWCLhe9wohF6X0+tyZs+ee3TPO/2dlwEG2XPmF5bfI5ZI+e4jn/RZGICzxz4dGxla9/2/E4nEkVF4Uf10h8PR2dmZk5MTHx8/tXcwGAz5+fm1tbWDg4MWi4WH4sqblQgoxHFCp3GMlQpJQV4ygICbnnuX9fX1jY2NJScnazQa3kbzQAg5Fh/eXevzBB5b/9CH244JlcjHg+Ewx2EIAYBQLBGxNOsZ8/Mz6gJjrNGrtEZ10B+a/IEIwbRsM0QQ83WSY4xFYiojLyVSIJO/DyE0W0wAwHCI9ju9Yw5v65mOWbMt+ngNb8+EMTHQTCiRY4A57uTB3X6Pe+nXvimRygTcLZHjOJahB3s66w5/RIfDvZfb3n75Pw689Voo4Oe5gRQCwNA0x7HnTx3vvtisNca7naPv/c9/Ve1/X8g5chA6hgZOffLhnEVLE1LT+YlkcHDQ5XLZbLbPqcfD4XAgELh11DA3N9fj8djtdp4KCsfGvIvI0cGxsJv5FHV0dLz00ksvvPDC9u3bz5w543Q6WZaN6idGHscvNnSerWpdvmGByawXsEZCFEpMNY2NeJrr24OBsGfMd66qLRykGZrlJ6jxTcNvlq0xxnyWzNXty68/mz/b1hyCtnOd//3PO1/+3zuVGsXqTYslMv4am+/qgSeR8ZAXG+rOHvt0xbeeTLRYPWMOCCBECCGKjUwk4PfRs2jR0rSc/PTcQq3BFAr4P3nnrycPfDC74j5rXiHmeL0rhxCyDKPWGx956h9UWp3XNfbmf/1r3ZGP5i5+QGsUYPwdAAACeLGh1udxzV5wL0SIY1kejo7P52MYRqfTfc7v1NXVdXd3P/bYY7f6Ba1WK5PJvF4v/4U249E07Xa7o/TmHo/H7/d7PJ7Ozs4jR46YTKacnBybzZaRkaHVasVi8Vd+BkIEncPug++cLKrImV2RA8cBRCEIAcfxexuN8fz7bK3nOt999ZNTlU2YwxBCpVaOEIRQuCmxsQnj+GTD0vVlQz0jnW39le+fXvn4IpWGl/Gtd3kiBwAEA/7K97ZBCLxjzuqDe4J+f8Dn6WxpqtPocueWyZUq3iKJ3DSk5xZY8wpZlgUYy5VqW8nC2kP7BzqvWPMK+SwWjIFUrhBLJAmp6UqNlmNZpUabPWde5bvbfB6X1hQnyEUcDgUunDphybbFp1hw9BvVI2iahhCKRDe/Unp7e0dGRoaGhnp6elpaWjDGeXl5NwYmkUjEYrHf7+e/0Ga8gYGBN954I0oPyh6PZ2IGVDAY7Onp6erqOnXqVE5OzooVK3Jycr7yT4QAnjx4rq99OK/YerqyCQBg73cyNFP9ccOs2WnxyXo+rzyMgSlR952frjlfe3lsxG1Oi1NpFX99YY/WqAaQp97f2IcxxhwGECSkGBJTjRiAsydat/9+vzUnuWxpAT89XHd7IudYVqXRcyzXUHUYAMAydMDv67ncyjKMNa9QoVLz9ugZeQJuO3taLJVm2OZACCGCY6PDoUCAEvG/qQxWqDXGhGTn8CBL05RIjDH2jjllcqVYKhUki0MIHcODgz2d9619TCyR8vM4DgAQi8UYY4ZhbvpTh8OxY8eO3t5el8vV29u7bNmyvLy8G38tHA7TNM3H9LPIoEgIwNUFNCAEkS/H29v57BWZCAYBCCEEAEXW9cD4Kxy8aTabn3nmmSj9BadPn965c2dklQ+5XH7dE3lUygxgRKFEi+liY1ekkEaHxliWqzt6wRCvSUgx8NwY5veGOI5btKKYEiGI0In9Z2VKqSUrkZ8GwvG7KDTeLHG1FfXq6jRXvwsghAhiFk+8JEqRXP1QMPGhgAOhQPjQB6dlCuni1fNEIgohqDWoMAB+X5C32527PZHLFMoNP/wnjuMAwBBAn8e15V9/Vrp01aLVX+O/vxxjfPZ4ZUdr0/qn/iEpPXN0aKDm4F6FRpuSkcN/7pTK5IUL7v30nb/WfLzXVlLR33nl3IlDaTn5WkOcMO3qEI0M9HpdzvgUC7x2BFxUKZVKkUg0NjZ2058WFBRs3rz5+eefl0gk69atW7x48U0Dc7lcwWAwMl8j2sXEstyYK0Bj7HD6OYwdY/7BIbeEgjqtAvG9AgAMhmiXO4AhdHmCIZodtLsVPolaKVUqvrIZp2Kx2Gg0RukvUKvVCoXCYDDk5eXZbDar1arRaKK7BhEGS9aVLl49N1L/QwS3/+FAOMR88ycrFSoZzwMYIYJtDZ17/3r0wY0VefMyhntHj+6tKyzNNiXqeOsj93uDoUA4HKLDIToUCDnsLoqiZApJMBAGAHjGfCzLuR1ex5BLJKaUGnmUagYIIctynjEfAMAz5ucYzu0c/1CpXDIyMNZQ3aZQSWfNSQ8F6OP7zojFVNosM29j8e7qRB65yZIplJEvIYQYYIVao1BrFCo1x7I895GLxJLFD29wO0d2vfx/ZUpVKOCTK1Vrv/sjc3qmIGvCzF28dKi745Ndfz2x/28Bn8eYkLTkkcclUikPY8VvGlHQ7xdLpBPHix+JiYlarba5ubmiouKm492OHDlSXl6emJhYVVVVVlZ242M3xri1tVWtVsfFxfEQsMsd+I+XPu7scTAMq1RIXnuzitpRU5Bjfu7vHpDxtTzFOASbWvpf/J9DHMb+QDgUYn7+q90Qgm+uL1n70GxeI5kqq9X6ox/9iM9R6xhjqUwMwPiRgggq1DKxhFFq5BSFeK6RMMbW3OSEFMPeN44eev80w7DZhZal60sRX5FABE/sP3uqshEi5PcEhvscr/zLLqlcsmhF8alPG33uAE0zdJh5f+shhGBWoWX996O1BguEwO30/vWFPV53gKFZmmZ2/+UwRaEMW8qjTz+w/OsLvG7/vjePH9ldFwyEIYQrHl+UmpHAW719Vyfy605EjLFUplj/1D9oDEaOZQGPj30TISRZszf97F/6Oi47hwfVemNSeqZGbwRC7KeCMZYp1Ku+84N5Sx609/XIVerUrBy13ijUqHWO47IKizc/9+/xyRaOx3F/BoMhPT394sWLw8PDiYmJ1/0UQrhixQqNRiOXy+fMmXPT6ZQOh+PChQvp6ek3vjwaVErp5o3l/kA40gaIMcAcVqtlYv47aDicZY376TNLIw3pcHzQL0gx6/iOZKqSk5OTk5P5/MTrKyUOL1lbgjmMrrYs8xkM5rDWoNr0j2t6rgw6ht0JKYbUzASRmL9FmjGHixbmpM0yR5q1AQAYA4qChnhtfLKeodnPTnKMlRpFZNGYqESCgUotX/Ode6//ULWcElGJqcbv/Oxhx7BrbNTDMpzZYjKZ9ZGlZGfgEq0xDmNMiURps2yRiQ3CTLLCWK5UZ8+eN96nGTlZhAgGQogxJ5HK0mblp+fk48gkEOFKBmOsNZh0xniMeZ1NIBKJysvLGxoajh079uijj173WAYhTE9Pj/w7MzPzpmGfPHlydHT04Ycf5mPVBIwlElF+btL1feEYfLU907cZjF6rmF98w6K2HO+RTFsYY7PFBIQ4euDqfYNcKc0pSofjMfBaA2CM41MMCanXdp1ggDE2JuhuOMnH68so9ZGLpeKsfMuNV1ZkHpxCJVOq5alZidGO5KZIIv/MxExBIMCz+DXwtV1hQgVztUCuWcxD8GD4j6GwsHD27NlHjx612WwFBQV39NrLly9XVlbm5OQUFxfzU0wA3HrqNu95AAAAbtpNSLL47YEQTlx9ApbZ5DqA78Wg8M23EcO3OMmj10f+OR9605D4LKi7ekEYgrgdMpls9erVMpls+/btXV1dt//C3t7ebdu2AQDWrFnD044pBEHcfUgiJ4gvZrVaH3/8cZfL9eqrrzY0NHxhJz3GuLm5ecuWLXa7fePGjdGYcEwQBBFBEjlBfDEIYXFx8ebNm2ma3rJly65duwYGBm66CAnLsgMDA7t27XrllVe8Xu+mTZtKS0sF36iXIIgZjPSRE8RtQQiVlJSYTKZ9+/ZVVlaeOnUqPz8/OzvbbDZHms39fn9/f/+lS5daW1tdLldBQcGqVasyMzNJFicIIqpIIieIO2C1Wp988snm5uaampqmpqba2lqEUGQwDkKIZVmZTJaVlVVRUWGz2WQymdDxEgQx85FEThB3RiqVFhcXFxQUOJ3Ovr4+u93u8XgAAFqt1mAwpKSk6HQ6wffnJQji7kESOUFMhVgsjo+Pn/Im5QRBEF8VMtiNIAiCIKYxksgJgiAIYhojiZwgCIIgpjGSyAmCIAhiGiOJnCCIW4uZOfBkOj7xlYqh0+nLhzIjEvn4kvoQQMD/vt03xCJwAJNDifxP6DjApDDG97IUOBShtra7gxCvXtsClhUGILLlXeTSEhrGOGZO5tsi/CkWg6WFcQycSpFAxnfHEjqQSDAAfrlb1ZmQyEViMcY44HUDYW/bIeRY1uMY4Tg2FPBDKGTZQojCAT8TDgd9XiYcFjZvQQhDAR8dDgW87qs7UwsGY+wc7Fer1UqlUsAwPgdFUQghlyfECbvXJwQAgOERP8thrz8scP0LQSjM+vy0RCIWi8WChvLFKIqiKMrvCXGcoHkLAgCh3x0Mh5igLyxohQQggkyYDfjCAV+YZThhEyiEcMzuZWg26A3FSDAQUAaDYcpvMhPmkev1+ri4uPbGuqSMWYbEFIiEOWFZhu692Nx/pZUJh5tOfCpVKOUqjVBbd9OhYNOJT30uZ8Drbj19PKuoTCSWCFKnYI7zOEfa6qo4jutpbeqe1RBvyUAUJUAoAHAsM9R1pb2pPjfLajQav/wbRoNSqUxJSb7QVF/bMJCXZRRRSIDjBgHD4s4e1+mGAYxBZVWXOV4Vb1JQCPL9nAcBxiBMs9X1fZ29npWr7ov9RC6VSi1plkNHLrbV91jzEykxJUim4DjsHPa2N/WHQ3RLbbc+Qa3WyaEQZxPGgKGZtvpe14gXItha251dlEyJKUEyKMdh96jvQnUngsg57G053TVrXqpIoGAwh91Of9PJdrVSY7Vap/w+UPB2zq+gLDCur6/funUrzXIaY7xEKuc/Y2GMg16P22GPMxnT09Nra2tlSo1Kb6BEAlQ6LMP43U7vmKOgoMDn83V0dqn1RoVGh4S4xaFDQY9zlA0HS0pKWltb3V6f1hgvkSsFuGwwCPq9boddpZA/88wzeXl5/JfGbero6HjppZdcY6MJJqVKKRGkivH56eFRn0isLCqaU1tbKxZx8QaFVCrAHRjH4TF3yD7qS7dmPvvssyaTSYDiuEODg4MvvfRyb3+31qiUq6SC3NCHg7Tb4UdYNGvWrJaWFkoCNAalSCLAEcQc9rmDboffkpoGAO7p7dYYlAq1VJC7CjrEuB1+LoxXrlrV1tbW2taqMSqUapkwwYQZj8NPB7kNGzYsX76cmuoTzkx4Iv8MhBAhlmWE6B2CiKIm30BACgEAWIb/YCAAGKJrTghEUZjjWI6d6ntOPZiIa76mKE64YxQL3b23Gy4EFIVYFmPeywoCiBCaXFYIQoggw3ACHDYAKWq6dgIihDCHOSGelxBCEH7WghK5ElmG+1JvOuVgrm1YQhTEGHOMAMUCEYQQTr6mKIQEC+ba6nHKZkIi93g8+/btEyk096173GBOFSoMzLE9Fy/UfPjOQHW1tXB+yYPrZEq1UMHQ4VDTsY/PVx9GFFXy4CPZxeVIJNix9jhGTu3fdfz4ca0xfslj30+wZArV9YsxN9R5+cQH2z/66COr1Rqbm5rQNH3gwIGgf+z73yiyZZuQUGUFcGeP6433zh89emxWhuFbj+QnmAQbVcCw3Mm63vcOXDx27NgjjzwS42MVOY6rrKwcGOq9Z+3sjAIzopAgt60AYOeQ9/gHjfX1Z9LzEitW56v1CoGGwEGWZlvrek5/3AIRXLAyP7s4hRIJVSzANeqr2nN+7969EIHyh/Jy5qdSIkqoYDwO/4m9TZ98/ElhYWFKSsrU3mgmJHKn02m32zNL7k3KysOcMPebAAAAYUbh/O6Wxu7WhsJFy/TxSZwAT8DjZApV4aJlXc3n1Hpjbuk9UrlCwD4UucWaM39h/5XW1NxCS+4cYUfTptmK+q+0dbacGR0dTU5OFjCSW/H5fL29ffmzTCVzzEJl8YiC3LjSOebdn1xaujAtw6oHrHAHDoIlFWn1TQPnz19YvXp1jO9JEwqFuru641J0OfNSRRJKwPPdnGHMKEwaHfTklVjiU3WccEcQKiU581LbzvSIpaLcEotMIRawUzfRos9fkD7YdcYUr8krTZOrJAIGI0/VFVZkHNnV0NHRMeVEPl0brCZjaBpCKFdpgLBTmzBGFKU2mBCipHIFxsLdUgCAMSeRK0QSiUypEkkkwo6EwBhL5UqxRCpXaaDQUwQhhPrEJI/H4/P5BAzjc7Asy3GcVi1FEAo+/SwywE2lkAg8lwkDqYRSKsThME3TtKChfDGWZVmWVailiP+xgZNhADBWaGQSqUimlAhaIQHMYZGEkislcqWEEiFhh2ZhjHVxKpGYkqmkMRIMBqzD4Zjym8yERH61nRYDoac2gZhatmI8khiJZ/wY4RgoIghjfoznRP0v9PSzyAgg/jvpbxIOhDFzMt8W4U+xGCwtKOidzTWBQAhi4SBFgoncdE09mBmRyAmCiJKYqOgAiIF1hIiZJYZOpy8fCknkBEEQBDGNkUROEARBENMYSeQEQRAEMY2RRE4QBEEQ09hMmEdOEPyjadrpdPb19dntdo/HAwDQarUGgyElJUWn08X4RGeCIGYSksgJ4s6EQqHm5uaampq2trZgMIgQigyoRgixLCuTybKysioqKmw2W2yuHEcQxAxDEjlB3IGOjo59+/Y1NjaqVKrCwsLs7Gyz2axQKAAAfr+/v7//0qVLra2tDQ0NBQUFq1atyszMFHzePEEQMxtJ5AAAgDG+trbFAi6mMDmYGwLjKYLP1iG5xZbYwgQ2+bjwvlc3x3H19fXvvPOO3+9funTp4sWL4+Pjr9utKDs7e9GiRcPDw8ePHz9+/Pgf//jHRx99tKysbMqbGn0lRSXo6Ux8BQS43GLqnLlVMNfUB3wVUUyVzFVksNv4GQAhwhyHMYcQAhABIRagmGihhQhFoors281nJBhjMGlDHnzt9xGixv/BS2CR959Y0uuaT5u8a1D0ywdjfPbs2ddff10sFj/11FMbNmwwm803Tc8URZnN5g0bNjzzzDMqlWrbtm2nT5/m+1zCGMDJq8IJvAQlAIIuUTfdjJ/2CAIAOI6DCEY2IObtLMIYAzhpBUb8BR8d1biuCyYSyUQRQQQ5joMQIirqRTReP1MQAMCyXKRamhwPgIJdc3f7EznGGCLk97jPHvukv/MKACAhNb2wfLE+LoH/J04IIcC4t/1SU80xz5hDoVLnFJdmFhRBiHi730QIhYKBhqrDw71dC1d9TW+KxxhjjBFCo0MDF06fGO7tksjkmflFOcWllEgUvcAi74wxvnL+bMuZU7MX3GuZZcMcF9n4zzPmqDtykKKo0mWrpTJ5tIulo6Nj+/btWq326aefTktL+8LfhxDabLannnpqy5Ytb7/9tl6vz83NjXaQEwUHEKRptup0e8OFvrUPFaZbTMIsRRlpNaGQ0+k7eLgFY7x+VZFUcrfXOZ8vctqzLHeh5nJbQxcdorUGdUFZliUrkYcaYPz5ASGPy1d7+EI4RC9eNU+ulEIA/b5g1YGzYyOez8KAQKGSVTxYpDNGZZvHiWCCgdC5qraRwbGK5XP0cRpwdZXl3vahpppLzhG3Qi3PLUqfNTsNUdGqKiNvGwyEW860tzf3+r1BY4KuZEl+fJKe4yKPgnB02FV35IJcKS1fNlvM73l+t19UEEI6HPrkndfbzp7OnVsOAD716Yfna4594+//P328mefqD0LY3tK08w+/5lg2p7jUPtDbcPLIg499d96SB3m7p7D393z67ptNNUfDweCchUv0cQkAY4jQ6FD/rj/+xjvmyMif4xq1/23Lb5esf7zioXXRq1wghAGft+aTvSf3v+8YHohLSk3LyQcQYoy7LjZ/uuuvrWdOJ1uzihc/IJVFd3PGYDD44YcfBoPBJ5544nay+ISUlJRNmza9/PLLe/futVgska70qIPQPup9693aA4eb7SPekiJLenqcMBuXQchh3NIy8NqbVXWNPRkW45rlhdMrkYfDYQAAn3MQIhfUuROtH247lj3botYrO1p7aw+f3/ijh2xzrdGukCKf3n154KMdVS1nOtR6ZdnSQrlSCgDAHPa6A+4xX+R3IIT9ncM+T7B4Ya7epInGo3Dkg4b6Rg/uPNl0+hKEsKAkyxCvjeTUjta+N3+3j2O43OL0od7RM8db1m5eMm9xXpRqJAhhOER/uO3omWMt1rwUhVJa/XFDf+fw43+3UqGScRxuO9d+8O2T7S19GbaU+fflk0TOKwhRf8flhpNHlm98ouKhtQCAhqojb//381fON5QsTeK5RZRlmPojB+lwePNz/27Jzg0F/Dtf+o+qA3/LnVem1Oh4uKtgGeb4h+/S4WDZstVVB96f1AEFGqoOjwz0fvuf/tWSbaPDof3bXj3+4Xu2+QsM8eYolRJEqLnuZNPJowseWld98IOJnTuCft+nu97QxyXOvfeB4d7uaJcJAKCpqamxsXH58uU2m+1OX5uVlbV06dLdu3efPXt24cKFPESLMf5gf0Nnz+ijq4q27qgWdqid2xN8/e2apETdBoupoblXwEimpqmp6dSpU5mZmXl5efHx8fxMQ/B5Asf3n8nMT/n6Dx+UysRDvaOv/Muusydac2anRRqQoyoUCB/dW68xqMofKGw71zXxfYVKtubb9050lPi9wW0vfpg2K8lk1kevnqTDzKfvnaJp5v51pSc/bpiokDiOO1XZFPSHfvCLDalZiaFA+M3f7Tu8+3RucbpSHZX2OQjhYM/o+VOXF60sfmDDApGIaqy5tOuVjzta+maXZztHxg7srMqZnabWKT0uf5RK43OQPnKAMQcwVml0EEIIoNZoEkulPFwwNwqHQz2X2yyz8pIzsgAAcpV6VuG8we7O0cF+nqpjCObd9+DXn/25OS1j8n0DHQ4211WnZuWmZOZgzEmk0tkLl4SD/oGu9uj1fWKOS8mY9fg//PPsBfci6rM7TkokWvbopjWbn9XHJfDQE8UwTE1NjU6nW7x4caSr8s5KFMKKigqj0VhTUxN5vOPBorLMX/zTqtm2ZME3hhCLqO98vezvn16SlKCZjpueBIPB6urqt95664UXXnjllVf279/f3t4eCASi/bksyynUcrFYhDmsVCsUKhlCkJ8xVohC9z08/2tPLjPEayeur8hDsEhEicQikVgkFovOnmgds7vvX1cqkYqj+sBTvqzw8R+vSMlImPzXhwLhkYExa06yOc0EAJCrZHlzrY4h13CfI3o9ffo4zbd/uubeNfMlEhFCKCUjXq6SIRHCGMvk0vXfW/rQNxaptApBurHu9idyjLHOlGAyp1Qf3K1Qa8QSSfXBPWqdwTLLxv/xgAAgCrEMgzkMRBAAKFUoMOY8Y1Pfp/aOioKiRGmzbIiirttMnQ6FfG5Xem4hQhTHsRzH6eMSZAqVY2ggeqkCY5xgsSIIh3q7JlcoEqksPbcg0nPPQ7E4HI7Ozs6cnJz4+PipvYPBYMjPz6+trR0cHLRYLNEOGEKYNysRUIjjhM6cGCsVkoK8ZAABF7WDNTIycuzYMZZlo/HmPT09CCGO45xOZ11d3ZkzZ9RqtcVisdls8+bNS0pKikbakMol1tzk5vr29Nxms8XUXN/hcfryvmalRBSO8jHFGIslotTMRAivqf8mjzVDCNkHnFUHzs67z5aUHhfVUTJiiSjTlgoh4Lhrd1OHECIYDtP46hhyuUrGMKzL4b0u8q8wGLVWodEpMcYchykRGhkYE4kpQ5wGYyxXSq25ybxVSje62xM5AFhnjFu24ds7//Drv/7nPyOKwhivf+ofjFFrMf4cYqnUMst29tinl8+fzbDNDvi8rWdO0+EQQ/PxJHd1f96bnIssywCAxRLJxK9FBmz7PO7oxnNDKBNB8lAgEYODgy6Xy2azfc7jeDgcZllWLr95mx6EMDc399ChQ3a7nYdEDgAAODY2aYzU7zgm5+vEKoyxWEzd9/D83vaht363X61TeMb8S9aV5BZZMYejPej1s+vrFp8SGWV26tMmhFDZ/YUAAsxFK6Rrg7nmI6QycXySvu5o85Xmnoy8lKA/1Fh90ecO+D0BAGE0zv5IMBMj5O0DziN76uYtzotPNkRqIwGzOLjrEzkGEDmGBg6/v8OSnTdn4f2Iopprqw797S19fKIlKzdy2HiLhqJEpfev6Ghp2vG7X6Vk5oRDQbFEqlRreWpTuzV4w4UUubhEYrGwgfHA5/MxDKPT6T7nd+rq6rq7ux977LFb/YJWq5XJZF6vV+i/ZgYymUzr16+P0ptXVVWdPXsWQqjT6TIyMnJycnJzc81m861u2r48CGE4xBzeXcvQ7NrN9xkTde3NvU01l4wJ2gUPzBF8cSEIgcPuPneytXhRrj5OAzDgP6RIq0DZssL2lr7X/++e9JykYCAslohUWoVMIY1eS+rVicqg/ULv/u3HE1JNi1YUR+5sBD8ud3kihxDC1rOn+tovPvl/fpOek48xtmTn/fGf/+7ssU9SM3N4PTwYYwCSM3M2/fT/tNTX+Nxjllk2Ohze8+d2jcEkbDGJxBKEkM89FrnVhRCGAn6WYTQGE4jK7W8MoWkaQigS3fxK6e3tHRkZGRoa6unpaWlpwRjn5d1k3KxEIhGLxX6/AKNgiC9DJpMtWLCAz8FuEMGhvtG6o80PbVy4ZG0JxjhvrnW4z1H10bk5C3IUKiEX/Y1M1u1o6Qv6w7b5mRBCzGH+nzIiudOSbX7i52vPn77s9wbTss0sww73jmoNqijVRhOzYRuqLx18+2RhWdb9j5RK5ZLoNUjckbs8kQOMsWtkGEIoV6gwhzHmpDK5WCIZG7GzDEOJeCwfCDHGfo9LLJHe+/BGhBCAYP+br6l0BmNiMg+NNuP3lRBCOD6uBkKIIGIhFkuk8alpw3094VBIIpVCRPV1XAr4vKaEpGiXCRxf+AUCACGCmIPg6v3v1SARRDB6rY5isRhjzDDMTX/qcDh27NjR29vrcrl6e3uXLVuWl5d346+Fw2GapvmYfhZpKoGfrU1xtfCutrfzWedMBINA5CgiCEGkD5P3hfmmprCwsLCwkOctcLxj/pA/rNTIAQQciymKUqhk3ZcHQ4FwtBP5xEMnhOPtgJH6INI3DyHkWK6lvl1jUCWkGCNLtfATDJwcDIsBAF6XXywWLV1fhhAEAH7w50NKjTw+xRilYQTjfQqVTR/trFqytuSelXMpMTX5NL4a6tVaK5qV0o3u9kSOIIxPtgQD/oaTh0vuX0lR1PnTJ5zDQ3MW3i+SSPB1IyyiDEJ49tinJz/6YM0Tz6Zm5vZ1XGqoOly+fI1aZ+Bh5B2EkGUYr3sMAuDzuDiOcztHHcMDIrFEpdXNqVjy/mu/qzt8oKBssc89dvLA+0npWYlpGdErIoyxd8zBMozLMcIytN/jcg4PQoQkUlnA7wUABHwehg67RobpUFAqV8iVqmiEoVQqRSLR2NjYTX9aUFCwefPm559/XiKRrFu3bvHixTe9bl0uVzAYVKmiEuE1IGRZbswVoDF2OP0cxo4x/+CQW0JBnVaBeM6dEAZDtMsdwBC6PMEQzQ7a3QqfRK2UKhVSXiOZKgF2scNAH6eRq6QNJ9ssWYlqnaK/0375fI8pUafURH3hIwghQzMelx9CGPAEGYYbG/FwLCeVS+RKKYQwFAg77G6zxSSRRr1bDULIMqxnzA8g8Lj8LMu5HV7HkEskplRaxanK8yc/OvvI95am5Zh7Lg82nGyreLBIrY3WvTKEwN7vPPj2yZSMhLx5GS6nNzIfVioTK1SycIj2e4IAgKA/TIcYp90d8ErkSqmMr/P8bk/kHMfZShYuWN528qMPmqqPiiQS5/BQQfk95Q+sxrw/N0AIc4pLL9RWvfvKbxRKNQagsHxxyf0rIgMpon5nB6HTPvTuK79xOex0OCSRyj740+8hQnlzy9ds/qFtfsVgT+fh93fUfLw3HArKVepHvv8TuUodvTsMlqE/2PqHvvZLAONQwF914P3TlftNicm2kooT+97DGAf9Poamt/3mXyCCCx5ad8/qR6MRTGJiolarbW5urqiouOl4tyNHjpSXlycmJlZVVZWVld342I0xbm1tVavVcXFxUSqryVzuwH+89HFnj4NhWKVC8tqbVdSOmoIc83N/94As+pXvNRBsaul/8X8OcRj7A+FQiPn5r3ZDCL65vmTtQ7N5jWT6wBjHJxlWfWtx5d9ObfnVezqj2j7g1BpUK795Dz+5c6B7ZOdLH4VDdDAQDgfpN17cCwEoe2D2skfKIAKhIB0O0cZELRX9CboQwrFRz19f2BvwBWmaocPM3/5UiRDMnp22/smlhaVZF2ovv/3Hg0q1HCJYtDC3/IHZIHqLrkM40D0aCoR7rgz96d//Fmki5ThcvCh31TfvaanvOLDzBMdwfl+IY9mtz7+POXz/I6X3rCzmZ/LI3Z7IMcZypWrVt38wb8mDQz2dmOPiklLM6VlSmQLzO9INAMBxXFxS6rd++i+9l1vdztEka7Y5zRpZ3pyPSDDW6A0PPv5dJhyOtA5hjDHHqXUGiJCYopau/2ZB6SJ7X5dCpUlMy9DojVFtI0WU6L61jwX8vkjTGgYYYCyRytR6gykpdaKBPXJFGaK2DJ/BYEhPT7948eLw8HBiYuJ1P4UQrlixQqPRyOXyOXPm3PQBzuFwXLhwIT09/caXR4NKKd28sdwfCEfa+jAGmMNqtUws4n3jFg5nWeN++szSyEkCIzekAKSYdXxHMn1gjCGCC5bNzi6w9LYPBQMhrUGVkpmo0Sn5+XRTom7d9+7nWAyv9shEplADCDAGCrXs0aeWqfXRb1san/GlfPiJ+1iG/exkxlilUVAUik82fPfn67ovD3pd/pTMhMRUE0JRHHeGOWzJTnzi5+swxhOjgjDAWoMKAGDNS/7ak8s+qwsxwACbzHrepoDe7Yk8kq7EEoklKzctOw+AyLnCYcx3FgdXuy+Vak3uvHJ4dT4Db70sGGOJTJ6RN/v6xHw1DJFYnJKRnZI5K/I9ENXYMEYIWbLzbhYMMCYm3xh8lG68RCJReXl5Q0PDsWPHHn300eseyiGE6enpkX9nZmbetFRPnjw5Ojr68MMP89FOi7FEIsrPTbq+8xIDAXqmMdZrFfOLb1jUlps2feT8Gx8FjWB8sj4hxQDGD13kPjbqVQHGWK6UzSpMAzdcdpEAxGJRek4yP/USxlgiE2cXWG44mceHDKm0ivySTDh+akc3JIyxzqiOrPR+YzBag0pnun7BedJHzqubzp8WZiDixKoLk27keIvkswfcmz3a3vSnUYztc4O56XiW6AVTWFg4e/bso0eP2my2goKCO3rt5cuXKysrc3JyiouLo1VW15YCAJGK7dY/5U3k4276UEKy+K1dvdauXy+Bh6pg0mX+uT+NgWAi8KSVhviYYX/rJ2yeK6XrkCVaCeILyGSy1atXy2Sy7du3d3V13f4Le3t7t23bBgBYs2YNTzumEARx9yGJnCC+mNVqffzxx10u16uvvtrQ0MB90Vh9jHFzc/OWLVvsdvvGjRtzcnKE/gsIgpixSCIniC8GISwuLt68eTNN01u2bNm1a9fAwMBN1/dmWXZgYGDXrl2vvPKK1+vdtGlTaWlpLCwZQRDETEX6yAnitiCESkpKTCbTvn37KisrT506lZ+fn52dbTabI83mfr+/v7//0qVLra2tLperoKBg1apVmZmZJIsTBBFVJJETxB2wWq1PPvlkc3NzTU1NU1NTbW0tQigy/AchxLKsTCbLysqqqKiw2Wz8bF9NEMRdjiRygrgzUqm0uLi4oKDA6XT29fXZ7XaPxwMA0Gq1BoMhJSVFp9MJsCIYQRB3K5LICWIqxGJxfHz8lDcpJwiC+KqQwW4EQRAEMY2RRE4QBEEQ0xhJ5ARBEAQxjZFEThAEQRDTGEnkBEHcWszMgSfT8YmvVAydTl8+lBmRyMeXzYcAXr/NgBCxCBzA5FAi/xM6DjApjPG9LAUOha8tib5EiFevbQHLCgNwdSsIGAO1HsY4Zk7m2yL8KRaDpYVxDJxKkUDG934ROpBIMAB+uVvVmZDIRWIxxjjgdQNhb9sh5FjW4xjhODYU8AMoZNlCiMIBPxMOB31eJhwWNm9BCEMBHx0OBbzuqztTCwZj7BzsV6vVSiUfGzxPAUVRCCGXJ8QJu9cnBACA4RE/y2GvPyxw/QtBKMz6/LREIhaLxYKG8sUoiqIoyu8JcZygeQsCAKHfHQyHmKAvLGiFBCCETJgN+MIBX5hlOGETKIRwzO5laDboDcVIMBBQBoNhym8yE+aR6/X6uLi49sbapIxZxuQ0iqKEaDbBdDjU03q+/3ILEw43nfhEplQpNXqIBLh6MOZCfl/TiU+8LkfA6249fTx7brlYKhckg3Is4xoZbq09wbFsd2tj6qyCRGs2JRIJcowYmh7suNjeVJebZTUajfyXxu1QKpUpKckXmupqzw0U5MRJxCjSkMFvFJCm2fausVPn+jkOV57oNMerkhJUFIX4jwRjHAgxVbW9nb3ulavui/1ELpVKLWmWysMX2+p7MguTRBJKkFTBstgx4L7S1B8OhptPd+kT1FqjElEChIIxCAfptvruMbsHIdha2zVrbqpYKhKiWCDHck6790J1BwLIOextPt2VO98ikQkWjGvE11TVrlKqrVbr1N9I8HbOLw9jfPbs2W1vvOH2BYzJFoVKw3+SwAC7R4bH7AOpyUmpqam1tbVIqjCaU8VSKe/1HmDCYcdQX8DtLC4q8vv9bRcvqvRx+gQzokS8t7bhoM87OtAjRmDevHmXLl0aHhk1mFNVWr0gidzjHHUO9cUZDU888URubi7vAdyujo6OP23dOjTQm5qkNukVgqQBx1iwp9+t0hgLCvLr6+sx609P0SkVfCdRCADD4YFh7+CwLyfX9r3vfc9kMglQHHdocHBw65+2Xm6/pE9QaY1KiAQ4hH5PaKTfpZCqsrOzW1tbaS4Yl6KTygW4DeI47Bh0exzB7MxsDPDlK5e0cUpdnAoJUSxBX9je55JQ0uXLH7xy5UrT+UaNUaFPUAsTjJ8e6RtDWLx+/fqlS5dSFDW195kJiRwAwHHclStX6mpr+wcGAn6/ABFAqNFoUlNTFyxYoNfrz5w509zcPDw0dNMNsqIfCzTFmbKzZ5WWltI0XV1d3X7lisvlEuRYiyWSxISEouJim802MDBQU1PT19fn83r5jwQAoFKrkpNTysrKUlNTY7mbHGPc399fU1PT09vrcXsEiUGpVCYlmUtLS1NTU1taWs6dOzcwMBgOhwUJRqfXZVit5eXlMduOciO73V5dXd3d1T3mcgky1kEmlyUmJs6fP99qtba2tp47d25ocEiQIwgR0ut1GRkZ5eXlHMfV1NR0dHSOOZ2C1EhSqTQhMaG4uNhms3k8nurq6o6ODqdDmGAkUmlCQnxRUVF+fr5INPUG8hmSyCMwxqFQSJDcCQAQi8WTV9hmWTYUCglVvFKpdPJpEQ6HaZoWJBKEkFQqRZO6GEKhEMMwggQjEomkUqkgHz01sVNWGONgMPiFG7FHyXUX1zQi4KVHUZRUKp24YeU4LhQKCXIEIYRi8TWDG2iaFuqm8MYaKaaCmZoZlcgJgiAI4m4zE0atEwRBEMRdiyRygiAIgpjGSCInCIIgiGmMJHKCIAiCmMZIIicIgiCIaYwkcoIgCIKYxkgiJwiCIIhpjCRygiAIgpjGSCInCIIgiGmMJHKCIAiCmMZIIicIgiCIaYwkcoIgCIKYxkgiJwiCIIhpjCRygiAIgpjGSCInCIIgiGmMJHKCIAiCmMZIIicIgiCIaez/B7nxYeYFNN0hAAAAJXRFWHRkYXRlOmNyZWF0ZQAyMDIxLTA3LTI4VDEzOjQwOjQ5KzAwOjAwd2sz4gAAACV0RVh0ZGF0ZTptb2RpZnkAMjAyMS0wNy0yOFQxMzo0MDo0OSswMDowMAY2i14AAAAASUVORK5CYII=)"
   ]
  },
  {
   "cell_type": "markdown",
   "id": "GgoRb7krSaPm",
   "metadata": {
    "id": "GgoRb7krSaPm"
   },
   "source": [
    "The first output row is calculated in the following way:\n"
   ]
  },
  {
   "cell_type": "markdown",
   "id": "ZQz6oEIaWr1y",
   "metadata": {
    "id": "ZQz6oEIaWr1y"
   },
   "source": [
    "![IUS Short-Course - lecture_3_multiply_axis1_1row.png](data:image/png;base64,iVBORw0KGgoAAAANSUhEUgAAAooAAAEiCAIAAADxsWTFAAAABGdBTUEAALGPC/xhBQAAACBjSFJNAAB6JgAAgIQAAPoAAACA6AAAdTAAAOpgAAA6mAAAF3CculE8AAAABmJLR0QA/wD/AP+gvaeTAAAACXBIWXMAABibAAAYmwFJdYOUAAAAB3RJTUUH5QccDSotAN4XqAAAO99JREFUeNrt3Wl8FOedJ/Dnqerq6rtb3bqFDnRfSAIDQgaMsTE2Pklw4mTi2J44iZPZyezEmcns7CSZmWw2M5vdmc3k8Ow4xsZ2YhvH4zjGBhtjgw0CiUMcQlxCEgIkhI6W1FLfXfXsiwIBtrBljOopSb/vG+gWH/qv5+mqX9VTT9VDGWMEAAAAjETgXQAAAAB8GOIZAADAcBDPAAAAhoN4BgAAMBzEMwAAgOEgngEAAAwH8QwAAGA4iGcAAADDQTwDAAAYDuIZAADAcBDPAAAAhoN4BgAAMBzEMwAAgOEgngEAAAwH8QwAAGA4iGcAAADDQTwDAAAYjol3AZOCMaaqqqqqvAoQRVEQhLFiFEVhjHGphFIqiiKlVHupKArHZhEEQRAErRj00Rj00dWgj8Zl2D7SKjFCHxmqWa7ZNIznQCDQ0NDQ2dmZiMcJ5VICtdls1dXVFRUVXV1djY2Ng4N+fl9ZITk5uba2NjU1tbm5ubm5ORIO82kWRkySNHv27EWLFqmqij66VAr66CoNgz4ahyH7qLy8vL29fd++fSOBACN8+kgUxIzMzLq6OrPZbJBmqaiokCTp2v8XXl/3SRIIBJ599tmm/QfsHq/F7uDyPWGMjQz2i0yZP3/+yZMnz/f1u5PTRROfI6F4PBboP5+Rljp79uy9e/cy0exM8o2dBOgsNBqIBIbmzKlUVbXlyBGbG31ECProKtBHV2O0PjIRtaysrK2tbTQccfnSPvtZ47WgJBYOj/j78nJzLBbL8RMnuDeLoCZWr169cuXKa26Q6RbPmzdvfvGl9dXL7ihdeJP4GQ5bPqPRIX/jxlfOHm92elPq7vlSxuwiwmlLZkztbju+6/UXg4GhvPKahavWWJ1uXs2SiEVbdr53aPtmSuncW+4qXYA+IgR9dHXoo3EZr49+f/roobTcghvv/bInNYNXJaqS6Djc1LjxFSURn3fr3dybpeHNl6ODvd/73veys7Ov7T+ZVoPbiqJ0dnbaPd7ShTfZ3UmMcbvwYLU7SxcuPdd+LK+iJq9iLiGEcBrwIYTmV95wru1Ya9OuyiUrktJnMVXh1SwWu6O87ua2g3skWS5dsBR9dBH6aHzoo3EZrY8Ka2p7OloLaxamzy7m2CyU0oLqhSf3N8bCQSM0S0Xd8u2vrGtvb0c8E0KIqqqJeNxid4iSxLFjCCGMqc4kr0kym602KgiqkuA1DkYIo6JgsTtEk2R1ujk3i6qaJLNstUkWiyiZ0UdjtaCPxi8GfTRuKQbrI6vDJckWi91FCGOM8eojxpgomqwOJ6WUe7OoTHUnpzEq+AcGrvk/mXY3VlF+h9cfLYVSwggh3L6vVxRDOE2SGBf6aNxi0EfjQB9dnVH66FI1nPvoQv8Yol0uzCH/DMVMu3gGAAAwims/XkE8AwAAGA7iGQAAwHAQzwAAAIaDeAYAADAcxDMAAIDhIJ4BAAAMB/EMAABgOIjnD7v8IeT8H0jOvYApV9jMZLzu4L/tGKMG45dkwMIMVczlZen8gYjnS7TvhCAIVBAYY1QQtJVGeH1XGGOE0rGn8PAsgxBCqSAI2hqqVBAI5bOYivahVBAopaqqaH/n2DhXNJH2dx5PLPq4j+TUTZRSSilTVUqpEfqIu0u7F0pVhfNX9/LtiMu+7kIBl+3frmglUdQKu3xZ68kuhlylGEovrjiuT9NcZlo9c/uzGHtUbOeJI8eaGgP+fpfXVzpvUU5R2YVvsJ4Pq2NMi8NoJNzcsL2/+8yNq1Y7PV4uLaP94oO9PYcbt5/rbCeE5BSXzV26QrZYdW4W7eNURTl5cO/x/btDIwGrw1FYOa947gKTSeL1sF9tJ9LXfabxnTdySyora5foX4MgCN2n2pre3xyLRseqSsmcVXvb3WbZon+DUEqj4dDRfQ2th/bJVlt+eXVxzQKzLOvcR4IgHtm78+jeXfTiin6UEkJodlFpzZJbRVHUs1kopYTS82dONW3fMtTXK1utOUXl5QvqrHYnl+1ISSRaD+1rPbQvEg56ktMqa5dk5BboU8TY0dv5s537P9iSnDlL6w7tfcbYyYP7jjU1hEPB5PTM8gWL02blTl77XCxGGOjp2rvtLV961qViBCERj7Xsru9ub11w653JmbN0PtjldvbMGEskErFYbOywiDEWi8Xi8TiXw0nt69La3PTiL37afuSgJMvtR5pf/MVPW5ubPnqIp0M1hJD+nu4//ObfXnvq33ZsfDU0EuCVPdpW9Nt/+cftb7zCmDo6PLjxt0/ufnej/nGobbp7tm763b/++NSxw6LJdLJ5/ws//8n+97cQTg/7vRBFkfCW3z+/6YWnTjY36V+D9rt3tZ/Y/sYrvV2do8P+kSH/yNBAaDSg/6Y0ls2vrf3l1j+8QCn1nz/38q//V8Pm1zkcP1ESi4QDQwMjQ/6RIf/IsN/f27Pz7ddOHmricS5Ehwf6Xlv7yxMH9jo8SfFYbNMLT21Y9++xaFT/7YgQsnfrWy/8/Cdthw9IZrn1wJ6Xf/Wz7o6TVJdRMe3gYP+Od3/3f//H5vXPHNmzU1vnSiusedf7v3/iZ33nzkqS+dDO91/6xT+d62yfvMK0I/4je+tf+PlP3nrh6cuLGR7o2/jbJ//z//3LB2/8frD/vP57GG5nz5TSgwcPvv322/fff39xcTEh5OjRo6+99tqdd95ZU1PDpaRoJFL/5n+6knxf+e6PXF5fwN///P/5h11vvZZXUimZzToXoyQS9RtfDY0Gbl3z4K7Nr/MaF6SUMkION24f7D//pe/896KqeYl47PVnfr1z02s1i29xJnn1PZykodHhPe9tyi4q++J/+b4rydfXffbpn/63A/XvVS2+WbZYubQPIWT/9nc7jh7yJKfyWw+AxmNRm9P9+W9+15uaoa3VQ6kg6HuCSC4e5rbs2XmyuemB7/y3ojnzwsHR9/+4Xtsjm/Rdf5ep6pxFN1UsXHyhNkE4smfnuc72mqW3asMtehYjCMLB+q1d7Se+/sP/nVdakYjHN/72N7u3vLHsvgfSs/N0LYbS0aHBDzb8Pruw5IE//1t3ckr/ubPP/PRvGzZvWP31vxCEST9no5R2dbS+/9r6qrpldqfr8h+MDPrf/c/fFs6Zd9/X/ly22Xs625/92Q+bPngnIzd/kjYuSqm/99yW3z9fUDlXkuXLf7R7y5vnT3csvXtNw+YNXDZsntees7OzOzs7165dGwqFRkdHn3rqqa6urmteGvMzopSODA6cOXmsYsFity+Zqarbl1JZu/TMyeMjQwNcdrs1S2750nf+NruwlBLCcQ0WbR/3yN/8pKCymlIqW205RWVWu4MKVPeimFm23PnVxz73jf/q9qZQQfCmpafnzKYXL1DpXQ1jlArdHSe3v/HKwhV3pWblcru8SklgcIAx1WKzS7JstljNslU0mfQ5GfqQSDi0d+umnKKy/PJqRVHMFuvKL/3pkjs/L5r0PhlgjAmiaJLMJsksmeXw6MgHG16urF1SNGceY0zvq/KUREJBQRTtLjdjzCSZHW4Pl+8tJSQcHBkZGsgtqfSkpDJV9aZm5JVVnTi4JxgYJpNfEmPM6fGu+dbjN937RavDOTZdg1Lac7p9ZMhfdePNFpuDqWpadl7hnHmtB/eFRgKTV4zV7rz3a3++4gtftTldY8Uwxsrn3/jl//p3+RU1hFIuGzbPa8+pqanf+ta3fvzjH2/atElRlLa2th//+Mc+n49TOTQYGKKCmDorl12UOiuXMBYMDPvSMvUshTEmmky5xeWUCqrKdzFXRilNnZVLL06UUFX1XGe7Lz1Ttth0PmhgjElmuaC8hjEWDo5EQsFTxw53d5xcfOfnZYtN5+VdtZaJhINbXnk+bVbODctWtuyu53gUpSQSstV24uDens52Qml2YWnJ3IX69xGlNBgY6u44Wb14ecPmDWdajxJC8srmVC9ebrHadB7fvvyzGGP73n8nGBiuu/0+0WRSVVXnaGQqK6io2bft7ff/+NL85XeEgyMtu3cUVM71JKfqfwhFKWWMqEpCeykIomQ2BwPDsWhYh+UYGWNJKWnetIx4NHL5704JGR7oI4S6vcna5iyIos3pGuzriUUj2mHNZBRjd7kdnqR4NHpFMZTOKiimgnDudMckt8dVcZ4aVl1d/YUvfGHdunWEkK985StVVVXcSqEkGgkzpppMJnJxwzaZTCpTo+EQoVTPY+1LkxX5HLR9uBLCmHpxx9qye0fn8ZZ7HvkzbaaP/sUwpiqJxPuvv9yw+fVELHbjnZ9bcMsq7XBK/13/nnc39p7t/JPv/tBis3PMZlVRVEUZ7O1pfOeN9Jz8gZ6uxnfeqF5yy10PftNis+tcTDwaVVX1WNPu0eEhX3pmz+mO15/51VB/721ffFiHgdOP0ubuDZw/t+e9jfOWrUzNyuEyi5AxNa9szuI7P7fx+SebGz6IRsK+tMzPffMv9b8owxixOlze1PQTh/bVnGrzpWX2dZ9pPdRECUnEYjoUcGFDHufEg4ZGR1RVuXQRhBGHK0kQxUQiPvnFfHj75TDEciXO8SwIwvz589euXUsImTdvHt+lvD86Rsq0teCpYIzlvbm5MIkxFtu7ddOutzfcvPqB3NIKXtOOCCFUEIqq5lntjp7THcf373F6vHUr79V57JRS2nniSMM7G5bd96XswpLgSIAQSqkgCKKqKvoHQPWNy2cVFOeVzvEkp0Yj4fde/V39m69WLbqpuGYB03cARpQkQojN4bjva9/xpKSGR0de/vXP9ry7sXbFXZ6UNP33d9qU6SN766OhUFXdMkqp/qfOhBAqCCf2Nex+d+PCFXcVVd0QGh3Zv33Lpt8+9cU//77D5dG3FmZ3upfd98CGdU+s/cnfZOQVhEaGZYtFlCT9Jyt8yNgtVeTC+QmJRcOqqnI5sOOOczxHIpH169enp6cTQtavX//Xf/3XFove94FcwJjN4WKMhUZHKCEqYwIhweEhxpjd5eJ4YsSdls2R4Oh7r/7u2P7dd3z50fL5deSysNSNtt2qqiIIYkHF3MI58xKx2B+f/uW7rzxffkOdLz1TzyOGWDT6wYaX49FoNBJq2LwhGg6PDA10n2rb9/7m0nm1VrtDt0q0jsgtrcgrq1QVhTFmsdmr626u3/iHMyePlcxdqOd3lxEiW6wWmz2nqNzl9amKYnU4c4rLTzY3RcMhHQZOxxUJjrbs3plTXO5NzeB1A14iHjtY/55kllf9ydftbg+lgtPjffHf/md7y8Hqxcv1PIRijFFK5i651ZuacfJwE2OksHLukb07w8EdFpuD456OEeZwJwmCEItEiHZcxVg4OCqZzSbJPAN3wZzjefPmzY2NjT/4wQ8IIT/5yU82b9587733cqmEEeJwuc1my5nWY9WLlwuCwBjrPN5idTjsriSdvxkX9iCUjt3TRalAqcCYQnTORcYopeHRkdef+dXZthNrHns8v7zq8nvhdN3TUTrY27PttRdL5tbOqV3KVFUyyw6PNxGPT97Y19UoSsJqd7q8vsMN27WXo8ND8Vjs0K5teaWVVodTt9NEbVL08QN7TJI5v7xKEARBEPy9PfFoRBB0PxlizGKzZ+UXnT/bGYtEZJuNMBIaCWjTKfQu5mL7DA30nT/TseILD5llmddkjngsNjTQ53AnmcwyU1UiEJvTpSpKf08X1XfmkTZ+MDLkT8mcVVBRQyiNhkPvvfrbvNJKu9Olw/d27L5nSgVKxvZvlBCSmplNCO0505FdVEpUNRaN9HWdycovttodk1TY1YoZeyqUtgu+8Jgdok3C0Wm/xzOejx07tm7dujvuuGPBggWEkNtvv33dunXFxcWlpaUcqmHMmeSrXLT0YP3W4poFmXkFZ9tPHN69Y+7SWx1uj84jctoOd3R4kBAyMuRXEomAv1+2WiVZtjlcOiciFYTmhvcP7Hjvzge/mZSS5u89p31vbQ6nWffLZoIgHD+wp/N4i8VqS87I6u/pat61LSUr2+Hy6DzYLlusdz/0LUVRCGGU0FBw5Lmf/WhWQcndD39bttp0nxVMW3bvaNlTv+axx7MLS/29PTvefMXmcBVU1ug8sk0IMVusZTfUbVj36/q3/lB94/KBnq7mxg+y8osc7iQ+M9sp7es6QwjJyC3geCVRli1Z+cWNmzcc39+YX1GTiMUO1r9HBSG7sFT/ZlESibdeeGqwt+fer33H4fY0fbDl/JnOZfc+IEqSqiiTvYehlIaDo5FQUEkkopEwIWSw77xJkmxOly8jK3N2Yf3GP6Tn5Lu9yUf27mo/cvDOB79htlgn6Zt8tWIsNns0EiaMjQz6FUUZGfQP9vYIosnucus20s4znoeGhm6//fbPf/7z2uN7HnjgAUmShoaGuBSjDeEuvev+wd6eV/79f9ucrtBIILe4fMmda6ggMH0vVlFKh/p7X/rlT0eHh5REIhIOvvIf/0IpraxdesefPGoy6XrzqJJIdJ9qo5TufOu1XW+/rg1PiibTHV9+tHLRTbru/RnzJKfe8/Cfvf3S0+t/9c+SZI6EQ56UtDsf/IbN6dZz3FQ7fJatNu2l9txKm8Nlc7psDqfO89QYYyaTafGdn/f39rz6H//XYndEw0GL1X7fo9+ZlV+s966fMaaqc+qWnWk7/v4f1+95d1M0HHK4PSu+8LDV7uDzxCFCgiPDZovV7tL1S/IhgijWrbynp7Pttad+4UvPjISCwcDw0rvvzyup5HAIJcuVC5dsePbfn/1fPzCZZZPJdNsXH86vqNZnRycIYtP7m7e/8QoVxPBogBCy9n/+jUmS7vjyo3Pqlq184E//uPYXz/+fv5ettlBguGbJLdVLbmWqOknb1LjFSGb5xjtWH6h/b3igT0kk4rHYpt/9RjSZcorKPveNv9RtuiW3eGaM1dbW1tbWjrV4amrqY489Rnhc1CTadU1VdfmS7//2X53rbPf3nvOlZ6Vn51nsDp2zmVy8L3DVV76pJOLazBbGGCPMleQV9R+uJKRu5b0VC5cQRsilOxSF1Fk5Ou9WtC9GZe2SnOKyob7zg/3nZYstq6DY6U7Sc8SJfOQJZYwxSZbvevhb2r1DH/0Hk12MdofoV777w66O1sHeHqfHm5Gb7/alEB4XIBhjVpvjnoe/Xbvirt6zpy02W+bsIo8v5cI8WN03bVVVi6puSM3K4XIL0xjGWHLGrD/57g+7T7UN9Z03SebUrJy07DyTpPfzaLVGKF+wOCOv8MzJo6qi5BZXeNMyiF7fFlVVSm9YlJKVM3bxTnuEQOqsHFVRsgtLHv6bn5zrbAsGhlIyc1Jn5ZhlK2OTtRMevxhB8KZmpOfMjseiF/bAhBHGrHbnhx5dMql4PjVsgm/qWRJTVYvNnl9eXVBRzRhhTNU/mwkhjDGzxVJQUUPoR36g+5mZIAjpObPTc/Ov/IF2s5Xe9zJpn+jyJru9KbmllYQQpjKds3ncVhJFU3ZBCSOEqap2/Ur/Iqx2R1HVDdr0Ky0LuR3pMtUsW7ILSnIKS/kWQwhhjHlTM3xpmfp/Yz9UBqXU7nQXV8+nF9/R/4ZActl25EvL8KVnajNh9ewgxpgvPSs5Y9aV717apTg9XpfXRy810STuhK9eDPOlZXx4Q9a3y7AkxhXG7qwdO8jm81ifi2WMOxSn/929V7v/j8uun1ws6PLG4X5gRy5bhIdLBdqfTFXZFW/zaZaxBvnQcx74FcN49s6Vv74R+ujy7Zpd+aZOn37ld+MjrXH5PnhyC/uYYhgjfPd7M/FmMgAAAINDPAMAABgO4hkAAMBwEM8AAACGg3gGAAAwHMQzAACA4SCeAQAADAfxDAAAYDiIZwAAAMNBPAMAABgO4hkAAMBwEM8AAACT5NoXSZt28cwI4bk4wpWlMEYoIYRyXMbuUjEcl7r9KPTRuMWgj8aBPro6o/TRpWo499GF/jFEu1xYheUzFDOt4lkQBJMkRYKjSjxOKc9fjVJhZNCfiMdi4RCXJSkvr4UpaiQ4qiTi4ZFhzs0iCIl4LBoORUNB9NHltaCPxi8GfTRuKQbro/BoIB6NRIIBQijfNcEUJREeHYmGRpV4jG+zCFQY7j9Pmer1+a75P5lWC0qKopibm7tzV8Ox3R+U1t5ktti4fFdUVQkM9B7bvV2Jx0+1HMjIL80sKBFNJh7HdCwRj3edPHqqZX8sGjm8Y4vV6Xa4vYIo6t8sjKnRULBl17ZgYJBSemzPB6UL0UcEfXQ16KPxSzFcH/WdPNAYi4RPHtidmlPgTc8SRC6xwmLRSEfzvoFzZ5RE/Nie7bybpbdl11a7zZqfn3/N/48Rxouup0Ag8Oyzzzbt3+9ISklKyxBEk95DUZREQ8GB7jMiUebPn3/y5Mmevv7kzBy7y6P/boUxNjLYP3i+KyMtdfbs2Xv37mWi5MvIlm12/ZslEY8Nnu8ODw/OmVOpqmpLyxF7UjL6CH10tWLQR+M2iwH7yETVsrKytra2kVAkOSvHanfy6CN1qK8n0H8+LzfHYrEcP3HC7uHcLAJLrF69euXKlYJwjefx0y2eCSGBQKChoaGtrc3vH2Aqh9/OLJtTU9NqamoqKiq6urp279599uzZUDCofyWMEIfdnp2TU1tbm5qa2tzcfOjgwd7e3kQioX8xVBC8Xm9RUdGiRYtUVUUfadBHV4M+Gpcx+6i8vLy9vX3fvn3nznVHwhEOzUKp2+POzc2rq6szm80GaZaKigpJkq79l5p+8UwIYYwlEol4PM7ltxMEQZblsSMmxlgsFuOyJRNCTCaT2WweG+FRFCUajXJpFkqpJEkmk0krBn00Bn00LvTRuIzcR6qqxmIxRVH0r4QQIkmSJEkGbJZrNj3jGQAAYEqbVjO3AQAApgfEMwAAgOEgngEAAAwH8QwA1xNjrK+v7+zZs5dPEfL7/WfOnOE1sQtgKkI8A8D1RCl95513vv/97589e1Z7JxaLPfHEE0888UQsFuNdHcCUgXgGgOuspqbG7/c3NDRoL3t6evbs2VNVVWWz2XiXBjBlIJ4B4DorKCiorq7esWNHKBQihOzZs0cQhBtvvJF3XQBTCeIZAK4zWZZvueWWtra29vb2WCy2a9euuXPnZmVl8a4LYCpBPAPA9XfDDTd4vd6dO3eePXu2o6Nj+fLlJtO0WoAHYLJhgwGA6y85OXnJkiWNjY2xWCw5OXnOnDm8KwKYYnD2DACT4qabburp6Xn11Vfr6uo8Hg/vcgCmGMQzAEyK2bNnl5aWiqK4ePFi3rUATD2IZwCYFIqixGKxhQsX5ubm8q4FYOpBPAPAdZZIJAKBwJtvvtnW1rZq1Sqz2cy7IoCpB1PDAOA66+jo+OUvf3nq1Kkvf/nLdXV1vMsBmJKw3jMAXGf9/f379u1LS0srKyuTZZl3OQBTEuIZAADAcHDtGQAAwHAQzwAAAIaDeAYAADCc6TlzmzGmqqqqqrwKEEVREHDoA1MbtiMAjqZhPAcCgYaGhs7Ozng8QSifGuw2W3V1dUVFhSRJvNsD4FqMbUcJftuRDdsRzGDTbeZ2IBB49tlnD+xvSk6SnQ4zl1+OMdY3EIqr0urVq1euXInDf5hytO2oaX+TI0m22GXCaTsK+IMCtiOYqabb2XNDQ8OB/U1335q//MZcsyTyOvYYGAy/+MeWt956q6KiIjs7m3erAHw6DQ0NTfub5i0vLF+UZ5JEwiGfKSFkZDBUv6EZ2xHMTNMqnhVF6ezsTE6Sb74x1+O2En4DA3aHecXS2U++cKi9vR27FZhatO3IkSSXL8pzuK0cB9isds+cxQVb1x/AdgQz0LQaL1JVNR5POBxmsyRyzGZCCGEsPcUuCOrAgJ93qwB8OqqqJuIJi102SSLfi18qY54UO6OqH9sRzDzTKp4JIYQSwngMxX20EEoIYdPs0j7MFNp2ZIANiRJKCGEGqARAZ9Muno2G05RXgOkBsQwzFuIZAADAcBDPAAAAhoN4BgAAMBzEMwAAgOEgngEAAAwH8QwAAGA4iGcAAADDQTx/LDxUBOCaXL7p4OE8ANcA8XwlbT9CKR4nAnBttDAWBEoFyhijAtUWm0JIA3wq02pJjM+KMUIpI6TlaNfW+tb51Tl1C/JxAg0wcYwRSikh5NTx7iP72ob9o26vo/yGgtziDEopY9rDbgHgkyGeL0NpOBx7Y0vLS6/tO9nRZzIJdbUFREE8A0wUpYRScvxg58v/b7PH68zMTW5rObtv+9EvfmtlSXUu7+oAphIMbl9GoI1Np97eemT1qqpkn4PiOB/g04tG4u9v2OdOcjz8V/eseey2h/7qHpfbvmPj/lg0wbs0gKkE8XwZleXnJv/oe6tWLi8TBWQzTHmhUKivry8ej+v2iZSSwGDwdOu5ObVFbp+Tqczjc85ZVHT65LnA4CiOeAEmDoPbl2EsJ9tLKD1/PsC7FIDr4OzZs88991xmZmZJSUlpaWlKSorZbJ7kz6SjgZAgCmmzvOyi9GwfYSQYCCenJ2ENKoAJQjxfhlKDrHELcF2oqtrX19fe3t7Y2Oh2u4uKisrLy0tLS5OTk81m86RcvqEkFo4zlYkmkZAL08REk6gyFgnHLi4jDQCfDPEMMFWFQqGtW7eGQqFxf0op7e/vj8fjoiiqqur3+xsaGvbs2eNyuSoqKurq6iorK02m678HoMI4uU8JobhgBPBpIJ4Bpj9tkFmWZZ/PV1JSUlxcnJmZKYriJHwSsTksjJHQaIQSojImEDo6HGKM2Z1WnDoDTBzi+aKxWzIpvTRhTns+CbvspwCGYbPZ7rrrro/5B8eOHWtqaqKUpqamlpWVFRUVFRUVeTyeyThp1jDCHG6bWTadPnFu7pJSQaCMsY5jXVa7xem2MeQzwIQhni+ilDEWGIlEool+/6iiqKPBaP/5YZUxr8dmMk3CeQbAJHM6nbfddlt+fn5+fr7L5ZqU0+UPYcSVZK+qK96/41jp3NmZs1POtJ1vbmi9YVm5w21DOgNMHOL5kkRCff6V3dt2tmovt9af2L3/lMdt+/vHV2VlerBngSknIyNjzZo12jM19aE9xXPZPfP9vcMv/fotm9MaGgnnlWbedPcNVKBMZXicAMAEIZ4vEUXhzlsraufmUUoopYwQxpgkid4kO7IZpiI9g1lDKWUqc/scD/yXO8519g2cH05O92TkJFvsMrIZ4FNBPF/EmCDQ/Lzk/NkpV75PCGO49gwwQVpCW21yQXl2YUU2Y4QxhmwG+LQQzxdp+w52lUUksWcBmDAtiRm7tEgVshng08JDPQEAAAwH8QwAAGA4iGcAAADDQTwDAAAYDuIZAADAcBDPAAAAhoN4BgAAMBzEMwAAgOEgngEAAAwH8QwAAGA4iGcAAADDQTxPMix1BfAZ4FHdMGNNu3hmhFBDbNOMEUIoVgKAKUnbjgywITHCCCHUAJUA6GxaxbMgCJJkGh2NxeIK5zWmKO3pC6qq4PN5ebcKwKcjCIJJMkWC0URc4Xt8KVA61BekTPBiO4KZZ1otKCmKYm5ubkPDzm27Tt+8KEc2i5TqPrxMiaqSgcHQlh0dVpszPz+fEJJIJBjjM8xNKRVFESfxMHHadrSrYeeRxlPltXmyVeLx9aGqog4PBJvr2+0XtyOAGWVaxTMhZNGiRYcOHfrj5kM7955NclsEQf/9Co3GEn3+UDCkrFmzJpFIrF//st/vZ4xxGJ9jRBCE5GTfwoULs7OzEdIwQdp2tHfLobaD3UlpTkHksR2FYv3dw9FQ4v7778/KyuLdJAB6m27xPEYUBVUliqrq/LmUEEqpQKkg0O7u7vr6+oG+c+mpDsnE5zpCNKbs3TO6b9++Rx99tLCwkEsNMHXFY0p/9zCXoR8qEF5jTgBGMN3iuaGh4ejRlvtWFi+vyzFLIq+te2Aw/NKGI+9/8EGK1/bYg/NKCry85rYwxo609j/7SvNbb739zW/mmM1mPi0CU0pDQ8ORoy3zV5SULcgVRMplM6KEhkYi9RsOv/POlqqqquzsbN6tAqCraRXPiqJ0dnYme+Sb63I8bivhd+htd5hvXpRztHVgflX6vKp0Prs3DSXzazJaWvubWo4PDw+npKTwKwWmBm07snvk8to8h9vK8RTW4bbMWZy/df2B9vZ2xDPMNNNq5raqqvF4wuEwmyWRYzYTQghjyV6r2SzarBKllGcxjAiC4HKYE4oSj8d5tglMEaqqJuIJi102SSLf4WWVMU+KnVHVP+Dn3SoAeptW8UwIIdpUbQNcsbowD4tdeMG7HIBP48ItD/w3JO2qEDNAJQA6m3bxDADTCGIZZizEMwAAgOEgngEAAAwH8QwAAGA4iGcAAADDQTwDAAAYDuIZAADAcBDPAAAAhoN4/ljcn8jP+/MBPjusbAFwDRDPV9L2I5TXAhYfKYYSQumFx6BhHwdThJbH1CDbEcDUhHi+DGNaFh4+2vXLp97ftbeDCJzaRwtiQQhF42+92/Kb5+v9g0E8GRSmBMaY9kTb9mNn//j01iP72gVe2xHAVDatVqz6rCgNh2NvbGl56bV9Jzv6TCahrraAKFyWuiWEkO5zQ0+/uGvbrlZKyIqbSnxeB06gwfgopdFIrHFL87YNe7s7+kSTWLmwkHHZjgCmMhzVXkagjU2n3t56ZPWqqmSfg3I9W00klJc3NAVGIo88sMjltPJuGoCJogI9tv/U3veP3Hh7jdvnwKAPwLVBPF9GZfm5yT/63qqVy8tEgf9OZeWy0h8+fkdZUTr/UgAmjKksIyf5we/eNX9ZuSAIOGsGuDYY3L4MYznZXkLp+fMB7pWYTGJ5SSahhKkqdnBwbUKhUDAY9Hg8kiTp9qGMsdRZXoHSgd5h3HsAcM0Qz5eh1CBr3F6YBcYYpoPBZ3H27NnnnnsuMzOzpKSktLQ0JSXFbDZP9odSSgnDCs0AnxXiGWDaUlW1r6+vvb29sbHR7XYXFRWVl5eXlpYmJyebzWa+sysA4OMhngGmqlAotHXr1lAoNO5PKaX9/f3xeFwURVVV/X5/Q0PDnj17XC5XRUVFXV1dZWWlyYQ9AIBBYeO8aGwkmdJLE+a05yow3ceZtY+jWgGUagOGAiHKlaUCTAxjjDEmy7LP5yspKSkuLs7MzBRFcTI+SDspp5Re+Auh9OJ2NPZTAPhEiOeLKGWMBUYikWii3z+qKOpoMNp/flhlzOuxmUzXf0f28cUkEop/KEQI8Q8G4wmlf2DUbjPLZpPLacEODjQ2m+2uu+76mH9w7NixpqYmSmlqampZWVlRUVFRUZHH45m8k2ZKKWMsNBKJxeLDA6OqwsLBiL93mDHmdNtEnbcjgKkM8XxJIqE+/8rubTtbtZdb60/s3n/K47b9/eOrsjI9us50oeR838g//uumoeFQPK4GQ7F//tU7lJKbbyx67KtLJAn7OJgQp9N522235efn5+fnu1yuyThd/ihFUbe82nCooZUQwgg7uOvEsQOnHG7bg395Z0pGEp6sAzBBiOdLRFG489aK2rl52ogyI4QxJkmiN8mu9yxURrxJ9j97ZGk8rmhDhIwxxojPaxdF3KoOE5WRkbFmzRqdn6kpCMLCW+aUzp2tDW8zRhhjJkl0euzIZoCJQzxfxJgg0Py85PzZKVe+T7QdjM7Xnq0WqaYy+8MrCjDG4UI4TFn6P+yaMSYINDM3OTPvw9uRdv0bl2YAJgjxfNGFW42vsjCUzvuUsfue2dV/CmA8Wvqyq2xHyGaAicNIKQAAgOEgngEAAAwH8QwAAGA4iGcAAADDQTwDAAAYDuIZAADAcBDPAAAAhoN4BgAAMBzEMwAAgOEgngEAAAwH8QwAAGA4iGcAMC48pBtmrGkXz4wQaohtmmlLAtALL3iXA/BpaNuRATYkbVkYaoBKAHQ2reJZEARJMo2OxmJxhfOyTpT2+8OxmBIKxxnf9R8pUVU1MBoziaIkSTzbBKYIQRBMkikSjCbiCt81pgRKh/qClAlen5d3qwDobVotKCmKYm5ubsOundt2di6/MddmlSilhOh85koVRe3tD23bdToWV/Y1ny8rTC7J9woCh/0cI0RR2NGT/fsOnSurmOd2u1VVVRRF90IuEARBEASsKmhw2na0q2HnkcZT5bV5slXi0WNUVdThgWBzfbvd5szPz+fdKgB6o2x6jbsGAoFnn332wP6mFJ8lK81pEqne4UzJaDDe2TWsMPP8+fMPHz4cHB1KS7bbrZL+43OMkZFgrG8g6HAmfeMb3wiHw4cOHQqHI3xGChmRJNPs2bMXLVrkcDh4VAATFQgEnnzyyebDh5JSnElpTkHU/xtDo6FYf/dwNJS4//77V61aJQjTaqgP4BNNq7NnQojL5Xr44YdLSkra2toH/H6mqvrXYJbN8xdWz51bI4pic3MzIUQQhITCmN7n8YQSKoqUEEIpra+v37t3r2xKJHttvM5fh0eiu3btPHGi9aGHvoqEnhLiMaW/e5jLMTwVyDQ7eQD4VKbb2bOGMZZIJOLxOJffThAEWZaj0egTTzxx+tSxh9bMKSnw8prbwhg70tr/2z+0+IciN8xJe+CeMrfTwqUSQkg0ltj8Qcfm7Z0PfvWhW5Yv51UGfKLNmze/tP7FucsLyxbkCroPQWkooaGRSP2Gw2E/+973Hs/OzubdKgC6mm5nzxpKqSRJfGdCBQKB9vZTi2rS51Wl89m9XWgLMr8m40jrwI69Z29flp+Z4SIqt2rsDvOKpbN3H+g61XFKXaZiuNKYFEXp7Oy0e+Ty2jyH28rxCN7htsxZnL91/YH29nbEM8w02D9OlkQioTLVZjVTSnneWMWIIAhOh1kyCW6XzPkWL5VZZZPHZYlEIhxnqMHHU1U1EU9Y7LJJEvmOrqmMeVLsjKr+AT/vVgHQG+J5sly8vqvd/WyIucqGKEJrGYOUAldz4Y4H/le+tO+K/vM2ALhDPAOAcSGWYcZCPAMAABgO4hkAAMBwEM8AAACGg3gGAAAwHMQzAACA4SCeAQAADIdnPJ85c+bpp58+c+YM70YAAAAwFp7x3NPT8+qrr/b39/NuBAPDXZ8AADMSz3imlMqy7HK5eDeCUTFGKCGUsgtPcOL4ZFDt2WeGefAYGJj2HFAqUEqJqqja38feB4AJ4rwkBqU0GAxu2rTp+PHjVqv1tttuw7rrhBDCCKGECEIoEvugvvV01+Cau2t8SXZOxTBCKaG0p3d407tH0lOdK5eViSJmLcA4GGOUUkVRTx44fbSpPTgStjosxXNyS+fO1p7gzWsxU4Aph3M8RyKRZ555JpFI+Hy+LVu2NDU1/dM//ZPX6+XdLLxRQgjpPjf09Iu7tu1qpYSsuKnE53XwOYGmVFXV3fs7n3mp4UDL2RVLS25dUoJ4hnFRShlju99tfv2591MykjLzUloPnW5459Dnv37rohVVyGaAieMZz5TSQCDgdDq/+93vejyejRs3/vznPz969OjixYt5Nwt/iYTy8oamwEjkkQcW/WHjQZ6lUHLufOCp3+2cX53j89ovLlIAML7QSKTx3ebcoowvf2eV2+vo7fY/+eNX9m8/NndJqWwx864OYMrgGc+MMZvNtmTJkqSkJEJIYWGhyWTy+7Fy3AUrl5VmZyadaO97jXCNZ0bsNvkvvn5zeUnGv/1m24B/lHfDgKGZLdI9D9/s9jo8PiehxJfmychNiccSOKwD+FQ4D27b7faxi81ms1lV1dFR7P0JYcxkEstLMgklTFU5z6hhzOO2epJmEZVhds/UMjAw0NXVlZWV5Xa7TSY9NnbGmGQ2FVZkM8bCwUg4FO042tXV0bv07nmy1YzvD8DE8Z8aJoripWpMJrud0wQoQ9Eu0WlzsrjTauB9kADXoLe3d+3atWazubS0tLy8vLCw0OPxSJI0eZ+oXV1mjCkJ5b3X9ux8+0A8llh617xFt85hjGFqGMDEcY5nVVVjsdjYS0qpIGDOEcCEKIoSCARUVR33p9rcjnA43N/f393dXV9fn5SUVFRUVF5eXlRUlJSUJMvydQ/LsQCmAi2uzrXa5XOn+481dbg89sV31Igm8TN/AsBMwTmeY7HYyMiI9nfGmKqqGP4CmKBgMLhu3brh4eGrpWw4HI7FYtohbzwe7+np6e7u3rt3b35+/m233TZ37tzrPuKtzdxWVSYItKgyp7gqNxFL/Odv3t388q6KBQXJ6R5s3wATxDOenU7nnDlznE6n9tJqtVZVVfl8Pt5tYgAXbjUm2g3HVBszFAhRLvup/sWMfSqlhFLCmFGG32cqu93+yCOPfMzZc2tr69q1a4PBICFEluUPnT1ffl3puqHE3xt479XGsnn5VYuKmKpKssmVZE8klERcIYTiSXgAE8QzngsKCv7u7/7OYrFoL1NTU3/wgx/Issy7TQyA0kRC8Q+FCCH+wWA8ofQPjNptZtlscjktel+9ozQciQdGIoSwYCgWjsR7ewMmSXTYZIcdncWTKIraXQ9X43K5rFar2+3W79ozIQKlR5s6Oo51y1ZzSmZS/7nBA/XHUrO8DrcNY2MAE8cznk0mk8PhGHspiuLlL2c0Ss73jfzjv24aGg7F42owFPvnX71DKbn5xqLHvrpEkvS9gCfQPQc6/+O5HfGEOhqMqqr6+D+8qirsgdU3fOG+eZgyZmSpqamPPvqovjO3SVKKa/XXbtn4wvYXfrHRJJmi4VhSiuueh26yO6282wNgKuF87RnGx4g3yf5njyyNxxVKKSWEMcYY8XntHB7XpbLy4vTHH7tFZezyYrIy3Mhmg/P5fDpfLdKmhlUtKsotzhjsDwz2BWSLObsgzemxk8smjgHAJ0I8GxJjVotUU5n94Qc5MEYYh2vPyV5HcrLzo+8TFdee4Qra1DBKqdvn8Pic+aVZjBCmaku6IJsBPgXEsyGN3ffMrv5TnYsZ90QZe1v4iAsZzAi7cpEqZDPAp4KbjAEAAAwH8QwAAGA4iGcAAADDQTwDAAAYDuIZAADAcBDPAAAAhoN4BgAAMBzEMwAAgOEgngEAAAwH8QwAAGA4iGcAAADDQTwDgHHhOd0wYyGeJ8vF1QAuLm5hAIYoQmsZg5QCV8O0by7/cNS+K9QAlQDoDPE8WUwmk0CFUDjGdF7/8SNUVR0ZjcUT6nAgynmNKYGGo4mhQMRisYiiyLMSuDpBEEySKRKMJuIK32WmBEqH+oKUCV6fl3erAOgNC0pOFpfLlZ+ft/fg0fKilLJCnyQJhFB9z2ApYSwWV1tO9O1rPheJJN5+v8PtlD0uWRCo3uevlDBGwpHElh0dw6OJ2bPzBEFQFEVVVX3ruEQURUHA4ek4RFHMzc3d1bDzSOOp8to82SrxyGiqKurwQLC5vt1uc+bn5/NuFQC9UWaMcddp6fjx408//bR/4HzeLHeS26J/AYyRfn/ozLlAatqs7OxZu3fvdthMyV6rbDbpPtRNEwllcDjSPxieO3feF7/4xcMtLZ2nTsXjCV7Dlnabrbq6uqKiQpIkPhUYWCAQePLJJ5sPH0pKcSalOQVR/06i0VCsv3s4Gkrcf//9q1atwrEUzDQ4e55ExcXF3/72txt37+462zUwGuRSg9ObfkdNzvz5N+zbt48xJgiUUppIKFwOygRRoIREIpEXX3zxyJHDyR7Z6TBzOT5kjB0dCO3atWv16tUrV67Erv9q4jGlv3uYSx9RgeDkAWYyxPMkopTm5eXl5ubGYrFEIsGlBpPJJMtyR0fHtm3bqkqTv3RvmdvJ4TxeE40l3tl+atO2I4SQ+1YWL6/LMUsirz3wwGD4xT+2vPXWWxUVFdnZ2bzaxJgaGhqOHG2Zv6KkbEGuIFIuXUQJDY1E6jccfuedLVVVVegjmGkQz5OOUirLsizLHGtobW2Nx0K331yWmeEiKrczErvDfMuSvIb9XbLZdPOiHI/bynFOu91hXrF09pMvHGpvb8eu/3KKonR2dto9cnltnsNt5XgK63Bb5izO37r+APoIZiDE84wwMjJCiepxyZxv8VKZLAk2q2S1SGazyLkYxtJT7IKgDgz4eZZhPKqqJuIJi102SSLf4WWVMU+KnVHVjz6CmQeX3GYGSg1y6yjV7mFlhrgLm1JCCMMFznFcuMmAf8toX1vcKQ8zEOIZZjwjHLbAVSCWYcZCPAMAABgO4hkAAMBwEM8AAACGg3gGAAAwHMQzAACA4SCeAQAADAfxDAAAYDiIZ5ji8FARAJiOEM8wAVoEUmM8weNCMcZ4Chp8xNWOl3AcBfCp4Jnb8EkYI5QSSnt6hze9eyQ91blyWZkocjqwY4xQyghpOdq1tb51fnVO3YJ87PgNhVLS3Nh6/MCpsXdUxkqq86rrinmXBjCVIJ7hk1Cqquru/Z3PvNRwoOXsiqUlty4p4RbPlIbDsTe2tLz02r6THX0mk1BXW0D4rF4N42OMHd3f0fTB0cLKbEEUCCGqyqLhGO+6AKYYxDN8EkrOnQ889bud86tzfF474bu2hkAbm069vfXI6lVV69Y3UooBbsNREmpoJFJUlfOVv7jTJJm0UW1BwHU0gE8H2wx8EkbsNvkvvn7z1x9c7EtycF7fSWX5uck/+t6qlcvLRAHZbESMMSWhOFw2q90imU1mi9ksS6IoYGUwgE8FZ8/wSRjzuK2epFlENcDai4zlZHsJpefPB3i3yxQwMDDQ1dWVlZXldrtNJp029kRcGQ2EqEB3vLW/53S/zWEprZmdV5pJKWWMYcADYIIQz/BJtP2pyjuYx4oxxjrEU0Jvb+/atWvNZnNpaWl5eXlhYaHH45EkaVI/VMvgEwc7mcqcHvvBXSd2vn3wnoeWLVhegWwGmDjEM8BUpShKIBBQVXXcn1JKA4FAOBzu7+/v7u6ur69PSkoqKioqLy8vKipKSkqSZXky8tIsSyvWLCKE5JdlWWyyvy/w0i83vfNKQ9m82c4kO46sACYI8QwwVQWDwXXr1g0PD18tZcPhcCwW06ZlxePxnp6e7u7uvXv35ufn33bbbXPnzr3uI96MMZMkzqktZIyoikoISUn3lM2b/db6nUMDI64kB0M+A0wM4hk+yYX7nsnFYW7tkSCUMHbhRzpXohUwNqlRq40RvYsxALvd/sgjj3zM2XNra+vatWuDwSAhRJblD509i6J43UuilIaDkdbm02mzfOk5yYQxVVX9fQHGmMDrZjyAqQnxDJ+E0nAkHhiJEMKCoVg4Eu/tDZgk0WGTHXZZ50oYY4GRSCSa6PePKoo6Goz2nx9WGfN6bCbT9Q8bgxNFMSkp6WP+gcvlslqtbrdbv2vPlMSi8bfX77Q7rff96XKH23ay5cz+HcdyizKSfE7+UwsBpg7EM3wSge450Pkfz+2IJ9TRYFRV1cf/4VVVYQ+svuEL983TecpYIqE+/8rubTtbtZdb60/s3n/K47b9/eOrsjI9GDf9kNTU1EcffVTXmduMuJIctz+weNOLO5766atmWQqNRmblp9390E02lxUdBDBxiGf4JCorL05//LFbVMYopZQQxhhjJCvDrf90blEU7ry1onZuHqWEUsoIYYxJkujFnKPx+Hw+n8+n5ydq07arFhXlFmecaesJBsLJ6Z7M2ak2u8wYwY1VABOHeIZPwliy15Gc7Pzo+0TV+9qzIND8vOT82SlXvk84XAiH8Yzd3Oz2OTzJRfRCz7CL65iggwAmCvEMn+Rj7nvWeW+rfRy7yuJH2PUbA73YTQZ4ig3AFIa5lAAAAIaDeAYAADAcxDMAAIDhIJ4BAAAMB/EMAABgOIhnAAAAw0E8AwAAGA7iGQAAwHAQzwAAAIaDeAYAADAcxDMAAIDhIJ5hxsODoQ0MD1KHGQvxPDMwRpghYogRwggj1BD7XcYIIRTLKI2DaR3Ev2W0ry01QCUAOkM8zwhOp5MRYSgQ5bysk0CjcTUUjo8GY7G4wrkYSnv6gqoq+HxenmUYjyAIJskUCUYTcYXvsYtA6VBfkDLBiz6CmQcLSs4IhYWFJsn69ra2JKfsTbKKoqD7kC5lKhsNxd7d0eEfilBKtu06vbwux2aVKKX6F6Moam9/aMv2DqvNkZ+fr++nG50oirm5uTt37TzScKp8UZ5slXhkNFUVdXgg2FzfZkcfwYxEsSTrTKAoyptvvvnGG2/IkpKT5XbYJJ27nRISiytne0b8w7HKyipFVY8eOZzitWSlOU0i1TucKRkNxju7hhOqtHr16pUrVwoChpGuEAgEnn322ab9TU6vxZvmEkQO+RwNxfu6hwT0EcxUiOeZIhaLHTp06ODBQ729vYlEQv8CqCD4vN6iosJFixapqtrQ0NDW1j7g9zNV1b8Ys2xOS02rqamuqKiQJEn/AowvEAhofeTn10ep6COYwRDPM4uiKNFolEunU0olSTKZTNrlTMZYIpGIx+NcihEEQZZlnJB9PPQRAEeIZwAAAMPBkSkAAIDhIJ4BAAAMB/EMAABgOIhnAAAAw0E8AwAAGA7iGQAAwHAQzwAAAIaDeAYAADAcxDMAAIDhIJ4BAAAMB/EMAABgOIhnAAAAw0E8AwAAGA7iGQAAwHAQzwAAAIaDeAYAADAcxDMAAIDh/H+iE3chG8C7pAAAACV0RVh0ZGF0ZTpjcmVhdGUAMjAyMS0wNy0yOFQxMzo0MTozOSswMDowMJJsUcUAAAAldEVYdGRhdGU6bW9kaWZ5ADIwMjEtMDctMjhUMTM6NDE6MzkrMDA6MDDjMel5AAAAAElFTkSuQmCC)"
   ]
  },
  {
   "cell_type": "markdown",
   "id": "49FtF9EHZi-D",
   "metadata": {
    "id": "49FtF9EHZi-D"
   },
   "source": [
    "`y[0]` `y[1]`, `y[2]` and `y[3]` are computed by threads with `threadIdx.x` equal `0`, `1`, `2` and `3`, respectively."
   ]
  },
  {
   "cell_type": "markdown",
   "id": "2i1HYHHQVncm",
   "metadata": {
    "id": "2i1HYHHQVncm"
   },
   "source": [
    "This translates to the following memory readings:\n"
   ]
  },
  {
   "cell_type": "markdown",
   "id": "Oww3O2mYZLWt",
   "metadata": {
    "id": "Oww3O2mYZLWt"
   },
   "source": [
    "![IUS Short-Course - lecture_3_axis1.png](data:image/png;base64,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)"
   ]
  },
  {
   "cell_type": "markdown",
   "id": "khAZNXs4Zn2M",
   "metadata": {
    "id": "khAZNXs4Zn2M"
   },
   "source": [
    "If we assume that the colors red, blue and yellow represent successive segments in the GPU memory, all readings for the computation of the first row fit in one block.\n",
    "\n",
    "How it will look like for the case when we are doing convolution along axis 0?"
   ]
  },
  {
   "cell_type": "markdown",
   "id": "6B1XDpG0ZHrs",
   "metadata": {
    "id": "6B1XDpG0ZHrs"
   },
   "source": [
    "**Convolve along axis 0**:"
   ]
  },
  {
   "cell_type": "markdown",
   "id": "as-0VK-2aaIX",
   "metadata": {
    "id": "as-0VK-2aaIX"
   },
   "source": [
    "![IUS Short-Course - lecture_3_array_mul_ax10.png](data:image/png;base64,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)"
   ]
  },
  {
   "cell_type": "markdown",
   "id": "9CD_uO3Ka8vc",
   "metadata": {
    "id": "9CD_uO3Ka8vc"
   },
   "source": [
    "The first output column is calculated in the following way:\n"
   ]
  },
  {
   "cell_type": "markdown",
   "id": "IrzCdBnLdqm3",
   "metadata": {
    "id": "IrzCdBnLdqm3"
   },
   "source": [
    "![IUS Short-Course - lecture_3_multiply_axis0_1row.png](data:image/png;base64,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)"
   ]
  },
  {
   "cell_type": "markdown",
   "id": "possible-packaging",
   "metadata": {
    "id": "possible-packaging"
   },
   "source": [
    "\n",
    "\n",
    "\n",
    "`y[0]` `y[1]`, and `y[2]` are computed by threads with `threadIdx.x` equal `0`, `1` and `2` respectively."
   ]
  },
  {
   "cell_type": "markdown",
   "id": "aMS_m51UbKOM",
   "metadata": {
    "id": "aMS_m51UbKOM"
   },
   "source": [
    "This translates to the following memory readings:\n"
   ]
  },
  {
   "cell_type": "markdown",
   "id": "02pinHxobK8h",
   "metadata": {
    "id": "02pinHxobK8h"
   },
   "source": [
    "![IUS Short-Course - lecture_3_axis0.png](data:image/png;base64,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)"
   ]
  },
  {
   "cell_type": "markdown",
   "id": "qsmm48sLaOFB",
   "metadata": {
    "id": "qsmm48sLaOFB"
   },
   "source": [
    "Of course, the above examples have been simplified for the sake of clarity of the description.\n",
    "\n",
    "Anyway, as we can see in the above example, the stride is expected to be much larger for the convolution along axis 0. \n",
    "\n",
    "Will it impact the bandwidth?"
   ]
  },
  {
   "cell_type": "markdown",
   "id": "l08qsKVqLa2_",
   "metadata": {
    "id": "l08qsKVqLa2_"
   },
   "source": [
    "**Experiments**"
   ]
  },
  {
   "cell_type": "markdown",
   "id": "VXjUNTptbWBI",
   "metadata": {
    "id": "VXjUNTptbWBI"
   },
   "source": [
    "Let's do the experiments to verify the impact of the stride on the kernel's performance."
   ]
  },
  {
   "cell_type": "code",
   "execution_count": null,
   "id": "adequate-experiment",
   "metadata": {
    "colab": {
     "base_uri": "https://localhost:8080/"
    },
    "executionInfo": {
     "elapsed": 66,
     "status": "ok",
     "timestamp": 1624793215022,
     "user": {
      "displayName": "Piotr Jarosik",
      "photoUrl": "",
      "userId": "07939774369485222074"
     },
     "user_tz": -120
    },
    "id": "adequate-experiment",
    "outputId": "b77422d7-92af-4e7a-bd05-b2288af55e15"
   },
   "outputs": [],
   "source": [
    "%%writefile 3_1_2_convolve_strided_access.py\n",
    "\n",
    "import math\n",
    "import numpy as np\n",
    "import cupy as cp\n",
    "import gpu_short_course.tests\n",
    "\n",
    "convolve_axis0_gpu_kernel_src = open(\"3_convolve1d_axis0.cc\").read()\n",
    "convolve_axis0_gpu_kernel = cp.RawKernel(code=convolve_axis0_gpu_kernel_src, name=\"convolve1d_axis0\")\n",
    "\n",
    "convolve_axis1_gpu_kernel_src = open(\"3_convolve1d_axis1.cc\").read()\n",
    "convolve_axis1_gpu_kernel = cp.RawKernel(code=convolve_axis1_gpu_kernel_src, name=\"convolve1d_axis1\")\n",
    "\n",
    "\n",
    "def convolve_axis0_gpu(x, h):\n",
    "    y = cp.empty(shape=x.shape, dtype=np.float32) \n",
    "    x = cp.asarray(x.astype(np.float32))\n",
    "    h = cp.asarray(h.astype(np.float32))\n",
    "    height, width = x.shape\n",
    "    n = len(h)\n",
    "    o = int(math.ceil(n/2)-1)\n",
    "    block = (32, 32)\n",
    "    block_h, block_w = block\n",
    "    grid = (math.ceil(width/block_w), math.ceil(height/block_h))\n",
    "    convolve_axis0_gpu_kernel(grid, block, args=(y, x, h, height, width, n, o))\n",
    "    return y.get()\n",
    "\n",
    "\n",
    "def convolve_axis1_gpu(x, h):\n",
    "    y = cp.empty(shape=x.shape, dtype=np.float32) \n",
    "    x = cp.asarray(x.astype(np.float32))\n",
    "    h = cp.asarray(h.astype(np.float32))\n",
    "    height, width = x.shape\n",
    "    n = len(h)\n",
    "    o = int(math.ceil(n/2)-1)\n",
    "    block = (32, 32)\n",
    "    block_h, block_w = block\n",
    "    grid = (math.ceil(width/block_w), math.ceil(height/block_h))\n",
    "    convolve_axis1_gpu_kernel(grid, block, args=(y, x, h, height, width, n, o))\n",
    "    return y.get()\n",
    "\n",
    "\n",
    "gpu_short_course.run_convolve_2d_input(convolve_axis0_gpu, axis=0)\n",
    "gpu_short_course.run_convolve_2d_input(convolve_axis1_gpu, axis=1)"
   ]
  },
  {
   "cell_type": "markdown",
   "id": "AbAFOMexblhy",
   "metadata": {
    "id": "AbAFOMexblhy"
   },
   "source": [
    "Traditionally, let's test the output produced by implemented functions."
   ]
  },
  {
   "cell_type": "code",
   "execution_count": null,
   "id": "rising-tuning",
   "metadata": {
    "colab": {
     "base_uri": "https://localhost:8080/"
    },
    "executionInfo": {
     "elapsed": 1166,
     "status": "ok",
     "timestamp": 1624793216189,
     "user": {
      "displayName": "Piotr Jarosik",
      "photoUrl": "",
      "userId": "07939774369485222074"
     },
     "user_tz": -120
    },
    "id": "rising-tuning",
    "outputId": "4c74105d-4aab-418c-a095-a948386b1fa7"
   },
   "outputs": [],
   "source": [
    "! python 3_1_2_convolve_strided_access.py --mode test"
   ]
  },
  {
   "cell_type": "markdown",
   "id": "gmddpie3bse-",
   "metadata": {
    "id": "gmddpie3bse-"
   },
   "source": [
    "And now benchmark it."
   ]
  },
  {
   "cell_type": "code",
   "execution_count": null,
   "id": "31NCkiJAy0OJ",
   "metadata": {
    "colab": {
     "base_uri": "https://localhost:8080/"
    },
    "executionInfo": {
     "elapsed": 14117,
     "status": "ok",
     "timestamp": 1624793230308,
     "user": {
      "displayName": "Piotr Jarosik",
      "photoUrl": "",
      "userId": "07939774369485222074"
     },
     "user_tz": -120
    },
    "id": "31NCkiJAy0OJ",
    "outputId": "d1eb0750-a9f8-47f4-96c1-627475843530"
   },
   "outputs": [],
   "source": [
    "! nvprof --trace gpu python 3_1_2_convolve_strided_access.py --mode benchmark quiet=1"
   ]
  },
  {
   "cell_type": "markdown",
   "id": "CTgHQiOX1-vG",
   "metadata": {
    "id": "CTgHQiOX1-vG"
   },
   "source": [
    "On my GPU (Nvidia GeForce Titan X), convolution along axis 1 takes much less time than along axis 0.\n",
    "\n",
    "We can use profiler metrics to verify what memory access efficiency for both cases we have:"
   ]
  },
  {
   "cell_type": "code",
   "execution_count": null,
   "id": "civilian-constant",
   "metadata": {
    "colab": {
     "base_uri": "https://localhost:8080/"
    },
    "executionInfo": {
     "elapsed": 6289,
     "status": "ok",
     "timestamp": 1624793236614,
     "user": {
      "displayName": "Piotr Jarosik",
      "photoUrl": "",
      "userId": "07939774369485222074"
     },
     "user_tz": -120
    },
    "id": "civilian-constant",
    "outputId": "31917e38-75cb-4083-a866-1e82a46a3cdf"
   },
   "outputs": [],
   "source": [
    "! nvprof --metrics gld_efficiency,gst_efficiency python 3_1_2_convolve_strided_access.py --mode benchmark n=1 quiet=1"
   ]
  },
  {
   "cell_type": "markdown",
   "id": "_2mBwUDf87yB",
   "metadata": {
    "id": "_2mBwUDf87yB"
   },
   "source": [
    "# 3.2. Control flow: how code branching affects the performance."
   ]
  },
  {
   "cell_type": "markdown",
   "id": "5jF4RobZ2nDg",
   "metadata": {
    "id": "5jF4RobZ2nDg"
   },
   "source": [
    "Due to SIMT architecture of the CUDA multiprocessors, it is recommended to avoid different paths within the same warp.\n",
    "\n",
    "According to [CUDA Best Practices Guide](https://docs.nvidia.com/cuda/cuda-c-best-practices-guide/index.html):\n",
    "> Flow control instructions (if, switch, do, for, while) can significantly affect the instruction throughput by causing threads of the same warp to diverge; that is, to follow different execution paths. If this happens, the different execution paths must be executed separately; this increases the total number of instructions executed for this warp."
   ]
  },
  {
   "cell_type": "markdown",
   "id": "nZNBa4eG2_Rj",
   "metadata": {
    "id": "nZNBa4eG2_Rj"
   },
   "source": [
    "**Example**"
   ]
  },
  {
   "cell_type": "markdown",
   "id": "4DwABDbg3BLR",
   "metadata": {
    "id": "4DwABDbg3BLR"
   },
   "source": [
    "Let's implement the following function:\n",
    "\n",
    "```\n",
    "y[i] = r[i]*a[i] + b[i]\n",
    "```\n",
    "\n",
    "where `r[i] = i mod 8`.\n",
    "\n",
    "We can implement it in one of the two ways:\n",
    "1. the **easy** way: directly by definition,\n",
    "2. the **overcomplicated** way: by doing a sequence of `if ... else if ... else if ... else` for each different value of $i \\mod 8$."
   ]
  },
  {
   "cell_type": "code",
   "execution_count": 28,
   "id": "gEV3cwOb3r8m",
   "metadata": {
    "colab": {
     "base_uri": "https://localhost:8080/"
    },
    "executionInfo": {
     "elapsed": 7,
     "status": "ok",
     "timestamp": 1624793236640,
     "user": {
      "displayName": "Piotr Jarosik",
      "photoUrl": "",
      "userId": "07939774369485222074"
     },
     "user_tz": -120
    },
    "id": "gEV3cwOb3r8m",
    "outputId": "9198f154-42ce-4341-9d9e-610ebdd0d8c2"
   },
   "outputs": [
    {
     "name": "stdout",
     "output_type": "stream",
     "text": [
      "Overwriting 3_2_control_flow.py\n"
     ]
    }
   ],
   "source": [
    "%%writefile 3_2_control_flow.py\n",
    "\n",
    "import math\n",
    "import numpy as np\n",
    "import cupy as cp\n",
    "import gpu_short_course.tests\n",
    "\n",
    "\n",
    "block_size = 256\n",
    "\n",
    "add_vectors_mod8_simple_src = open(\"3_add_vectors_mod8_simple.cc\").read()\n",
    "add_vectors_mod8_simple_kernel = cp.RawKernel(code=add_vectors_mod8_simple_src, name=\"add_vectors_mod8_simple\")\n",
    "\n",
    "add_vectors_mod8_overcomplicated_src = open(\"3_add_vectors_mod8_overcomplicated.cc\").read()\n",
    "add_vectors_mod8_overcomplicated_kernel = cp.RawKernel(code=add_vectors_mod8_overcomplicated_src, name=\"add_vectors_mod8_overcomplicated\")\n",
    "\n",
    "\n",
    "def add_vectors_mod8_simple(a, b):\n",
    "    assert len(a) == len(b)\n",
    "    c_gpu = cp.empty(shape=a.shape, dtype=a.dtype)\n",
    "    a_gpu = cp.asarray(a)\n",
    "    b_gpu = cp.asarray(b)\n",
    "    grid_size = math.ceil(len(a)/block_size)\n",
    "    # Invoke the kernel.\n",
    "    add_vectors_mod8_simple_kernel(grid=(grid_size, ), block=(block_size, ), args=(c_gpu, a_gpu, b_gpu, len(a_gpu)))\n",
    "    # Get the result.\n",
    "    c = c_gpu.get()\n",
    "    \n",
    "    \n",
    "def add_vectors_mod8_overcomplicated(a, b):\n",
    "    assert len(a) == len(b)\n",
    "    c_gpu = cp.empty(shape=a.shape, dtype=a.dtype)\n",
    "    a_gpu = cp.asarray(a)\n",
    "    b_gpu = cp.asarray(b)\n",
    "    grid_size = math.ceil(len(a)/block_size)\n",
    "    # Invoke the kernel.\n",
    "    add_vectors_mod8_overcomplicated_kernel(grid=(grid_size, ), block=(block_size, ), args=(c_gpu, a_gpu, b_gpu, len(a_gpu)))\n",
    "    # Get the result.\n",
    "    c = c_gpu.get()\n",
    "\n",
    "\n",
    "gpu_short_course.tests.benchmark_add_vectors(add_vectors_mod8_simple)\n",
    "gpu_short_course.tests.benchmark_add_vectors(add_vectors_mod8_overcomplicated)"
   ]
  },
  {
   "cell_type": "markdown",
   "id": "yag_hEM8CEuc",
   "metadata": {
    "id": "yag_hEM8CEuc"
   },
   "source": [
    "Let's check how much time does it take to execute each of the kernel:"
   ]
  },
  {
   "cell_type": "code",
   "execution_count": 29,
   "id": "3syxy_Dq4Piu",
   "metadata": {
    "colab": {
     "base_uri": "https://localhost:8080/"
    },
    "executionInfo": {
     "elapsed": 7627,
     "status": "ok",
     "timestamp": 1624793244268,
     "user": {
      "displayName": "Piotr Jarosik",
      "photoUrl": "",
      "userId": "07939774369485222074"
     },
     "user_tz": -120
    },
    "id": "3syxy_Dq4Piu",
    "outputId": "649beb56-370d-442f-dfcf-a2aeb1061421"
   },
   "outputs": [
    {
     "name": "stdout",
     "output_type": "stream",
     "text": [
      "==1067== NVPROF is profiling process 1067, command: python 3_2_control_flow.py\n",
      "GPU:0: b'GeForce GTX TITAN X'\n",
      "GPU:1: b'GeForce GTX TITAN X'\n",
      "GPU:2: b'GeForce GTX TITAN X'\n",
      "GPU:3: b'GeForce GTX TITAN X'\n",
      "Benchmarking the function, please wait...\n",
      "Benchmark result: \n",
      "Average processing time: 0.0067 seconds (+/- 0.0465), median: 0.0020\n",
      "Benchmarking the function, please wait...\n",
      "Benchmark result: \n",
      "Average processing time: 0.0020 seconds (+/- 0.0001), median: 0.0020\n",
      "==1067== Profiling application: python 3_2_control_flow.py\n",
      "==1067== Profiling result:\n",
      "            Type  Time(%)      Time     Calls       Avg       Min       Max  Name\n",
      " GPU activities:   60.98%  135.87ms       400  339.69us  338.73us  353.87us  [CUDA memcpy HtoD]\n",
      "                   31.03%  69.134ms       200  345.67us  332.27us  375.53us  [CUDA memcpy DtoH]\n",
      "                    5.72%  12.752ms       100  127.52us  126.40us  129.00us  add_vectors_mod8_overcomplicated\n",
      "                    2.27%  5.0619ms       100  50.618us  49.601us  51.970us  add_vectors_mod8_simple\n",
      "No API activities were profiled.\n"
     ]
    }
   ],
   "source": [
    "! nvprof --trace gpu python 3_2_control_flow.py"
   ]
  },
  {
   "cell_type": "markdown",
   "id": "a-Tf_qxCBm9h",
   "metadata": {
    "id": "a-Tf_qxCBm9h"
   },
   "source": [
    "Let's also measure `branch_efficiency` metric defined as a:\n",
    "> Ratio of non-divergent branches to total branches expressed as percentage."
   ]
  },
  {
   "cell_type": "code",
   "execution_count": 30,
   "id": "v7htXLWzAkEM",
   "metadata": {
    "colab": {
     "base_uri": "https://localhost:8080/"
    },
    "executionInfo": {
     "elapsed": 7883,
     "status": "ok",
     "timestamp": 1624793252171,
     "user": {
      "displayName": "Piotr Jarosik",
      "photoUrl": "",
      "userId": "07939774369485222074"
     },
     "user_tz": -120
    },
    "id": "v7htXLWzAkEM",
    "outputId": "6bc275a6-ee41-4a07-ed77-59318a7134b4"
   },
   "outputs": [
    {
     "name": "stdout",
     "output_type": "stream",
     "text": [
      "==1100== NVPROF is profiling process 1100, command: python 3_2_control_flow.py\n",
      "GPU:0: b'GeForce GTX TITAN X'\n",
      "GPU:1: b'GeForce GTX TITAN X'\n",
      "GPU:2: b'GeForce GTX TITAN X'\n",
      "GPU:3: b'GeForce GTX TITAN X'\n",
      "Benchmarking the function, please wait...\n",
      "Benchmark result: \n",
      "Average processing time: 0.0167 seconds (+/- 0.0409), median: 0.0125\n",
      "Benchmarking the function, please wait...\n",
      "Benchmark result: \n",
      "Average processing time: 0.0125 seconds (+/- 0.0002), median: 0.0125\n",
      "==1100== Profiling application: python 3_2_control_flow.py\n",
      "==1100== Profiling result:\n",
      "==1100== Metric result:\n",
      "Invocations                               Metric Name                        Metric Description         Min         Max         Avg\n",
      "Device \"GeForce GTX TITAN X (0)\"\n",
      "    Kernel: add_vectors_mod8_simple\n",
      "        100                         branch_efficiency                         Branch Efficiency     100.00%     100.00%     100.00%\n",
      "    Kernel: add_vectors_mod8_overcomplicated\n",
      "        100                         branch_efficiency                         Branch Efficiency      58.82%      58.82%      58.82%\n"
     ]
    }
   ],
   "source": [
    "! nvprof --metrics branch_efficiency python 3_2_control_flow.py"
   ]
  },
  {
   "cell_type": "markdown",
   "id": "7rq1MbBJI0CO",
   "metadata": {
    "id": "7rq1MbBJI0CO"
   },
   "source": [
    "Of course, the above example has been artificially complicated just to show the effect of complex kernel logic on the kernel's performance."
   ]
  },
  {
   "cell_type": "markdown",
   "id": "DaX4hxR09G0B",
   "metadata": {
    "id": "DaX4hxR09G0B"
   },
   "source": [
    "# Exercise 3.3. Multiprocessor occupancy: thread block size."
   ]
  },
  {
   "cell_type": "markdown",
   "id": "pIGIxvK6JG5n",
   "metadata": {
    "id": "pIGIxvK6JG5n"
   },
   "source": [
    "Recall that:\n",
    "> The number of threads per block should be a **multiple of 32 threads**, because this provides optimal computing efficiency and facilitates coalescing.\n",
    "\n",
    "[CUDA Best Practices Guide](https://docs.nvidia.com/cuda/cuda-c-best-practices-guide/index.html) also gives some other suggestions how to choose the proper number of threads per block:\n",
    "\n",
    "> There are many such factors involved in selecting block size, and inevitably some experimentation is required. However, a few rules of thumb should be followed:\n",
    "> 1. Threads per block should be **a multiple of warp size** to avoid wasting computation on under-populated warps and to facilitate coalescing.\n",
    "> 2. A **minimum of 64 threads** per block should be used, and only if there are multiple concurrent blocks per multiprocessor.\n",
    "> 3. Between **128 and 256 threads** per block is a good initial range for experimentation with different block sizes.\n",
    "> 4. Use several smaller thread blocks rather than one large thread block per multiprocessor if latency affects performance. This is particularly beneficial to kernels that frequently call __syncthreads()."
   ]
  },
  {
   "cell_type": "markdown",
   "id": "VToK2NYJRRgk",
   "metadata": {
    "id": "VToK2NYJRRgk"
   },
   "source": [
    "### Example"
   ]
  },
  {
   "cell_type": "markdown",
   "id": "xq06puf9Q2md",
   "metadata": {
    "id": "xq06puf9Q2md"
   },
   "source": [
    "Let's mesure `add_vectors` occupancy for a different number of threads:\n"
   ]
  },
  {
   "cell_type": "code",
   "execution_count": 31,
   "id": "oho6SbZORUFs",
   "metadata": {
    "colab": {
     "base_uri": "https://localhost:8080/"
    },
    "executionInfo": {
     "elapsed": 7,
     "status": "ok",
     "timestamp": 1624793252195,
     "user": {
      "displayName": "Piotr Jarosik",
      "photoUrl": "",
      "userId": "07939774369485222074"
     },
     "user_tz": -120
    },
    "id": "oho6SbZORUFs",
    "outputId": "7d26a1bd-05f7-4a21-ebea-ecf4d37d84dd"
   },
   "outputs": [
    {
     "name": "stdout",
     "output_type": "stream",
     "text": [
      "Writing 3_3_occupancy.py\n"
     ]
    }
   ],
   "source": [
    "%%writefile 3_3_occupancy.py\n",
    "\n",
    "import sys\n",
    "import math\n",
    "import numpy as np\n",
    "import cupy as cp\n",
    "import gpu_short_course.tests\n",
    "\n",
    "block_size = int(sys.argv[1])\n",
    "\n",
    "add_vectors_src = open(\"3_add_vectors.cc\").read()\n",
    "add_vectors_gpu_kernel = cp.RawKernel(code=add_vectors_src, name=\"add_vectors\")\n",
    "\n",
    "\n",
    "def add_vectors_gpu(a, b):\n",
    "    assert len(a) == len(b)\n",
    "    c_gpu = cp.empty(shape=a.shape, dtype=a.dtype)\n",
    "    a_gpu = cp.asarray(a)\n",
    "    b_gpu = cp.asarray(b)\n",
    "    grid_size = math.ceil(len(a)/block_size)\n",
    "\n",
    "    # Invoke the kernel.\n",
    "    add_vectors_gpu_kernel(grid=(grid_size, ), block=(block_size, ), args=(c_gpu, a_gpu, b_gpu, len(a_gpu)))\n",
    "    # Get the result.\n",
    "    c = c_gpu.get()\n",
    "\n",
    "gpu_short_course.tests.benchmark_add_vectors(add_vectors_gpu)"
   ]
  },
  {
   "cell_type": "code",
   "execution_count": 32,
   "id": "J58oLJpDRi9k",
   "metadata": {
    "colab": {
     "base_uri": "https://localhost:8080/"
    },
    "executionInfo": {
     "elapsed": 4435,
     "status": "ok",
     "timestamp": 1624793256631,
     "user": {
      "displayName": "Piotr Jarosik",
      "photoUrl": "",
      "userId": "07939774369485222074"
     },
     "user_tz": -120
    },
    "id": "J58oLJpDRi9k",
    "outputId": "9a56b460-21aa-4469-be5f-be53df6240ae"
   },
   "outputs": [
    {
     "name": "stdout",
     "output_type": "stream",
     "text": [
      "==1438== NVPROF is profiling process 1438, command: python 3_3_occupancy.py 16\n",
      "GPU:0: b'GeForce GTX TITAN X'\n",
      "GPU:1: b'GeForce GTX TITAN X'\n",
      "GPU:2: b'GeForce GTX TITAN X'\n",
      "GPU:3: b'GeForce GTX TITAN X'\n",
      "Benchmarking the function, please wait...\n",
      "Benchmark result: \n",
      "Average processing time: 0.0071 seconds (+/- 0.0502), median: 0.0021\n",
      "==1438== Profiling application: python 3_3_occupancy.py 16\n",
      "==1438== Profiling result:\n",
      "            Type  Time(%)      Time     Calls       Avg       Min       Max  Name\n",
      " GPU activities:   56.53%  67.985ms       200  339.92us  338.63us  353.39us  [CUDA memcpy HtoD]\n",
      "                   31.26%  37.598ms       100  375.98us  337.93us  1.1442ms  [CUDA memcpy DtoH]\n",
      "                   12.20%  14.678ms       100  146.78us  146.69us  147.52us  add_vectors\n",
      "No API activities were profiled.\n"
     ]
    }
   ],
   "source": [
    "! nvprof --trace gpu python 3_3_occupancy.py 16"
   ]
  },
  {
   "cell_type": "markdown",
   "id": "LKyfKBGpWCtR",
   "metadata": {
    "id": "LKyfKBGpWCtR"
   },
   "source": [
    "According to NVIDIA documentation, `achieved_occupancy` measures:\n",
    "> Ratio of the average active warps per active cycle to the maximum number of warps supported on a multiprocessor."
   ]
  },
  {
   "cell_type": "code",
   "execution_count": 33,
   "id": "725eQmA6V5Fj",
   "metadata": {
    "colab": {
     "base_uri": "https://localhost:8080/"
    },
    "executionInfo": {
     "elapsed": 5279,
     "status": "ok",
     "timestamp": 1624793261927,
     "user": {
      "displayName": "Piotr Jarosik",
      "photoUrl": "",
      "userId": "07939774369485222074"
     },
     "user_tz": -120
    },
    "id": "725eQmA6V5Fj",
    "outputId": "60ddba76-8a60-472f-be6a-2fbeab3c7939"
   },
   "outputs": [
    {
     "name": "stdout",
     "output_type": "stream",
     "text": [
      "==1467== NVPROF is profiling process 1467, command: python 3_3_occupancy.py 16\n",
      "GPU:0: b'GeForce GTX TITAN X'\n",
      "GPU:1: b'GeForce GTX TITAN X'\n",
      "GPU:2: b'GeForce GTX TITAN X'\n",
      "GPU:3: b'GeForce GTX TITAN X'\n",
      "Benchmarking the function, please wait...\n",
      "Benchmark result: \n",
      "Average processing time: 0.0200 seconds (+/- 0.0400), median: 0.0160\n",
      "==1467== Profiling application: python 3_3_occupancy.py 16\n",
      "==1467== Profiling result:\n",
      "==1467== Metric result:\n",
      "Invocations                               Metric Name                        Metric Description         Min         Max         Avg\n",
      "Device \"GeForce GTX TITAN X (0)\"\n",
      "    Kernel: add_vectors\n",
      "        100                        achieved_occupancy                        Achieved Occupancy    0.168891    0.179867    0.169734\n"
     ]
    }
   ],
   "source": [
    "! nvprof --metrics achieved_occupancy python 3_3_occupancy.py 16"
   ]
  },
  {
   "cell_type": "code",
   "execution_count": 34,
   "id": "EYxXfEU8WOWU",
   "metadata": {
    "colab": {
     "base_uri": "https://localhost:8080/"
    },
    "executionInfo": {
     "elapsed": 8126,
     "status": "ok",
     "timestamp": 1624793270081,
     "user": {
      "displayName": "Piotr Jarosik",
      "photoUrl": "",
      "userId": "07939774369485222074"
     },
     "user_tz": -120
    },
    "id": "EYxXfEU8WOWU",
    "outputId": "c7fa80d2-8ed7-471b-a341-3f870249399c"
   },
   "outputs": [
    {
     "name": "stdout",
     "output_type": "stream",
     "text": [
      "==1495== NVPROF is profiling process 1495, command: python 3_3_occupancy.py 256\n",
      "GPU:0: b'GeForce GTX TITAN X'\n",
      "GPU:1: b'GeForce GTX TITAN X'\n",
      "GPU:2: b'GeForce GTX TITAN X'\n",
      "GPU:3: b'GeForce GTX TITAN X'\n",
      "Benchmarking the function, please wait...\n",
      "Benchmark result: \n",
      "Average processing time: 0.0067 seconds (+/- 0.0470), median: 0.0020\n",
      "==1495== Profiling application: python 3_3_occupancy.py 256\n",
      "==1495== Profiling result:\n",
      "            Type  Time(%)      Time     Calls       Avg       Min       Max  Name\n",
      " GPU activities:   61.76%  68.015ms       200  340.07us  338.89us  353.23us  [CUDA memcpy HtoD]\n",
      "                   33.66%  37.061ms       100  370.61us  334.47us  1.0353ms  [CUDA memcpy DtoH]\n",
      "                    4.58%  5.0450ms       100  50.450us  49.665us  51.457us  add_vectors\n",
      "No API activities were profiled.\n",
      "==1522== NVPROF is profiling process 1522, command: python 3_3_occupancy.py 256\n",
      "GPU:0: b'GeForce GTX TITAN X'\n",
      "GPU:1: b'GeForce GTX TITAN X'\n",
      "GPU:2: b'GeForce GTX TITAN X'\n",
      "GPU:3: b'GeForce GTX TITAN X'\n",
      "Benchmarking the function, please wait...\n",
      "Benchmark result: \n",
      "Average processing time: 0.0199 seconds (+/- 0.0372), median: 0.0161\n",
      "==1522== Profiling application: python 3_3_occupancy.py 256\n",
      "==1522== Profiling result:\n",
      "==1522== Metric result:\n",
      "Invocations                               Metric Name                        Metric Description         Min         Max         Avg\n",
      "Device \"GeForce GTX TITAN X (0)\"\n",
      "    Kernel: add_vectors\n",
      "        100                        achieved_occupancy                        Achieved Occupancy    0.865646    0.881706    0.874834\n"
     ]
    }
   ],
   "source": [
    "! nvprof --trace gpu python 3_3_occupancy.py 256\n",
    "! nvprof --metrics achieved_occupancy python 3_3_occupancy.py 256"
   ]
  },
  {
   "cell_type": "code",
   "execution_count": 35,
   "id": "CNGVqycVWXyB",
   "metadata": {
    "colab": {
     "base_uri": "https://localhost:8080/"
    },
    "executionInfo": {
     "elapsed": 8468,
     "status": "ok",
     "timestamp": 1624793278575,
     "user": {
      "displayName": "Piotr Jarosik",
      "photoUrl": "",
      "userId": "07939774369485222074"
     },
     "user_tz": -120
    },
    "id": "CNGVqycVWXyB",
    "outputId": "267592da-17a9-449d-fde0-2c8f03ac3910"
   },
   "outputs": [
    {
     "name": "stdout",
     "output_type": "stream",
     "text": [
      "==1572== NVPROF is profiling process 1572, command: python 3_3_occupancy.py 1024\n",
      "GPU:0: b'GeForce GTX TITAN X'\n",
      "GPU:1: b'GeForce GTX TITAN X'\n",
      "GPU:2: b'GeForce GTX TITAN X'\n",
      "GPU:3: b'GeForce GTX TITAN X'\n",
      "Benchmarking the function, please wait...\n",
      "Benchmark result: \n",
      "Average processing time: 0.0066 seconds (+/- 0.0460), median: 0.0020\n",
      "==1572== Profiling application: python 3_3_occupancy.py 1024\n",
      "==1572== Profiling result:\n",
      "            Type  Time(%)      Time     Calls       Avg       Min       Max  Name\n",
      " GPU activities:   62.31%  67.935ms       200  339.68us  338.67us  347.37us  [CUDA memcpy HtoD]\n",
      "                   33.09%  36.076ms       100  360.76us  331.66us  1.0735ms  [CUDA memcpy DtoH]\n",
      "                    4.60%  5.0171ms       100  50.170us  49.345us  51.649us  add_vectors\n",
      "No API activities were profiled.\n",
      "==1599== NVPROF is profiling process 1599, command: python 3_3_occupancy.py 1024\n",
      "GPU:0: b'GeForce GTX TITAN X'\n",
      "GPU:1: b'GeForce GTX TITAN X'\n",
      "GPU:2: b'GeForce GTX TITAN X'\n",
      "GPU:3: b'GeForce GTX TITAN X'\n",
      "Benchmarking the function, please wait...\n",
      "Benchmark result: \n",
      "Average processing time: 0.0197 seconds (+/- 0.0345), median: 0.0162\n",
      "==1599== Profiling application: python 3_3_occupancy.py 1024\n",
      "==1599== Profiling result:\n",
      "==1599== Metric result:\n",
      "Invocations                               Metric Name                        Metric Description         Min         Max         Avg\n",
      "Device \"GeForce GTX TITAN X (0)\"\n",
      "    Kernel: add_vectors\n",
      "        100                        achieved_occupancy                        Achieved Occupancy    0.801101    0.828482    0.813353\n"
     ]
    }
   ],
   "source": [
    "! nvprof --trace gpu python 3_3_occupancy.py 1024\n",
    "! nvprof --metrics achieved_occupancy python 3_3_occupancy.py 1024"
   ]
  },
  {
   "cell_type": "markdown",
   "id": "1dAsTyfuWmC0",
   "metadata": {
    "id": "1dAsTyfuWmC0"
   },
   "source": [
    "Finding the right number of threads per block requires some experimentation, but generally 128 or 256 threads is a good starting point."
   ]
  },
  {
   "cell_type": "markdown",
   "id": "dab57448-06c4-441f-b0d2-bed4d2894518",
   "metadata": {
    "tags": []
   },
   "source": [
    "# References"
   ]
  },
  {
   "cell_type": "markdown",
   "id": "9579d2f0-f70a-4df8-b5e8-0faefb9792e9",
   "metadata": {},
   "source": [
    "- [CUDA Best Practices Guide](https://docs.nvidia.com/cuda/cuda-c-best-practices-guide/index.html). \n",
    "- [Efficient Matrix Transpose in CUDA C/C++ (NVIDIA Devblog Post)](https://developer.nvidia.com/blog/efficient-matrix-transpose-cuda-cc/)\n",
    "- [How to access global memory efficiently (NVIDIA Devblog Post)](https://developer.nvidia.com/blog/how-access-global-memory-efficiently-cuda-c-kernels/)"
   ]
  }
 ],
 "metadata": {
  "accelerator": "GPU",
  "colab": {
   "collapsed_sections": [],
   "name": "3_Performance_guidelines.ipynb",
   "provenance": []
  },
  "kernelspec": {
   "display_name": "Python 3 (ipykernel)",
   "language": "python",
   "name": "python3"
  },
  "language_info": {
   "codemirror_mode": {
    "name": "ipython",
    "version": 3
   },
   "file_extension": ".py",
   "mimetype": "text/x-python",
   "name": "python",
   "nbconvert_exporter": "python",
   "pygments_lexer": "ipython3",
   "version": "3.8.11"
  }
 },
 "nbformat": 4,
 "nbformat_minor": 5
}
