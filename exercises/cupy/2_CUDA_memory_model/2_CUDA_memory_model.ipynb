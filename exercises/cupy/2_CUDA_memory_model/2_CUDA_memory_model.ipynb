{
 "cells": [
  {
   "cell_type": "markdown",
   "id": "5cdj-g8QB0vp",
   "metadata": {
    "id": "5cdj-g8QB0vp"
   },
   "source": [
    "#  2. CUDA memory model"
   ]
  },
  {
   "cell_type": "markdown",
   "id": "51iXpPA-fRos",
   "metadata": {
    "id": "51iXpPA-fRos"
   },
   "source": [
    "In this lecture, we will focus on the memory hierarchy in NVIDIA GPU CUDA-enabled cards. Memory access is often a significant part of GPU kernel execution time, so choosing the right type of memory for the task at hand plays a key role.\n",
    "\n",
    "During these exercises, we will learn how to use the following types of CUDA memory and what their advantages and limitations are:\n",
    "\n",
    "1. global memory,\n",
    "2. shared memory,\n",
    "3. constant memory."
   ]
  },
  {
   "cell_type": "markdown",
   "id": "VFO6pzKatK4N",
   "metadata": {
    "id": "VFO6pzKatK4N"
   },
   "source": [
    "In this and the following notebooks, we will use the tools, tests and benchmarks available in the `gpu_short_course` Python package, which can be found in the repository https://github.com/us4useu/ius-2021-gpu-short-course. Let's do all the necessary imports first:"
   ]
  },
  {
   "cell_type": "code",
   "execution_count": null,
   "id": "hlP00bR46_x2",
   "metadata": {
    "colab": {
     "base_uri": "https://localhost:8080/"
    },
    "id": "hlP00bR46_x2",
    "outputId": "854b4e8f-95db-428a-f675-e12c61455059"
   },
   "outputs": [],
   "source": [
    "import math\n",
    "import cupy as cp\n",
    "import numpy as np\n",
    "import scipy.signal\n",
    "import matplotlib.pyplot as plt\n",
    "import gpu_short_course"
   ]
  },
  {
   "cell_type": "markdown",
   "id": "wPLH78sJCYfL",
   "metadata": {
    "id": "wPLH78sJCYfL"
   },
   "source": [
    "## 2.1. One-dimensional convolution, global memory"
   ]
  },
  {
   "cell_type": "markdown",
   "id": "gGulLla0u8Uw",
   "metadata": {
    "id": "gGulLla0u8Uw"
   },
   "source": [
    "### 2.1.1. The task: 1D convolution on CPU"
   ]
  },
  {
   "cell_type": "markdown",
   "id": "zaASLnr8ut7E",
   "metadata": {
    "id": "zaASLnr8ut7E"
   },
   "source": [
    "In this and subsequent notebooks, we will focus on one-dimensional convolution. The convolution operator has very broad applications that also include signal and image processing, and signal filtering in particular."
   ]
  },
  {
   "cell_type": "markdown",
   "id": "uYLHbLxgvDds",
   "metadata": {
    "id": "uYLHbLxgvDds"
   },
   "source": [
    "**Input**: \n",
    "\n",
    "- $x$: input signal of length $m$, \n",
    "- $h$: impulse response of filter a vector of $n$ samples,\n",
    "\n",
    "**Output**: $y$: output signal of length $m$\n",
    "\n",
    "The following definition will be used during this course:\n",
    "\n",
    "\\begin{equation*}\n",
    "y[i] = (x \\ast h)[i] = \\sum_{j=0}^{n-1} x[i+o-j]h[j] \n",
    "\\end{equation*}\n",
    "\n",
    "where:\n",
    "- $x[k]$ is equal 0 for $k < 0$ (equivalent to convolution with zero-padding),\n",
    "- $m \\ge n$ (for the sake of simplicity), \n",
    "- $o$ is the initial offset of the convolution. During the course this will assume the following (which corresponds to the `mode='same'` in the [`numpy.convolve`](https://numpy.org/doc/stable/reference/generated/numpy.convolve.html)):\n",
    "\n",
    "\\begin{equation*}\n",
    "o = \\left\\lceil \\frac{n}{2} \\right\\rceil-1\n",
    "\\end{equation*}"
   ]
  },
  {
   "cell_type": "markdown",
   "id": "St24GgqBvlph",
   "metadata": {
    "id": "St24GgqBvlph"
   },
   "source": [
    "Example:"
   ]
  },
  {
   "cell_type": "markdown",
   "id": "ZitJMqO3voDo",
   "metadata": {
    "id": "ZitJMqO3voDo"
   },
   "source": [
    "![IUS Short-Course - lecture_2_input_example.png](data:image/png;base64,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)"
   ]
  },
  {
   "cell_type": "markdown",
   "id": "X0H64an4vMWG",
   "metadata": {
    "id": "X0H64an4vMWG"
   },
   "source": [
    "The convolution corresponds to moving the filter $h$ window as follows:"
   ]
  },
  {
   "cell_type": "markdown",
   "id": "doPwcbHWvG6N",
   "metadata": {
    "id": "doPwcbHWvG6N"
   },
   "source": [
    "![IUS Short-Course - lecture_2_convolution.png](data:image/png;base64,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)"
   ]
  },
  {
   "cell_type": "markdown",
   "id": "Qk7kzreVvvEk",
   "metadata": {
    "id": "Qk7kzreVvvEk"
   },
   "source": [
    "For given input parameters, input offset will be equal to `1`. So, the output signal will be equal to:\n",
    "```\n",
    "y[0] = h[0]*x[1]+h[1]*x[0]           = 0\n",
    "y[1] = h[0]*x[2]+h[1]*x[1]*h[2]*x[0] = 1\n",
    "y[2] = h[0]*x[3]+h[1]*x[2]*h[2]*x[1] = 4\n",
    "y[3] = h[0]*x[4]+h[1]*x[3]+h[2]*x[2] = 7\n",
    "y[4] = h[1]*x[4]+h[2]*x[3]           = 10\n",
    "```\n"
   ]
  },
  {
   "cell_type": "markdown",
   "id": "AKWkHF_N6buv",
   "metadata": {
    "id": "AKWkHF_N6buv"
   },
   "source": [
    "Let's implement a baseline version of the convolution, first on CPU. We can do it following directly the definition of the convolution."
   ]
  },
  {
   "cell_type": "markdown",
   "id": "53948db2-5ce5-4493-b15c-06c4ad7a618c",
   "metadata": {},
   "source": [
    "**Exercise**\n",
    "\n",
    "Fill in the missing line(s) of code, marked with the `# TODO` comment."
   ]
  },
  {
   "cell_type": "code",
   "execution_count": null,
   "id": "4d37odOQ6Vwo",
   "metadata": {
    "colab": {
     "base_uri": "https://localhost:8080/"
    },
    "id": "4d37odOQ6Vwo",
    "outputId": "20c322c3-8cc3-4541-b7c1-5901fdc7f994"
   },
   "outputs": [],
   "source": [
    "def convolve_cpu(x, h):\n",
    "    m = len(x)\n",
    "    n = len(h)\n",
    "    y = np.zeros(m, dtype=x.dtype)\n",
    "    o = int(math.ceil(n/2)-1)\n",
    "        \n",
    "    # For each output sample.\n",
    "    for i in range(m):\n",
    "        value = 0.0\n",
    "        # For each filter's coefficient.\n",
    "        for j in range(n):\n",
    "            # TODO\n",
    "        y[i] = value\n",
    "    return y\n",
    "\n",
    "\n",
    "result = convolve_cpu(np.array([0, 1, 2, 3, 4]), \n",
    "                      np.array([0, 1, 2]))\n",
    "np.testing.assert_equal(result, [0, 1, 4, 7, 10])\n",
    "print(result)"
   ]
  },
  {
   "cell_type": "markdown",
   "id": "wMc9SWAm7vaC",
   "metadata": {
    "id": "wMc9SWAm7vaC"
   },
   "source": [
    "Now let's check how the `convolve_cpu` function works in filtering less trivial signals. First, we will prepare an artificially noisy signal:"
   ]
  },
  {
   "cell_type": "code",
   "execution_count": null,
   "id": "RAHIhD-q8IJn",
   "metadata": {
    "colab": {
     "base_uri": "https://localhost:8080/",
     "height": 282
    },
    "id": "RAHIhD-q8IJn",
    "outputId": "223b74f2-79c6-4e88-885c-68a351ae84f5"
   },
   "outputs": [],
   "source": [
    "t = np.linspace(-math.pi, math.pi, 200).astype(np.float32)\n",
    "noisy_signal = np.sin(t) + 0.1*np.random.randn(len(t)).astype(np.float32)\n",
    "plt.plot(t, noisy_signal)"
   ]
  },
  {
   "cell_type": "markdown",
   "id": "NF31w8Mx9uny",
   "metadata": {
    "id": "NF31w8Mx9uny"
   },
   "source": [
    "We will use a [moving average filter](https://en.wikipedia.org/wiki/Moving_average) to remove the (artifically) added noise from the input signal. The moving average filter is simply a vector of $\\frac{1}{N}$ values, where $N$ is the size of the filter. "
   ]
  },
  {
   "cell_type": "code",
   "execution_count": null,
   "id": "zvO11_Ip-5cY",
   "metadata": {
    "id": "zvO11_Ip-5cY"
   },
   "outputs": [],
   "source": [
    "n = 64\n",
    "ma_filter = np.ones(n)/n\n",
    "ma_filter = ma_filter.astype(np.float32)"
   ]
  },
  {
   "cell_type": "markdown",
   "id": "Ot2YEmlM-7ZU",
   "metadata": {
    "id": "Ot2YEmlM-7ZU"
   },
   "source": [
    "Finally, let's do the actual filtering:"
   ]
  },
  {
   "cell_type": "code",
   "execution_count": null,
   "id": "eW-siNIe-_wm",
   "metadata": {
    "colab": {
     "base_uri": "https://localhost:8080/",
     "height": 282
    },
    "id": "eW-siNIe-_wm",
    "outputId": "889f9944-21f9-450c-9468-4b11678f05f0"
   },
   "outputs": [],
   "source": [
    "denoised_signal = convolve_cpu(noisy_signal, ma_filter)\n",
    "plt.plot(t, denoised_signal)"
   ]
  },
  {
   "cell_type": "markdown",
   "id": "0FPYtoBTDaQ3",
   "metadata": {
    "id": "0FPYtoBTDaQ3"
   },
   "source": [
    "For the purpose of this course we have prepared two functions that check correctness and performance of the implemented functions: \n",
    "- `gpu_short_course.tests.test_convolve`: performs validation tests on the passed convolve function,\n",
    "- `gpu_short_course.tests.benchmark_convolve`: measures the average execution time of the passed function on random data. "
   ]
  },
  {
   "cell_type": "markdown",
   "id": "1LJySU1m_XQP",
   "metadata": {
    "id": "1LJySU1m_XQP"
   },
   "source": [
    "Let's check if the function passes the tests prepared for this course:"
   ]
  },
  {
   "cell_type": "code",
   "execution_count": null,
   "id": "lkhgrMys_zjE",
   "metadata": {
    "colab": {
     "base_uri": "https://localhost:8080/"
    },
    "id": "lkhgrMys_zjE",
    "outputId": "a992c7d5-42a3-411e-c1b8-0d9b93a4460a"
   },
   "outputs": [],
   "source": [
    "gpu_short_course.tests.test_convolve(convolve_cpu)"
   ]
  },
  {
   "cell_type": "markdown",
   "id": "iODSJUusCg86",
   "metadata": {
    "id": "iODSJUusCg86"
   },
   "source": [
    "If everything is OK, you should see `All tests passed.`\n",
    "\n",
    "Now, let's see how fast the CPU implementation is:\n"
   ]
  },
  {
   "cell_type": "code",
   "execution_count": null,
   "id": "bmrg3dGVCz-T",
   "metadata": {
    "colab": {
     "base_uri": "https://localhost:8080/"
    },
    "id": "bmrg3dGVCz-T",
    "outputId": "20a706e6-bbba-40ab-9bf4-71a689d165b1"
   },
   "outputs": [],
   "source": [
    "gpu_short_course.tests.benchmark_convolve(convolve_cpu, x_size=2**15, n=1)"
   ]
  },
  {
   "cell_type": "code",
   "execution_count": null,
   "id": "ns_KeGE6PwNE",
   "metadata": {
    "colab": {
     "base_uri": "https://localhost:8080/"
    },
    "id": "ns_KeGE6PwNE",
    "outputId": "e65614b1-73cf-418f-b579-59a93490b19a"
   },
   "outputs": [],
   "source": [
    "gpu_short_course.tests.benchmark_convolve(lambda x, h: np.convolve(x, h, mode='same'), n=10)"
   ]
  },
  {
   "cell_type": "markdown",
   "id": "f51PrUZnwZIi",
   "metadata": {
    "id": "f51PrUZnwZIi"
   },
   "source": [
    "As we have seen previously, `numpy` function is faster than its Python counterpart."
   ]
  },
  {
   "cell_type": "markdown",
   "id": "8Nz0XkOuvyii",
   "metadata": {
    "id": "8Nz0XkOuvyii"
   },
   "source": [
    "### 2.1.2. 1D convolution on GPU"
   ]
  },
  {
   "cell_type": "markdown",
   "id": "K8pjoD_s_UdD",
   "metadata": {
    "id": "K8pjoD_s_UdD"
   },
   "source": [
    "Now, let's proceed with implementing 1D convolution on GPU.\n",
    "\n",
    "We will follow the same approach as we did in Notebook 1: split the 1D convolution task into many smaller subtasks. \n",
    "\n",
    "Note that each output value $y[i]$ can be computed independently of the result $y[j]$ (for any $i, j < m$).\n",
    "\n",
    "So, let's split the convolution into many smaller subtasks, where in each subtask we compute the value of $y[i]$, and assign each subtask to a separate CUDA thread."
   ]
  },
  {
   "cell_type": "markdown",
   "id": "0b031eca-f434-4dbd-b484-bfe7f444756f",
   "metadata": {},
   "source": [
    "**Exercise**\n",
    "\n",
    "1. Open `2_1_convolve1d.cc` file.\n",
    "2. Fill in the missing lines of code, marked with the `// TODO` comment."
   ]
  },
  {
   "cell_type": "code",
   "execution_count": null,
   "id": "bvrFLL_QJK2W",
   "metadata": {
    "id": "bvrFLL_QJK2W"
   },
   "outputs": [],
   "source": [
    "convolve_gpu_kernel_src = open(\"2_1_convolve1d.cc\").read()\n",
    "convolve_gpu_kernel = cp.RawKernel(code=convolve_gpu_kernel_src, name=\"convolve1d\")"
   ]
  },
  {
   "cell_type": "markdown",
   "id": "V2GRDvdYKQIL",
   "metadata": {
    "id": "V2GRDvdYKQIL"
   },
   "source": [
    "Let's wrap the above kernel and the thread hierarchy declaration into a complete function, which for a given `x` and `h` returns the result of the convolution:"
   ]
  },
  {
   "cell_type": "code",
   "execution_count": null,
   "id": "Rgv-QUG4Kjum",
   "metadata": {
    "id": "Rgv-QUG4Kjum"
   },
   "outputs": [],
   "source": [
    "def convolve_gpu(x, h):\n",
    "    y = cp.empty(shape=x.shape, dtype=np.float32)\n",
    "    x = cp.asarray(x.astype(np.float32))\n",
    "    h = cp.asarray(h.astype(np.float32))\n",
    "    m = len(x)\n",
    "    n = len(h)\n",
    "    o = int(math.ceil(n/2)-1)\n",
    "\n",
    "\n",
    "    block = 256\n",
    "    grid = int(math.ceil(m/block))\n",
    "    block = (block, )\n",
    "    grid = (grid, )\n",
    "\n",
    "    convolve_gpu_kernel(grid, block, args=(y, x, h, m, n, o))\n",
    "    return y.get()"
   ]
  },
  {
   "cell_type": "markdown",
   "id": "H7u5jB9qK4Aw",
   "metadata": {
    "id": "H7u5jB9qK4Aw"
   },
   "source": [
    "And verify that the above implementation works correctly:"
   ]
  },
  {
   "cell_type": "code",
   "execution_count": null,
   "id": "h58k4q7_K9z1",
   "metadata": {
    "colab": {
     "base_uri": "https://localhost:8080/"
    },
    "id": "h58k4q7_K9z1",
    "outputId": "20aa5141-fc54-40a1-9607-524cf1583940"
   },
   "outputs": [],
   "source": [
    "gpu_short_course.tests.test_convolve(convolve_gpu)"
   ]
  },
  {
   "cell_type": "markdown",
   "id": "P4DuleVKMXVo",
   "metadata": {
    "id": "P4DuleVKMXVo"
   },
   "source": [
    "If everything is OK, you should see `All tests passed.` message.\n"
   ]
  },
  {
   "cell_type": "markdown",
   "id": "1x5y2m6qMLNn",
   "metadata": {
    "id": "1x5y2m6qMLNn"
   },
   "source": [
    "Let's also inspect the result visually:"
   ]
  },
  {
   "cell_type": "code",
   "execution_count": null,
   "id": "4wpPqG_nMOTz",
   "metadata": {
    "colab": {
     "base_uri": "https://localhost:8080/",
     "height": 282
    },
    "id": "4wpPqG_nMOTz",
    "outputId": "ec89020a-325a-42bf-db58-88c79db62971"
   },
   "outputs": [],
   "source": [
    "denoised_signal = convolve_gpu(noisy_signal, ma_filter)\n",
    "plt.plot(t, denoised_signal)"
   ]
  },
  {
   "cell_type": "markdown",
   "id": "tSm2IdFaLdHg",
   "metadata": {
    "id": "tSm2IdFaLdHg"
   },
   "source": [
    "Now it's time to benchmark the GPU implementation:"
   ]
  },
  {
   "cell_type": "code",
   "execution_count": null,
   "id": "4c1NVrLSLhY2",
   "metadata": {
    "colab": {
     "base_uri": "https://localhost:8080/"
    },
    "id": "4c1NVrLSLhY2",
    "outputId": "38eb649d-07a1-438c-9473-b87ba3ac0c4e"
   },
   "outputs": [],
   "source": [
    "gpu_short_course.tests.benchmark_convolve(convolve_gpu, n=10)"
   ]
  },
  {
   "cell_type": "markdown",
   "id": "8xfP66XSLo56",
   "metadata": {
    "id": "8xfP66XSLo56"
   },
   "source": [
    "The result will depend on the GPU device you have, but we think you should be able to notice some performance improvement :). \n",
    "\n",
    "The average processing time that you see above includes:\n",
    "- the time required for memory allocations, data transfers from and to GPU device,\n",
    "- the time required to execute the kernel code. \n",
    "\n",
    "Let's use the CUDA profiler to get a bit more detail about the time it takes to complete each step:"
   ]
  },
  {
   "cell_type": "code",
   "execution_count": null,
   "id": "oE5RD3FcNbPT",
   "metadata": {
    "colab": {
     "base_uri": "https://localhost:8080/"
    },
    "id": "oE5RD3FcNbPT",
    "outputId": "31dc6ef3-3f01-432f-ac66-92af4b709555"
   },
   "outputs": [],
   "source": [
    "%%writefile 2_1_convolve_gpu.py\n",
    "import math\n",
    "import numpy as np\n",
    "import cupy as cp\n",
    "import gpu_short_course.tests\n",
    "\n",
    "convolve_gpu_kernel_src = open(\"2_1_convolve1d.cc\").read()\n",
    "convolve_gpu_kernel = cp.RawKernel(code=convolve_gpu_kernel_src, name=\"convolve1d\")\n",
    "\n",
    "def convolve_gpu(x, h):\n",
    "    # Create input parameters, MAKE SURE WE ARE PASSING 32-bit float values.\n",
    "    y = cp.empty(shape=x.shape, dtype=np.float32) \n",
    "    x = cp.asarray(x.astype(np.float32))\n",
    "    h = cp.asarray(h.astype(np.float32))\n",
    "    m = len(x)\n",
    "    n = len(h)\n",
    "    o = int(math.ceil(n/2)-1)\n",
    "\n",
    "    block = 256\n",
    "    grid = int(math.ceil(m/block))\n",
    "    block = (block, )\n",
    "    grid = (grid, )\n",
    "\n",
    "    convolve_gpu_kernel(grid, block, args=(y, x, h, m, n, o))\n",
    "    return y.get()\n",
    "\n",
    "gpu_short_course.tests.run_convolve(convolve_gpu)"
   ]
  },
  {
   "cell_type": "code",
   "execution_count": null,
   "id": "sKUr3MphNxVe",
   "metadata": {
    "colab": {
     "base_uri": "https://localhost:8080/"
    },
    "id": "sKUr3MphNxVe",
    "outputId": "36692d5a-2310-47be-8c7e-46313f5cffd6"
   },
   "outputs": [],
   "source": [
    "! python 2_1_convolve_gpu.py --mode test\n",
    "! nvprof --trace gpu python 2_1_convolve_gpu.py --mode benchmark n=10"
   ]
  },
  {
   "cell_type": "markdown",
   "id": "l8zihMumUA14",
   "metadata": {
    "id": "l8zihMumUA14"
   },
   "source": [
    "In the remainder of this notebook, we will focus primarily on the kernel execution time measured by the profiler, aiming to minimize the GPU kernel execution time. The `benchmark_convolve` function measures the execution time of the entire` convolve_gpu` function, which may also include the time needed to compile the GPU kernel, transfer data to and from GPU memory, etc. "
   ]
  },
  {
   "cell_type": "markdown",
   "id": "d5QrjmRPKHMM",
   "metadata": {
    "id": "d5QrjmRPKHMM"
   },
   "source": [
    "### 2.1.3. GPU global memory"
   ]
  },
  {
   "cell_type": "markdown",
   "id": "heated-bidding",
   "metadata": {
    "id": "heated-bidding"
   },
   "source": [
    "CUDA GPU global memory has the following advantages:\n",
    "- GPU cards (usually) have a lot of global memory available,\n",
    "- host PC can write data directly to it.\n",
    "\n",
    "You can check in the device properties how much GPU memory you have:"
   ]
  },
  {
   "cell_type": "code",
   "execution_count": null,
   "id": "sound-eugene",
   "metadata": {
    "colab": {
     "base_uri": "https://localhost:8080/"
    },
    "id": "sound-eugene",
    "outputId": "0f5860c2-3628-4a30-de9f-ef1c2e8f111b"
   },
   "outputs": [],
   "source": [
    "import cupy as cp\n",
    "\n",
    "device_props = cp.cuda.runtime.getDeviceProperties(0)\n",
    "\n",
    "print(f\"Device name: {device_props['name']}\")\n",
    "print(f\"Global memory: {device_props['totalGlobalMem']/2**20} [MiB]\")"
   ]
  },
  {
   "cell_type": "markdown",
   "id": "zzp5Xs6KVdFf",
   "metadata": {
    "id": "zzp5Xs6KVdFf"
   },
   "source": [
    "The disadvantage of global memory is that CUDA threads have substantial latency in writing / reading data located in the global memory. Minimizing reads / writes from global memory is one way to improve the performance of our kernel.\n"
   ]
  },
  {
   "cell_type": "markdown",
   "id": "z8QgyKgT2kNo",
   "metadata": {
    "id": "z8QgyKgT2kNo"
   },
   "source": [
    "Let's take another look at our convolution toy example:"
   ]
  },
  {
   "cell_type": "markdown",
   "id": "z-IYMYeW2gHO",
   "metadata": {
    "id": "z-IYMYeW2gHO"
   },
   "source": [
    "![IUS Short-Course - lecture_2_input_example.png](data:image/png;base64,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)"
   ]
  },
  {
   "cell_type": "markdown",
   "id": "4FyRg_sDW6_W",
   "metadata": {
    "id": "4FyRg_sDW6_W"
   },
   "source": [
    "```\n",
    "y[0] = h[0]*x[1]+h[1]*x[0]           = 0\n",
    "y[1] = h[0]*x[2]+h[1]*x[1]*h[2]*x[0] = 1\n",
    "y[2] = h[0]*x[3]+h[1]*x[2]*h[2]*x[1] = 4\n",
    "y[3] = h[0]*x[4]+h[1]*x[3]+h[2]*x[2] = 7\n",
    "y[4] = h[1]*x[4]+h[2]*x[3]           = 10\n",
    "```\n",
    "\n",
    "\n",
    "\n"
   ]
  },
  {
   "cell_type": "markdown",
   "id": "jX7MW-yP2n6E",
   "metadata": {
    "id": "jX7MW-yP2n6E"
   },
   "source": [
    "For the above example, the `convolve_gpu`:\n",
    "- reads `x[0]` and `x[4]`  from the global memory twice,\n",
    "- reads `x[1]`, `x[2]` and `x[3]` three times.\n",
    "\n",
    "In general, we will get into the situtation where multiple threads read the same data from the global memory many times:\n",
    "\n",
    "\n"
   ]
  },
  {
   "cell_type": "markdown",
   "id": "7fbMzLx73zSS",
   "metadata": {
    "id": "7fbMzLx73zSS"
   },
   "source": [
    "![IUS Short-Course - lecture_2_tiling_pre.png](data:image/png;base64,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)"
   ]
  },
  {
   "cell_type": "markdown",
   "id": "M-ZZuSlh3YYF",
   "metadata": {
    "id": "M-ZZuSlh3YYF"
   },
   "source": [
    "Is there any possibility to implement a GPU kernel that reads the above data from global memory only once?"
   ]
  },
  {
   "cell_type": "markdown",
   "id": "kpjy5P6hDlon",
   "metadata": {
    "id": "kpjy5P6hDlon"
   },
   "source": [
    "## 2.2. Shared memory"
   ]
  },
  {
   "cell_type": "markdown",
   "id": "eE1PS_1FYzfL",
   "metadata": {
    "id": "eE1PS_1FYzfL"
   },
   "source": [
    "The answer to the previous question is yes: using shared memory."
   ]
  },
  {
   "cell_type": "markdown",
   "id": "-2wgRqSKZcxz",
   "metadata": {
    "id": "-2wgRqSKZcxz"
   },
   "source": [
    "According to the [CUDA Toolkit documentation](https://docs.nvidia.com/cuda/cuda-c-programming-guide/index.html):\n",
    "> (..) **shared memory** is expected to be a low-latency memory near each processor core (much like an L1 cache) (...)\n",
    "\n",
    ">  **Shared memory** is expected to be much faster than global memory (...). It can be used as scratchpad memory (or software managed cache) to minimize global memory accesses from a CUDA block.\n",
    "\n",
    "Shared memory has the following properties:\n",
    "- the access time to the shared memory is much shorter than the access time to the global memory,\n",
    "- it is usually much smaller than the global memory (the size of shared memory is usually counted in kilobytes, global memory -- in gigabytes),\n",
    "- it's accessible only by CUDA kernel (i.e. it's not possible to write to / read from it directly from the host PC),\n",
    "- its content is local for each thread block, i.e. for each block of threads, there is a separate area of shared memory.\n"
   ]
  },
  {
   "cell_type": "markdown",
   "id": "7dt2lEzwD-XZ",
   "metadata": {
    "id": "7dt2lEzwD-XZ"
   },
   "source": [
    "You can check the amount of shared memory available for each thread block on your GPU by looking into device properties:"
   ]
  },
  {
   "cell_type": "code",
   "execution_count": null,
   "id": "6PCFAo81EG_4",
   "metadata": {
    "colab": {
     "base_uri": "https://localhost:8080/"
    },
    "id": "6PCFAo81EG_4",
    "outputId": "0721914d-fdd2-4282-a891-a0e62f79addf"
   },
   "outputs": [],
   "source": [
    "device_props = cp.cuda.runtime.getDeviceProperties(0)\n",
    "\n",
    "print(f\"Device name: {device_props['name']}\")\n",
    "print(f\"Shared memory per thread block: {device_props['sharedMemPerBlock']} [bytes]\")"
   ]
  },
  {
   "cell_type": "markdown",
   "id": "96x2C4K_74PV",
   "metadata": {
    "id": "96x2C4K_74PV"
   },
   "source": [
    "### 2.2.1. Tiling"
   ]
  },
  {
   "cell_type": "markdown",
   "id": "Qy7ZJXRWdXBX",
   "metadata": {
    "id": "Qy7ZJXRWdXBX"
   },
   "source": [
    "A typical CUDA shared memory usage pattern is as follows:\n",
    "\n",
    "\n",
    "- for each thread $i$ in a block:\n",
    "\n",
    "  1. read data from the global to shared memory,\n",
    "  2. wait until all threads in the block finish 1.,\n",
    "  3. perform calculations using data available in the shared memory.\n"
   ]
  },
  {
   "cell_type": "markdown",
   "id": "UzKNZR_W6ZN5",
   "metadata": {
    "id": "UzKNZR_W6ZN5"
   },
   "source": [
    "![IUS Short-Course - lecture_2_tiling_past.png](data:image/png;base64,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)"
   ]
  },
  {
   "cell_type": "markdown",
   "id": "r0gRgxkQeE9w",
   "metadata": {
    "id": "r0gRgxkQeE9w"
   },
   "source": [
    "We can apply the above pattern to the `convolve_gpu_kernel` implementation:\n",
    "\n",
    "- let's declare that each block has shared memory for $B+N-1$ samples,\n",
    "  - where: $B$ is the size of the threads block, $N$ is the length of the filter, \n",
    "- for each thread $i$ in a block:\n",
    "\n",
    "  1. read a portion of data from global to shared memory,\n",
    "    - start with $k = i+o-(N-1)$,\n",
    "\n",
    "    - read from global to shared memory: $x[k]$, $x[k+B]$, ..., and so on, until you hit the end of the shared memory area,\n",
    "    - if $k + jB < 0$ or $k+jB \\ge m$ for any $j$, write 0 to shared memory at position $i+jB$, otherwise write $x[k+jB]$,\n",
    "  2. wait until all threads in the block finish 1.,\n",
    "  3. compute $y[i]$."
   ]
  },
  {
   "cell_type": "markdown",
   "id": "z2YxAONAmjTy",
   "metadata": {
    "id": "z2YxAONAmjTy"
   },
   "source": [
    "Let's try the above strategy with our toy convolution example. Assume that $B = 5$.\n",
    "\n",
    "```\n",
    "x = [0, 1, 2, 3, 4]\n",
    "h = [0, 1, 2]\n",
    "shared_memory = [0, 0, 0, 0, 0, 0, 0]\n",
    "```\n",
    "(note: an unintialized shared memory may contain any arbitrary values, we used zeros just for clarity).\n",
    "\n",
    "\n",
    "Some remarks: \n",
    "\n",
    "- We have a one block, that computes all the output samples.\n",
    "- $N = 3$\n",
    "- $o = 1$\n",
    "\n"
   ]
  },
  {
   "cell_type": "markdown",
   "id": "qlhSZnl07D_H",
   "metadata": {
    "id": "qlhSZnl07D_H"
   },
   "source": [
    "**Step 1. Read a portion of data from global memory to shared memory.**"
   ]
  },
  {
   "cell_type": "markdown",
   "id": "fYl4Z68P7WQF",
   "metadata": {
    "id": "fYl4Z68P7WQF"
   },
   "source": [
    "![IUS Short-Course - lecture_2_tiling_1.png](data:image/png;base64,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)"
   ]
  },
  {
   "cell_type": "markdown",
   "id": "1nbAX7xM7CPq",
   "metadata": {
    "id": "1nbAX7xM7CPq"
   },
   "source": [
    "\n",
    "\n",
    "Thread $i=0$:\n",
    "```\n",
    "0. start with k = 0 + 1 - (3-1) = -1\n",
    "1. k     =-1; i     = 0  => shared_memory[0] <- 0\n",
    "2. k + B = 4; i + B = 5  => shared_memory[5] <- x[4]\n",
    "3.            i + 2B = 10 => STOP\n",
    "```\n",
    "\n",
    "Thread $i=1$:\n",
    "```\n",
    "0. start with k = 0\n",
    "1. k     = 0; i     = 1  => shared_memory[1] <- x[0],\n",
    "2. k + B = 5; i + B = 6  => shared_memory[6] <- 0, \n",
    "3.            i + 2B = 11 => STOP, \n",
    "```\n",
    "\n",
    "Thread $i=2$:\n",
    "```\n",
    "0. start with k = 1\n",
    "1. k     = 1; i     = 2 => shared_memory[2] <- x[1],\n",
    "2.            i + B = 7 => STOP, \n",
    "```\n",
    "\n",
    "\n",
    "Thread $i=3$:\n",
    "```\n",
    "0. start with k = 2\n",
    "1. k     = 2; i     = 3 => shared_memory[3] <- x[2],\n",
    "2. k + B = 7; i + B = 8 => STOP, \n",
    "```\n",
    "\n",
    "Thread $i=4$:\n",
    "```\n",
    "0. start with k = 3\n",
    "1. k     = 3; i     = 4 => shared_memory[4] <- x[3],\n",
    "2. k + B = 8; i + B = 9 => STOP, \n",
    "```"
   ]
  },
  {
   "cell_type": "markdown",
   "id": "y5HzZ8dm7uMB",
   "metadata": {
    "id": "y5HzZ8dm7uMB"
   },
   "source": [
    "**Step 2. Wait until threads finish the above procedure**."
   ]
  },
  {
   "cell_type": "markdown",
   "id": "ETk3FeLd7gj2",
   "metadata": {
    "id": "ETk3FeLd7gj2"
   },
   "source": [
    "At this point:"
   ]
  },
  {
   "cell_type": "markdown",
   "id": "Jm_aD8lo8MRg",
   "metadata": {
    "id": "Jm_aD8lo8MRg"
   },
   "source": [
    "![IUS Short-Course - lecture_2_tiling_2.png](data:image/png;base64,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)"
   ]
  },
  {
   "cell_type": "markdown",
   "id": "7locdGwp7-lI",
   "metadata": {
    "id": "7locdGwp7-lI"
   },
   "source": [
    "**Step 3. Compute $y$** \n"
   ]
  },
  {
   "cell_type": "markdown",
   "id": "bZMQbLpw8nSl",
   "metadata": {
    "id": "bZMQbLpw8nSl"
   },
   "source": [
    "![IUS Short-Course - lecture_2_tiling_3.png](data:image/png;base64,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)"
   ]
  },
  {
   "cell_type": "markdown",
   "id": "gBxhSxDx7r5I",
   "metadata": {
    "id": "gBxhSxDx7r5I"
   },
   "source": [
    "Each `x[i]` was read exactly once."
   ]
  },
  {
   "cell_type": "markdown",
   "id": "Vw5DC9T38zqN",
   "metadata": {
    "id": "Vw5DC9T38zqN"
   },
   "source": [
    "### 2.2.2. CUDA C and CuPy syntax for tiling"
   ]
  },
  {
   "cell_type": "markdown",
   "id": "bg-2sjTOckD4",
   "metadata": {
    "id": "bg-2sjTOckD4"
   },
   "source": [
    "CUDA provides the following syntax for the shared memory area access:\n",
    "- to use shared memory in CUDA C/C++ kernel, declare an `extern` variable with keyword `__shared__`,\n",
    "- you can write to/read data from the shared memory area within GPU kernel code just like any other pointer in C language,\n",
    "- to *wait until all threads in the block finish their job* use `__syncthreads()` function in CUDA C kernel.\n",
    "\n",
    "When declare in the CUDA C kernel that you will use shared memory area, please remember to pass the shared memory size, which you will need for your calculations, as a kernel invocation parameter `shared_mem`:\n",
    "\n",
    "```\n",
    "kernel_object(grid, block, args, shared_mem)\n",
    "```\n",
    "\n",
    "(see also shared memory documentation available [here](https://docs.nvidia.com/cuda/cuda-c-programming-guide/index.html#shared-memory))"
   ]
  },
  {
   "cell_type": "markdown",
   "id": "owTKFOiS01Zw",
   "metadata": {
    "id": "owTKFOiS01Zw"
   },
   "source": [
    "Let's implement the 1D convolution algorithm with shared memory."
   ]
  },
  {
   "cell_type": "markdown",
   "id": "f3528c15-9577-47e6-ae11-04f9f6bf5fa0",
   "metadata": {},
   "source": [
    "**Exercise**\n",
    "\n",
    "1. Open `2_2_convolve1d_shared_memory.cc` file.\n",
    "2. Fill in the missing lines of code, marked with the `// TODO` comment."
   ]
  },
  {
   "cell_type": "code",
   "execution_count": null,
   "id": "wotBwywy_M9X",
   "metadata": {
    "colab": {
     "base_uri": "https://localhost:8080/"
    },
    "id": "wotBwywy_M9X",
    "outputId": "08417e55-947d-417f-9b16-d78dd8eefeb0"
   },
   "outputs": [],
   "source": [
    "%%writefile 2_2_convolve_shared_memory.py\n",
    "import math\n",
    "import numpy as np\n",
    "import cupy as cp\n",
    "import gpu_short_course.tests\n",
    "\n",
    "convolve_gpu_kernel_src = open(\"2_2_convolve1d_shared_memory.cc\").read()\n",
    "convolve_gpu_kernel = cp.RawKernel(code=convolve_gpu_kernel_src, name=\"convolve1d\")\n",
    "\n",
    "def convolve_gpu(x, h):\n",
    "    # Prepare input arguments.\n",
    "    y = cp.empty(shape=x.shape, dtype=np.float32) \n",
    "    x = cp.asarray(x.astype(np.float32))\n",
    "    h = cp.asarray(h.astype(np.float32))\n",
    "    m = len(x)\n",
    "    n = len(h)\n",
    "    o = int(math.ceil(n/2)-1)\n",
    "\n",
    "    # 1. DEFINE HIERARCHY OF THREADS. \n",
    "    block_size = 256\n",
    "    grid_size = int(math.ceil(m/block_size))\n",
    "    block = (block_size, )\n",
    "    grid = (grid_size, )\n",
    "\n",
    "    # 2. DETERMINE HOW MUCH SHARED MEMORY WE NEED\n",
    "    shared_mem_size = block_size+n-1                          # Number of elements in shared memory.\n",
    "    shared_mem_size_bytes = shared_mem_size*y.dtype.itemsize  # Number of bytes.\n",
    "    \n",
    "    # Make sure we are not exceeding the available shared memory size:\n",
    "    device_props = cp.cuda.runtime.getDeviceProperties(0)\n",
    "    if shared_mem_size_bytes > device_props['sharedMemPerBlock']:    \n",
    "        raise ValueError(\"Declared shared memory size exceeds the amount available for the device.\")\n",
    "\n",
    "    # 3. INVOKE THE KERNEL.\n",
    "    convolve_gpu_kernel(grid, block, args=(y, x, h, m, n, o, shared_mem_size), shared_mem=shared_mem_size_bytes)\n",
    "    return y.get()\n",
    "\n",
    "gpu_short_course.tests.run_convolve(convolve_gpu)"
   ]
  },
  {
   "cell_type": "markdown",
   "id": "QsWzeEjl5Y8N",
   "metadata": {
    "id": "QsWzeEjl5Y8N"
   },
   "source": [
    "Let's test the implementation first:\n"
   ]
  },
  {
   "cell_type": "code",
   "execution_count": null,
   "id": "9MhK44ma5akn",
   "metadata": {
    "colab": {
     "base_uri": "https://localhost:8080/"
    },
    "id": "9MhK44ma5akn",
    "outputId": "42d993d2-841c-4dc5-dec0-10d74357b48e"
   },
   "outputs": [],
   "source": [
    "! python 2_2_convolve_shared_memory.py --mode test"
   ]
  },
  {
   "cell_type": "code",
   "execution_count": null,
   "id": "szzkXk-QFWoI",
   "metadata": {
    "colab": {
     "base_uri": "https://localhost:8080/"
    },
    "id": "szzkXk-QFWoI",
    "outputId": "ca3b411b-e0b9-47e7-fb71-bfdb455acd35"
   },
   "outputs": [],
   "source": [
    "! nvprof --trace gpu python 2_2_convolve_shared_memory.py --mode benchmark n=10"
   ]
  },
  {
   "cell_type": "markdown",
   "id": "4Hy2DqxKBG-V",
   "metadata": {
    "id": "4Hy2DqxKBG-V"
   },
   "source": [
    "Compare the above result with that of a convolution from section 2.1.2."
   ]
  },
  {
   "cell_type": "markdown",
   "id": "UPxTLXIkD02P",
   "metadata": {
    "id": "UPxTLXIkD02P"
   },
   "source": [
    "##  2.3. Constant memory"
   ]
  },
  {
   "cell_type": "markdown",
   "id": "HEred5ceB_u3",
   "metadata": {
    "id": "HEred5ceB_u3"
   },
   "source": [
    "In our GPU convolution implementation, there is still one more array located in the global memory area whose values are read over and over again -- the filter $h$ cofficients.\n",
    "\n",
    "The filter coefficients, like the input samples, could be pre-read by each thread block to shared memory, similar to what we did with the input signal $x$ -- we leave the implementation of this to the student as homework. \n",
    "\n",
    "In this exercise, we will use another type of memory to store the filter coefficients: i.e., constant memory."
   ]
  },
  {
   "cell_type": "markdown",
   "id": "CkWuQIE4EBZu",
   "metadata": {
    "id": "CkWuQIE4EBZu"
   },
   "source": [
    "According to the [CUDA Toolkit documentation](https://docs.nvidia.com/cuda/cuda-c-programming-guide/index.html):\n",
    "\n",
    "> (...) The constant memory space resides in device memory and is cached in the constant cache. (...)\n",
    "\n",
    "> Constants are immutable and may not be modified from the device, even between parent and child launches. That is to say, the value of all __constant__ variables must be set from the host prior to launch. Constant memory is inherited automatically by all child kernels from their respective parents.\n",
    "\n",
    "> An SM has:\n",
    "a read-only constant cache that is shared by all functional units and speeds up reads from the constant memory space, which resides in device memory (...)\n",
    "\n",
    "Constant memory has the following properties:\n",
    "- it resides in global memory, and is accessed by a Multiprocessor via *constant cache*, therefore reading from constant memory usually costs the time required to access low-latency cache memory, and usually is much faster than accessing global memory,\n",
    "-  is read-only,\n",
    "- due to the limited size of constant cache, the available *constant memory* space is much smaller than the available global memory,\n",
    "- it can be accesed by a CUDA kernel,\n",
    "- it can be initialized by host code.\n"
   ]
  },
  {
   "cell_type": "markdown",
   "id": "v78phMX6Fqzo",
   "metadata": {
    "id": "v78phMX6Fqzo"
   },
   "source": [
    "Let's check the amout of constant memory available on our GPU:"
   ]
  },
  {
   "cell_type": "code",
   "execution_count": null,
   "id": "ze451bvNUEb7",
   "metadata": {
    "colab": {
     "base_uri": "https://localhost:8080/"
    },
    "id": "ze451bvNUEb7",
    "outputId": "9138e19a-1273-41ef-d875-85417031e052"
   },
   "outputs": [],
   "source": [
    "device_props = cp.cuda.runtime.getDeviceProperties(0)\n",
    "\n",
    "print(f\"Device name: {device_props['name']}\")\n",
    "print(f\"Constant memory size: {device_props['totalConstMem']} [bytes]\")"
   ]
  },
  {
   "cell_type": "markdown",
   "id": "RRWrdzn-9eQp",
   "metadata": {
    "id": "RRWrdzn-9eQp"
   },
   "source": [
    "### 2.3.1. CUDA C and CuPy syntax for constant memory"
   ]
  },
  {
   "cell_type": "markdown",
   "id": "O1F7VpmxjGSt",
   "metadata": {
    "id": "O1F7VpmxjGSt"
   },
   "source": [
    "To use constant memory in CuPy:\n",
    "- in CUDA source code declare a global variable (e.g. an array) with `__constant__` keyword - this will be our pointer to constant memory,\n",
    "- you can use the constant memory pointer in CUDA code as any other variable,\n",
    "- create `cupy.RawModule` class to build kernels in CuPy (do not use `cupy.RawKernel`),\n",
    "- to get a handle to kernel function: use method `.get_function` on the created `RawModule`, \n",
    "- to get a handle to CUDA constant symbol: use method `.get_global` on the created `RawModule`,\n",
    "- wrap the handle to constant symbol into a cupy array, pass the handle to memptr argument of `cupy.ndarray` type,\n",
    "- fill the const ndarray with data."
   ]
  },
  {
   "cell_type": "markdown",
   "id": "280283f7-a60f-4554-a94b-3f05de0ca5e3",
   "metadata": {},
   "source": [
    "**Exercise**\n",
    "\n",
    "1. Open `2_3_convolve1d_shared_const_memory.cc` file.\n",
    "2. Update lines of code marked with the `// TODO` comment."
   ]
  },
  {
   "cell_type": "code",
   "execution_count": null,
   "id": "FhV7yA-iURg5",
   "metadata": {
    "colab": {
     "base_uri": "https://localhost:8080/"
    },
    "id": "FhV7yA-iURg5",
    "outputId": "da95be25-7bb7-448e-cc58-ce4a4c2d026d",
    "tags": []
   },
   "outputs": [],
   "source": [
    "%%writefile 2_3_convolve_const_memory.py\n",
    "import math\n",
    "import sys\n",
    "import numpy as np\n",
    "import cupy as cp\n",
    "import gpu_short_course.tests\n",
    "\n",
    "convolve_gpu_kernel_src = open(\"2_3_convolve1d_shared_const_memory.cc\").read()\n",
    "\n",
    "convolve_gpu_module = cp.RawModule(code=convolve_gpu_kernel_src)\n",
    "device_props = cp.cuda.runtime.getDeviceProperties(0)\n",
    "\n",
    "# Get a handle to the `convolve1d` function.\n",
    "convolve_gpu_kernel = convolve_gpu_module.get_function(\"convolve1d\")\n",
    "\n",
    "# Get a handle to the constant variable `h`.\n",
    "# First, determine the size of the filter we want to use.\n",
    "# For testing purpose, we will use a filter with 5 coefficients.\n",
    "# For benchmarking, we will use a filter with 256 coefficients.\n",
    "mode = sys.argv[2]\n",
    "if mode == \"test\":\n",
    "    filter_size = 5\n",
    "elif mode == \"benchmark\":\n",
    "    filter_size = 256\n",
    "\n",
    "if filter_size*4 > device_props[\"totalConstMem\"]:\n",
    "    # times 4, because we using 32-bit float type.\n",
    "    raise ValueError(\"We are exceeding available constant memory size!\")\n",
    "\n",
    "# Make sure we are not exceeding available const memory area.\n",
    "# Get a C pointer to the constant variable h.\n",
    "h_ptr = convolve_gpu_module.get_global(\"h\")\n",
    "# Create the `h` array.\n",
    "h = cp.ndarray(shape=(filter_size,), dtype=cp.float32, memptr=h_ptr)\n",
    "h_host = np.random.rand(filter_size).astype(np.float32)\n",
    "# Copy filter coefficients from host to GPU.\n",
    "h.set(h_host)\n",
    "\n",
    "def convolve_gpu(x):\n",
    "    # Prepare input arguments.\n",
    "    y = cp.empty(shape=x.shape, dtype=np.float32) \n",
    "    x = cp.asarray(x.astype(np.float32))\n",
    "    m = len(x)\n",
    "    n = len(h)\n",
    "    o = int(math.ceil(n/2)-1)\n",
    "\n",
    "    # 1. DEFINE HIERARCHY OF THREADS. \n",
    "    block_size = 256\n",
    "    grid_size = int(math.ceil(m/block_size))\n",
    "    block = (block_size, )\n",
    "    grid = (grid_size, )\n",
    "\n",
    "    # 2. DETERMINE HOW MUCH SHARED MEMORY WE NEED\n",
    "    shared_mem_size = block_size+n-1                          # Number of elements in shared memory.\n",
    "    shared_mem_size_bytes = shared_mem_size*y.dtype.itemsize  # Number of bytes.\n",
    "    # Make sure we are not exceeding the available shared memory size:\n",
    "    if shared_mem_size_bytes > device_props['sharedMemPerBlock']:    \n",
    "        raise ValueError(\"We are exceeding available shared memory size!\")\n",
    "    # 3. INVOKE THE KERNEL.\n",
    "    convolve_gpu_kernel(grid, block, args=(y, x, m, n, o, shared_mem_size), shared_mem=shared_mem_size_bytes)\n",
    "    return y.get()\n",
    "\n",
    "gpu_short_course.tests.run_convolve_const(convolve_gpu, h=h_host)"
   ]
  },
  {
   "cell_type": "code",
   "execution_count": null,
   "id": "JmOejJ0dUS_D",
   "metadata": {
    "colab": {
     "base_uri": "https://localhost:8080/"
    },
    "id": "JmOejJ0dUS_D",
    "outputId": "9915b2a3-81b9-4f9d-f37c-317d200afc0d"
   },
   "outputs": [],
   "source": [
    "! python 2_3_convolve_const_memory.py --mode test"
   ]
  },
  {
   "cell_type": "code",
   "execution_count": null,
   "id": "Hl8-nncZIOE5",
   "metadata": {
    "colab": {
     "base_uri": "https://localhost:8080/"
    },
    "id": "Hl8-nncZIOE5",
    "outputId": "355b60dc-62da-42d5-c25c-f73b603fd505"
   },
   "outputs": [],
   "source": [
    "! nvprof --trace gpu python 2_3_convolve_const_memory.py --mode benchmark"
   ]
  },
  {
   "cell_type": "markdown",
   "id": "689fa9c0-a0c2-4098-a9cb-ea8a188ef160",
   "metadata": {},
   "source": [
    "## 2.4. Implementing image reconstruction in CUDA"
   ]
  },
  {
   "cell_type": "markdown",
   "id": "fe0c8bca-8b94-43db-8583-956fd9d26a7c",
   "metadata": {},
   "source": [
    "We will now try to implement a simple ultrasonic signal beamformer for a sequence of transmissions of several **plane waves**. In our experiments we will use sample data generated in [Field 2](https://field-ii.dk/) simulation software.\n",
    "\n",
    "We will implement B-mode image reconstruction based on RF data. The data can downloaded using the following instruction:  "
   ]
  },
  {
   "cell_type": "code",
   "execution_count": null,
   "id": "262a1c70-7d72-4db8-9b17-4d525af52848",
   "metadata": {},
   "outputs": [],
   "source": [
    "! wget -nc -O pwi_field2_sample_data.pkl \"https://www.dropbox.com/s/n0ut1ncmfrlqy0t/pwi_field2_sample_data.pkl?dl=1\""
   ]
  },
  {
   "cell_type": "markdown",
   "id": "041f0b18-3835-4ab4-b0b0-ea53c9ebd06a",
   "metadata": {},
   "source": [
    "And let's import all the necessary Python packages:"
   ]
  },
  {
   "cell_type": "code",
   "execution_count": null,
   "id": "84e5771c-c722-4bde-84c5-7f6aab0d585b",
   "metadata": {},
   "outputs": [],
   "source": [
    "import matplotlib.pyplot as plt\n",
    "import scipy.signal\n",
    "import math\n",
    "import cupy as cp\n",
    "import numpy as np\n",
    "import itertools\n",
    "import pickle"
   ]
  },
  {
   "cell_type": "markdown",
   "id": "b65dfdb8-a306-4c30-82a0-ee4ef758a7ab",
   "metadata": {},
   "source": [
    "### 2.4.1. Data analysis"
   ]
  },
  {
   "cell_type": "markdown",
   "id": "540a2510-da2c-4a0d-a207-1f158dc6c9fb",
   "metadata": {},
   "source": [
    "Now we will take a closer look at the RF data we have available in this course."
   ]
  },
  {
   "cell_type": "markdown",
   "id": "4da5dc73-5d8e-45ee-bfe4-12728b6888d9",
   "metadata": {},
   "source": [
    "We can read the input data using `pickle` Python package. Let's do it now. "
   ]
  },
  {
   "cell_type": "code",
   "execution_count": null,
   "id": "77514f17-5201-406c-bcc7-cd11699c2f7f",
   "metadata": {},
   "outputs": [],
   "source": [
    "file = pickle.load(open(\"pwi_field2_sample_data.pkl\", \"rb\"))\n",
    "list(file.keys())"
   ]
  },
  {
   "cell_type": "markdown",
   "id": "006d396a-8815-4db4-a3d5-5594a306e29f",
   "metadata": {},
   "source": [
    "The file contains two fields: `rf` and `context`."
   ]
  },
  {
   "cell_type": "markdown",
   "id": "8548218a-b15e-4c4f-b6ef-58be86508adf",
   "metadata": {},
   "source": [
    "The `context` contains all all the parameters that describe how the data were acquired (i.e. RF *metadata*), and which we will need in our RX beamforming code. Here we list available information:"
   ]
  },
  {
   "cell_type": "code",
   "execution_count": null,
   "id": "08bf950a-3c6e-463d-8187-fc9d05c48fba",
   "metadata": {},
   "outputs": [],
   "source": [
    "context = file[\"context\"]\n",
    "context"
   ]
  },
  {
   "cell_type": "markdown",
   "id": "9b30ab1e-28cd-411f-adc7-1c86f4217fe6",
   "metadata": {},
   "source": [
    "where:\n",
    "- frequency values are in [Hz]\n",
    "- speed is in [m/s]\n",
    "- distance (e.g. probe's pitch) is in [m]\n",
    "- angle is in [rad]"
   ]
  },
  {
   "cell_type": "markdown",
   "id": "bf130552-5147-47c9-96e3-48a7dbad0703",
   "metadata": {},
   "source": [
    "The `rf` field is a `numpy.ndarray` with signal data:"
   ]
  },
  {
   "cell_type": "code",
   "execution_count": null,
   "id": "148078f7-08ca-4b19-9f3c-87e869c8314c",
   "metadata": {},
   "outputs": [],
   "source": [
    "rfs = file[\"rf\"]\n",
    "# Dimensions: \n",
    "n_sequences, n_txs, n_channels, n_samples = rfs.shape "
   ]
  },
  {
   "cell_type": "markdown",
   "id": "99cc3d1d-4832-40ce-b62d-2a587371744e",
   "metadata": {},
   "source": [
    "We will use a collection of RF sequences, which can be reconstructed to a sequence of B-mode images. Here are some example RF frames and scanlines:"
   ]
  },
  {
   "cell_type": "code",
   "execution_count": null,
   "id": "52a176a1-69bc-457e-a0e1-1e2f5122fbe2",
   "metadata": {},
   "outputs": [],
   "source": [
    "plt.figure(figsize=(15, 5))\n",
    "plt.ylabel(\"Amplitude (a.u.)\")\n",
    "plt.xlabel(\"time ($\\mu$s)\")\n",
    "start_sample = 2000\n",
    "plt.plot(np.arange(start_sample, n_samples)/context[\"sampling_frequency\"], rfs[0, 0, 63, start_sample:])"
   ]
  },
  {
   "cell_type": "code",
   "execution_count": null,
   "id": "876d8fd8-6580-46b0-ac16-df1ff29b61d7",
   "metadata": {},
   "outputs": [],
   "source": [
    "fig, ax = plt.subplots()\n",
    "fig.set_size_inches((7, 7))\n",
    "ax.imshow(rfs[0, 0, :, start_sample:].T, vmin=-5e-11, vmax=5e-11)\n",
    "ax.set_ylabel(\"Acquisiton depth ($\\mu$s)\")\n",
    "ax.set_xlabel(\"Azimuth\")\n",
    "ax.set_aspect(\"auto\")"
   ]
  },
  {
   "cell_type": "markdown",
   "id": "e8cbe83f-3e46-440b-98d1-cb7f1581636e",
   "metadata": {},
   "source": [
    "### 2.4.2. PWI reconstruction on CPU"
   ]
  },
  {
   "cell_type": "markdown",
   "id": "f4cabf5a-3f57-4b89-9b13-70444c916fe5",
   "metadata": {},
   "source": [
    "In these exercises, we will focus on implementing a beamformer for the **plane wave TX/RX sequence**."
   ]
  },
  {
   "cell_type": "markdown",
   "id": "ff921150-5b86-46ae-9e8c-bda5114d25f7",
   "metadata": {},
   "source": [
    "**Input**:  \n",
    "\n",
    "$S$: RF frame with dimensions: $(n_{tx}, n_{rx}, n_s)$\n",
    "\n",
    "**Output**: \n",
    "\n",
    "$y$: beamformed frame with dimensions $(n_{x}, n_{z})$\n",
    "\n",
    "\\begin{equation*}\n",
    "y[x, z] = \\sum_{i=0}^{n_{tx}} \\sum_{j=0}^{n_{rx}} S[i, j, \\delta(x, z, p(j), \\alpha(i))] \n",
    "\\end{equation*}\n",
    "\n",
    "where:\n",
    "- $p(j)$ is the position of probe element $j$ (along OX, i.e. azimuth), \n",
    "- $\\alpha(i)$ is an angle in transmit $i$,\n",
    "- $\\delta(x, z, p, a)$ is a receive delay (in number of samples). For plane wave imaging:\n",
    "\n",
    "\\begin{equation*}\n",
    "\\delta_{tx}(x, z, a) = zcos(a) + xsin(a)\n",
    "\\end{equation*}\n",
    "\n",
    "\\begin{equation*}\n",
    "\\delta_{rx}(x, z, p) = \\sqrt{(x-p)^2 + z^2}\n",
    "\\end{equation*}\n",
    "\n",
    "\\begin{equation*}\n",
    "\\delta(x, z, p, a) = (\\delta_{tx}(x, z, a) + \\delta_{rx}(x, z, p))\\frac{f_s}{c}\n",
    "\\end{equation*}\n",
    "\n",
    "where $c$ is speed of sound and $f_s$ is a sampling frequency.\n",
    "\n",
    "We assume that the origin of the coordinate system is located in the center of the probe aperture."
   ]
  },
  {
   "cell_type": "markdown",
   "id": "848ecd2b-0a15-4090-ba0f-f4efc53c917b",
   "metadata": {},
   "source": [
    "For the sake of simplicity:\n",
    "- we do all calculations in time domain (i.e. we do not use IQ data here),\n",
    "- we assume we use linear array probe, and probe elements are evenly spaced,\n",
    "- we ommit RX apodization in our implementation,\n",
    "- we use nearest-neighbour interpolation when determing input signal sample value.\n",
    "\n",
    "All the above limitations are there to improve the clarity of the code presented in this notebook. This can be treated as a starting point for more advanced implementations."
   ]
  },
  {
   "cell_type": "markdown",
   "id": "47e23f41-6fa2-4223-9800-2fdde78f70f1",
   "metadata": {},
   "source": [
    "As we did before, we will start with implementing the beamformer prototype for CPU."
   ]
  },
  {
   "cell_type": "markdown",
   "id": "7dc52de6-6617-4cdc-8485-c53aeeb11644",
   "metadata": {},
   "source": [
    "First we will prepare a couple of auxiliary arrays which we will use in our implementation:\n",
    "- probe element position:"
   ]
  },
  {
   "cell_type": "code",
   "execution_count": null,
   "id": "b45f4566-0cd6-4e9f-87a3-bebebd31d04e",
   "metadata": {},
   "outputs": [],
   "source": [
    "# distance between the leftmost and rightmost element of probe (centers)\n",
    "probe_width = (n_channels-1) * context[\"pitch\"]\n",
    "# Position of each probe element (OX).\n",
    "elements_x = np.linspace(-probe_width/2, probe_width/2, n_channels)"
   ]
  },
  {
   "cell_type": "markdown",
   "id": "d134e222-fa2b-4809-b476-c539a15dfc97",
   "metadata": {},
   "source": [
    "- output image grid points:"
   ]
  },
  {
   "cell_type": "code",
   "execution_count": null,
   "id": "22b497e8-4a06-48a2-abd2-abf40bf0085a",
   "metadata": {},
   "outputs": [],
   "source": [
    "nx, nz = 128, 128\n",
    "grid_x = np.linspace(-15, 15, nx)*1e-3  # OX coordinates (meters)\n",
    "grid_z = np.linspace( 20, 50, nz)*1e-3  # OZ coordinates (m)\n",
    "grid_extent = [np.min(grid_x), np.max(grid_x), np.max(grid_z), np.min(grid_z)]"
   ]
  },
  {
   "cell_type": "markdown",
   "id": "fa9b9414-7896-4e34-9ad5-47245521de9f",
   "metadata": {},
   "source": [
    "**Exercise**\n",
    "\n",
    "Fill in the missing line(s) of code, marked with the `# TODO` comment."
   ]
  },
  {
   "cell_type": "code",
   "execution_count": null,
   "id": "e660566c-6f7d-43ed-8ca8-0dbfb9f0e356",
   "metadata": {},
   "outputs": [],
   "source": [
    "def beamform(S, grid_x, grid_z, context):\n",
    "    n_transmits, n_channels, n_samples = S.shape\n",
    "    nx = len(grid_x)\n",
    "    nz = len(grid_z)\n",
    "    \n",
    "    angles             = context[\"angles\"]\n",
    "    speed_of_sound     = context[\"speed_of_sound\"]\n",
    "    sampling_frequency = context[\"sampling_frequency\"]\n",
    "    y = np.zeros((nx, nz), dtype=np.float32)\n",
    "    \n",
    "    grid_x = enumerate(grid_x)  # pairs (ix, x), where ix is the index of x in the list\n",
    "    grid_z = enumerate(grid_z)  # pairs (iz, z), where iz is the index of z in the list\n",
    "    \n",
    "    for (ix, x), (iz, z) in itertools.product(grid_x, grid_z):\n",
    "        pixel_value = 0.0\n",
    "        for i, angle in enumerate(angles):\n",
    "            tx_distance = # TODO\n",
    "            for j in range(n_channels):\n",
    "                rx_distance = # TODO\n",
    "                propagation_time = (tx_distance+rx_distance)/speed_of_sound;\n",
    "                sample_number = propagation_time*sampling_frequency;\n",
    "                sample_number = int(round(sample_number))\n",
    "                if sample_number >= 0 and sample_number < n_samples:\n",
    "                    pixel_value += S[i, j, sample_number]\n",
    "        y[ix, iz] = pixel_value \n",
    "    return y"
   ]
  },
  {
   "cell_type": "markdown",
   "id": "372f60a3-16d2-48f4-8478-6a1a591a8751",
   "metadata": {},
   "source": [
    "Now, let's inspect our implementation. For now, we will use the following post-processing CPU implementation:"
   ]
  },
  {
   "cell_type": "code",
   "execution_count": null,
   "id": "c5967283-7d84-4961-b357-dff5d23581b3",
   "metadata": {},
   "outputs": [],
   "source": [
    "def to_bmode_cpu(rf_beamformed):\n",
    "    envelope = np.abs(scipy.signal.hilbert(rf_beamformed, axis=0))\n",
    "    res = 20*np.log10(envelope/np.max(envelope))\n",
    "    return res"
   ]
  },
  {
   "cell_type": "markdown",
   "id": "cd95a077-c91f-40ca-9a75-fa587b05b4b2",
   "metadata": {},
   "source": [
    "Here we present the first reconstructed image."
   ]
  },
  {
   "cell_type": "code",
   "execution_count": null,
   "id": "f128f97f-92c1-437b-8fe2-6b2a5113bc09",
   "metadata": {},
   "outputs": [],
   "source": [
    "y = beamform(rfs[10], grid_x, grid_z, context)\n",
    "plt.imshow(to_bmode_cpu(y).T, cmap=\"gray\", vmin=-30, vmax=0)"
   ]
  },
  {
   "cell_type": "markdown",
   "id": "ad51535d-39c2-4f18-a880-60fadcdda1fb",
   "metadata": {},
   "source": [
    "Let's we check how much time our reconstruction code takes:"
   ]
  },
  {
   "cell_type": "code",
   "execution_count": null,
   "id": "9dc59ce6-8a31-4e7f-af89-2645d8b6bb7f",
   "metadata": {},
   "outputs": [],
   "source": [
    "%time y = beamform(rfs[10], grid_x, grid_z, context)"
   ]
  },
  {
   "cell_type": "markdown",
   "id": "c3399bac-8199-4ef8-b29d-ebdcdfd626ac",
   "metadata": {},
   "source": [
    "### 2.4.3. PWI reconstruction on GPU"
   ]
  },
  {
   "cell_type": "markdown",
   "id": "4137abe8-c784-417d-b91f-3e15340ec67b",
   "metadata": {},
   "source": [
    "In this part of the notebook, we will implement a GPU beamformer. \n",
    "\n",
    "Just like before, first we will consider how can we divide data beamforming into smaller subtasks, preferably in such a way that all subtasks are independent of each other. \n",
    "\n",
    "Note that, as in the previous examples, output image **pixels** can be calculated independently of each other. That is, for each **output pixel** we can assign a  separate **CUDA thread** that will be responsible for calculating the sum of amplitudes, measured at physical location of that pixel."
   ]
  },
  {
   "cell_type": "markdown",
   "id": "368e2c25-4ab4-4d49-857e-2e5282f6e1ac",
   "metadata": {},
   "source": [
    "Let's try now implementing the `beamform` function for GPU devices.\n",
    "\n",
    "This time we will wrap the beamformer code into a class that will keep references to GPU resources that we need in the image reconstruction. In the class constructor (function `__init__`) we will initialize GPU data, which is constant during the beamformer operation and does not depend on the RF frames we receive in run-time. This includes e.g. probe the `elements_x` and `angles` arrays. The second, `process` function will be responsible for doing the reconstruction on GPU, in accordance with the assumptions we have made above."
   ]
  },
  {
   "cell_type": "markdown",
   "id": "03543865-4d50-46f5-ae0d-666ab886ff54",
   "metadata": {},
   "source": [
    "**Exercise**\n",
    "\n",
    "1. Open `2_4_beamform.cc` file.\n",
    "2. Update lines of code marked with the `// TODO` comment."
   ]
  },
  {
   "cell_type": "code",
   "execution_count": null,
   "id": "fc3e2930-9b1f-46eb-9a65-8ae05c1ecb40",
   "metadata": {},
   "outputs": [],
   "source": [
    "class Beamformer:\n",
    "    \n",
    "    def __init__(self, grid_x, grid_z, elements_x, context):\n",
    "        # Create beamforming GPU kernel.\n",
    "        beamform_src = open(\"2_4_beamform.cc\").read()\n",
    "        self.beamform_kernel = cp.RawKernel(code=beamform_src, name=\"beamform\")\n",
    "        # Hierarchy of threads.\n",
    "        self.block = (16, 16)\n",
    "        self.nx, self.nz = len(grid_x), len(grid_z)\n",
    "        self.grid = (int(math.ceil(nz/self.block[0])), int(math.ceil(nx/self.block[1])))\n",
    "        # All other parameters to GPU.\n",
    "        self.grid_x_gpu = cp.asarray(grid_x, dtype=cp.float32)\n",
    "        self.grid_z_gpu = cp.asarray(grid_z, dtype=cp.float32)\n",
    "        self.elements_x_gpu = cp.asarray(elements_x, dtype=cp.float32)\n",
    "        self.angles_gpu = cp.asarray(context[\"angles\"], dtype=cp.float32)\n",
    "        # NOTE: we have to use the below lines of code to make sure, that the input parameters\n",
    "        # are 32-bit floating points. \n",
    "        self.speed_of_sound = cp.float32(context[\"speed_of_sound\"])\n",
    "        self.sampling_frequency = cp.float32(context[\"sampling_frequency\"])\n",
    "        # Output array.\n",
    "        self.output = cp.zeros((nx, nz), dtype=cp.float32)\n",
    "        \n",
    "    def process(self, rf):\n",
    "        rf_gpu = cp.asarray(rf, dtype=cp.float32)\n",
    "        n_transmits, n_elements, n_samples = rf_gpu.shape\n",
    "        self.beamform_kernel(self.grid, self.block, \n",
    "            args=(\n",
    "                self.output, rf_gpu,\n",
    "                self.grid_z_gpu,      self.nz,\n",
    "                self.grid_x_gpu,      self.nx,\n",
    "                self.angles_gpu,      n_transmits,\n",
    "                self.elements_x_gpu,  n_elements,\n",
    "                n_samples, \n",
    "                self.speed_of_sound, self.sampling_frequency))\n",
    "        return self.output.get()"
   ]
  },
  {
   "cell_type": "markdown",
   "id": "8c40c3c3-0eb7-42cd-bfca-35812b5b2d92",
   "metadata": {},
   "source": [
    "Now let's check our implementation. Here we generate a sequence of B-mode images for our RF data. To display the sequence of B-mode frames, in the code below we use `show_cineloop` function, which is available in the `gpu_short_course.ultrasound_imaging` package. Then, we convert the generated `Animation` object into a form that can be displayed in Jupyter notebook."
   ]
  },
  {
   "cell_type": "code",
   "execution_count": null,
   "id": "a54096a8-1a71-4740-88d6-c7797e44c0a5",
   "metadata": {},
   "outputs": [],
   "source": [
    "from IPython.display import HTML\n",
    "from gpu_short_course.ultrasound_imaging import show_cineloop\n",
    "\n",
    "bmodes = []\n",
    "beamformer = Beamformer(grid_x, grid_z, elements_x, context)\n",
    "\n",
    "for rf in rfs:\n",
    "    output = beamformer.process(rf)\n",
    "    bmode = to_bmode_cpu(output)\n",
    "    bmodes.append(bmode.T)\n",
    "    \n",
    "anim = show_cineloop(bmodes, cmap=\"gray\", value_range=(-30, 0), extent=grid_extent, figsize=(4, 4))\n",
    "plt.close()\n",
    "HTML(anim.to_jshtml())"
   ]
  },
  {
   "cell_type": "markdown",
   "id": "98c00fc6-00c4-4983-a558-421a5b8e0f46",
   "metadata": {},
   "source": [
    "Now, we will use a profiler to verify how much time the `beamform` GPU kernel takes.\n",
    "\n",
    "The below script:\n",
    "- loads the input data,\n",
    "- creates `Beamformer` class, which is the same class we have used above,\n",
    "- reconstructs images using `Beamformer`'s GPU kernel and converts them to B-mode images,\n",
    "- saves the generated sequence of B-modes as an animation to a gif file."
   ]
  },
  {
   "cell_type": "code",
   "execution_count": null,
   "id": "84b06603-3a51-4995-8a7d-063b322ddb54",
   "metadata": {},
   "outputs": [],
   "source": [
    "%%writefile 2_4_beamform.py\n",
    "\n",
    "import math\n",
    "import pickle\n",
    "import cupy as cp\n",
    "import numpy as np\n",
    "import scipy.signal\n",
    "import matplotlib.pyplot as plt\n",
    "from gpu_short_course.ultrasound_imaging import (\n",
    "    show_cineloop, to_bmode_cpu\n",
    ")\n",
    "\n",
    "\n",
    "file = pickle.load(open(\"pwi_field2_sample_data.pkl\", \"rb\"))\n",
    "list(file.keys())\n",
    "\n",
    "rfs = file[\"rf\"]\n",
    "context = file[\"context\"]\n",
    "n_sequences, n_transmits, n_channels, n_samples = rfs.shape\n",
    "\n",
    "probe_width = (n_channels-1) * context[\"pitch\"]\n",
    "elements_x = np.linspace(-probe_width/2, probe_width/2, n_channels).astype(np.float32)\n",
    "\n",
    "nx, nz = 128, 128\n",
    "grid_x = np.linspace(-15, 15, nx)*1e-3  # OX coordinates (meters)\n",
    "grid_z = np.linspace( 20, 50, nz)*1e-3  # OZ coordinates (m)\n",
    "grid_extent = [np.min(grid_x), np.max(grid_x), np.max(grid_z), np.min(grid_z)]\n",
    "\n",
    "class Beamformer:\n",
    "    \n",
    "    def __init__(self, grid_x, grid_z, elements_x, context):\n",
    "        # Create beamforming GPU kernel.\n",
    "        beamform_src = open(\"2_4_beamform.cc\").read()\n",
    "        self.beamform_kernel = cp.RawKernel(code=beamform_src, name=\"beamform\")\n",
    "        # Hierarchy of threads.\n",
    "        self.block = (16, 16)\n",
    "        self.nx, self.nz = len(grid_x), len(grid_z)\n",
    "        self.grid = (int(math.ceil(nz/self.block[0])), int(math.ceil(nx/self.block[1])))\n",
    "        # All other parameters to GPU.\n",
    "        self.grid_x_gpu = cp.asarray(grid_x, dtype=cp.float32)\n",
    "        self.grid_z_gpu = cp.asarray(grid_z, dtype=cp.float32)\n",
    "        self.elements_x_gpu = cp.asarray(elements_x, dtype=cp.float32)\n",
    "        self.angles_gpu = cp.asarray(context[\"angles\"], dtype=cp.float32)\n",
    "        # NOTE: we have to use the below lines of code to make sure, that the input parameters\n",
    "        # are 32-bit floating points. \n",
    "        self.speed_of_sound = cp.float32(context[\"speed_of_sound\"])\n",
    "        self.sampling_frequency = cp.float32(context[\"sampling_frequency\"])\n",
    "        # Output array.\n",
    "        self.output = cp.zeros((nx, nz), dtype=cp.float32)\n",
    "        \n",
    "    def process(self, rf):\n",
    "        rf_gpu = cp.asarray(rf, dtype=cp.float32)\n",
    "        n_transmits, n_elements, n_samples = rf_gpu.shape\n",
    "        self.beamform_kernel(self.grid, self.block, \n",
    "            args=(\n",
    "                self.output, rf_gpu,\n",
    "                self.grid_z_gpu,      self.nz,\n",
    "                self.grid_x_gpu,      self.nx,\n",
    "                self.angles_gpu,      n_transmits,\n",
    "                self.elements_x_gpu,  n_elements,\n",
    "                n_samples, \n",
    "                self.speed_of_sound, self.sampling_frequency))\n",
    "        return self.output.get()\n",
    "    \n",
    "\n",
    "bmodes = []\n",
    "beamformer = Beamformer(grid_x, grid_z, elements_x, context)\n",
    "\n",
    "for rf in rfs:\n",
    "    output = beamformer.process(rf)\n",
    "    bmode = to_bmode_cpu(output)\n",
    "    bmodes.append(bmode.T)\n",
    "    \n",
    "anim = show_cineloop(bmodes, cmap=\"gray\", value_range=(-30, 0), extent=grid_extent, figsize=(4, 4))\n",
    "anim.save('2_4_beamformer_output.gif', writer='imagemagick', fps=30)"
   ]
  },
  {
   "cell_type": "code",
   "execution_count": null,
   "id": "c01cb17e-ba04-499f-b58c-610afc73a06f",
   "metadata": {},
   "outputs": [],
   "source": [
    "! nvprof --trace gpu python 2_4_beamform.py"
   ]
  },
  {
   "cell_type": "markdown",
   "id": "ccdcc94d-cace-4a52-bda0-9d187c0daad4",
   "metadata": {},
   "source": [
    "You can now open `2_4_beamform_output.gif` file to be sure that we get correct results."
   ]
  },
  {
   "cell_type": "markdown",
   "id": "cac25109-049d-4980-9be4-712ef7a3691b",
   "metadata": {},
   "source": [
    "### 2.4.4. Using constant memory in beamformer"
   ]
  },
  {
   "cell_type": "markdown",
   "id": "d80518f0-f028-4edd-88f9-65b3b1b2669b",
   "metadata": {},
   "source": [
    "As you've probably noticed, parameters such as the position of the head elements are the same for all the RF frames we load. The idea immediately arises that since these parameters are constant during frame-by-frame processing, it may be worth putting them in the GPU constant memory. We will also do this in the code below."
   ]
  },
  {
   "cell_type": "markdown",
   "id": "450a4993-949a-4b8f-ade1-55ab38bf1f5f",
   "metadata": {},
   "source": [
    "Let's try moving `elements_x` and `angles` to const GPU memory and see if it give us any improvement. First, we need to update our GPU kernel so it uses const arrays instead of the provided parameters."
   ]
  },
  {
   "cell_type": "markdown",
   "id": "0e762af1-02b7-403c-a687-9541e1798afc",
   "metadata": {},
   "source": [
    "**Exercise**\n",
    "\n",
    "1. Open `2_4_beamform_const.cc` file.\n",
    "2. Update lines of code marked with the `// TODO` comment."
   ]
  },
  {
   "cell_type": "markdown",
   "id": "d042d44b-f8a1-4779-8297-31eccdc039d0",
   "metadata": {},
   "source": [
    "And here is the updated Python script that runs the const version of our GPU kernel. The changes we have made here:\n",
    "- `self.elements_x_gpu` and `self.angles_gpu` now are created using `create_const_array` function, which simply get's the pointer to given const field, wraps the pointer into a `cupy` array and  transfers host data to it,\n",
    "- we have removed `elements_x_gpu` and `angles_gpu` parameters from the kernel arguments list, as they as they are no longer needed."
   ]
  },
  {
   "cell_type": "code",
   "execution_count": null,
   "id": "6b6f9c3d-3855-4c28-8cff-201c42b6bde8",
   "metadata": {},
   "outputs": [],
   "source": [
    "%%writefile 2_4_beamform_const.py\n",
    "\n",
    "import math\n",
    "import pickle\n",
    "import cupy as cp\n",
    "import numpy as np\n",
    "import scipy.signal\n",
    "import matplotlib.pyplot as plt\n",
    "from gpu_short_course.ultrasound_imaging import (\n",
    "    show_cineloop, to_bmode_cpu\n",
    ")\n",
    "\n",
    "file = pickle.load(open(\"pwi_field2_sample_data.pkl\", \"rb\"))\n",
    "list(file.keys())\n",
    "\n",
    "rfs = file[\"rf\"]\n",
    "context = file[\"context\"]\n",
    "n_sequences, n_transmits, n_channels, n_samples = rfs.shape\n",
    "\n",
    "probe_width = (n_channels-1) * context[\"pitch\"]\n",
    "elements_x = np.linspace(-probe_width/2, probe_width/2, n_channels).astype(np.float32)\n",
    "\n",
    "nx, nz = 128, 128\n",
    "grid_x = np.linspace(-15, 15, nx)*1e-3  # OX coordinates (meters)\n",
    "grid_z = np.linspace( 20, 50, nz)*1e-3  # OZ coordinates (m)\n",
    "grid_extent = [np.min(grid_x), np.max(grid_x), np.max(grid_z), np.min(grid_z)]\n",
    "\n",
    "device_props = cp.cuda.runtime.getDeviceProperties(0)\n",
    "\n",
    "\n",
    "class Beamformer:\n",
    "    \n",
    "    def __init__(self, grid_x, grid_z, elements_x, context):\n",
    "        beamform_src = open(\"2_4_beamform_const.cc\").read()\n",
    "        self.beamform_module = cp.RawModule(code=beamform_src)\n",
    "        self.beamform_kernel = self.beamform_module.get_function(\"beamform\")\n",
    "        self.block = (16, 16)\n",
    "        self.nx, self.nz = len(grid_x), len(grid_z)\n",
    "        self.grid = (int(math.ceil(nz/self.block[0])), int(math.ceil(nx/self.block[1])))\n",
    "        self.grid_x_gpu = cp.asarray(grid_x, dtype=cp.float32)\n",
    "        self.grid_z_gpu = cp.asarray(grid_z, dtype=cp.float32)\n",
    "        \n",
    "        # Here is the const memory initialization.\n",
    "        if device_props['totalConstMem'] < 512 * 4: # We have two arrays, each 256 of 4-byte floats \n",
    "            raise ValueError(\"We have not enough constant memory!\")\n",
    "        \n",
    "        self.elements_x_gpu = self.create_const_array(elements_x, name=\"elements_x\", dtype=cp.float32)\n",
    "        self.angles_gpu     = self.create_const_array(context[\"angles\"], name=\"angles\", dtype=cp.float32)\n",
    "        \n",
    "        self.speed_of_sound = cp.float32(context[\"speed_of_sound\"])\n",
    "        self.sampling_frequency = cp.float32(context[\"sampling_frequency\"])\n",
    "        self.output = cp.zeros((nx, nz), dtype=cp.float32)\n",
    "        \n",
    "    def create_const_array(self, host_data, name, dtype):\n",
    "        const_mem_ptr = self.beamform_module.get_global(name)\n",
    "        gpu_data = cp.ndarray(shape=host_data.shape, dtype=dtype, memptr=const_mem_ptr)\n",
    "        gpu_data.set(host_data)\n",
    "        return gpu_data\n",
    "        \n",
    "    def process(self, rf):\n",
    "        rf_gpu = cp.asarray(rf, dtype=cp.float32)\n",
    "        n_transmits, n_elements, n_samples = rf_gpu.shape\n",
    "        self.beamform_kernel(self.grid, self.block, \n",
    "            args=(\n",
    "                self.output, rf_gpu,\n",
    "                self.grid_z_gpu,      self.nz,\n",
    "                self.grid_x_gpu,      self.nx,\n",
    "                # Do not pass const arrays to GPU kernel, \n",
    "                # the kernel also already have an access to constant fileds as a global variable.\n",
    "                n_transmits, n_elements, n_samples, \n",
    "                self.speed_of_sound, self.sampling_frequency))\n",
    "        return self.output.get()\n",
    "    \n",
    "\n",
    "bmodes = []\n",
    "beamformer = Beamformer(grid_x, grid_z, elements_x, context)\n",
    "\n",
    "for rf in rfs:\n",
    "    output = beamformer.process(rf)\n",
    "    bmode = to_bmode_cpu(output)\n",
    "    bmodes.append(bmode.T)\n",
    "    \n",
    "anim = show_cineloop(bmodes, cmap=\"gray\", value_range=(-30, 0), extent=grid_extent, figsize=(4, 4))\n",
    "anim.save('2_4_beamformer_const_output.gif', writer='imagemagick', fps=30)"
   ]
  },
  {
   "cell_type": "code",
   "execution_count": null,
   "id": "459464ae-7533-46be-bb78-5ad55a9465f3",
   "metadata": {},
   "outputs": [],
   "source": [
    "! nvprof --trace gpu python 2_4_beamform_const.py"
   ]
  },
  {
   "cell_type": "markdown",
   "id": "665ad431-a4e8-4216-9cb4-3399e61bcd37",
   "metadata": {},
   "source": [
    "You can now open `2_4_beamform_const_output.gif` file to be sure that we get correct results."
   ]
  },
  {
   "cell_type": "markdown",
   "id": "appZZW989k-g",
   "metadata": {
    "id": "appZZW989k-g",
    "tags": []
   },
   "source": [
    "# References"
   ]
  },
  {
   "cell_type": "markdown",
   "id": "VM25SGnn92fb",
   "metadata": {
    "id": "VM25SGnn92fb"
   },
   "source": [
    "- [CUDA Toolkit Documentation: Memory Hierarchy](https://docs.nvidia.com/cuda/cuda-c-programming-guide/index.html#memory-hierarchy)\n",
    "- [CUDA Best Practices Guide: Shared Memory](https://docs.nvidia.com/cuda/cuda-c-best-practices-guide/index.html#shared-memory)\n",
    "- [CUDA Best Practices Guide: Constant Memory](https://docs.nvidia.com/cuda/cuda-c-best-practices-guide/index.html#constant-memory)"
   ]
  }
 ],
 "metadata": {
  "accelerator": "GPU",
  "colab": {
   "collapsed_sections": [],
   "name": "2_CUDA_memory_model_cupy.ipynb",
   "provenance": [],
   "toc_visible": true
  },
  "kernelspec": {
   "display_name": "Python 3",
   "language": "python",
   "name": "python3"
  },
  "language_info": {
   "codemirror_mode": {
    "name": "ipython",
    "version": 3
   },
   "file_extension": ".py",
   "mimetype": "text/x-python",
   "name": "python",
   "nbconvert_exporter": "python",
   "pygments_lexer": "ipython3",
   "version": "3.8.8"
  }
 },
 "nbformat": 4,
 "nbformat_minor": 5
}
