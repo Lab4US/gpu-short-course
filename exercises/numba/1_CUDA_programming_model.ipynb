{
 "cells": [
  {
   "cell_type": "markdown",
   "metadata": {
    "id": "AHusAl_CMEUc"
   },
   "source": [
    "# Lecture 1. Introduction to CUDA Programming Model and Toolkit.\n",
    "\n"
   ]
  },
  {
   "cell_type": "markdown",
   "metadata": {
    "id": "TqwQqWVROtTg"
   },
   "source": [
    "Welcome to the GPU short course exercies!\n",
    "\n",
    "During this course we will introduce you with the syntax of CUDA programming in Python using `numba.cuda` package."
   ]
  },
  {
   "cell_type": "markdown",
   "metadata": {
    "id": "030Rnpz7MtAR"
   },
   "source": [
    "During the first lecture we will try to focus on optimizing the following function, which adds two vectors together using a single CPU core."
   ]
  },
  {
   "cell_type": "code",
   "execution_count": 1,
   "metadata": {
    "colab": {
     "base_uri": "https://localhost:8080/"
    },
    "executionInfo": {
     "elapsed": 15,
     "status": "ok",
     "timestamp": 1624790193884,
     "user": {
      "displayName": "mmm111@o2.pl",
      "photoUrl": "",
      "userId": "10501615579712682141"
     },
     "user_tz": -120
    },
    "id": "9LiMovMbSiEl",
    "outputId": "21646936-e3d7-4ae9-8268-186ca3ee9e3a"
   },
   "outputs": [
    {
     "data": {
      "text/plain": [
       "[5, 7, 9, 11]"
      ]
     },
     "execution_count": 1,
     "metadata": {},
     "output_type": "execute_result"
    }
   ],
   "source": [
    "import numpy as np\n",
    "\n",
    "def add_vectors(a, b):\n",
    "    assert len(a) == len(b)\n",
    "  \n",
    "    n = len(a)\n",
    "    result = [None]*n\n",
    "    for i in range(n):\n",
    "        result[i] = a[i] + b[i]\n",
    "    return result\n",
    "\n",
    "add_vectors([1, 2, 3, 4], \n",
    "            [4, 5, 6, 7])"
   ]
  },
  {
   "cell_type": "markdown",
   "metadata": {
    "id": "bhXfCAcFcpPj"
   },
   "source": [
    "Lets measure the time needed to execute the `add_vectors` for big-scale arrays:"
   ]
  },
  {
   "cell_type": "code",
   "execution_count": 2,
   "metadata": {
    "executionInfo": {
     "elapsed": 1351,
     "status": "ok",
     "timestamp": 1624790315272,
     "user": {
      "displayName": "mmm111@o2.pl",
      "photoUrl": "",
      "userId": "10501615579712682141"
     },
     "user_tz": -120
    },
    "id": "RBoQTLIyifdn"
   },
   "outputs": [],
   "source": [
    "a = np.random.rand(2**24) # ~ 1e7 elements\n",
    "b = np.random.rand(2**24)"
   ]
  },
  {
   "cell_type": "code",
   "execution_count": 3,
   "metadata": {
    "colab": {
     "base_uri": "https://localhost:8080/"
    },
    "executionInfo": {
     "elapsed": 67193,
     "status": "ok",
     "timestamp": 1624790385437,
     "user": {
      "displayName": "mmm111@o2.pl",
      "photoUrl": "",
      "userId": "10501615579712682141"
     },
     "user_tz": -120
    },
    "id": "QEHEXs9ZbD03",
    "outputId": "2a139bfb-c405-47ba-ff84-e9ef68f35740"
   },
   "outputs": [
    {
     "name": "stdout",
     "output_type": "stream",
     "text": [
      "6.34 s ± 358 ms per loop (mean ± std. dev. of 7 runs, 1 loop each)\n"
     ]
    }
   ],
   "source": [
    "%%timeit -n 1\n",
    "add_vectors(a, b)"
   ]
  },
  {
   "cell_type": "markdown",
   "metadata": {
    "id": "J_8PbOwKd88U"
   },
   "source": [
    "In the following sections we will show you how to optimize the above implementation by reimplementing vector addition on GPU."
   ]
  },
  {
   "cell_type": "markdown",
   "metadata": {
    "id": "DQFNtcTSMTCO"
   },
   "source": [
    "## Exercise 1.1. CUDA kernels and CUDA threads.\n",
    "\n"
   ]
  },
  {
   "cell_type": "markdown",
   "metadata": {
    "id": "DcGg5jXLO6Wi"
   },
   "source": [
    "#### 1.1.1. One-dimensional grid."
   ]
  },
  {
   "cell_type": "markdown",
   "metadata": {
    "id": "yZSG-Iu0Xwhn"
   },
   "source": [
    "Lets do the all necessary Python imports first."
   ]
  },
  {
   "cell_type": "code",
   "execution_count": 4,
   "metadata": {
    "executionInfo": {
     "elapsed": 2397,
     "status": "ok",
     "timestamp": 1624790460200,
     "user": {
      "displayName": "mmm111@o2.pl",
      "photoUrl": "",
      "userId": "10501615579712682141"
     },
     "user_tz": -120
    },
    "id": "gbHNelr7KUGD"
   },
   "outputs": [],
   "source": [
    "import math\n",
    "from numba import cuda\n",
    "import numpy as np"
   ]
  },
  {
   "cell_type": "markdown",
   "metadata": {
    "id": "tKyHmJ3gUe2B"
   },
   "source": [
    "The `numba.cuda` package provides a possibility to write CUDA kernels directly in Python language.  We will describe Numba in more detail later. For now, it will be enough to understand that:\n",
    "- the code that is executed by each GPU core separately is called a *GPU kernel*,\n",
    "- in Numba, GPU kernel is a Python function with `@cuda.jit` decorator.\n",
    "\n",
    "The below code creates a CUDA kernel which simply does nothing (*NOP*)."
   ]
  },
  {
   "cell_type": "code",
   "execution_count": 5,
   "metadata": {
    "id": "s0L5l8-vXNzf"
   },
   "outputs": [],
   "source": [
    "@cuda.jit\n",
    "def my_first_gpu_kernel():\n",
    "    pass"
   ]
  },
  {
   "cell_type": "markdown",
   "metadata": {
    "id": "65uMvDEJX6Li"
   },
   "source": [
    "The following line launches the code to be executed by 64 thread blocks, each block has 256 threads:"
   ]
  },
  {
   "cell_type": "code",
   "execution_count": 6,
   "metadata": {
    "id": "If78M5UJZLnW"
   },
   "outputs": [],
   "source": [
    "my_first_gpu_kernel[64, 256]()"
   ]
  },
  {
   "cell_type": "markdown",
   "metadata": {
    "id": "ryfpSTgIVxpz"
   },
   "source": [
    "Ok, now that we know what is the syntax for writing and lanuching CUDA kernel code, we can proceed with porting the `add_vectors` function to the GPU device. \n",
    "\n",
    "The key is to note that vector element additions are *independent tasks* - that is, for each `i` and `j`, the result of `a[i]+b[i]` does not depend on `a[j]+b[j]` and vice versa.\n",
    "\n",
    "So, let's move line 9 from `add_vectors` function to the new, GPU kernel implementation: "
   ]
  },
  {
   "cell_type": "code",
   "execution_count": 7,
   "metadata": {
    "id": "_5Z7hTizfVNc"
   },
   "outputs": [],
   "source": [
    "@cuda.jit\n",
    "def add_vectors_kernel(result, a, b):\n",
    "    i = cuda.blockIdx.x*cuda.blockDim.x + cuda.threadIdx.x\n",
    "\n",
    "    # Make sure not to go outside the grid area!\n",
    "    if i >= len(result):\n",
    "        return\n",
    "\n",
    "    result[i] = a[i] + b[i]"
   ]
  },
  {
   "cell_type": "markdown",
   "metadata": {
    "id": "h_ra7HpMWPl9"
   },
   "source": [
    "The above code is executed by each CUDA thread separately. \n",
    "\n",
    "Fields `blockIdx`, `blockDim` and `threadIdx` allows to determine the position of the current thread in the whole grid of threads executed by CUDA device:\n",
    "- `blockIdx` is the identifier of the currently executed block of threads in the grid,\n",
    "- `blockDim` is the size of a single block of threads,\n",
    "- `threadIdx` is the identifier of the currenty executed thread within a single block.\n",
    "\n",
    "A grid of threads can have one, two or three dimensions, described by `(cuda.blockIdx.z, cuda.blockDim.y, cuda.blockDim.x)` tuple. \n",
    "\n",
    "Each thread in a block has coordinates `(cuda.threadIdx.z, cuda.threadIdx.y, cuda.threadIdx.x)`. \n",
    "\n",
    "Each block in a grid has coordinates `(cuda.blockIdx.z, cuda.blockIdx.y, cuda.blockIdx.x)`. \n",
    "\n",
    "The `x` coordinate changes the fastest: two adjacent threads in the same block differ in the value of the `x` coordinate by 1.\n",
    "\n",
    "Grird and thread dimensions can be specified via `grid_size` and `thread_size` parameters: a single scalar value means, that a 1-D grid will be used, a pair of values imposes a 2-D grid, three values sets 3-D grid. "
   ]
  },
  {
   "cell_type": "markdown",
   "metadata": {
    "id": "KDfXKu3YkTyv"
   },
   "source": [
    "Now, we would like to run the above kernel for each `result[i]`. Let's assume for a moment that we want the above CUDA kernel to be executed by 256 threads in parallel - i.e. one block will consists of 256 threads. To cover the entire input array, the kernel has to be executed by $\\left\\lceil \\frac{n}{256} \\right\\rceil$ blocks of threads.  "
   ]
  },
  {
   "cell_type": "code",
   "execution_count": 8,
   "metadata": {
    "id": "4I3XsQB-PeUf"
   },
   "outputs": [],
   "source": [
    "def add_vectors_gpu(a, b):\n",
    "    assert len(a) == len(b)\n",
    "    # Create output array in the GPU memory.\n",
    "    result = cuda.device_array(shape=a.shape, dtype=a.dtype)\n",
    "\n",
    "    block_size = 256\n",
    "    grid_size = math.ceil(len(a)/block_size)\n",
    "    add_vectors_kernel[grid_size, block_size](result, a, b)\n",
    "    return result.copy_to_host()"
   ]
  },
  {
   "cell_type": "code",
   "execution_count": 9,
   "metadata": {
    "colab": {
     "base_uri": "https://localhost:8080/"
    },
    "executionInfo": {
     "elapsed": 1176,
     "status": "ok",
     "timestamp": 1624789808142,
     "user": {
      "displayName": "Piotr Jarosik",
      "photoUrl": "",
      "userId": "07939774369485222074"
     },
     "user_tz": -120
    },
    "id": "GFa5QTAUiS4-",
    "outputId": "7e3d3222-0381-4b44-80ce-435f142811bb"
   },
   "outputs": [
    {
     "name": "stdout",
     "output_type": "stream",
     "text": [
      "304 ms ± 48.7 ms per loop (mean ± std. dev. of 7 runs, 1 loop each)\n"
     ]
    }
   ],
   "source": [
    "%%timeit\n",
    "add_vectors_gpu(a, b)"
   ]
  },
  {
   "cell_type": "markdown",
   "metadata": {
    "id": "r0GNEsTjgnOd"
   },
   "source": [
    "Congratulations! Your very first GPU kernel, i.e. `add_vectors_gpu` function, executes much faster than its CPU counterpart.\n",
    "Of course, writing CUDA kernels is not the only part of preparing GPU processing pipeline. One of the other important things to consider is the heterogenous nature of the CPU-GPU processing: is the data transfer between GPU and the host computer."
   ]
  },
  {
   "cell_type": "markdown",
   "metadata": {
    "id": "Owp0mjaTPb-6"
   },
   "source": [
    "#### 1.1.2. Two-dimensional grid."
   ]
  },
  {
   "cell_type": "markdown",
   "metadata": {
    "id": "0XP3oOhzP7Z8"
   },
   "source": [
    "In the previous example, the grid of threads was defined in a single dimension, i.e. the variables `grid_size` and `block_size` were a single scalar value. This time we will implement a function, which adds two **matrices**, and we will use a 2-D grid of threads for this purpose."
   ]
  },
  {
   "cell_type": "markdown",
   "metadata": {
    "id": "n0Uq5O4SYqb8"
   },
   "source": [
    "Lets implement `add_matrices` for CPU first. "
   ]
  },
  {
   "cell_type": "code",
   "execution_count": 10,
   "metadata": {
    "colab": {
     "base_uri": "https://localhost:8080/"
    },
    "executionInfo": {
     "elapsed": 11,
     "status": "ok",
     "timestamp": 1624789808145,
     "user": {
      "displayName": "Piotr Jarosik",
      "photoUrl": "",
      "userId": "07939774369485222074"
     },
     "user_tz": -120
    },
    "id": "l06qYVO2PfDq",
    "outputId": "c406db29-52b4-414a-e731-64247912e5e3"
   },
   "outputs": [
    {
     "data": {
      "text/plain": [
       "array([[0, 0, 0, 0],\n",
       "       [5, 6, 7, 8]])"
      ]
     },
     "execution_count": 10,
     "metadata": {},
     "output_type": "execute_result"
    }
   ],
   "source": [
    "import itertools\n",
    "import numpy as np \n",
    "\n",
    "def add_matrices(a, b):\n",
    "    a = np.array(a)\n",
    "    b = np.array(b)\n",
    "    assert a.shape == b.shape\n",
    "    \n",
    "    height, width = a.shape\n",
    "    result = np.zeros(a.shape, dtype=a.dtype)\n",
    "    \n",
    "    for i, j in itertools.product(range(height), range(width)):\n",
    "        result[i, j] = a[i, j] + b[i, j]\n",
    "    return result\n",
    "\n",
    "add_matrices(\n",
    "    # a = \n",
    "    [[ 1,  2,  3,  4], \n",
    "     [ 4,  5,  6,  7]],\n",
    "    # b =  \n",
    "    [[-1, -2, -3, -4],\n",
    "     [ 1,  1,  1,  1]])"
   ]
  },
  {
   "cell_type": "code",
   "execution_count": 11,
   "metadata": {
    "id": "P5oaPCtNdmhV"
   },
   "outputs": [],
   "source": [
    "A = np.random.rand(2**12, 2**12) # ~ 1e7 elements\n",
    "B = np.random.rand(2**12, 2**12)\n",
    "\n",
    "C = add_matrices(A, B)\n",
    "np.testing.assert_equal(C, A+B)"
   ]
  },
  {
   "cell_type": "code",
   "execution_count": 12,
   "metadata": {
    "colab": {
     "base_uri": "https://localhost:8080/"
    },
    "executionInfo": {
     "elapsed": 92009,
     "status": "ok",
     "timestamp": 1624789909962,
     "user": {
      "displayName": "Piotr Jarosik",
      "photoUrl": "",
      "userId": "07939774369485222074"
     },
     "user_tz": -120
    },
    "id": "qxIdGLsAhWEs",
    "outputId": "2d61550d-8656-4938-bfc6-c3298763bb74"
   },
   "outputs": [
    {
     "name": "stdout",
     "output_type": "stream",
     "text": [
      "8.68 s ± 542 ms per loop (mean ± std. dev. of 7 runs, 2 loops each)\n"
     ]
    }
   ],
   "source": [
    "%%timeit -n 1\n",
    "add_matrices(A, B)"
   ]
  },
  {
   "cell_type": "markdown",
   "metadata": {
    "id": "lqjdk2pBciEh"
   },
   "source": [
    "Similarly to the `add_vectors_kernel` implementation,  the `add_matrices_kernel` will compute a single matrix element. This time, we will use `y` coordinate to address matrix elements in the second dimension:\n",
    "\n"
   ]
  },
  {
   "cell_type": "code",
   "execution_count": 13,
   "metadata": {
    "id": "jcxfg9z4cg4L"
   },
   "outputs": [],
   "source": [
    "@cuda.jit\n",
    "def add_matrices_kernel(result, a, b):\n",
    "    i = cuda.blockIdx.x*cuda.blockDim.x + cuda.threadIdx.x\n",
    "    j = cuda.blockIdx.y*cuda.blockDim.y + cuda.threadIdx.y\n",
    "\n",
    "    height, width = result.shape\n",
    "\n",
    "    # Make sure we are not accessing data outside available space!\n",
    "    if i >= width or j >= height:\n",
    "        return\n",
    "\n",
    "    result[j, i] = a[j, i] + b[j, i]"
   ]
  },
  {
   "cell_type": "markdown",
   "metadata": {
    "id": "0ZlrmALYk5e1"
   },
   "source": [
    "Now, we must also pass the second dimension of the grid to the GPU kernel invocation parameters, as the implementation assumes a 2-D grid layout. The parameters `grid_size` and `block_size` now has to pairs of integer values:  "
   ]
  },
  {
   "cell_type": "code",
   "execution_count": 14,
   "metadata": {
    "colab": {
     "base_uri": "https://localhost:8080/"
    },
    "executionInfo": {
     "elapsed": 28,
     "status": "ok",
     "timestamp": 1624789909964,
     "user": {
      "displayName": "Piotr Jarosik",
      "photoUrl": "",
      "userId": "07939774369485222074"
     },
     "user_tz": -120
    },
    "id": "GzrHnniRi_w-",
    "outputId": "6d2c6d03-7d12-42d4-e8f8-7395be8857ac"
   },
   "outputs": [
    {
     "data": {
      "text/plain": [
       "array([[0, 0, 0, 0],\n",
       "       [5, 6, 7, 8]])"
      ]
     },
     "execution_count": 14,
     "metadata": {},
     "output_type": "execute_result"
    }
   ],
   "source": [
    "def add_matrices_gpu(a, b):\n",
    "    assert a.shape == b.shape\n",
    "    # Create output array in the GPU memory.\n",
    "    result = cuda.device_array(shape=a.shape, dtype=a.dtype)\n",
    "\n",
    "    height, width = a.shape\n",
    "    block_size = (16, 16)\n",
    "    grid_size = (math.ceil(width/block_size[0]), math.ceil(height/block_size[1]))\n",
    "    add_matrices_kernel[grid_size, block_size](result, a, b)\n",
    "    return result.copy_to_host()\n",
    "\n",
    "add_matrices(\n",
    "    # a = \n",
    "    [[ 1,  2,  3,  4], \n",
    "     [ 4,  5,  6,  7]],\n",
    "    # b =  \n",
    "    [[-1, -2, -3, -4],\n",
    "     [ 1,  1,  1,  1]])"
   ]
  },
  {
   "cell_type": "markdown",
   "metadata": {
    "id": "6PyUgsfdlpr4"
   },
   "source": [
    "Let's test the implementation first:"
   ]
  },
  {
   "cell_type": "code",
   "execution_count": 15,
   "metadata": {
    "id": "0wQzRLWzjWWB"
   },
   "outputs": [],
   "source": [
    "C = add_matrices_gpu(A, B)\n",
    "np.testing.assert_equal(C, A+B)"
   ]
  },
  {
   "cell_type": "markdown",
   "metadata": {
    "id": "QDMoYAUglw9G"
   },
   "source": [
    "Now lets compare CPU and GPU processing time:"
   ]
  },
  {
   "cell_type": "code",
   "execution_count": 16,
   "metadata": {
    "colab": {
     "base_uri": "https://localhost:8080/"
    },
    "executionInfo": {
     "elapsed": 8943,
     "status": "ok",
     "timestamp": 1624789919226,
     "user": {
      "displayName": "Piotr Jarosik",
      "photoUrl": "",
      "userId": "07939774369485222074"
     },
     "user_tz": -120
    },
    "id": "kDtbshwuj9UP",
    "outputId": "b22e6efe-2c98-41a6-8060-429f88f6e77e"
   },
   "outputs": [
    {
     "name": "stdout",
     "output_type": "stream",
     "text": [
      "290 ms ± 17.7 ms per loop (mean ± std. dev. of 7 runs, 1 loop each)\n"
     ]
    }
   ],
   "source": [
    "%%timeit\n",
    "add_matrices_gpu(A, B)"
   ]
  },
  {
   "cell_type": "markdown",
   "metadata": {
    "id": "9hmsOV1OmAHk"
   },
   "source": [
    "We leave the implementation of adding two 3D arrays as homework for the students."
   ]
  },
  {
   "cell_type": "markdown",
   "metadata": {
    "id": "ky-rzgbdc1MI"
   },
   "source": [
    "#### 1.1.3. See also\n",
    "\n",
    "- CUDA kernels in Numba: introduction: https://numba.readthedocs.io/en/0.52.0/cuda/kernels.html#introduction\n",
    "\n",
    "- Matrix multiplication example https://numba.readthedocs.io/en/0.52.0/cuda/examples.html#matrix-multiplication"
   ]
  },
  {
   "cell_type": "markdown",
   "metadata": {
    "id": "imPeh7vdMr8P"
   },
   "source": [
    "## Exercise 1.2. Transferring data to and from GPU memory.\n",
    "\n"
   ]
  },
  {
   "cell_type": "markdown",
   "metadata": {
    "id": "w1fViVcWpmcs"
   },
   "source": [
    "In the previous examples, we passed the `numpy` arrays directly to the GPU kernel code. The `numpy` arrays were stored in the host PC's operating memory. As GPU computing can be performed only on data which is located in GPU memory, Numba package impliclitly transferred the data from PC's memory to GPU global memory first.\n",
    "\n",
    "The data transfers can be run explicitly, if necessary:"
   ]
  },
  {
   "cell_type": "code",
   "execution_count": 17,
   "metadata": {
    "id": "Kvq-YJ7Rmato"
   },
   "outputs": [],
   "source": [
    "block_size = 256\n",
    "grid_size = math.ceil(len(a)/block_size)\n",
    "\n",
    "# Create an array for the result in the GPU global memory.  \n",
    "result_gpu = cuda.device_array(shape=a.shape, dtype=a.dtype)\n",
    "# Here are the explicit data transfers from host PC memory to GPU global memory:\n",
    "a_gpu = cuda.to_device(a)\n",
    "b_gpu = cuda.to_device(b)\n",
    "\n",
    "add_vectors_kernel[grid_size, block_size](result_gpu, a_gpu, b_gpu)\n",
    "# After the computations are done, transfer the results to the host PC memory.\n",
    "result = result_gpu.copy_to_host()"
   ]
  },
  {
   "cell_type": "markdown",
   "metadata": {
    "id": "xlMBWHdrrVRY"
   },
   "source": [
    "Data transfer to and from GPU memory is only possible with GPU global memory. The following functions are available in Numba:\n",
    "\n",
    "- create an array in the GPU global memory: `numba.cuda.device_array`, or `numba.cuda.device_array_like`,\n",
    "- host PC to GPU global memory transfer: `numba.cuda.to_device`\n",
    "- GPU global memory to host PC memory transfer: `gpu_array.copy_to_host`, where `gpu_array` is a GPU array. \n",
    "\n",
    "The complete list of Numba's functions for data transfer to and from GPU is available here:\n",
    "https://numba.readthedocs.io/en/0.52.0/cuda/memory.html#data-transfer"
   ]
  },
  {
   "cell_type": "markdown",
   "metadata": {
    "id": "YSqKufKsrYfA"
   },
   "source": [
    "The advantage of heterogenous programming with CUDA is that computing performed on the GPU can be done in parallel with the operations performed by CPU -- both CPU and GPU are separate processing devices that can work simultaneously. In other words, that CUDA kernel invocations are **asynochronous**: when we invoke GPU kernel, the only job the CPU does is to enqueue the kernel to be executed on GPU, then it returns immediately\n",
    "(In fact, this is not always true for kernels written in Numba - the first launch of a CUDA kernel may also require Python code compilation. This topic will be discussed later in this lecture.)\n",
    "\n",
    "For example, the following GPU kernel call takes much less time than we've seen so far:"
   ]
  },
  {
   "cell_type": "code",
   "execution_count": 18,
   "metadata": {
    "colab": {
     "base_uri": "https://localhost:8080/"
    },
    "executionInfo": {
     "elapsed": 20,
     "status": "ok",
     "timestamp": 1624789919228,
     "user": {
      "displayName": "Piotr Jarosik",
      "photoUrl": "",
      "userId": "07939774369485222074"
     },
     "user_tz": -120
    },
    "id": "hmK49PxpuanP",
    "outputId": "b4c0d12e-028f-460b-8af8-1ddc92b98dfb"
   },
   "outputs": [
    {
     "name": "stdout",
     "output_type": "stream",
     "text": [
      "130 µs ± 25.3 µs per loop (mean ± std. dev. of 7 runs, 100 loops each)\n"
     ]
    }
   ],
   "source": [
    "%%timeit -n 100\n",
    "add_vectors_kernel[grid_size, block_size](result_gpu, a_gpu, b_gpu)"
   ]
  },
  {
   "cell_type": "markdown",
   "metadata": {
    "id": "G9S8qubl6fTY"
   },
   "source": [
    "The difference is that we did not transfer data from the GPU to the CPU. Let's try now with the GPU -> CPU transfer:"
   ]
  },
  {
   "cell_type": "code",
   "execution_count": 19,
   "metadata": {
    "colab": {
     "base_uri": "https://localhost:8080/"
    },
    "executionInfo": {
     "elapsed": 18342,
     "status": "ok",
     "timestamp": 1624789937555,
     "user": {
      "displayName": "Piotr Jarosik",
      "photoUrl": "",
      "userId": "07939774369485222074"
     },
     "user_tz": -120
    },
    "id": "Ghjy5FZE6ZF2",
    "outputId": "d963cad0-dd76-4ae6-9bc9-558c3f3bd2a2"
   },
   "outputs": [
    {
     "name": "stdout",
     "output_type": "stream",
     "text": [
      "71.6 ms ± 34.1 ms per loop (mean ± std. dev. of 7 runs, 100 loops each)\n"
     ]
    }
   ],
   "source": [
    "%%timeit -n 100\n",
    "add_vectors_kernel[grid_size, block_size](result_gpu, a_gpu, b_gpu)\n",
    "result = result_gpu.copy_to_host()"
   ]
  },
  {
   "cell_type": "markdown",
   "metadata": {
    "id": "s1zXg6Ck7Qkk"
   },
   "source": [
    "The difference is due to the fact that the data transfer is a blocking operation - it waits for all queued operations to be performed, then performs the transfer. To wait for the kernels to execute explicitly, without transferring the result data to host PC, run `cuda.default_stream().synchronize()`."
   ]
  },
  {
   "cell_type": "code",
   "execution_count": 20,
   "metadata": {
    "colab": {
     "base_uri": "https://localhost:8080/"
    },
    "executionInfo": {
     "elapsed": 968,
     "status": "ok",
     "timestamp": 1624789938506,
     "user": {
      "displayName": "Piotr Jarosik",
      "photoUrl": "",
      "userId": "07939774369485222074"
     },
     "user_tz": -120
    },
    "id": "VllDLIwb7P7N",
    "outputId": "30750234-f570-4989-d434-b0c2f8ad359e"
   },
   "outputs": [
    {
     "name": "stdout",
     "output_type": "stream",
     "text": [
      "14.5 ms ± 1.9 ms per loop (mean ± std. dev. of 7 runs, 100 loops each)\n"
     ]
    }
   ],
   "source": [
    "%%timeit -n 100\n",
    "add_vectors_kernel[grid_size, block_size](result_gpu, a_gpu, b_gpu)\n",
    "cuda.default_stream().synchronize()"
   ]
  },
  {
   "cell_type": "markdown",
   "metadata": {
    "id": "cAMlA76P8Oix"
   },
   "source": [
    "CUDA streams will be covered in more detail later in this short-course."
   ]
  },
  {
   "cell_type": "markdown",
   "metadata": {
    "id": "uMKHEK3QqhB_"
   },
   "source": [
    "### 1.2.1 See also"
   ]
  },
  {
   "cell_type": "markdown",
   "metadata": {
    "id": "REgZhEsUqoSR"
   },
   "source": [
    "- CUDA Toolkit documentation: device memory management (CUDA C++): https://docs.nvidia.com/cuda/cuda-c-programming-guide/index.html#device-memory\n",
    "- The complete list of Numba's functions for data transfer to and from GPU: https://numba.readthedocs.io/en/0.52.0/cuda/memory.html#data-transfer\n"
   ]
  },
  {
   "cell_type": "markdown",
   "metadata": {
    "id": "MJBQIkftQhjv"
   },
   "source": [
    "## Exercise 1.3. CUDA Toolkit and Numba package."
   ]
  },
  {
   "cell_type": "markdown",
   "metadata": {
    "id": "xdgdj8kkeQGn"
   },
   "source": [
    "Nvidia provides several tools in its Toolkit that help in the implementation and testing of the GPU code. In this exercise we will show you how to:\n",
    "- check what parameters you hardware has, like determine how to programatically check how many GPUs are available, how much each kind of memory you it has, and so on,\n",
    "- debug and memcheck you Python CUDA kernels,\n",
    "- profile CUDA code execution time.\n",
    "\n",
    "Also, we will introduce you with more details of Numba Python package, which we will use during the whole course."
   ]
  },
  {
   "cell_type": "markdown",
   "metadata": {
    "id": "SSYvNaiHQnRf"
   },
   "source": [
    "### Exercise 1.3.1. CUDA device diagnostics."
   ]
  },
  {
   "cell_type": "markdown",
   "metadata": {
    "id": "M_B4IkVIGMAb"
   },
   "source": [
    "The most basic diagnostic tool for GPU cards is `nvidia-smi` which displays the current status of available all GPU cards.\n",
    "\n",
    "(NOTE: `nvidia-smi` tool is not available Nvidia Jetson processors. For SoC chips, please use built-in `tegrastats` or install [`jtop`](https://pypi.org/project/jetson-stats/))."
   ]
  },
  {
   "cell_type": "code",
   "execution_count": 21,
   "metadata": {
    "colab": {
     "base_uri": "https://localhost:8080/"
    },
    "executionInfo": {
     "elapsed": 37,
     "status": "ok",
     "timestamp": 1624789938508,
     "user": {
      "displayName": "Piotr Jarosik",
      "photoUrl": "",
      "userId": "07939774369485222074"
     },
     "user_tz": -120
    },
    "id": "8-ikEvLHZsgb",
    "outputId": "61d6c554-cd71-4204-e0aa-14d8e3e955d0"
   },
   "outputs": [
    {
     "name": "stdout",
     "output_type": "stream",
     "text": [
      "Mon Jun 28 20:09:48 2021       \n",
      "+-----------------------------------------------------------------------------+\n",
      "| NVIDIA-SMI 460.56       Driver Version: 460.56       CUDA Version: 11.2     |\n",
      "|-------------------------------+----------------------+----------------------+\n",
      "| GPU  Name        Persistence-M| Bus-Id        Disp.A | Volatile Uncorr. ECC |\n",
      "| Fan  Temp  Perf  Pwr:Usage/Cap|         Memory-Usage | GPU-Util  Compute M. |\n",
      "|                               |                      |               MIG M. |\n",
      "|===============================+======================+======================|\n",
      "|   0  GeForce MX250       Off  | 00000000:3C:00.0 Off |                  N/A |\n",
      "| N/A   65C    P0    N/A /  N/A |   1417MiB /  2002MiB |     99%      Default |\n",
      "|                               |                      |                  N/A |\n",
      "+-------------------------------+----------------------+----------------------+\n",
      "                                                                               \n",
      "+-----------------------------------------------------------------------------+\n",
      "| Processes:                                                                  |\n",
      "|  GPU   GI   CI        PID   Type   Process name                  GPU Memory |\n",
      "|        ID   ID                                                   Usage      |\n",
      "|=============================================================================|\n",
      "|    0   N/A  N/A      1619      G   /usr/lib/xorg/Xorg                 80MiB |\n",
      "|    0   N/A  N/A      2867      G   /usr/lib/xorg/Xorg                277MiB |\n",
      "|    0   N/A  N/A      3051      G   /usr/bin/gnome-shell               76MiB |\n",
      "|    0   N/A  N/A      4985      G   ...AAAAAAAA== --shared-files       10MiB |\n",
      "|    0   N/A  N/A      4997      G   ...AAAAAAAAA= --shared-files       35MiB |\n",
      "|    0   N/A  N/A     76823      G   ...AAAAAAAAA= --shared-files      129MiB |\n",
      "|    0   N/A  N/A     93666      C   ...vs/gpu-course2/bin/python      799MiB |\n",
      "+-----------------------------------------------------------------------------+\n"
     ]
    }
   ],
   "source": [
    "! nvidia-smi"
   ]
  },
  {
   "cell_type": "markdown",
   "metadata": {
    "id": "ZQ7hEzv7HFq0"
   },
   "source": [
    "`nvidia-smi` outputs information about:\n",
    "- the installed NVIDIA driver and CUDA Toolkit,\n",
    "- for each available GPU:\n",
    "  - temperature, memory usage and GPU utilization,\n",
    "  - processes that are currently running on that GPU.\n",
    "\n",
    " "
   ]
  },
  {
   "cell_type": "markdown",
   "metadata": {
    "id": "RvW9KwFIIPFW"
   },
   "source": [
    "`nvidia-smi` is a command line tool, so use it in your shell to quickly check the state of your GPU. \n",
    "\n",
    "CUDA SDK provides also a programatic way to access device description in your application run-time, to e.g. check if we are not exceeding available GPU global memory.\n",
    "\n",
    "The CUDA device description is called SDK *device properties*. \n",
    "\n",
    "To get the device properties, we will use `cupy` package, which exposes CUDA SDK interface in Python in a convenient way.\n",
    "\n",
    "Let's check first how many GPU cards do we have:\n",
    "\n"
   ]
  },
  {
   "cell_type": "code",
   "execution_count": 22,
   "metadata": {
    "colab": {
     "base_uri": "https://localhost:8080/"
    },
    "executionInfo": {
     "elapsed": 1734,
     "status": "ok",
     "timestamp": 1624789940235,
     "user": {
      "displayName": "Piotr Jarosik",
      "photoUrl": "",
      "userId": "07939774369485222074"
     },
     "user_tz": -120
    },
    "id": "BQSWPL7YJ3gk",
    "outputId": "a56a592b-009c-4ef8-bea1-431490756a59"
   },
   "outputs": [
    {
     "data": {
      "text/plain": [
       "1"
      ]
     },
     "execution_count": 22,
     "metadata": {},
     "output_type": "execute_result"
    }
   ],
   "source": [
    "import cupy as cp\n",
    "cp.cuda.runtime.getDeviceCount()"
   ]
  },
  {
   "cell_type": "markdown",
   "metadata": {
    "id": "SZUX_McRKWVi"
   },
   "source": [
    "Now, let's we check:\n",
    "\n",
    "- what is the name of the device and what is its compute capability,\n",
    "- what is the GPU clock frequency,\n",
    "- how much global, shared and constant memory our GPU card has."
   ]
  },
  {
   "cell_type": "code",
   "execution_count": 23,
   "metadata": {
    "colab": {
     "base_uri": "https://localhost:8080/"
    },
    "executionInfo": {
     "elapsed": 36,
     "status": "ok",
     "timestamp": 1624789940236,
     "user": {
      "displayName": "Piotr Jarosik",
      "photoUrl": "",
      "userId": "07939774369485222074"
     },
     "user_tz": -120
    },
    "id": "gz-nE3plKVgL",
    "outputId": "3236863b-5acb-4ade-be36-39570376efa0"
   },
   "outputs": [
    {
     "name": "stdout",
     "output_type": "stream",
     "text": [
      "Device: b'GeForce MX250' (cc 6.1)\n",
      "GPU clock frequency: 1582.0 MHz\n",
      "Available memory: \n",
      "- global memory: 2002.625 MiB\n",
      "- shared memory per thread block: 49152 B\n",
      "- constant memory: 65536 B\n"
     ]
    }
   ],
   "source": [
    "device_props = cp.cuda.runtime.getDeviceProperties(0)\n",
    "\n",
    "print(f\"Device: {device_props['name']} (cc {device_props['major']}.{device_props['minor']})\")\n",
    "print(f\"GPU clock frequency: {device_props['clockRate']/1e3} MHz\")\n",
    "print(\"Available memory: \")\n",
    "print(f\"- global memory: {device_props['totalGlobalMem']/2**20} MiB\")\n",
    "print(f\"- shared memory per thread block: {device_props['sharedMemPerBlock']} B\")\n",
    "print(f\"- constant memory: {device_props['totalConstMem']} B\")"
   ]
  },
  {
   "cell_type": "markdown",
   "metadata": {
    "id": "8nSPilG9MX0l"
   },
   "source": [
    "The complete list of device properties is available [here](https://docs.nvidia.com/cuda/cuda-runtime-api/group__CUDART__DEVICE.html#group__CUDART__DEVICE_1g1bf9d625a931d657e08db2b4391170f0).\n"
   ]
  },
  {
   "cell_type": "markdown",
   "metadata": {
    "id": "zF_vi8n6WlhS"
   },
   "source": [
    "### Exercise 1.3.2. Numba."
   ]
  },
  {
   "cell_type": "markdown",
   "metadata": {
    "id": "FgQQmzbdW7WO"
   },
   "source": [
    "- Numba is a just-in-time (JIT) compiler for Python.\n",
    "- It generates machine code from Python bytecode using LLVM compiler library, which results in a significant speed up.\n",
    "- It works best on code that uses NumPy arrays and functions, and loops.\n",
    "- Numba can target NVIDIA CUDA and (experimentally) AMD ROC GPUs. In other words, it allows for (relatively) easy creation of Python code executed on GPU, which results (potentially) in a significant speed-up.\n",
    "\n",
    "Numba documentation is available here: https://numba.pydata.org/numba-doc/latest/index.html"
   ]
  },
  {
   "cell_type": "markdown",
   "metadata": {
    "id": "7bH-89GIYLfb"
   },
   "source": [
    "The thing that needs to be stressed here is to note, that Numba is a JIT compiler - that means it compiles a given function to machine code *lazily*, **on the first function call**. Compilation is performed only once - the first time a given function is run. After that, a cached version of machine code is used.\n",
    "\n",
    "Let's see how long it will take to execute the brand new kernel the first time:"
   ]
  },
  {
   "cell_type": "code",
   "execution_count": 24,
   "metadata": {
    "id": "8XwstfJGY33G"
   },
   "outputs": [],
   "source": [
    "@cuda.jit\n",
    "def increment(x):\n",
    "    i = cuda.blockIdx.x*cuda.blockDim.x + cuda.threadIdx.x\n",
    "    x[i] += 2"
   ]
  },
  {
   "cell_type": "code",
   "execution_count": 25,
   "metadata": {
    "colab": {
     "base_uri": "https://localhost:8080/"
    },
    "executionInfo": {
     "elapsed": 21,
     "status": "ok",
     "timestamp": 1624789940237,
     "user": {
      "displayName": "Piotr Jarosik",
      "photoUrl": "",
      "userId": "07939774369485222074"
     },
     "user_tz": -120
    },
    "id": "gZZEB9eeY2z1",
    "outputId": "c27638f5-4b0a-4541-8c4f-8714a18610ed"
   },
   "outputs": [
    {
     "name": "stdout",
     "output_type": "stream",
     "text": [
      "CPU times: user 68.5 ms, sys: 12 ms, total: 80.5 ms\n",
      "Wall time: 79.9 ms\n"
     ]
    }
   ],
   "source": [
    "%time increment[1, 5](np.arange(5))"
   ]
  },
  {
   "cell_type": "markdown",
   "metadata": {
    "id": "XBWlU2jpnaBf"
   },
   "source": [
    "The second kernel execution takes:"
   ]
  },
  {
   "cell_type": "code",
   "execution_count": 26,
   "metadata": {
    "colab": {
     "base_uri": "https://localhost:8080/"
    },
    "executionInfo": {
     "elapsed": 16,
     "status": "ok",
     "timestamp": 1624789940238,
     "user": {
      "displayName": "Piotr Jarosik",
      "photoUrl": "",
      "userId": "07939774369485222074"
     },
     "user_tz": -120
    },
    "id": "n6apB1UBaArb",
    "outputId": "203faa1d-09fd-4297-cc0b-9181b14c420b"
   },
   "outputs": [
    {
     "name": "stdout",
     "output_type": "stream",
     "text": [
      "CPU times: user 2.5 ms, sys: 142 µs, total: 2.64 ms\n",
      "Wall time: 2.01 ms\n"
     ]
    }
   ],
   "source": [
    "%time increment[1, 5](np.arange(5))"
   ]
  },
  {
   "cell_type": "markdown",
   "metadata": {
    "id": "sCE_c_qqPjLn"
   },
   "source": [
    "### Exercise 1.3.3. CUDA-MEMCHECK and debugging Numba code.\n"
   ]
  },
  {
   "cell_type": "markdown",
   "metadata": {
    "id": "aaEfAEI9Dsef"
   },
   "source": [
    "#### 1.3.3.1 CUDA-MEMCHECK"
   ]
  },
  {
   "cell_type": "markdown",
   "metadata": {
    "id": "dU_7ZDYFpRFM"
   },
   "source": [
    "CUDA-MEMCHECK is an tool available in CUDA SDK, which gives the possibility to check if CUDA application makes any of the following errors:\n",
    "- misaligned and out of bounds memory access errors,\n",
    "- shared memory data races,\n",
    "- unintialized accesses to global memory. "
   ]
  },
  {
   "cell_type": "markdown",
   "metadata": {
    "id": "c13V3WSdrV3L"
   },
   "source": [
    "Let's to debug below Python script in order to detect any memory issues it may cause. According to Numba [documentation](https://numba.pydata.org/numba-doc/latest/user/troubleshoot.html#debug-info), we can pass `debug=True` parameter to the `@cuda.jit` decorator in order to get some more information about the analyzed kernel. Let's do that, save the below cell to Python script, and run CUDA-MEMCHECK for the Python interpreter."
   ]
  },
  {
   "cell_type": "code",
   "execution_count": 27,
   "metadata": {
    "colab": {
     "base_uri": "https://localhost:8080/"
    },
    "executionInfo": {
     "elapsed": 12,
     "status": "ok",
     "timestamp": 1624789940239,
     "user": {
      "displayName": "Piotr Jarosik",
      "photoUrl": "",
      "userId": "07939774369485222074"
     },
     "user_tz": -120
    },
    "id": "yVAxN_Rqpbxl",
    "outputId": "8e9d2570-6f45-4106-b2f5-c79a5b683fe3"
   },
   "outputs": [
    {
     "name": "stdout",
     "output_type": "stream",
     "text": [
      "Writing 1_3_3_memcheck.py\n"
     ]
    }
   ],
   "source": [
    "%%writefile 1_3_3_memcheck.py\n",
    "\n",
    "import os \n",
    "import numpy as np\n",
    "from numba import cuda\n",
    "import math\n",
    "\n",
    "@cuda.jit(debug=True)\n",
    "def add_vectors_invalid(result, a, b):\n",
    "    pass\n",
    "    i = cuda.blockIdx.x*cuda.blockDim.x + cuda.threadIdx.x\n",
    "    # What are we missing here?\n",
    "    result[i] = a[i] + b[i]\n",
    "\n",
    "\n",
    "a = np.arange(255)\n",
    "b = np.arange(255)\n",
    "result = cuda.device_array(a.shape, dtype=a.dtype)\n",
    "\n",
    "add_vectors_invalid[1, 256](result, a, b)\n",
    "result_host = result.copy_to_host()"
   ]
  },
  {
   "cell_type": "markdown",
   "metadata": {
    "id": "nJUB8sIdTRA9"
   },
   "source": [
    "The only thing the above cell does is saving the Python code to the `1_3_3_memcheck.py` script in the current directory (you can check it using `! pwd` command). Now, we can run `cuda-memcheck` along with the Python interpreter in order to see if there any issues with the script."
   ]
  },
  {
   "cell_type": "code",
   "execution_count": 28,
   "metadata": {
    "colab": {
     "base_uri": "https://localhost:8080/"
    },
    "executionInfo": {
     "elapsed": 2430,
     "status": "ok",
     "timestamp": 1624789942660,
     "user": {
      "displayName": "Piotr Jarosik",
      "photoUrl": "",
      "userId": "07939774369485222074"
     },
     "user_tz": -120
    },
    "id": "9e94Ou3uMezz",
    "outputId": "0fa22daf-941b-48a4-f159-3f716c82909f"
   },
   "outputs": [
    {
     "name": "stdout",
     "output_type": "stream",
     "text": [
      "========= CUDA-MEMCHECK\n",
      "========= Invalid __global__ read of size 8\n",
      "=========     at 0x00000310 in cudapy::__main__::add_vectors_invalid$241(Array<__int64, int=1, C, mutable, aligned>, Array<__int64, int=1, C, mutable, aligned>, Array<__int64, int=1, C, mutable, aligned>)\n",
      "=========     by thread (255,0,0) in block (0,0,0)\n",
      "=========     Address 0x7f9a46c00ff8 is out of bounds\n",
      "=========\n",
      "========= Program hit CUDA_ERROR_LAUNCH_FAILED (error 719) due to \"unspecified launch failure\" on CUDA API call to cuMemcpyDtoH_v2.\n",
      "=========\n",
      "Traceback (most recent call last):\n",
      "  File \"1_3_3_memcheck.py\", line 19, in <module>\n",
      "    add_vectors_invalid[1, 256](result, a, b)\n",
      "  File \"/home/pjarosik/bin/miniconda3/envs/gpu-course2/lib/python3.8/site-packages/numba/cuda/compiler.py\", line 772, in __call__\n",
      "    return self.dispatcher.call(args, self.griddim, self.blockdim,\n",
      "  File \"/home/pjarosik/bin/miniconda3/envs/gpu-course2/lib/python3.8/site-packages/numba/cuda/compiler.py\", line 879, in call\n",
      "    kernel.launch(args, griddim, blockdim, stream, sharedmem)\n",
      "  File \"/home/pjarosik/bin/miniconda3/envs/gpu-course2/lib/python3.8/site-packages/numba/cuda/compiler.py\", line 658, in launch\n",
      "    driver.device_to_host(ctypes.addressof(excval), excmem, excsz)\n",
      "  File \"/home/pjarosik/bin/miniconda3/envs/gpu-course2/lib/python3.8/site-packages/numba/cuda/cudadrv/driver.py\", line 2398, in device_to_host\n",
      "    fn(host_pointer(dst), device_pointer(src), size, *varargs)\n",
      "  File \"/home/pjarosik/bin/miniconda3/envs/gpu-course2/lib/python3.8/site-packages/numba/cuda/cudadrv/driver.py\", line 300, in safe_cuda_api_call\n",
      "    self._check_error(fname, retcode)\n",
      "  File \"/home/pjarosik/bin/miniconda3/envs/gpu-course2/lib/python3.8/site-packages/numba/cuda/cudadrv/driver.py\", line 335, in _check_error\n",
      "    raise CudaAPIError(retcode, msg)\n",
      "numba.cuda.cudadrv.driver.CudaAPIError: [719] Call to cuMemcpyDtoH results in CUDA_ERROR_LAUNCH_FAILED\n",
      "========= ERROR SUMMARY: 2 errors\n"
     ]
    }
   ],
   "source": [
    "! cuda-memcheck --show-backtrace no python 1_3_3_memcheck.py"
   ]
  },
  {
   "cell_type": "markdown",
   "metadata": {
    "id": "KpqwHUm4T0ar"
   },
   "source": [
    "As we can see, CUDA-MEMCHECK detected, the `add_vectors_invalid` kernel was not properly executed by thread `255`. What is causing the issue?"
   ]
  },
  {
   "cell_type": "markdown",
   "metadata": {
    "id": "mWPydWDjUCV6"
   },
   "source": [
    "#### 1.3.3.2 Debugging Numba kernels"
   ]
  },
  {
   "cell_type": "markdown",
   "metadata": {
    "id": "SfoVi1uxVO_l"
   },
   "source": [
    "CUDA SDK toolkit includes debuggers that can be run on the GPU kernel code, in case it's necessary to trace the cause of the issue. A list of CUDA debuggers, that can be run on C++ CUDA kernel code is available here: [Linux](https://docs.nvidia.com/cuda/cuda-gdb/index.html), [Windows](https://docs.nvidia.com/nsight-visual-studio-edition/cuda-debugger/).\n",
    "\n",
    "For the application that uses Python with Numba to generate GPU machine code, user have an opportunity to run Python debugger (`pdb`) directly on the kernel code using the CUDA simulator. More details about the simulator can be found [here](https://numba.pydata.org/numba-doc/dev/cuda/simulator.html). "
   ]
  },
  {
   "cell_type": "markdown",
   "metadata": {
    "id": "Vuwr7zFvV2--"
   },
   "source": [
    "Let's use CUDA simulator to print debug data directly in the kernel code. In order to be able to run CUDA simulator, set `NUMBA_ENABLE_CUDASIM` environment variable to value `1`. "
   ]
  },
  {
   "cell_type": "code",
   "execution_count": 29,
   "metadata": {
    "colab": {
     "base_uri": "https://localhost:8080/"
    },
    "executionInfo": {
     "elapsed": 30,
     "status": "ok",
     "timestamp": 1624789942662,
     "user": {
      "displayName": "Piotr Jarosik",
      "photoUrl": "",
      "userId": "07939774369485222074"
     },
     "user_tz": -120
    },
    "id": "UbhYK8KD1m2D",
    "outputId": "92215f9a-1a8f-46fc-94e7-843646532aad"
   },
   "outputs": [
    {
     "name": "stdout",
     "output_type": "stream",
     "text": [
      "Writing 1_3_3_numba_debugger.py\n"
     ]
    }
   ],
   "source": [
    "%%writefile 1_3_3_numba_debugger.py\n",
    "\n",
    "# Turn on CUDA simulator.\n",
    "import os \n",
    "os.environ['NUMBA_ENABLE_CUDASIM'] = '1'\n",
    "\n",
    "import numpy as np\n",
    "from numba import cuda\n",
    "import math\n",
    "\n",
    "@cuda.jit\n",
    "def add_vectors(result, a, b):\n",
    "    i = cuda.blockIdx.x*cuda.blockDim.x + cuda.threadIdx.x\n",
    "    # What are we missing here?\n",
    "    result[i] = a[i] + b[i]\n",
    "    if i == 10:\n",
    "        print(f\"{result[i]} = {a[i]} + {b[i]}\")\n",
    "        # or use PDB: import pdb; pdb.set_trace()\n",
    "\n",
    "a = np.arange(255)\n",
    "b = np.arange(255)\n",
    "result = cuda.device_array(a.shape, dtype=a.dtype)\n",
    "\n",
    "add_vectors[1, 255](result, a, b)\n",
    "result_host = result.copy_to_host()"
   ]
  },
  {
   "cell_type": "code",
   "execution_count": 30,
   "metadata": {
    "colab": {
     "base_uri": "https://localhost:8080/"
    },
    "executionInfo": {
     "elapsed": 800,
     "status": "ok",
     "timestamp": 1624789943446,
     "user": {
      "displayName": "Piotr Jarosik",
      "photoUrl": "",
      "userId": "07939774369485222074"
     },
     "user_tz": -120
    },
    "id": "_XBex9t12jDT",
    "outputId": "9ce3e172-18c9-40b0-d228-7fa78a826b9a"
   },
   "outputs": [
    {
     "name": "stdout",
     "output_type": "stream",
     "text": [
      "20 = 10 + 10\n"
     ]
    }
   ],
   "source": [
    "! python 1_3_3_numba_debugger.py"
   ]
  },
  {
   "cell_type": "markdown",
   "metadata": {
    "id": "rD7XDUdBQDMQ"
   },
   "source": [
    "### Exercise 1.3.4. Profiling GPU code.\n"
   ]
  },
  {
   "cell_type": "markdown",
   "metadata": {
    "id": "XiZAM_CcZinN"
   },
   "source": [
    "Sometimes, to better understand and optimize performance of GPU appplication, it is necessary to perform a dynamic program analysis and to mesaure a specific metrics, for example the execution time and memory requirements of a particular CUDA kernel. The utility that performs such analysis is usually called a *code profiler*.\n",
    "\n",
    "NVIDIA provides a number of tools that enable code profiling. Some of them allow you to perform inspections from the command line, while others provide a graphical user interface that clearly presents various code metrics. In this excersie we will introduce you the tools available in CUDA ecosystem.\n",
    "\n",
    "NOTE: Currently, NVIDIA is migrating to a new profiling toolkit called *NVIDIA Nsight Systems* and NVIDIA Nsight Compute  system. We will extend this exercise with examples of their use in the future."
   ]
  },
  {
   "cell_type": "markdown",
   "metadata": {
    "id": "7SkosXBIlnvu"
   },
   "source": [
    "#### 1.3.4.1. NVPROF"
   ]
  },
  {
   "cell_type": "markdown",
   "metadata": {
    "id": "UdJZmKnbZEeM"
   },
   "source": [
    "`nvprof` is a CUDA SDK tool that allows to acquire profiling data directly from the command line. Documentation for the tool is available here. \n",
    "\n",
    "We will use `nvprof` for the rest of this course."
   ]
  },
  {
   "cell_type": "markdown",
   "metadata": {
    "id": "eqFSN6I4jCHk"
   },
   "source": [
    "Let's try profiling our `add_vectors_gpu` code first."
   ]
  },
  {
   "cell_type": "code",
   "execution_count": 31,
   "metadata": {
    "colab": {
     "base_uri": "https://localhost:8080/"
    },
    "executionInfo": {
     "elapsed": 26,
     "status": "ok",
     "timestamp": 1624789943448,
     "user": {
      "displayName": "Piotr Jarosik",
      "photoUrl": "",
      "userId": "07939774369485222074"
     },
     "user_tz": -120
    },
    "id": "FCYQn7TtjHli",
    "outputId": "d87b004d-ee69-49fe-88cd-7717e96ca08a"
   },
   "outputs": [
    {
     "name": "stdout",
     "output_type": "stream",
     "text": [
      "Writing 1_3_4_nvprof_add_vectors.py\n"
     ]
    }
   ],
   "source": [
    "%%writefile 1_3_4_nvprof_add_vectors.py\n",
    "\n",
    "import math\n",
    "from numba import cuda\n",
    "import numpy as np\n",
    "\n",
    "@cuda.jit\n",
    "def add_vectors_kernel(result, a, b):\n",
    "    i = cuda.blockIdx.x*cuda.blockDim.x + cuda.threadIdx.x\n",
    "    # Make sure not to go outside the grid area!\n",
    "    if i >= len(result):\n",
    "        return\n",
    "    result[i] = a[i] + b[i]\n",
    "\n",
    "y = cuda.device_array(4)\n",
    "add_vectors_kernel[1, 4](y,  np.array([1, 2, 3, 4]), np.array([4, 5, 6, 7]))\n",
    "result = y.copy_to_host()\n",
    "\n",
    "np.testing.assert_equal(result, [5, 7, 9, 11])"
   ]
  },
  {
   "cell_type": "markdown",
   "metadata": {
    "id": "TlBKEwX8jhLV"
   },
   "source": [
    "The usage is the following:\n",
    "```\n",
    "nvprof [options] [application] [application-arguments]\n",
    "```"
   ]
  },
  {
   "cell_type": "markdown",
   "metadata": {
    "id": "e8z4gyNOlDP3"
   },
   "source": [
    "For example, to run the above Python script:"
   ]
  },
  {
   "cell_type": "code",
   "execution_count": 32,
   "metadata": {
    "colab": {
     "base_uri": "https://localhost:8080/"
    },
    "executionInfo": {
     "elapsed": 1774,
     "status": "ok",
     "timestamp": 1624789945211,
     "user": {
      "displayName": "Piotr Jarosik",
      "photoUrl": "",
      "userId": "07939774369485222074"
     },
     "user_tz": -120
    },
    "id": "BNqTKbrUjeaO",
    "outputId": "d79d223e-b66d-4c0b-9612-31a42dc5f358"
   },
   "outputs": [
    {
     "name": "stdout",
     "output_type": "stream",
     "text": [
      "==94383== NVPROF is profiling process 94383, command: python 1_3_4_nvprof_add_vectors.py\n",
      "==94383== Profiling application: python 1_3_4_nvprof_add_vectors.py\n",
      "==94383== Profiling result:\n",
      "            Type  Time(%)      Time     Calls       Avg       Min       Max  Name\n",
      " GPU activities:   65.11%  12.480us         1  12.480us  12.480us  12.480us  cudapy::__main__::add_vectors_kernel$241(Array<double, int=1, C, mutable, aligned>, Array<__int64, int=1, C, mutable, aligned>, Array<__int64, int=1, C, mutable, aligned>)\n",
      "                   21.87%  4.1920us         3  1.3970us  1.3760us  1.4080us  [CUDA memcpy DtoH]\n",
      "                   13.02%  2.4960us         2  1.2480us  1.0880us  1.4080us  [CUDA memcpy HtoD]\n",
      "      API calls:   91.51%  124.14ms         1  124.14ms  124.14ms  124.14ms  cuDevicePrimaryCtxRetain\n",
      "                    7.82%  10.608ms         1  10.608ms  10.608ms  10.608ms  cuLinkAddData\n",
      "                    0.13%  175.84us       101  1.7400us     254ns  68.767us  cuDeviceGetAttribute\n",
      "                    0.12%  159.14us         1  159.14us  159.14us  159.14us  cuModuleLoadDataEx\n",
      "                    0.09%  119.37us         1  119.37us  119.37us  119.37us  cuLinkComplete\n",
      "                    0.08%  103.43us         3  34.475us  6.8070us  82.657us  cuMemAlloc\n",
      "                    0.06%  81.938us         2  40.969us  38.121us  43.817us  cuDeviceGetName\n",
      "                    0.04%  56.552us         1  56.552us  56.552us  56.552us  cuDeviceTotalMem\n",
      "                    0.04%  51.527us         3  17.175us  15.463us  18.920us  cuMemcpyDtoH\n",
      "                    0.03%  40.950us         1  40.950us  40.950us  40.950us  cuLinkCreate\n",
      "                    0.02%  26.516us         2  13.258us  9.3870us  17.129us  cuMemcpyHtoD\n",
      "                    0.02%  22.125us        13  1.7010us     245ns  15.761us  cuCtxGetCurrent\n",
      "                    0.02%  21.086us         1  21.086us  21.086us  21.086us  cuMemGetInfo\n",
      "                    0.02%  20.618us         1  20.618us  20.618us  20.618us  cuLaunchKernel\n",
      "                    0.01%  7.5330us         1  7.5330us  7.5330us  7.5330us  cuDeviceGetPCIBusId\n",
      "                    0.00%  4.4410us        11     403ns     215ns  1.0930us  cuCtxGetDevice\n",
      "                    0.00%  2.8790us         4     719ns     376ns  1.3500us  cuDeviceGetCount\n",
      "                    0.00%  2.0890us         1  2.0890us  2.0890us  2.0890us  cuLinkDestroy\n",
      "                    0.00%  1.8240us         1  1.8240us  1.8240us  1.8240us  cuInit\n",
      "                    0.00%  1.6650us         5     333ns     149ns     740ns  cuFuncGetAttribute\n",
      "                    0.00%  1.6430us         3     547ns     361ns     809ns  cuDeviceGet\n",
      "                    0.00%  1.5310us         1  1.5310us  1.5310us  1.5310us  cuModuleGetFunction\n",
      "                    0.00%  1.1080us         1  1.1080us  1.1080us  1.1080us  cuDriverGetVersion\n",
      "                    0.00%  1.0110us         1  1.0110us  1.0110us  1.0110us  cuCtxPushCurrent\n",
      "                    0.00%     685ns         1     685ns     685ns     685ns  cudaRuntimeGetVersion\n",
      "                    0.00%     568ns         1     568ns     568ns     568ns  cuDeviceComputeCapability\n",
      "                    0.00%     428ns         1     428ns     428ns     428ns  cuDeviceGetUuid\n"
     ]
    }
   ],
   "source": [
    "! nvprof python 1_3_4_nvprof_add_vectors.py"
   ]
  },
  {
   "cell_type": "markdown",
   "metadata": {
    "id": "csLEJItzlKdH"
   },
   "source": [
    "By default, `nvprof` outputs all GPU and API calls activity. Mainly we are interested in the CUDA GPU tracing -- we can turn off API calls by using `--trace gpu` option."
   ]
  },
  {
   "cell_type": "code",
   "execution_count": 33,
   "metadata": {
    "colab": {
     "base_uri": "https://localhost:8080/"
    },
    "executionInfo": {
     "elapsed": 1006,
     "status": "ok",
     "timestamp": 1624789946213,
     "user": {
      "displayName": "Piotr Jarosik",
      "photoUrl": "",
      "userId": "07939774369485222074"
     },
     "user_tz": -120
    },
    "id": "JHLtUF9dl6L5",
    "outputId": "b45cea6c-8d3b-40ad-963a-7279d67ffadd"
   },
   "outputs": [
    {
     "name": "stdout",
     "output_type": "stream",
     "text": [
      "==94410== NVPROF is profiling process 94410, command: python 1_3_4_nvprof_add_vectors.py\n",
      "==94410== Profiling application: python 1_3_4_nvprof_add_vectors.py\n",
      "==94410== Profiling result:\n",
      "            Type  Time(%)      Time     Calls       Avg       Min       Max  Name\n",
      " GPU activities:   61.99%  12.736us         1  12.736us  12.736us  12.736us  cudapy::__main__::add_vectors_kernel$241(Array<double, int=1, C, mutable, aligned>, Array<__int64, int=1, C, mutable, aligned>, Array<__int64, int=1, C, mutable, aligned>)\n",
      "                   25.70%  5.2800us         3  1.7600us  1.3760us  2.4960us  [CUDA memcpy DtoH]\n",
      "                   12.31%  2.5280us         2  1.2640us  1.0880us  1.4400us  [CUDA memcpy HtoD]\n",
      "No API activities were profiled.\n"
     ]
    }
   ],
   "source": [
    "! nvprof --trace gpu python 1_3_4_nvprof_add_vectors.py"
   ]
  },
  {
   "cell_type": "markdown",
   "metadata": {
    "id": "I7gdA7dnl76w"
   },
   "source": [
    "CUDA GPU activities includes:\n",
    "- CUDA kernels activities,\n",
    "- GPU to Host memory transfers (`DtoH`), host to GPU memory transfers (`HtoD`)."
   ]
  },
  {
   "cell_type": "markdown",
   "metadata": {
    "id": "A_gQHCBAqVT7"
   },
   "source": [
    "Let's we add one more kernel to the above code:"
   ]
  },
  {
   "cell_type": "code",
   "execution_count": 34,
   "metadata": {
    "colab": {
     "base_uri": "https://localhost:8080/"
    },
    "executionInfo": {
     "elapsed": 28,
     "status": "ok",
     "timestamp": 1624789946214,
     "user": {
      "displayName": "Piotr Jarosik",
      "photoUrl": "",
      "userId": "07939774369485222074"
     },
     "user_tz": -120
    },
    "id": "nVtCfhVgtD1Y",
    "outputId": "55a521f8-c225-4f7f-a47a-a28f5e5ec683"
   },
   "outputs": [
    {
     "name": "stdout",
     "output_type": "stream",
     "text": [
      "Writing 1_3_4_nvprof_increment_add_vectors.py\n"
     ]
    }
   ],
   "source": [
    "%%writefile 1_3_4_nvprof_increment_add_vectors.py\n",
    "\n",
    "import math\n",
    "from numba import cuda\n",
    "import numpy as np\n",
    "\n",
    "@cuda.jit\n",
    "def increment(a):\n",
    "    i = cuda.blockIdx.x*cuda.blockDim.x + cuda.threadIdx.x\n",
    "    a[i] += 1\n",
    "\n",
    "@cuda.jit\n",
    "def add_vectors_kernel(result, a, b):\n",
    "    i = cuda.blockIdx.x*cuda.blockDim.x + cuda.threadIdx.x\n",
    "    # Make sure not to go outside the grid area!\n",
    "    result[i] = a[i] + b[i]\n",
    "\n",
    "result_gpu = cuda.device_array(2**24)\n",
    "\n",
    "a_gpu = cuda.to_device(np.random.rand(2**24))\n",
    "b_gpu = cuda.to_device(np.random.rand(2**24))\n",
    "\n",
    "block_size = 256\n",
    "grid_size = math.ceil(len(result_gpu)/block_size)\n",
    "increment[grid_size, block_size](a_gpu)\n",
    "add_vectors_kernel[grid_size, block_size](result_gpu, a_gpu, b_gpu)\n",
    "result = result_gpu.copy_to_host()"
   ]
  },
  {
   "cell_type": "code",
   "execution_count": 35,
   "metadata": {
    "colab": {
     "base_uri": "https://localhost:8080/"
    },
    "executionInfo": {
     "elapsed": 2207,
     "status": "ok",
     "timestamp": 1624789948408,
     "user": {
      "displayName": "Piotr Jarosik",
      "photoUrl": "",
      "userId": "07939774369485222074"
     },
     "user_tz": -120
    },
    "id": "QVkzTW4ZwFYm",
    "outputId": "d0717a87-67bd-4b07-c17d-74a31faf249b"
   },
   "outputs": [
    {
     "name": "stdout",
     "output_type": "stream",
     "text": [
      "==94437== NVPROF is profiling process 94437, command: python 1_3_4_nvprof_increment_add_vectors.py\n",
      "==94437== Profiling application: python 1_3_4_nvprof_increment_add_vectors.py\n",
      "==94437== Profiling result:\n",
      "            Type  Time(%)      Time     Calls       Avg       Min       Max  Name\n",
      " GPU activities:   56.66%  98.822ms         2  49.411ms  49.221ms  49.601ms  [CUDA memcpy HtoD]\n",
      "                   25.52%  44.512ms         1  44.512ms  44.512ms  44.512ms  [CUDA memcpy DtoH]\n",
      "                    9.20%  16.043ms         1  16.043ms  16.043ms  16.043ms  cudapy::__main__::add_vectors_kernel$242(Array<double, int=1, C, mutable, aligned>, Array<double, int=1, C, mutable, aligned>, Array<double, int=1, C, mutable, aligned>)\n",
      "                    8.62%  15.035ms         1  15.035ms  15.035ms  15.035ms  cudapy::__main__::increment$241(Array<double, int=1, C, mutable, aligned>)\n",
      "No API activities were profiled.\n"
     ]
    }
   ],
   "source": [
    "! nvprof --trace gpu python 1_3_4_nvprof_increment_add_vectors.py"
   ]
  },
  {
   "cell_type": "markdown",
   "metadata": {
    "id": "vR0697Ywx9K5"
   },
   "source": [
    "In the above case, `nvprof` should display the execution times for both kernels."
   ]
  },
  {
   "cell_type": "markdown",
   "metadata": {
    "id": "LCF8oUJdXq1g"
   },
   "source": [
    "#### 1.3.4.2. NVIDIA Visual Profiler"
   ]
  },
  {
   "cell_type": "markdown",
   "metadata": {
    "id": "W9p0QrpYxkz4"
   },
   "source": [
    "NVIDIA Visual Profiler (NVVP) allows to "
   ]
  },
  {
   "cell_type": "markdown",
   "metadata": {
    "id": "E4b05A0h0ytP"
   },
   "source": [
    "Let's export the profiling results to a file that can be loaded by NVVP. We can `nvprof` for this purpose, just use `--export-profile` parameter."
   ]
  },
  {
   "cell_type": "code",
   "execution_count": 36,
   "metadata": {
    "colab": {
     "base_uri": "https://localhost:8080/"
    },
    "executionInfo": {
     "elapsed": 1870,
     "status": "ok",
     "timestamp": 1624789950264,
     "user": {
      "displayName": "Piotr Jarosik",
      "photoUrl": "",
      "userId": "07939774369485222074"
     },
     "user_tz": -120
    },
    "id": "MqSmtHbnyr-T",
    "outputId": "9bdac42e-88bd-4e23-bbcf-a81eebfeabf5"
   },
   "outputs": [
    {
     "name": "stdout",
     "output_type": "stream",
     "text": [
      "==94464== NVPROF is profiling process 94464, command: python 1_3_4_nvprof_increment_add_vectors.py\n",
      "==94464== Generated result file: /home/pjarosik/src/us4useu/tmp/ius-2021-gpu-short-course/exercises/nvvp_example.nvvp\n"
     ]
    }
   ],
   "source": [
    "! nvprof --trace gpu --export-profile nvvp_example.nvvp -f python 1_3_4_nvprof_increment_add_vectors.py"
   ]
  },
  {
   "cell_type": "markdown",
   "metadata": {
    "id": "PHqnQ1ih06ss"
   },
   "source": [
    "Next, let's load the profiling results into NVVP:\n",
    "1. Open NVVP.\n",
    "2. Press: File -> Open choose the exported file.\n",
    "\n",
    "As a result, you should see an image similar to the one below. The generated graph presents the moments of execution each individual GPU activity over time. CUDA kernel launches are placed on the `Compute` lane (in the order in which they are executed: `increment` first, then `add_vectors`) CUDA memory transfers are on the `MemCpy` lanes (variable `a`, then variable `b`, both `HtoD`, then `result`, `DtoH`). "
   ]
  },
  {
   "cell_type": "markdown",
   "metadata": {
    "id": "Eg3WxL4v3SiU"
   },
   "source": [
    "![nvvp_example.png](data:image/png;base64,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)"
   ]
  },
  {
   "cell_type": "markdown",
   "metadata": {
    "id": "Ge3XwDIWXuGg"
   },
   "source": [
    "#### 1.3.4.3. NVIDIA Nsight Compute and Systems\n",
    "\n",
    "In preparation..."
   ]
  }
 ],
 "metadata": {
  "accelerator": "GPU",
  "colab": {
   "collapsed_sections": [],
   "name": "1_CUDA_programming_model.ipynb",
   "provenance": [],
   "toc_visible": true
  },
  "kernelspec": {
   "display_name": "Python 3",
   "language": "python",
   "name": "python3"
  },
  "language_info": {
   "codemirror_mode": {
    "name": "ipython",
    "version": 3
   },
   "file_extension": ".py",
   "mimetype": "text/x-python",
   "name": "python",
   "nbconvert_exporter": "python",
   "pygments_lexer": "ipython3",
   "version": "3.8.10"
  },
  "toc-autonumbering": false
 },
 "nbformat": 4,
 "nbformat_minor": 4
}
