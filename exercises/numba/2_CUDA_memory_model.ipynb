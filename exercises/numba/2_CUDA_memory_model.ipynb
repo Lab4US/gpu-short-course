{
 "cells": [
  {
   "cell_type": "markdown",
   "id": "5cdj-g8QB0vp",
   "metadata": {
    "id": "5cdj-g8QB0vp"
   },
   "source": [
    "# Lecture 2. CUDA memory model."
   ]
  },
  {
   "cell_type": "markdown",
   "id": "51iXpPA-fRos",
   "metadata": {
    "id": "51iXpPA-fRos"
   },
   "source": [
    "In this lecture, we will focus on the memory hierarchy in NVIDIA GPU CUDA-enabled cards. Memory access is often a significant part of GPU kernel execution time, so choosing the right type of memory for the task at hand often plays a key role.\n",
    "\n",
    "During the exercises, we will learn how to use selected types of memory and what are their advantages and limitations:\n",
    "\n",
    "1. global memory,\n",
    "2. shared memory,\n",
    "3. constant memory."
   ]
  },
  {
   "cell_type": "markdown",
   "id": "VFO6pzKatK4N",
   "metadata": {
    "id": "VFO6pzKatK4N"
   },
   "source": [
    "In this and the following notebooks, we will use the tools, tests and benchmarks available in the `gpu_short_course` Python package, which can be found in the repository https://github.com/us4useu/ius-2021-gpu-short-course. Please run the below line before proceeding:"
   ]
  },
  {
   "cell_type": "code",
   "execution_count": 1,
   "id": "cQM4ampHCvMX",
   "metadata": {
    "colab": {
     "base_uri": "https://localhost:8080/"
    },
    "executionInfo": {
     "elapsed": 3686,
     "status": "ok",
     "timestamp": 1624792339573,
     "user": {
      "displayName": "Piotr Jarosik",
      "photoUrl": "",
      "userId": "07939774369485222074"
     },
     "user_tz": -120
    },
    "id": "cQM4ampHCvMX",
    "outputId": "1c25be71-e296-49a4-8796-a23ce54dfbf5"
   },
   "outputs": [
    {
     "name": "stdout",
     "output_type": "stream",
     "text": [
      "Collecting git+https://github.com/us4useu/ius-2021-gpu-short-course.git\n",
      "  Cloning https://github.com/us4useu/ius-2021-gpu-short-course.git to /tmp/pip-req-build-xe3qe4hn\n",
      "  Running command git clone -q https://github.com/us4useu/ius-2021-gpu-short-course.git /tmp/pip-req-build-xe3qe4hn\n",
      "Building wheels for collected packages: gpu-short-course\n",
      "  Building wheel for gpu-short-course (setup.py) ... \u001b[?25ldone\n",
      "\u001b[?25h  Created wheel for gpu-short-course: filename=gpu_short_course-0.0.1-py3-none-any.whl size=3119 sha256=61cfea3f24d4224b8853b59a2673d347dfbd822cbd160042a7f1f90f5ee98481\n",
      "  Stored in directory: /tmp/pip-ephem-wheel-cache-erhtcvip/wheels/2e/0b/02/0f96bd15166b9aa28455baa3c75c129be82031e9b820986f2d\n",
      "Successfully built gpu-short-course\n",
      "Installing collected packages: gpu-short-course\n",
      "  Attempting uninstall: gpu-short-course\n",
      "    Found existing installation: gpu-short-course 0.0.1\n",
      "    Uninstalling gpu-short-course-0.0.1:\n",
      "      Successfully uninstalled gpu-short-course-0.0.1\n",
      "Successfully installed gpu-short-course-0.0.1\n"
     ]
    }
   ],
   "source": [
    "! pip install --upgrade --force-reinstall git+https://github.com/us4useu/ius-2021-gpu-short-course.git"
   ]
  },
  {
   "cell_type": "markdown",
   "id": "oc1USEPP7Awa",
   "metadata": {
    "id": "oc1USEPP7Awa"
   },
   "source": [
    "Then, let's we do all the necessary imports:"
   ]
  },
  {
   "cell_type": "code",
   "execution_count": 2,
   "id": "hlP00bR46_x2",
   "metadata": {
    "colab": {
     "base_uri": "https://localhost:8080/"
    },
    "executionInfo": {
     "elapsed": 492,
     "status": "ok",
     "timestamp": 1624792340054,
     "user": {
      "displayName": "Piotr Jarosik",
      "photoUrl": "",
      "userId": "07939774369485222074"
     },
     "user_tz": -120
    },
    "id": "hlP00bR46_x2",
    "outputId": "5c31b180-4e1d-43ae-d250-c3aef3c6d564"
   },
   "outputs": [
    {
     "name": "stdout",
     "output_type": "stream",
     "text": [
      "GPU:0: b'GeForce MX250'\n"
     ]
    }
   ],
   "source": [
    "import math\n",
    "from numba import cuda, float32, int32\n",
    "import numpy as np\n",
    "import scipy.signal\n",
    "import matplotlib.pyplot as plt\n",
    "import gpu_short_course\n",
    "import cupy as cp"
   ]
  },
  {
   "cell_type": "markdown",
   "id": "wPLH78sJCYfL",
   "metadata": {
    "id": "wPLH78sJCYfL"
   },
   "source": [
    "## Exercise 2.1. One-dimensional convolution, global memory."
   ]
  },
  {
   "cell_type": "markdown",
   "id": "gGulLla0u8Uw",
   "metadata": {
    "id": "gGulLla0u8Uw"
   },
   "source": [
    "### Exercise 2.1.1. Convolution on CPU."
   ]
  },
  {
   "cell_type": "markdown",
   "id": "zaASLnr8ut7E",
   "metadata": {
    "id": "zaASLnr8ut7E"
   },
   "source": [
    "In this and subsequent notebooks, we will focus on the implementation and optimization of 1D convolution. The convolution operator has very broad applications, that also include signal and image processing, signal filtering in particular."
   ]
  },
  {
   "cell_type": "markdown",
   "id": "uYLHbLxgvDds",
   "metadata": {
    "id": "uYLHbLxgvDds"
   },
   "source": [
    "We will use the following definition of of the discrete convolution operator:\n",
    "\n",
    "\\begin{equation*}\n",
    "y[i] = (x \\ast h)[i] = \\sum_{j=0}^{N-1} x[i+o-j]h[j] \n",
    "\\end{equation*}\n",
    "\n",
    "where:\n",
    "- $x$ is an input signal samples, i.e. a vector of samples, $x[k]$ is equal 0 for $k < 0$, \n",
    "- $h$ is the impulse response of the filter, a vector of $N$ samples,\n",
    "- $o$ is the initial offset of convolution operation.\n",
    "\n",
    "We assume that the length $x$ is not less than $h$, for the sake of simplicity. \n",
    "\n",
    "Signal filtration is realised by convolving the signal with impulse response of the filter.\n",
    "\n",
    "The constant $o$ allows us to choose the input sample, where the filtering starts. During the course will assume the following:\n",
    "\n",
    "\\begin{equation*}\n",
    "o = \\left\\lceil \\frac{N}{2} \\right\\rceil-1\n",
    "\\end{equation*}\n",
    "\n",
    "The offset corresponds to the `mode='same'` in the [`numpy.convolve`](https://numpy.org/doc/stable/reference/generated/numpy.convolve.html) function. "
   ]
  },
  {
   "cell_type": "markdown",
   "id": "9qFnKz6B2QF3",
   "metadata": {
    "id": "9qFnKz6B2QF3"
   },
   "source": [
    "Example:\n",
    "```\n",
    "x = [0, 1, 2, 3, 4]\n",
    "h = [0, 1, 2]\n",
    "```\n",
    "\n",
    "For given input parameters, input offset will be equal to `1`. So, the output signal will be equal:\n",
    "```\n",
    "y[0] = h[0]*x[1]+h[1]*x[0]           = 0\n",
    "y[1] = h[0]*x[2]+h[1]*x[1]*h[2]*x[0] = 1\n",
    "y[2] = h[0]*x[3]+h[1]*x[2]*h[2]*x[1] = 4\n",
    "y[3] = h[0]*x[4]+h[1]*x[3]+h[2]*x[2] = 7\n",
    "y[4] = h[1]*x[4]+h[2]*x[3]           = 10\n",
    "```\n",
    "\n",
    "This corresponds to moving the filter window as follows:\n",
    "```\n",
    " x = [0, 1, 2, 3, 4]      y = \n",
    "     [1, 0]               [0 ]\n",
    "     [2, 1, 0]            [1 ]\n",
    "        [2, 1, 0]         [4 ]\n",
    "           [2, 1, 0]      [7 ]\n",
    "              [2, 1]      [10]\n",
    "```"
   ]
  },
  {
   "cell_type": "markdown",
   "id": "AKWkHF_N6buv",
   "metadata": {
    "id": "AKWkHF_N6buv"
   },
   "source": [
    "Now we will implement a baseline version of the convolution, first on CPU:"
   ]
  },
  {
   "cell_type": "code",
   "execution_count": 3,
   "id": "4d37odOQ6Vwo",
   "metadata": {
    "colab": {
     "base_uri": "https://localhost:8080/"
    },
    "executionInfo": {
     "elapsed": 23,
     "status": "ok",
     "timestamp": 1624792340055,
     "user": {
      "displayName": "Piotr Jarosik",
      "photoUrl": "",
      "userId": "07939774369485222074"
     },
     "user_tz": -120
    },
    "id": "4d37odOQ6Vwo",
    "outputId": "b7c92489-3eaf-44d0-9128-a6f456a6edef"
   },
   "outputs": [
    {
     "data": {
      "text/plain": [
       "array([ 0,  1,  4,  7, 10])"
      ]
     },
     "execution_count": 3,
     "metadata": {},
     "output_type": "execute_result"
    }
   ],
   "source": [
    "def convolve_cpu(x, h):\n",
    "    # Get constants and \n",
    "    M = len(x)\n",
    "    N = len(h)\n",
    "    y = np.zeros(M, dtype=x.dtype)\n",
    "    o = int(math.ceil(N/2)-1)\n",
    "        \n",
    "    # For each output sample.\n",
    "    for i in range(M):\n",
    "        value = 0.0\n",
    "        # For each filter's coefficient.\n",
    "        for j in range(N):\n",
    "            k = i+o-j    \n",
    "            if k >= 0 and k < M:\n",
    "                value += x[k]*h[j]\n",
    "        y[i] = value\n",
    "    return y\n",
    "\n",
    "\n",
    "convolve_cpu(np.array([0, 1, 2, 3, 4]), \n",
    "             np.array([0, 1, 2]))"
   ]
  },
  {
   "cell_type": "markdown",
   "id": "wMc9SWAm7vaC",
   "metadata": {
    "id": "wMc9SWAm7vaC"
   },
   "source": [
    "Now let's check how the `convolve_cpu` function works in filtering less trivial signals. First, we will prepare an artificially noisy signal:"
   ]
  },
  {
   "cell_type": "code",
   "execution_count": 4,
   "id": "RAHIhD-q8IJn",
   "metadata": {
    "colab": {
     "base_uri": "https://localhost:8080/",
     "height": 282
    },
    "executionInfo": {
     "elapsed": 288,
     "status": "ok",
     "timestamp": 1624792340332,
     "user": {
      "displayName": "Piotr Jarosik",
      "photoUrl": "",
      "userId": "07939774369485222074"
     },
     "user_tz": -120
    },
    "id": "RAHIhD-q8IJn",
    "outputId": "0560904a-32f3-4673-adca-5550d19b9275"
   },
   "outputs": [
    {
     "data": {
      "text/plain": [
       "[<matplotlib.lines.Line2D at 0x7f2f17017940>]"
      ]
     },
     "execution_count": 4,
     "metadata": {},
     "output_type": "execute_result"
    },
    {
     "data": {
      "image/png": "[encoded data removed]",
      "text/plain": [
       "<Figure size 432x288 with 1 Axes>"
      ]
     },
     "metadata": {
      "needs_background": "light"
     },
     "output_type": "display_data"
    }
   ],
   "source": [
    "t = np.linspace(-math.pi, math.pi, 200)\n",
    "noisy_signal = np.sin(t) + 0.1*np.random.randn(len(t))\n",
    "plt.plot(t, noisy_signal)"
   ]
  },
  {
   "cell_type": "markdown",
   "id": "NF31w8Mx9uny",
   "metadata": {
    "id": "NF31w8Mx9uny"
   },
   "source": [
    "We will use a [moving average filter](https://en.wikipedia.org/wiki/Moving_average) to remove the (artifically) added noise the the input signal. The moving average filter is simply a vector of $\\frac{1}{N}$ values, where $N$ is the size of the filter. "
   ]
  },
  {
   "cell_type": "code",
   "execution_count": 5,
   "id": "zvO11_Ip-5cY",
   "metadata": {
    "executionInfo": {
     "elapsed": 16,
     "status": "ok",
     "timestamp": 1624792340333,
     "user": {
      "displayName": "Piotr Jarosik",
      "photoUrl": "",
      "userId": "07939774369485222074"
     },
     "user_tz": -120
    },
    "id": "zvO11_Ip-5cY"
   },
   "outputs": [],
   "source": [
    "N = 64\n",
    "ma_filter = np.ones(N)/N"
   ]
  },
  {
   "cell_type": "markdown",
   "id": "Ot2YEmlM-7ZU",
   "metadata": {
    "id": "Ot2YEmlM-7ZU"
   },
   "source": [
    "Finally, let's do the actual filtering:"
   ]
  },
  {
   "cell_type": "code",
   "execution_count": 6,
   "id": "eW-siNIe-_wm",
   "metadata": {
    "colab": {
     "base_uri": "https://localhost:8080/",
     "height": 282
    },
    "executionInfo": {
     "elapsed": 360,
     "status": "ok",
     "timestamp": 1624792340680,
     "user": {
      "displayName": "Piotr Jarosik",
      "photoUrl": "",
      "userId": "07939774369485222074"
     },
     "user_tz": -120
    },
    "id": "eW-siNIe-_wm",
    "outputId": "1ee179e3-3989-47eb-a7fb-5407e82c12a7"
   },
   "outputs": [
    {
     "data": {
      "text/plain": [
       "[<matplotlib.lines.Line2D at 0x7f2f16f0c460>]"
      ]
     },
     "execution_count": 6,
     "metadata": {},
     "output_type": "execute_result"
    },
    {
     "data": {
      "image/png": "[encoded data removed]",
      "text/plain": [
       "<Figure size 432x288 with 1 Axes>"
      ]
     },
     "metadata": {
      "needs_background": "light"
     },
     "output_type": "display_data"
    }
   ],
   "source": [
    "denoised_signal = convolve_cpu(noisy_signal, ma_filter)\n",
    "plt.plot(t, denoised_signal)"
   ]
  },
  {
   "cell_type": "markdown",
   "id": "0FPYtoBTDaQ3",
   "metadata": {
    "id": "0FPYtoBTDaQ3"
   },
   "source": [
    "For the purpose of this course we have prepared two functions that checks correctness and performance: \n",
    "- `gpu_short_course.tests.test_convolve`: performs validation tests on the passed convolve function,\n",
    "- `gpu_short_course.tests.benchmark_convolve`: measures the average execution time of the passed function on random data. "
   ]
  },
  {
   "cell_type": "markdown",
   "id": "1LJySU1m_XQP",
   "metadata": {
    "id": "1LJySU1m_XQP"
   },
   "source": [
    "Let's check if the function passes the tests prepared for this course:"
   ]
  },
  {
   "cell_type": "code",
   "execution_count": 7,
   "id": "lkhgrMys_zjE",
   "metadata": {
    "colab": {
     "base_uri": "https://localhost:8080/"
    },
    "executionInfo": {
     "elapsed": 15,
     "status": "ok",
     "timestamp": 1624792340681,
     "user": {
      "displayName": "Piotr Jarosik",
      "photoUrl": "",
      "userId": "07939774369485222074"
     },
     "user_tz": -120
    },
    "id": "lkhgrMys_zjE",
    "outputId": "3101ad77-86a2-4ab2-e939-92241c9b3e34"
   },
   "outputs": [
    {
     "name": "stdout",
     "output_type": "stream",
     "text": [
      "All tests passed.\n"
     ]
    }
   ],
   "source": [
    "gpu_short_course.tests.test_convolve(convolve_cpu)"
   ]
  },
  {
   "cell_type": "markdown",
   "id": "iODSJUusCg86",
   "metadata": {
    "id": "iODSJUusCg86"
   },
   "source": [
    "If everything is OK, you should see `All tests passed.`\n",
    "\n",
    "Now, let's see how fast the CPU implementation is:\n"
   ]
  },
  {
   "cell_type": "code",
   "execution_count": 8,
   "id": "bmrg3dGVCz-T",
   "metadata": {
    "colab": {
     "base_uri": "https://localhost:8080/"
    },
    "executionInfo": {
     "elapsed": 13,
     "status": "ok",
     "timestamp": 1624792340682,
     "user": {
      "displayName": "Piotr Jarosik",
      "photoUrl": "",
      "userId": "07939774369485222074"
     },
     "user_tz": -120
    },
    "id": "bmrg3dGVCz-T",
    "outputId": "51de8c13-2067-44b9-edcd-eb8acd481b46"
   },
   "outputs": [
    {
     "name": "stdout",
     "output_type": "stream",
     "text": [
      "Benchmarking the function, please wait...\n",
      "Benchmark result: \n",
      "Average processing time: 4.2011 seconds (+/- 0.0000), median: 4.2011\n"
     ]
    }
   ],
   "source": [
    "gpu_short_course.tests.benchmark_convolve(convolve_cpu, x_size=2**15, n=1)"
   ]
  },
  {
   "cell_type": "code",
   "execution_count": 9,
   "id": "ns_KeGE6PwNE",
   "metadata": {
    "colab": {
     "base_uri": "https://localhost:8080/"
    },
    "executionInfo": {
     "elapsed": 350,
     "status": "ok",
     "timestamp": 1624792341022,
     "user": {
      "displayName": "Piotr Jarosik",
      "photoUrl": "",
      "userId": "07939774369485222074"
     },
     "user_tz": -120
    },
    "id": "ns_KeGE6PwNE",
    "outputId": "0385b294-1838-416f-95ec-445e31773a1e"
   },
   "outputs": [
    {
     "name": "stdout",
     "output_type": "stream",
     "text": [
      "Benchmarking the function, please wait...\n",
      "Benchmark result: \n",
      "Average processing time: 0.0284 seconds (+/- 0.0015), median: 0.0282\n"
     ]
    }
   ],
   "source": [
    "gpu_short_course.tests.benchmark_convolve(lambda x, h: np.convolve(x, h, mode='same'), n=10)"
   ]
  },
  {
   "cell_type": "markdown",
   "id": "8Nz0XkOuvyii",
   "metadata": {
    "id": "8Nz0XkOuvyii"
   },
   "source": [
    "### Exercise 2.1.2. Convolution on GPU."
   ]
  },
  {
   "cell_type": "markdown",
   "id": "K8pjoD_s_UdD",
   "metadata": {
    "id": "K8pjoD_s_UdD"
   },
   "source": [
    "Now let's check how much performance gain we get by moving the calculations on the GPU.\n",
    "\n",
    "As we did in the previous lecture, let's we decicate each GPU thread to compute a single output sample. In other words, each GPU thread should execute body of the `convolve_cpu`'s outer loop, i.e. lines 10-16."
   ]
  },
  {
   "cell_type": "code",
   "execution_count": 10,
   "id": "bvrFLL_QJK2W",
   "metadata": {
    "executionInfo": {
     "elapsed": 5,
     "status": "ok",
     "timestamp": 1624792341023,
     "user": {
      "displayName": "Piotr Jarosik",
      "photoUrl": "",
      "userId": "07939774369485222074"
     },
     "user_tz": -120
    },
    "id": "bvrFLL_QJK2W"
   },
   "outputs": [],
   "source": [
    "@cuda.jit\n",
    "def convolve_gpu_kernel(y, x, h):\n",
    "    i = cuda.blockIdx.x*cuda.blockDim.x + cuda.threadIdx.x\n",
    "\n",
    "    M = len(x)\n",
    "    N = len(h)\n",
    "    o = int(math.ceil(N/2)-1)\n",
    "    \n",
    "    if i >= len(y):\n",
    "        return\n",
    "    \n",
    "    # We explicitly cast the 0.0 value to float32, to be\n",
    "    # sure we operate on 32-bit floating point numbers.\n",
    "    value = float32(0.0)\n",
    "\n",
    "    # Does the below looks familiar? \n",
    "    # It is almost copy-and-paste from the \n",
    "    # convolve_cpu function.\n",
    "    for j in range(N):\n",
    "        k = i + o - j\n",
    "        if k >= 0 and k < M:\n",
    "            value += x[k]*h[j]\n",
    "    y[i] = value"
   ]
  },
  {
   "cell_type": "markdown",
   "id": "V2GRDvdYKQIL",
   "metadata": {
    "id": "V2GRDvdYKQIL"
   },
   "source": [
    "As we did previously, we wrap the above kernel and the thread hierarchy declaration into a function:"
   ]
  },
  {
   "cell_type": "code",
   "execution_count": 11,
   "id": "Rgv-QUG4Kjum",
   "metadata": {
    "executionInfo": {
     "elapsed": 5,
     "status": "ok",
     "timestamp": 1624792341024,
     "user": {
      "displayName": "Piotr Jarosik",
      "photoUrl": "",
      "userId": "07939774369485222074"
     },
     "user_tz": -120
    },
    "id": "Rgv-QUG4Kjum"
   },
   "outputs": [],
   "source": [
    "def convolve_gpu(x, h):\n",
    "    y = cuda.device_array(x.shape, dtype=x.dtype)\n",
    "    block_size = 256\n",
    "    grid_size = math.ceil(len(y)/block_size)\n",
    "    convolve_gpu_kernel[grid_size, block_size](y, x, h)\n",
    "    return y.copy_to_host()"
   ]
  },
  {
   "cell_type": "markdown",
   "id": "H7u5jB9qK4Aw",
   "metadata": {
    "id": "H7u5jB9qK4Aw"
   },
   "source": [
    "First, let's verify that the above implementation works correctly:"
   ]
  },
  {
   "cell_type": "code",
   "execution_count": 12,
   "id": "h58k4q7_K9z1",
   "metadata": {
    "colab": {
     "base_uri": "https://localhost:8080/"
    },
    "executionInfo": {
     "elapsed": 721,
     "status": "ok",
     "timestamp": 1624792341740,
     "user": {
      "displayName": "Piotr Jarosik",
      "photoUrl": "",
      "userId": "07939774369485222074"
     },
     "user_tz": -120
    },
    "id": "h58k4q7_K9z1",
    "outputId": "318a2760-16af-41cc-f646-50dd9f986154"
   },
   "outputs": [
    {
     "name": "stdout",
     "output_type": "stream",
     "text": [
      "All tests passed.\n"
     ]
    }
   ],
   "source": [
    "gpu_short_course.tests.test_convolve(convolve_gpu)"
   ]
  },
  {
   "cell_type": "markdown",
   "id": "P4DuleVKMXVo",
   "metadata": {
    "id": "P4DuleVKMXVo"
   },
   "source": [
    "If everything is OK, you should see `All tests passed.` message.\n"
   ]
  },
  {
   "cell_type": "markdown",
   "id": "1x5y2m6qMLNn",
   "metadata": {
    "id": "1x5y2m6qMLNn"
   },
   "source": [
    "Let's inspect also inspect the result visually:"
   ]
  },
  {
   "cell_type": "code",
   "execution_count": 13,
   "id": "4wpPqG_nMOTz",
   "metadata": {
    "colab": {
     "base_uri": "https://localhost:8080/",
     "height": 282
    },
    "executionInfo": {
     "elapsed": 433,
     "status": "ok",
     "timestamp": 1624792342156,
     "user": {
      "displayName": "Piotr Jarosik",
      "photoUrl": "",
      "userId": "07939774369485222074"
     },
     "user_tz": -120
    },
    "id": "4wpPqG_nMOTz",
    "outputId": "c5fbdf61-89a9-4001-89d5-27f5f2945219"
   },
   "outputs": [
    {
     "data": {
      "text/plain": [
       "[<matplotlib.lines.Line2D at 0x7f2f113a32e0>]"
      ]
     },
     "execution_count": 13,
     "metadata": {},
     "output_type": "execute_result"
    },
    {
     "data": {
      "image/png": "[encoded data removed]",
      "text/plain": [
       "<Figure size 432x288 with 1 Axes>"
      ]
     },
     "metadata": {
      "needs_background": "light"
     },
     "output_type": "display_data"
    }
   ],
   "source": [
    "denoised_signal = convolve_gpu(noisy_signal, ma_filter)\n",
    "plt.plot(t, denoised_signal)"
   ]
  },
  {
   "cell_type": "markdown",
   "id": "tSm2IdFaLdHg",
   "metadata": {
    "id": "tSm2IdFaLdHg"
   },
   "source": [
    "Now it's time to benchmark the GPU implementation:"
   ]
  },
  {
   "cell_type": "code",
   "execution_count": 14,
   "id": "4c1NVrLSLhY2",
   "metadata": {
    "colab": {
     "base_uri": "https://localhost:8080/"
    },
    "executionInfo": {
     "elapsed": 21,
     "status": "ok",
     "timestamp": 1624792342158,
     "user": {
      "displayName": "Piotr Jarosik",
      "photoUrl": "",
      "userId": "07939774369485222074"
     },
     "user_tz": -120
    },
    "id": "4c1NVrLSLhY2",
    "outputId": "4fe0ac49-f372-440c-8473-d51ad0ee2433"
   },
   "outputs": [
    {
     "name": "stdout",
     "output_type": "stream",
     "text": [
      "Benchmarking the function, please wait...\n",
      "Benchmark result: \n",
      "Average processing time: 0.0239 seconds (+/- 0.0020), median: 0.0230\n"
     ]
    }
   ],
   "source": [
    "gpu_short_course.tests.benchmark_convolve(convolve_gpu, n=10)"
   ]
  },
  {
   "cell_type": "markdown",
   "id": "8xfP66XSLo56",
   "metadata": {
    "id": "8xfP66XSLo56"
   },
   "source": [
    "The result will depend on the GPU device you have, but we think you should be able to notice some performance improvement :). \n",
    "\n",
    "The average processing time that you see above includes:\n",
    "- the time required for memory allocations, data transfers from and to GPU device,\n",
    "- the time required to execute the kernel code. \n",
    "\n",
    "Let's we use thhe CUDA profiler to get a bit more detail about the time it takes to complete each step:"
   ]
  },
  {
   "cell_type": "code",
   "execution_count": 15,
   "id": "oE5RD3FcNbPT",
   "metadata": {
    "colab": {
     "base_uri": "https://localhost:8080/"
    },
    "executionInfo": {
     "elapsed": 16,
     "status": "ok",
     "timestamp": 1624792342159,
     "user": {
      "displayName": "Piotr Jarosik",
      "photoUrl": "",
      "userId": "07939774369485222074"
     },
     "user_tz": -120
    },
    "id": "oE5RD3FcNbPT",
    "outputId": "25fdef24-46f1-446e-bd82-e298dfa279b8"
   },
   "outputs": [
    {
     "name": "stdout",
     "output_type": "stream",
     "text": [
      "Overwriting 2_1_2_convolve_gpu.py\n"
     ]
    }
   ],
   "source": [
    "%%writefile 2_1_2_convolve_gpu.py\n",
    "import math\n",
    "from numba import cuda, float32\n",
    "import numpy as np\n",
    "import gpu_short_course.tests\n",
    "import cupy as cp\n",
    "\n",
    "@cuda.jit\n",
    "def convolve_gpu_kernel(y, x, h):\n",
    "    i = cuda.blockIdx.x*cuda.blockDim.x + cuda.threadIdx.x\n",
    "\n",
    "    M = len(x)\n",
    "    N = len(h)\n",
    "    o = int(math.ceil(N/2)-1)\n",
    "    \n",
    "    if i >= len(y):\n",
    "        return\n",
    "    \n",
    "    # We explicitly cast the 0.0 value to float32, to be\n",
    "    # sure we operate on 32-bit floating point numbers.\n",
    "    value = float32(0.0)\n",
    "\n",
    "    # Does the below looks familiar? \n",
    "    # It is almost copy-and-paste from the \n",
    "    # convolve_cpu function.\n",
    "    for j in range(N):\n",
    "        k = i + o - j\n",
    "        if k >= 0 and k < M:\n",
    "            value += x[k]*h[j]\n",
    "    y[i] = value\n",
    "\n",
    "def convolve_gpu(x, h):\n",
    "    y = cuda.device_array(x.shape, dtype=x.dtype)\n",
    "    block_size = 256\n",
    "    grid_size = math.ceil(len(y)/block_size)\n",
    "    convolve_gpu_kernel[grid_size, block_size](y, x, h)\n",
    "    return y.copy_to_host()\n",
    "\n",
    "gpu_short_course.tests.run_convolve(convolve_gpu)"
   ]
  },
  {
   "cell_type": "code",
   "execution_count": 16,
   "id": "sKUr3MphNxVe",
   "metadata": {
    "colab": {
     "base_uri": "https://localhost:8080/"
    },
    "executionInfo": {
     "elapsed": 3557,
     "status": "ok",
     "timestamp": 1624792345704,
     "user": {
      "displayName": "Piotr Jarosik",
      "photoUrl": "",
      "userId": "07939774369485222074"
     },
     "user_tz": -120
    },
    "id": "sKUr3MphNxVe",
    "outputId": "71d16dc0-c91f-4cf9-aa57-618eb70ae35c"
   },
   "outputs": [
    {
     "name": "stdout",
     "output_type": "stream",
     "text": [
      "GPU:0: b'GeForce MX250'\n",
      "All tests passed.\n",
      "==6639== NVPROF is profiling process 6639, command: python 2_1_2_convolve_gpu.py --mode benchmark n=10\n",
      "GPU:0: b'GeForce MX250'\n",
      "Benchmarking the function, please wait...\n",
      "Benchmark result: \n",
      "Average processing time: 0.0584 seconds (+/- 0.1066), median: 0.0227\n",
      "==6639== Profiling application: python 2_1_2_convolve_gpu.py --mode benchmark n=10\n",
      "==6639== Profiling result:\n",
      "            Type  Time(%)      Time     Calls       Avg       Min       Max  Name\n",
      " GPU activities:   80.71%  171.55ms        10  17.155ms  17.149ms  17.161ms  cudapy::__main__::convolve_gpu_kernel$241(Array<float, int=1, C, mutable, aligned>, Array<float, int=1, C, mutable, aligned>, Array<float, int=1, C, mutable, aligned>)\n",
      "                   12.41%  26.375ms        30  879.17us  1.1200us  1.4895ms  [CUDA memcpy DtoH]\n",
      "                    6.88%  14.616ms        20  730.82us     896ns  1.4917ms  [CUDA memcpy HtoD]\n",
      "No API activities were profiled.\n"
     ]
    }
   ],
   "source": [
    "! python 2_1_2_convolve_gpu.py --mode test\n",
    "! nvprof --trace gpu python 2_1_2_convolve_gpu.py --mode benchmark n=10"
   ]
  },
  {
   "cell_type": "markdown",
   "id": "l8zihMumUA14",
   "metadata": {
    "id": "l8zihMumUA14"
   },
   "source": [
    "In the remainder of this notebook, we will focus primarily on the kernel execution time measured by the profiler, so we focus on optimizing minimizing the GPU kernel execution time. The `benchmark_convolve` function measures the execution time of the entire` convolve_gpu` function, which may also include the time needed to compile the GPU kernel, transfer data to and from GPU memory, etc. "
   ]
  },
  {
   "cell_type": "markdown",
   "id": "d5QrjmRPKHMM",
   "metadata": {
    "id": "d5QrjmRPKHMM"
   },
   "source": [
    "### Exercise 2.1.3. GPU global memory."
   ]
  },
  {
   "cell_type": "markdown",
   "id": "heated-bidding",
   "metadata": {
    "id": "heated-bidding"
   },
   "source": [
    "CUDA GPU global memory has the following advantages:\n",
    "- GPU cards (usually) have a lot of global memory available,\n",
    "- host PC can write data directly to it.\n",
    "\n",
    "To check how much global GPU memory we have:"
   ]
  },
  {
   "cell_type": "code",
   "execution_count": 17,
   "id": "sound-eugene",
   "metadata": {
    "colab": {
     "base_uri": "https://localhost:8080/"
    },
    "executionInfo": {
     "elapsed": 14,
     "status": "ok",
     "timestamp": 1624792345705,
     "user": {
      "displayName": "Piotr Jarosik",
      "photoUrl": "",
      "userId": "07939774369485222074"
     },
     "user_tz": -120
    },
    "id": "sound-eugene",
    "outputId": "54c3eeb4-963e-4674-f643-838dff25f299"
   },
   "outputs": [
    {
     "name": "stdout",
     "output_type": "stream",
     "text": [
      "Device name: b'GeForce MX250'\n",
      "Global memory: 2002.625 [MiB]\n"
     ]
    }
   ],
   "source": [
    "import cupy as cp\n",
    "\n",
    "device_props = cp.cuda.runtime.getDeviceProperties(0)\n",
    "\n",
    "print(f\"Device name: {device_props['name']}\")\n",
    "print(f\"Global memory: {device_props['totalGlobalMem']/2**20} [MiB]\")"
   ]
  },
  {
   "cell_type": "markdown",
   "id": "zzp5Xs6KVdFf",
   "metadata": {
    "id": "zzp5Xs6KVdFf"
   },
   "source": [
    "The disadvantage of global memory is that it has quite huge latency in writing / reading data. Minimizing reads / writes from global memory is one way to improve the performance of our kernel.\n"
   ]
  },
  {
   "cell_type": "markdown",
   "id": "4FyRg_sDW6_W",
   "metadata": {
    "id": "4FyRg_sDW6_W"
   },
   "source": [
    "Let's take another look at our convolution toy example:\n",
    "\n",
    "```\n",
    "x = [0, 1, 2, 3, 4]\n",
    "h = [0, 1, 2]\n",
    "```\n",
    "\n",
    "```\n",
    "y[0] = h[0]*x[1]+h[1]*x[0]           = 0\n",
    "y[1] = h[0]*x[2]+h[1]*x[1]*h[2]*x[0] = 1\n",
    "y[2] = h[0]*x[3]+h[1]*x[2]*h[2]*x[1] = 4\n",
    "y[3] = h[0]*x[4]+h[1]*x[3]+h[2]*x[2] = 7\n",
    "y[4] = h[1]*x[4]+h[2]*x[3]           = 10\n",
    "```\n",
    "\n",
    "For the above example, the `convolve_gpu`:\n",
    "- reads `x[0]` and `x[4]`  from the global memory twice,\n",
    "- reads `x[1]`, `x[2]` and `x[3]` three times.\n",
    "\n",
    "Is there any possibility to implement a GPU kernel that reads the above data from global memory only once?\n"
   ]
  },
  {
   "cell_type": "markdown",
   "id": "kpjy5P6hDlon",
   "metadata": {
    "id": "kpjy5P6hDlon"
   },
   "source": [
    "## Exercise 2.2. Shared memory."
   ]
  },
  {
   "cell_type": "markdown",
   "id": "eE1PS_1FYzfL",
   "metadata": {
    "id": "eE1PS_1FYzfL"
   },
   "source": [
    "The answer to previous question is: yes, using shared memory."
   ]
  },
  {
   "cell_type": "markdown",
   "id": "-2wgRqSKZcxz",
   "metadata": {
    "id": "-2wgRqSKZcxz"
   },
   "source": [
    "According to the [CUDA Toolkit documentation](https://docs.nvidia.com/cuda/cuda-c-programming-guide/index.html):\n",
    "> (..) **shared memory** is expected to be a low-latency memory near each processor core (much like an L1 cache) (...)\n",
    "\n",
    ">  **Shared memory** is expected to be much faster than global memory (...). It can be used as scratchpad memory (or software managed cache) to minimize global memory accesses from a CUDA block.\n",
    "\n",
    "Shared memory has the following properties:\n",
    "- the access time to the shared memory is much shorter than the access time to the global memory,\n",
    "- it is usually much smaller than the global memory (the size of shared memory is usually counted in kilobytes, global memory -- in gigabytes),\n",
    "- it's accessible only by CUDA kernel (i.e. it's not possible to write to/read from it directly from the host PC),\n",
    "- it's content is local for each thread block, i.e. for each block of threads, there is a separate area of shared memory.\n",
    "\n"
   ]
  },
  {
   "cell_type": "markdown",
   "id": "7dt2lEzwD-XZ",
   "metadata": {
    "id": "7dt2lEzwD-XZ"
   },
   "source": [
    "You can check the amout of shared memory available for each thread block available on your GPU by looking into device properties:"
   ]
  },
  {
   "cell_type": "code",
   "execution_count": 18,
   "id": "6PCFAo81EG_4",
   "metadata": {
    "colab": {
     "base_uri": "https://localhost:8080/"
    },
    "executionInfo": {
     "elapsed": 10,
     "status": "ok",
     "timestamp": 1624792345705,
     "user": {
      "displayName": "Piotr Jarosik",
      "photoUrl": "",
      "userId": "07939774369485222074"
     },
     "user_tz": -120
    },
    "id": "6PCFAo81EG_4",
    "outputId": "39d8dbe7-d5ac-4c57-cf2e-ec32735dca4f"
   },
   "outputs": [
    {
     "name": "stdout",
     "output_type": "stream",
     "text": [
      "Device name: b'GeForce MX250'\n",
      "Shared memory per thread block: 49152 [bytes]\n"
     ]
    }
   ],
   "source": [
    "device_props = cp.cuda.runtime.getDeviceProperties(0)\n",
    "\n",
    "print(f\"Device name: {device_props['name']}\")\n",
    "print(f\"Shared memory per thread block: {device_props['sharedMemPerBlock']} [bytes]\")"
   ]
  },
  {
   "cell_type": "markdown",
   "id": "Qy7ZJXRWdXBX",
   "metadata": {
    "id": "Qy7ZJXRWdXBX"
   },
   "source": [
    "A typical CUDA shared memory usage pattern is as follows:\n",
    "\n",
    "\n",
    "- for each thread $i$ in a block:\n",
    "\n",
    "  1. read data from the global to shared memory,\n",
    "  2. wait until all threads in the block finish 1.,\n",
    "  3. do calculations using data available in the shared memory.\n"
   ]
  },
  {
   "cell_type": "markdown",
   "id": "r0gRgxkQeE9w",
   "metadata": {
    "id": "r0gRgxkQeE9w"
   },
   "source": [
    "We can apply the above pattern for the `convolve_gpu_kernel` implementation:\n",
    "\n",
    "- let's declare that each block has shared memory for $B+N-1$ samples,\n",
    "  - where: $B$ is the size of threads block, $N$ is the length of the filter, \n",
    "- for each thread $i$ in a block:\n",
    "\n",
    "  1. read some portion of data from the global to shared memory,\n",
    "    - start with $k = i+o-(N-1)$,\n",
    "\n",
    "    - read from the global to shared memory: $x[k]$, $x[k+B]$, ..., and so on, until you hit the end of the shared memory area,\n",
    "    - if $k + jB < 0$  for any $j$, write 0 to shared memory at position $i+jB$,\n",
    "  2. wait until all threads in the block finish 1.,\n",
    "  3. compute $y[i]$."
   ]
  },
  {
   "cell_type": "markdown",
   "id": "z2YxAONAmjTy",
   "metadata": {
    "id": "z2YxAONAmjTy"
   },
   "source": [
    "Let's try the above strategy with our toy convolution example. Assume, that $B = 5$.\n",
    "\n",
    "```\n",
    "x = [0, 1, 2, 3, 4]\n",
    "h = [0, 1, 2]\n",
    "shared_memory = [0, 0, 0, 0, 0, 0, 0]\n",
    "```\n",
    "(note: an unintialized shared memory may contain any arbitrary values, we used zeros just for the clarity).\n",
    "\n",
    "\n",
    "Some remarks: \n",
    "\n",
    "- We have a one block, that computes all the output samples.\n",
    "- $N = 3$\n",
    "- $o = 1$\n",
    "\n",
    "**Step 1. Read some portion of data from global memory to shared memory.**\n",
    "\n",
    "Thread $i=0$:\n",
    "```\n",
    "0. start with k = 0 + 1 - (3-1) = -1\n",
    "1. k     =-1; i     = 0 => shared_memory[0] <- 0\n",
    "2. k + B = 4; i + B = 5 => shared_memory[5] <- x[4]\n",
    "```\n",
    "\n",
    "Thread $i=1$:\n",
    "```\n",
    "0. start with k = 0\n",
    "1. k     = 0; i     = 1 => shared_memory[1] <- x[0],\n",
    "2. k + B = 5; i + B = 6 => shared_memory[6] <- 0, \n",
    "```\n",
    "\n",
    "Thread $i=2$:\n",
    "```\n",
    "0. start with k = 1\n",
    "1. k     = 1; i     = 2 => shared_memory[2] <- x[1],\n",
    "2. k + B = 6; i + B = 7 => STOP, \n",
    "```\n",
    "\n",
    "\n",
    "Thread $i=3$:\n",
    "```\n",
    "0. start with k = 2\n",
    "1. k     = 2; i     = 3 => shared_memory[3] <- x[2],\n",
    "2. k + B = 7; i + B = 8 => STOP, \n",
    "```\n",
    "\n",
    "Thread $i=4$:\n",
    "```\n",
    "0. start with k = 3\n",
    "1. k     = 3; i     = 4 => shared_memory[4] <- x[3],\n",
    "2. k + B = 8; i + B = 9 => STOP, \n",
    "```\n",
    "\n",
    "\n",
    "**Step 2. Wait until threads finish the above procedure**.\n",
    "\n",
    "At this point:\n",
    "\n",
    "`shared_memory = [0, 0, 1, 2, 3, 4, 0]`\n",
    "\n",
    "**Step 3. Compute $y$** \n",
    "\n",
    "```\n",
    " shared_memory = [0, 0, 1, 2, 3, 4, 0]      y = \n",
    "                 [2, 1, 0]                  [0 ]\n",
    "                    [2, 1, 0]               [1 ]\n",
    "                       [2, 1, 0]            [4 ]\n",
    "                          [2, 1, 0]         [7 ]\n",
    "                             [2, 1, 0]      [10]\n",
    "```\n",
    "\n",
    "\n",
    "Each `x[i]` was read exactly once."
   ]
  },
  {
   "cell_type": "markdown",
   "id": "bg-2sjTOckD4",
   "metadata": {
    "id": "bg-2sjTOckD4"
   },
   "source": [
    "Numba provides the following syntax for the shared memory area access:\n",
    "- to *declare shared memory size*, pass the `shared_memory_size` (in **bytes**) to the kernel invocation line:\n",
    "```\n",
    "kernel[grid_size, block_size, stream, shared_memory_size](params)\n",
    "```\n",
    "- to access the shared memory within GPU kernel code, use `cuda.shared.array` function,\n",
    "- to *wait until all threads in the block finish their job* use `cuda.syncthreads`. \n",
    "\n",
    "(see also the complete [documentation](https://numba.pydata.org/numba-doc/latest/cuda/memory.html#shared-memory-and-thread-synchronization))"
   ]
  },
  {
   "cell_type": "markdown",
   "id": "owTKFOiS01Zw",
   "metadata": {
    "id": "owTKFOiS01Zw"
   },
   "source": [
    "Let's implement the above convolution algorithm with shared memory: "
   ]
  },
  {
   "cell_type": "code",
   "execution_count": 19,
   "id": "3ZHn5aAgE2Y5",
   "metadata": {
    "colab": {
     "base_uri": "https://localhost:8080/"
    },
    "executionInfo": {
     "elapsed": 8,
     "status": "ok",
     "timestamp": 1624792345706,
     "user": {
      "displayName": "Piotr Jarosik",
      "photoUrl": "",
      "userId": "07939774369485222074"
     },
     "user_tz": -120
    },
    "id": "3ZHn5aAgE2Y5",
    "outputId": "4ae0f7ab-383e-4ecf-ec82-e26f73df2474"
   },
   "outputs": [
    {
     "name": "stdout",
     "output_type": "stream",
     "text": [
      "Overwriting 2_2_convolve_shared_memory.py\n"
     ]
    }
   ],
   "source": [
    "%%writefile 2_2_convolve_shared_memory.py\n",
    "import sys\n",
    "import math\n",
    "from numba import cuda, float32, int32\n",
    "import cupy as cp\n",
    "import gpu_short_course\n",
    "\n",
    "device_props = cp.cuda.runtime.getDeviceProperties(0)\n",
    "\n",
    "@cuda.jit\n",
    "def convolve_gpu_kernel(y, x, h):\n",
    "    # 0. INITIALIZATION.\n",
    "    # The begining is very the same as previously.\n",
    "    i = cuda.blockIdx.x*cuda.blockDim.x + cuda.threadIdx.x\n",
    "    if i >= y.shape[0]:\n",
    "        return\n",
    "    \n",
    "    M, N = len(x), len(h)\n",
    "    o = int(math.ceil(N/2)-1)\n",
    "    shared_size = cuda.blockDim.x+N-1\n",
    "\n",
    "    # Declare, that we want to use shared memory.\n",
    "    # `shape=0` means: the size will be declared on kernel invocation.\n",
    "    x_shared = cuda.shared.array(shape=0, dtype=float32)  \n",
    "\n",
    "    # 1. READ DATA FROM GLOBAL TO SHARED MEMORY.\n",
    "    k = i-(N-1)+o                   # The current position in the global memory.\n",
    "    k_shared = cuda.threadIdx.x     # The current position in the shared memory.\n",
    "    while k_shared < shared_size:   # Until we hit the end of the shared memory area.\n",
    "        if k >= 0 and k < M:        \n",
    "            x_shared[k_shared] = x[k]\n",
    "        else:\n",
    "            x_shared[k_shared] = float32(0.0)\n",
    "        k_shared += cuda.blockDim.x\n",
    "        k        += cuda.blockDim.x\n",
    "\n",
    "    # 2. WAIT FOR THE OTHER THREADS FROM THE BLOCK.\n",
    "    cuda.syncthreads()\n",
    "    \n",
    "    # 3. COMPUTE y[i]\n",
    "    k_shared = cuda.threadIdx.x+N-1\n",
    "    value = float32(0.0)\n",
    "    for j in range(N):\n",
    "        value += x_shared[k_shared-j]*h[j]\n",
    "        \n",
    "    y[i] = value\n",
    "    \n",
    "\n",
    "def convolve_gpu(x, h):\n",
    "    y = cuda.device_array(x.shape, dtype=x.dtype)\n",
    "\n",
    "    # 1. DEFINE HIERARCHY OF THREADS. \n",
    "    block_size = min(256, len(y))    \n",
    "    grid_size = math.ceil(len(y)/block_size)\n",
    "\n",
    "    # 2. DETERMINE, HOW MUCH SHARED MEMORY WE NEED?\n",
    "    N = len(h)\n",
    "    shared_size = block_size+N-1                     # Number of elements\n",
    "    shared_size_bytes = shared_size*y.dtype.itemsize # Number of bytes\n",
    "    # Make sure we not exceed the available shared memory size:\n",
    "    if shared_size_bytes > device_props['sharedMemPerBlock']:    \n",
    "        raise ValueError(\"Declared shared memory size exceeds the amount available for the device.\")\n",
    "\n",
    "    # 3. EXECUTE THE KERNEL.\n",
    "    # Parameter `0` means \"use default stream\". \n",
    "    # We will describe CUDA streams in more detail in the future.\n",
    "    convolve_gpu_kernel[grid_size, block_size, 0, shared_size_bytes](y, x, h)\n",
    "    # 4. COPY THE RESULT TO HOST PC.\n",
    "    return y.copy_to_host()\n",
    "\n",
    "gpu_short_course.tests.run_convolve(convolve_gpu)"
   ]
  },
  {
   "cell_type": "markdown",
   "id": "QsWzeEjl5Y8N",
   "metadata": {
    "id": "QsWzeEjl5Y8N"
   },
   "source": [
    "Let's test the implementation first:\n"
   ]
  },
  {
   "cell_type": "code",
   "execution_count": 20,
   "id": "9MhK44ma5akn",
   "metadata": {
    "colab": {
     "base_uri": "https://localhost:8080/"
    },
    "executionInfo": {
     "elapsed": 1557,
     "status": "ok",
     "timestamp": 1624792347257,
     "user": {
      "displayName": "Piotr Jarosik",
      "photoUrl": "",
      "userId": "07939774369485222074"
     },
     "user_tz": -120
    },
    "id": "9MhK44ma5akn",
    "outputId": "8f54c57a-450c-4422-a73e-c8ee2bea2ea5"
   },
   "outputs": [
    {
     "name": "stdout",
     "output_type": "stream",
     "text": [
      "GPU:0: b'GeForce MX250'\n",
      "All tests passed.\n"
     ]
    }
   ],
   "source": [
    "! python 2_2_convolve_shared_memory.py --mode test"
   ]
  },
  {
   "cell_type": "code",
   "execution_count": 21,
   "id": "szzkXk-QFWoI",
   "metadata": {
    "colab": {
     "base_uri": "https://localhost:8080/"
    },
    "executionInfo": {
     "elapsed": 1979,
     "status": "ok",
     "timestamp": 1624792349232,
     "user": {
      "displayName": "Piotr Jarosik",
      "photoUrl": "",
      "userId": "07939774369485222074"
     },
     "user_tz": -120
    },
    "id": "szzkXk-QFWoI",
    "outputId": "a527b3f3-9c20-464b-8d4a-700b4348a052"
   },
   "outputs": [
    {
     "name": "stdout",
     "output_type": "stream",
     "text": [
      "==6691== NVPROF is profiling process 6691, command: python 2_2_convolve_shared_memory.py --mode benchmark n=10\n",
      "GPU:0: b'GeForce MX250'\n",
      "Benchmarking the function, please wait...\n",
      "Benchmark result: \n",
      "Average processing time: 0.0588 seconds (+/- 0.1188), median: 0.0190\n",
      "==6691== Profiling application: python 2_2_convolve_shared_memory.py --mode benchmark n=10\n",
      "==6691== Profiling result:\n",
      "            Type  Time(%)      Time     Calls       Avg       Min       Max  Name\n",
      " GPU activities:   76.14%  133.02ms        10  13.302ms  13.195ms  14.225ms  cudapy::__main__::convolve_gpu_kernel$241(Array<float, int=1, C, mutable, aligned>, Array<float, int=1, C, mutable, aligned>, Array<float, int=1, C, mutable, aligned>)\n",
      "                   15.42%  26.936ms        30  897.87us  1.1520us  1.9307ms  [CUDA memcpy DtoH]\n",
      "                    8.45%  14.757ms        20  737.85us     928ns  1.5230ms  [CUDA memcpy HtoD]\n",
      "No API activities were profiled.\n"
     ]
    }
   ],
   "source": [
    "! nvprof --trace gpu python 2_2_convolve_shared_memory.py --mode benchmark n=10"
   ]
  },
  {
   "cell_type": "markdown",
   "id": "4Hy2DqxKBG-V",
   "metadata": {
    "id": "4Hy2DqxKBG-V"
   },
   "source": [
    "Compare the above result with that of a convolution from section 2.1.2."
   ]
  },
  {
   "cell_type": "markdown",
   "id": "UPxTLXIkD02P",
   "metadata": {
    "id": "UPxTLXIkD02P"
   },
   "source": [
    "## Exercise 2.3. Constant memory."
   ]
  },
  {
   "cell_type": "markdown",
   "id": "HEred5ceB_u3",
   "metadata": {
    "id": "HEred5ceB_u3"
   },
   "source": [
    "In our GPU convolution implementation, there is still one more array located in the global memory area, whose values are read over and over again -- the filter $h$ cofficients.\n",
    "\n",
    "The filter coefficients, like the input samples, could be pre-read by each thread block to shared memory, similar to how we did with the input signal $x$ -- we leave the implementation of this to the student as homework. \n",
    "\n",
    "In this exercise, we will use another type of memory to store the filter coefficients: i.e., constant memory."
   ]
  },
  {
   "cell_type": "markdown",
   "id": "CkWuQIE4EBZu",
   "metadata": {
    "id": "CkWuQIE4EBZu"
   },
   "source": [
    "According to the [CUDA Toolkit documentation](https://docs.nvidia.com/cuda/cuda-c-programming-guide/index.html):\n",
    "\n",
    "> (...) The constant memory space resides in device memory and is cached in the constant cache. (...)\n",
    "\n",
    "> Constants are immutable and may not be modified from the device, even between parent and child launches. That is to say, the value of all __constant__ variables must be set from the host prior to launch. Constant memory is inherited automatically by all child kernels from their respective parents.\n",
    "\n",
    "> An SM has:\n",
    "a read-only constant cache that is shared by all functional units and speeds up reads from the constant memory space, which resides in device memory (...)\n",
    "\n",
    "Constant memory has the following properties:\n",
    "- it resides in global memory, and is access by a Multiprocessor via *constant cache*,\n",
    "-  is read only,\n",
    "- due to the limited size of constant cache, the available *constant memory* space is much smaller the available global memory,\n",
    "- it can be accesed by CUDA kernel,\n",
    "- it can be initialized by host code.\n"
   ]
  },
  {
   "cell_type": "markdown",
   "id": "v78phMX6Fqzo",
   "metadata": {
    "id": "v78phMX6Fqzo"
   },
   "source": [
    "Let's we check the amout of constant memory available on our GPU:"
   ]
  },
  {
   "cell_type": "code",
   "execution_count": 22,
   "id": "ze451bvNUEb7",
   "metadata": {
    "colab": {
     "base_uri": "https://localhost:8080/"
    },
    "executionInfo": {
     "elapsed": 12,
     "status": "ok",
     "timestamp": 1624792349233,
     "user": {
      "displayName": "Piotr Jarosik",
      "photoUrl": "",
      "userId": "07939774369485222074"
     },
     "user_tz": -120
    },
    "id": "ze451bvNUEb7",
    "outputId": "cc8fb4de-7264-44b4-e822-5d531cc60ae9"
   },
   "outputs": [
    {
     "name": "stdout",
     "output_type": "stream",
     "text": [
      "Device name: b'GeForce MX250'\n",
      "Constant memory size: 65536 [bytes]\n"
     ]
    }
   ],
   "source": [
    "device_props = cp.cuda.runtime.getDeviceProperties(0)\n",
    "\n",
    "print(f\"Device name: {device_props['name']}\")\n",
    "print(f\"Constant memory size: {device_props['totalConstMem']} [bytes]\")"
   ]
  },
  {
   "cell_type": "markdown",
   "id": "O1F7VpmxjGSt",
   "metadata": {
    "id": "O1F7VpmxjGSt"
   },
   "source": [
    "To use constant memory in Numba:\n",
    "- prepare a `numpy` table, the contents of which should be copied to the GPU constant memory (`line 18`),\n",
    "- get the handle to the persistent memory with the contents of the numpy array using the `numba.cuda.const.array_like` function (`line 29`)."
   ]
  },
  {
   "cell_type": "code",
   "execution_count": 23,
   "id": "FhV7yA-iURg5",
   "metadata": {
    "colab": {
     "base_uri": "https://localhost:8080/"
    },
    "executionInfo": {
     "elapsed": 8,
     "status": "ok",
     "timestamp": 1624792349233,
     "user": {
      "displayName": "Piotr Jarosik",
      "photoUrl": "",
      "userId": "07939774369485222074"
     },
     "user_tz": -120
    },
    "id": "FhV7yA-iURg5",
    "outputId": "5526ca12-e321-4042-ca99-790fecf73a63"
   },
   "outputs": [
    {
     "name": "stdout",
     "output_type": "stream",
     "text": [
      "Overwriting 2_3_convolve_const_memory.py\n"
     ]
    }
   ],
   "source": [
    "%%writefile 2_3_convolve_const_memory.py\n",
    "\n",
    "import sys\n",
    "import math\n",
    "from numba import cuda, float32, int32\n",
    "import cupy as cp\n",
    "import numpy as np\n",
    "import gpu_short_course\n",
    "\n",
    "\n",
    "mode = sys.argv[2]\n",
    "if mode == \"test\":\n",
    "    filter_size = 5\n",
    "elif mode == \"benchmark\":\n",
    "    filter_size = 256\n",
    "\n",
    "\n",
    "# Allocate and fill the host PC array, the contents of which should be copied\n",
    "# to the GPU constant memory.\n",
    "h_host_const = np.random.rand(filter_size).astype(np.float32)\n",
    "\n",
    "\n",
    "# We do not pass the filter `h` as a kernel parameter anymore.\n",
    "@cuda.jit\n",
    "def convolve_gpu_kernel(y, x):\n",
    "    i = cuda.blockIdx.x*cuda.blockDim.x + cuda.threadIdx.x\n",
    "    if i >= y.shape[0]:\n",
    "        return\n",
    "    \n",
    "    # Allocate and prepare constant memory.\n",
    "    h_gpu_const = cuda.const.array_like(h_host_const)\n",
    "\n",
    "    M, N = len(x), len(h_gpu_const)\n",
    "    o = int32(math.ceil(N/2)-1)\n",
    "    \n",
    "    x_shared = cuda.shared.array(shape=0, dtype=float32)\n",
    "    shared_size = cuda.blockDim.x+N-1\n",
    "    \n",
    "    k = i+o-(N-1) \n",
    "    k_shared = cuda.threadIdx.x \n",
    "    while k_shared < shared_size:\n",
    "        if k >= 0 and k < M:\n",
    "            x_shared[k_shared] = x[k]\n",
    "        else:\n",
    "            x_shared[k_shared] = float32(0.0)\n",
    "        k_shared += cuda.blockDim.x\n",
    "        k        += cuda.blockDim.x\n",
    "\n",
    "    cuda.syncthreads()\n",
    "    \n",
    "    k_shared = cuda.threadIdx.x+N-1\n",
    "    value = float32(0.0)\n",
    "    for j in range(N):\n",
    "        value += x_shared[k_shared-j]*h_gpu_const[j]\n",
    "        \n",
    "    y[i] = value\n",
    "\n",
    "    \n",
    "def convolve_gpu(x):\n",
    "    y = cuda.device_array(x.shape, dtype=x.dtype)\n",
    "    block_size = min(256, len(y))\n",
    "    grid_size = math.ceil(len(y)/block_size)\n",
    "    N = len(h_host_const)\n",
    "    shared_size = block_size+N-1\n",
    "    shared_size_bytes = shared_size*y.dtype.itemsize\n",
    "    convolve_gpu_kernel[grid_size, block_size, 0, shared_size_bytes](y, x)\n",
    "    return y.copy_to_host()    \n",
    "\n",
    "gpu_short_course.tests.run_convolve_const(convolve_gpu, h=h_host_const)"
   ]
  },
  {
   "cell_type": "code",
   "execution_count": 24,
   "id": "JmOejJ0dUS_D",
   "metadata": {
    "colab": {
     "base_uri": "https://localhost:8080/"
    },
    "executionInfo": {
     "elapsed": 1555,
     "status": "ok",
     "timestamp": 1624792350783,
     "user": {
      "displayName": "Piotr Jarosik",
      "photoUrl": "",
      "userId": "07939774369485222074"
     },
     "user_tz": -120
    },
    "id": "JmOejJ0dUS_D",
    "outputId": "d663141c-5805-4fb2-d26c-767fcf3d03a4"
   },
   "outputs": [
    {
     "name": "stdout",
     "output_type": "stream",
     "text": [
      "GPU:0: b'GeForce MX250'\n",
      "All tests passed.\n"
     ]
    }
   ],
   "source": [
    "! python 2_3_convolve_const_memory.py --mode test"
   ]
  },
  {
   "cell_type": "code",
   "execution_count": 25,
   "id": "Hl8-nncZIOE5",
   "metadata": {
    "colab": {
     "base_uri": "https://localhost:8080/"
    },
    "executionInfo": {
     "elapsed": 3578,
     "status": "ok",
     "timestamp": 1624792354358,
     "user": {
      "displayName": "Piotr Jarosik",
      "photoUrl": "",
      "userId": "07939774369485222074"
     },
     "user_tz": -120
    },
    "id": "Hl8-nncZIOE5",
    "outputId": "ccbda473-44c7-488f-bd37-d31500dbeb3d"
   },
   "outputs": [
    {
     "name": "stdout",
     "output_type": "stream",
     "text": [
      "==6737== NVPROF is profiling process 6737, command: python 2_3_convolve_const_memory.py --mode benchmark\n",
      "GPU:0: b'GeForce MX250'\n",
      "Benchmark result: \n",
      "Average processing time: 0.0206 seconds (+/- 0.0444), median: 0.0158\n",
      "==6737== Profiling application: python 2_3_convolve_const_memory.py --mode benchmark\n",
      "==6737== Profiling result:\n",
      "            Type  Time(%)      Time     Calls       Avg       Min       Max  Name\n",
      " GPU activities:   72.17%  1.06413s       100  10.641ms  10.617ms  11.831ms  cudapy::__main__::convolve_gpu_kernel$241(Array<float, int=1, C, mutable, aligned>, Array<float, int=1, C, mutable, aligned>)\n",
      "                   17.77%  262.06ms       200  1.3103ms  1.2862ms  2.5706ms  [CUDA memcpy DtoH]\n",
      "                   10.06%  148.36ms       100  1.4836ms  1.3822ms  1.5407ms  [CUDA memcpy HtoD]\n",
      "No API activities were profiled.\n"
     ]
    }
   ],
   "source": [
    "! nvprof --trace gpu python 2_3_convolve_const_memory.py --mode benchmark"
   ]
  }
 ],
 "metadata": {
  "accelerator": "GPU",
  "colab": {
   "collapsed_sections": [],
   "name": "2_CUDA_memory_model.ipynb",
   "provenance": [],
   "toc_visible": true
  },
  "kernelspec": {
   "display_name": "Python 3",
   "language": "python",
   "name": "python3"
  },
  "language_info": {
   "codemirror_mode": {
    "name": "ipython",
    "version": 3
   },
   "file_extension": ".py",
   "mimetype": "text/x-python",
   "name": "python",
   "nbconvert_exporter": "python",
   "pygments_lexer": "ipython3",
   "version": "3.8.10"
  }
 },
 "nbformat": 4,
 "nbformat_minor": 5
}
